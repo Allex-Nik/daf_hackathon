{
 "cells": [
  {
   "cell_type": "code",
   "execution_count": 2,
   "metadata": {},
   "outputs": [],
   "source": [
    "import pandas as pd"
   ]
  },
  {
   "cell_type": "code",
   "execution_count": 3,
   "metadata": {},
   "outputs": [],
   "source": [
    "df = pd.read_pickle('../data/Truck_ride.pkl')"
   ]
  },
  {
   "cell_type": "code",
   "execution_count": 4,
   "metadata": {},
   "outputs": [
    {
     "data": {
      "text/html": [
       "<div>\n",
       "<style scoped>\n",
       "    .dataframe tbody tr th:only-of-type {\n",
       "        vertical-align: middle;\n",
       "    }\n",
       "\n",
       "    .dataframe tbody tr th {\n",
       "        vertical-align: top;\n",
       "    }\n",
       "\n",
       "    .dataframe thead th {\n",
       "        text-align: right;\n",
       "    }\n",
       "</style>\n",
       "<table border=\"1\" class=\"dataframe\">\n",
       "  <thead>\n",
       "    <tr style=\"text-align: right;\">\n",
       "      <th></th>\n",
       "      <th>vin</th>\n",
       "      <th>triggerType_triggerType</th>\n",
       "      <th>triggerType_context</th>\n",
       "      <th>createdDateTime</th>\n",
       "      <th>receivedDateTime</th>\n",
       "      <th>hrTotalVehicleDistance</th>\n",
       "      <th>totalEngineHours</th>\n",
       "      <th>grossCombinationVehicleWeight</th>\n",
       "      <th>snapshotData_gnssPosition_latitude</th>\n",
       "      <th>snapshotData_gnssPosition_longitude</th>\n",
       "      <th>...</th>\n",
       "      <th>snapshotData_wheelBasedSpeed</th>\n",
       "      <th>snapshotData_fuelType</th>\n",
       "      <th>snapshotData_fuelLevel1</th>\n",
       "      <th>snapshotData_catalystFuelLevel</th>\n",
       "      <th>snapshotData_driver1WorkingState</th>\n",
       "      <th>snapshotData_driver2WorkingState</th>\n",
       "      <th>snapshotData_ambientAirTemperature</th>\n",
       "      <th>uptimeData_engineCoolantTemperature</th>\n",
       "      <th>uptimeData_serviceBrakeAirPressureCircuit1</th>\n",
       "      <th>uptimeData_serviceBrakeAirPressureCircuit2</th>\n",
       "    </tr>\n",
       "  </thead>\n",
       "  <tbody>\n",
       "    <tr>\n",
       "      <th>0</th>\n",
       "      <td>XLRTEF5300G450805</td>\n",
       "      <td>IGNITION_ON</td>\n",
       "      <td>RFMS</td>\n",
       "      <td>2024-03-27T05:30:02.334Z</td>\n",
       "      <td>2024-03-27T05:31:20.694Z</td>\n",
       "      <td>83648285</td>\n",
       "      <td>0</td>\n",
       "      <td>0</td>\n",
       "      <td>51.264967</td>\n",
       "      <td>4.283523</td>\n",
       "      <td>...</td>\n",
       "      <td>0.0</td>\n",
       "      <td>Diesel</td>\n",
       "      <td>0.0</td>\n",
       "      <td>99</td>\n",
       "      <td>REST</td>\n",
       "      <td>REST</td>\n",
       "      <td>20</td>\n",
       "      <td>21</td>\n",
       "      <td>2040</td>\n",
       "      <td>2040</td>\n",
       "    </tr>\n",
       "    <tr>\n",
       "      <th>1</th>\n",
       "      <td>XLRTEF5300G450805</td>\n",
       "      <td>DRIVER_1_WORKING_STATE_CHANGED</td>\n",
       "      <td>RFMS</td>\n",
       "      <td>2024-03-27T05:30:19.634Z</td>\n",
       "      <td>2024-03-27T05:31:35.615Z</td>\n",
       "      <td>83648285</td>\n",
       "      <td>0</td>\n",
       "      <td>0</td>\n",
       "      <td>51.264968</td>\n",
       "      <td>4.283523</td>\n",
       "      <td>...</td>\n",
       "      <td>0.0</td>\n",
       "      <td>Diesel</td>\n",
       "      <td>99.2</td>\n",
       "      <td>0</td>\n",
       "      <td>REST</td>\n",
       "      <td>REST</td>\n",
       "      <td>0</td>\n",
       "      <td>0</td>\n",
       "      <td>0</td>\n",
       "      <td>0</td>\n",
       "    </tr>\n",
       "    <tr>\n",
       "      <th>2</th>\n",
       "      <td>XLRTEF5300G450805</td>\n",
       "      <td>TIMER</td>\n",
       "      <td>RFMS</td>\n",
       "      <td>2024-03-27T05:31:00.010Z</td>\n",
       "      <td>2024-03-27T05:32:09.086Z</td>\n",
       "      <td>83648285</td>\n",
       "      <td>1703</td>\n",
       "      <td>655350</td>\n",
       "      <td>51.264968</td>\n",
       "      <td>4.283523</td>\n",
       "      <td>...</td>\n",
       "      <td>0.0</td>\n",
       "      <td>Diesel</td>\n",
       "      <td>99.2</td>\n",
       "      <td>99</td>\n",
       "      <td>WORK</td>\n",
       "      <td>REST</td>\n",
       "      <td>7</td>\n",
       "      <td>21</td>\n",
       "      <td>528</td>\n",
       "      <td>528</td>\n",
       "    </tr>\n",
       "    <tr>\n",
       "      <th>3</th>\n",
       "      <td>XLRTEF5300G450805</td>\n",
       "      <td>ENGINE_ON</td>\n",
       "      <td>RFMS</td>\n",
       "      <td>2024-03-27T05:31:00.981Z</td>\n",
       "      <td>2024-03-27T05:32:10.642Z</td>\n",
       "      <td>83648285</td>\n",
       "      <td>0</td>\n",
       "      <td>655350</td>\n",
       "      <td>51.264968</td>\n",
       "      <td>4.283523</td>\n",
       "      <td>...</td>\n",
       "      <td>0.0</td>\n",
       "      <td>Diesel</td>\n",
       "      <td>99.2</td>\n",
       "      <td>99</td>\n",
       "      <td>WORK</td>\n",
       "      <td>REST</td>\n",
       "      <td>7</td>\n",
       "      <td>21</td>\n",
       "      <td>528</td>\n",
       "      <td>528</td>\n",
       "    </tr>\n",
       "    <tr>\n",
       "      <th>4</th>\n",
       "      <td>XLRTEF5300G450805</td>\n",
       "      <td>TIMER</td>\n",
       "      <td>RFMS</td>\n",
       "      <td>2024-03-27T05:33:44.881Z</td>\n",
       "      <td>2024-03-27T05:34:54.411Z</td>\n",
       "      <td>83648290</td>\n",
       "      <td>1703</td>\n",
       "      <td>655350</td>\n",
       "      <td>51.264961</td>\n",
       "      <td>4.283535</td>\n",
       "      <td>...</td>\n",
       "      <td>4.0</td>\n",
       "      <td>Diesel</td>\n",
       "      <td>99.2</td>\n",
       "      <td>99</td>\n",
       "      <td>WORK</td>\n",
       "      <td>REST</td>\n",
       "      <td>7</td>\n",
       "      <td>29</td>\n",
       "      <td>944</td>\n",
       "      <td>944</td>\n",
       "    </tr>\n",
       "    <tr>\n",
       "      <th>...</th>\n",
       "      <td>...</td>\n",
       "      <td>...</td>\n",
       "      <td>...</td>\n",
       "      <td>...</td>\n",
       "      <td>...</td>\n",
       "      <td>...</td>\n",
       "      <td>...</td>\n",
       "      <td>...</td>\n",
       "      <td>...</td>\n",
       "      <td>...</td>\n",
       "      <td>...</td>\n",
       "      <td>...</td>\n",
       "      <td>...</td>\n",
       "      <td>...</td>\n",
       "      <td>...</td>\n",
       "      <td>...</td>\n",
       "      <td>...</td>\n",
       "      <td>...</td>\n",
       "      <td>...</td>\n",
       "      <td>...</td>\n",
       "      <td>...</td>\n",
       "    </tr>\n",
       "    <tr>\n",
       "      <th>3495</th>\n",
       "      <td>XLRTEF5300G450805</td>\n",
       "      <td>DRIVER_1_WORKING_STATE_CHANGED</td>\n",
       "      <td>RFMS</td>\n",
       "      <td>2024-06-04T07:29:51.710Z</td>\n",
       "      <td>2024-06-04T07:30:26.081Z</td>\n",
       "      <td>112132250</td>\n",
       "      <td>0</td>\n",
       "      <td>0</td>\n",
       "      <td>47.837051</td>\n",
       "      <td>7.395467</td>\n",
       "      <td>...</td>\n",
       "      <td>0.0</td>\n",
       "      <td>Diesel</td>\n",
       "      <td>25.2</td>\n",
       "      <td>0</td>\n",
       "      <td>WORK</td>\n",
       "      <td>DRIVER_AVAILABLE</td>\n",
       "      <td>0</td>\n",
       "      <td>0</td>\n",
       "      <td>0</td>\n",
       "      <td>0</td>\n",
       "    </tr>\n",
       "    <tr>\n",
       "      <th>3496</th>\n",
       "      <td>XLRTEF5300G450805</td>\n",
       "      <td>TIMER</td>\n",
       "      <td>RFMS</td>\n",
       "      <td>2024-06-04T07:29:55.060Z</td>\n",
       "      <td>2024-06-04T07:30:30.192Z</td>\n",
       "      <td>112132245</td>\n",
       "      <td>2161</td>\n",
       "      <td>38800</td>\n",
       "      <td>47.837001</td>\n",
       "      <td>7.395462</td>\n",
       "      <td>...</td>\n",
       "      <td>2.0</td>\n",
       "      <td>Diesel</td>\n",
       "      <td>25.2</td>\n",
       "      <td>80</td>\n",
       "      <td>DRIVE</td>\n",
       "      <td>DRIVER_AVAILABLE</td>\n",
       "      <td>13</td>\n",
       "      <td>84</td>\n",
       "      <td>1000</td>\n",
       "      <td>1000</td>\n",
       "    </tr>\n",
       "    <tr>\n",
       "      <th>3497</th>\n",
       "      <td>XLRTEF5300G450805</td>\n",
       "      <td>IGNITION_OFF</td>\n",
       "      <td>RFMS</td>\n",
       "      <td>2024-06-04T07:29:55.844Z</td>\n",
       "      <td>2024-06-04T07:30:31.691Z</td>\n",
       "      <td>0</td>\n",
       "      <td>0</td>\n",
       "      <td>0</td>\n",
       "      <td>47.837100</td>\n",
       "      <td>7.395470</td>\n",
       "      <td>...</td>\n",
       "      <td>0.0</td>\n",
       "      <td>Diesel</td>\n",
       "      <td>25.2</td>\n",
       "      <td>102</td>\n",
       "      <td>None</td>\n",
       "      <td>None</td>\n",
       "      <td>13</td>\n",
       "      <td>83</td>\n",
       "      <td>0</td>\n",
       "      <td>0</td>\n",
       "    </tr>\n",
       "    <tr>\n",
       "      <th>3498</th>\n",
       "      <td>XLRTEF5300G450805</td>\n",
       "      <td>ENGINE_OFF</td>\n",
       "      <td>RFMS</td>\n",
       "      <td>2024-06-04T07:29:58.481Z</td>\n",
       "      <td>2024-06-04T07:30:32.300Z</td>\n",
       "      <td>0</td>\n",
       "      <td>0</td>\n",
       "      <td>0</td>\n",
       "      <td>47.837050</td>\n",
       "      <td>7.395468</td>\n",
       "      <td>...</td>\n",
       "      <td>0.0</td>\n",
       "      <td>Diesel</td>\n",
       "      <td>25.2</td>\n",
       "      <td>102</td>\n",
       "      <td>None</td>\n",
       "      <td>None</td>\n",
       "      <td>13</td>\n",
       "      <td>83</td>\n",
       "      <td>0</td>\n",
       "      <td>0</td>\n",
       "    </tr>\n",
       "    <tr>\n",
       "      <th>3499</th>\n",
       "      <td>XLRTEF5300G450805</td>\n",
       "      <td>TIMER</td>\n",
       "      <td>RFMS</td>\n",
       "      <td>2024-06-04T07:31:12.013Z</td>\n",
       "      <td>2024-06-04T07:31:46.876Z</td>\n",
       "      <td>0</td>\n",
       "      <td>0</td>\n",
       "      <td>0</td>\n",
       "      <td>47.837050</td>\n",
       "      <td>7.395469</td>\n",
       "      <td>...</td>\n",
       "      <td>0.0</td>\n",
       "      <td>Diesel</td>\n",
       "      <td>0.0</td>\n",
       "      <td>0</td>\n",
       "      <td>None</td>\n",
       "      <td>None</td>\n",
       "      <td>0</td>\n",
       "      <td>0</td>\n",
       "      <td>0</td>\n",
       "      <td>0</td>\n",
       "    </tr>\n",
       "  </tbody>\n",
       "</table>\n",
       "<p>3164 rows × 23 columns</p>\n",
       "</div>"
      ],
      "text/plain": [
       "                    vin         triggerType_triggerType triggerType_context  \\\n",
       "0     XLRTEF5300G450805                     IGNITION_ON                RFMS   \n",
       "1     XLRTEF5300G450805  DRIVER_1_WORKING_STATE_CHANGED                RFMS   \n",
       "2     XLRTEF5300G450805                           TIMER                RFMS   \n",
       "3     XLRTEF5300G450805                       ENGINE_ON                RFMS   \n",
       "4     XLRTEF5300G450805                           TIMER                RFMS   \n",
       "...                 ...                             ...                 ...   \n",
       "3495  XLRTEF5300G450805  DRIVER_1_WORKING_STATE_CHANGED                RFMS   \n",
       "3496  XLRTEF5300G450805                           TIMER                RFMS   \n",
       "3497  XLRTEF5300G450805                    IGNITION_OFF                RFMS   \n",
       "3498  XLRTEF5300G450805                      ENGINE_OFF                RFMS   \n",
       "3499  XLRTEF5300G450805                           TIMER                RFMS   \n",
       "\n",
       "               createdDateTime          receivedDateTime  \\\n",
       "0     2024-03-27T05:30:02.334Z  2024-03-27T05:31:20.694Z   \n",
       "1     2024-03-27T05:30:19.634Z  2024-03-27T05:31:35.615Z   \n",
       "2     2024-03-27T05:31:00.010Z  2024-03-27T05:32:09.086Z   \n",
       "3     2024-03-27T05:31:00.981Z  2024-03-27T05:32:10.642Z   \n",
       "4     2024-03-27T05:33:44.881Z  2024-03-27T05:34:54.411Z   \n",
       "...                        ...                       ...   \n",
       "3495  2024-06-04T07:29:51.710Z  2024-06-04T07:30:26.081Z   \n",
       "3496  2024-06-04T07:29:55.060Z  2024-06-04T07:30:30.192Z   \n",
       "3497  2024-06-04T07:29:55.844Z  2024-06-04T07:30:31.691Z   \n",
       "3498  2024-06-04T07:29:58.481Z  2024-06-04T07:30:32.300Z   \n",
       "3499  2024-06-04T07:31:12.013Z  2024-06-04T07:31:46.876Z   \n",
       "\n",
       "      hrTotalVehicleDistance  totalEngineHours  grossCombinationVehicleWeight  \\\n",
       "0                   83648285                 0                              0   \n",
       "1                   83648285                 0                              0   \n",
       "2                   83648285              1703                         655350   \n",
       "3                   83648285                 0                         655350   \n",
       "4                   83648290              1703                         655350   \n",
       "...                      ...               ...                            ...   \n",
       "3495               112132250                 0                              0   \n",
       "3496               112132245              2161                          38800   \n",
       "3497                       0                 0                              0   \n",
       "3498                       0                 0                              0   \n",
       "3499                       0                 0                              0   \n",
       "\n",
       "      snapshotData_gnssPosition_latitude  snapshotData_gnssPosition_longitude  \\\n",
       "0                              51.264967                             4.283523   \n",
       "1                              51.264968                             4.283523   \n",
       "2                              51.264968                             4.283523   \n",
       "3                              51.264968                             4.283523   \n",
       "4                              51.264961                             4.283535   \n",
       "...                                  ...                                  ...   \n",
       "3495                           47.837051                             7.395467   \n",
       "3496                           47.837001                             7.395462   \n",
       "3497                           47.837100                             7.395470   \n",
       "3498                           47.837050                             7.395468   \n",
       "3499                           47.837050                             7.395469   \n",
       "\n",
       "      ...  snapshotData_wheelBasedSpeed  snapshotData_fuelType  \\\n",
       "0     ...                           0.0                 Diesel   \n",
       "1     ...                           0.0                 Diesel   \n",
       "2     ...                           0.0                 Diesel   \n",
       "3     ...                           0.0                 Diesel   \n",
       "4     ...                           4.0                 Diesel   \n",
       "...   ...                           ...                    ...   \n",
       "3495  ...                           0.0                 Diesel   \n",
       "3496  ...                           2.0                 Diesel   \n",
       "3497  ...                           0.0                 Diesel   \n",
       "3498  ...                           0.0                 Diesel   \n",
       "3499  ...                           0.0                 Diesel   \n",
       "\n",
       "     snapshotData_fuelLevel1  snapshotData_catalystFuelLevel  \\\n",
       "0                        0.0                              99   \n",
       "1                       99.2                               0   \n",
       "2                       99.2                              99   \n",
       "3                       99.2                              99   \n",
       "4                       99.2                              99   \n",
       "...                      ...                             ...   \n",
       "3495                    25.2                               0   \n",
       "3496                    25.2                              80   \n",
       "3497                    25.2                             102   \n",
       "3498                    25.2                             102   \n",
       "3499                     0.0                               0   \n",
       "\n",
       "     snapshotData_driver1WorkingState  snapshotData_driver2WorkingState  \\\n",
       "0                                REST                              REST   \n",
       "1                                REST                              REST   \n",
       "2                                WORK                              REST   \n",
       "3                                WORK                              REST   \n",
       "4                                WORK                              REST   \n",
       "...                               ...                               ...   \n",
       "3495                             WORK                  DRIVER_AVAILABLE   \n",
       "3496                            DRIVE                  DRIVER_AVAILABLE   \n",
       "3497                             None                              None   \n",
       "3498                             None                              None   \n",
       "3499                             None                              None   \n",
       "\n",
       "      snapshotData_ambientAirTemperature uptimeData_engineCoolantTemperature  \\\n",
       "0                                     20                                  21   \n",
       "1                                      0                                   0   \n",
       "2                                      7                                  21   \n",
       "3                                      7                                  21   \n",
       "4                                      7                                  29   \n",
       "...                                  ...                                 ...   \n",
       "3495                                   0                                   0   \n",
       "3496                                  13                                  84   \n",
       "3497                                  13                                  83   \n",
       "3498                                  13                                  83   \n",
       "3499                                   0                                   0   \n",
       "\n",
       "     uptimeData_serviceBrakeAirPressureCircuit1  \\\n",
       "0                                          2040   \n",
       "1                                             0   \n",
       "2                                           528   \n",
       "3                                           528   \n",
       "4                                           944   \n",
       "...                                         ...   \n",
       "3495                                          0   \n",
       "3496                                       1000   \n",
       "3497                                          0   \n",
       "3498                                          0   \n",
       "3499                                          0   \n",
       "\n",
       "      uptimeData_serviceBrakeAirPressureCircuit2  \n",
       "0                                           2040  \n",
       "1                                              0  \n",
       "2                                            528  \n",
       "3                                            528  \n",
       "4                                            944  \n",
       "...                                          ...  \n",
       "3495                                           0  \n",
       "3496                                        1000  \n",
       "3497                                           0  \n",
       "3498                                           0  \n",
       "3499                                           0  \n",
       "\n",
       "[3164 rows x 23 columns]"
      ]
     },
     "execution_count": 4,
     "metadata": {},
     "output_type": "execute_result"
    }
   ],
   "source": [
    "df"
   ]
  },
  {
   "cell_type": "code",
   "execution_count": null,
   "metadata": {},
   "outputs": [],
   "source": [
    "import base64\n",
    "import requests \n",
    "import warnings\n",
    "\n",
    "import numpy as np\n",
    "import pandas as pd\n",
    "import seaborn as sns\n",
    "import scipy.stats as stats\n",
    "import plotly.express as px\n",
    "import matplotlib.pyplot as plt\n",
    "import plotly.graph_objects as go\n",
    "\n",
    "from sklearn.cluster import KMeans\n",
    "from sklearn.covariance import EllipticEnvelope\n",
    "from sklearn.decomposition import PCA\n",
    "from datetime import datetime, timedelta\n",
    "\n",
    "warnings.filterwarnings('ignore')\n",
    "\n",
    "\n",
    "def get_truck_info(vin=\"XLRTEF5300G450805\", start_date=\"2024-03-25\", end_date=\"2024-06-03\"):\n",
    "\n",
    "    auth_URL = 'https://api.connect.daf.com/rfms/token'\n",
    "    base_URL = 'https://api.connect.daf.com'\n",
    "\n",
    "    username= \"Hackathon_4@daftrucks.com\"\n",
    "    password = \"Team4Hackathon!\"\n",
    "    creds = username +':' + password\n",
    "    creds_bytes = creds.encode('ascii')\n",
    "    base64_bytes = base64.b64encode(creds_bytes)\n",
    "    base64_message = base64_bytes.decode('ascii')\n",
    "    headers = {\n",
    "    'Authorization': 'Basic ' + base64_message }\n",
    "\n",
    "    r = requests.post(auth_URL, headers=headers, verify=False)\n",
    "    jsondata = r.json()\n",
    "    token = jsondata.get('access_token')\n",
    "\n",
    "    datetype ='&datetype=received'\n",
    "    triggerfilter = '&Triggerfilter=DRIVER_1_WORKING_STATE_CHANGED'\n",
    "\n",
    "    header = {\n",
    "    'Authorization': 'Bearer ' + token,\n",
    "    'Accept': 'application/vnd.fmsstandard.com.vehiclestatuses.v3.0+json; UTF-8'}\n",
    "\n",
    "    data = []\n",
    "    current_date = datetime.strptime(start_date, \"%Y-%m-%d\")\n",
    "    end_date = datetime.strptime(end_date, \"%Y-%m-%d\")\n",
    "    \n",
    "    while current_date <= end_date:\n",
    "        starttime = current_date.strftime(\"%Y-%m-%d\") + \"T23:59:59.999Z\"\n",
    "        stoptime = (current_date + timedelta(days=1)).strftime(\"%Y-%m-%d\") + \"T23:59:59.999Z\"\n",
    "\n",
    "        myurl = base_URL+'/rfms/vehiclestatuses?vin=' + vin +'&starttime=' + starttime\n",
    "\n",
    "        req = requests.get(myurl, headers=header, verify=False)\n",
    "        # print(jsondata)\n",
    "        jsondata=req.json()\n",
    "        print(jsondata)\n",
    "\n",
    "\n",
    "\n",
    "        for i in jsondata['vehicleStatusResponse']['vehicleStatuses']:\n",
    "            dat=[]\n",
    "            dat.append(i['vin'])\n",
    "            dat.append(i['triggerType']['triggerType'])\n",
    "            dat.append(i['triggerType']['context'])\n",
    "            dat.append(i['createdDateTime'])\n",
    "            dat.append(i['receivedDateTime'])\n",
    "            try:\n",
    "                dat.append(i['hrTotalVehicleDistance'])\n",
    "            except Exception:\n",
    "                dat.append(0)\n",
    "\n",
    "            try:\n",
    "                dat.append(i['totalEngineHours'])\n",
    "            except Exception:\n",
    "                dat.append(0)\n",
    "\n",
    "            try:\n",
    "                dat.append(i['grossCombinationVehicleWeight'])\n",
    "            except Exception:\n",
    "                dat.append(0)\n",
    "\n",
    "            try:\n",
    "                dat.append(i['snapshotData']['gnssPosition']['latitude'])\n",
    "            except Exception:\n",
    "                dat.append(-9999)\n",
    "\n",
    "            try:\n",
    "                dat.append(i['snapshotData']['gnssPosition']['longitude'])\n",
    "            except Exception:\n",
    "                dat.append(-9999)\n",
    "\n",
    "            try:\n",
    "                dat.append(i['snapshotData']['gnssPosition']['heading'])\n",
    "            except Exception:\n",
    "                dat.append(-9999)\n",
    "\n",
    "            try:\n",
    "                dat.append(i['snapshotData']['gnssPosition']['speed'])\n",
    "            except Exception:\n",
    "                dat.append(-9999)\n",
    "\n",
    "            try:\n",
    "                dat.append(i['snapshotData']['gnssPosition']['positionDateTime'])\n",
    "            except Exception:\n",
    "                dat.append(None)\n",
    "\n",
    "            try:\n",
    "                dat.append(i['snapshotData']['wheelBasedSpeed'])\n",
    "            except Exception:\n",
    "                dat.append(0)\n",
    "\n",
    "            dat.append(i['snapshotData']['fuelType'])\n",
    "\n",
    "            try:\n",
    "                dat.append(i['snapshotData']['fuelLevel1'])\n",
    "            except Exception:\n",
    "                dat.append(0)\n",
    "\n",
    "            try:\n",
    "                dat.append(i['snapshotData']['catalystFuelLevel'])\n",
    "            except Exception:\n",
    "                dat.append(0)\n",
    "\n",
    "            try:\n",
    "                dat.append(i['snapshotData']['driver1WorkingState'])\n",
    "            except Exception:\n",
    "                dat.append(None)\n",
    "\n",
    "            try:\n",
    "                dat.append(i['snapshotData']['driver2WorkingState'])\n",
    "            except Exception:\n",
    "                dat.append(None)\n",
    "\n",
    "            try:\n",
    "                dat.append(i['snapshotData']['ambientAirTemperature'])\n",
    "            except Exception:\n",
    "                dat.append(0)\n",
    "\n",
    "            try:\n",
    "                dat.append(i['uptimeData']['engineCoolantTemperature'])\n",
    "            except Exception:\n",
    "                dat.append(0)\n",
    "            try:\n",
    "                dat.append(i['uptimeData']['serviceBrakeAirPressureCircuit1'])\n",
    "            except Exception:\n",
    "                dat.append(0)\n",
    "\n",
    "            try:\n",
    "                dat.append(i['uptimeData']['serviceBrakeAirPressureCircuit2'])\n",
    "            except Exception:\n",
    "                dat.append(0)\n",
    "\n",
    "            data.append(dat)\n",
    "\n",
    "        current_date += timedelta(days=1)\n",
    "\n",
    "    df = pd.DataFrame(data, columns=['vin', 'triggerType_triggerType',\n",
    "                                        'triggerType_context','createdDateTime',\"receivedDateTime\",\n",
    "                                        \"hrTotalVehicleDistance\",\"totalEngineHours\",\"grossCombinationVehicleWeight\",\n",
    "                                        'snapshotData_gnssPosition_latitude','snapshotData_gnssPosition_longitude',\n",
    "                                        \"snapshotData_gnssPosition_heading\",\"snapshotData_gnssPosition_speed\",\n",
    "                                        \"snapshotData_gnssPosition_positionDateTime\",\n",
    "                                        'snapshotData_wheelBasedSpeed','snapshotData_fuelType',\n",
    "                                        'snapshotData_fuelLevel1','snapshotData_catalystFuelLevel',\n",
    "                                        'snapshotData_driver1WorkingState','snapshotData_driver2WorkingState',\n",
    "                                        'snapshotData_ambientAirTemperature','uptimeData_engineCoolantTemperature',\n",
    "                                        'uptimeData_serviceBrakeAirPressureCircuit1','uptimeData_serviceBrakeAirPressureCircuit2'])\n",
    "\n",
    "    df.drop_duplicates(inplace=True)\n",
    "    \n",
    "    return df\n",
    "\n",
    "\n",
    "def get_dates_online():\n",
    "    \n",
    "    # Get today's date\n",
    "    today = datetime.today().date()\n",
    "\n",
    "    # Calculate the date 70 days before today\n",
    "    days_before = today - timedelta(days=70)\n",
    "\n",
    "    # Format the dates as YYYY-MM-DD\n",
    "    today_str = today.strftime('%Y-%m-%d')\n",
    "    days_before_str = days_before.strftime('%Y-%m-%d')\n",
    "\n",
    "    # Create the tuple\n",
    "    return today_str, days_before_str\n",
    "\n",
    "# get the dates\n",
    "end_date, start_date = get_dates_online()\n",
    "\n",
    "df_truck = get_truck_info(start_date=start_date, end_date=end_date)"
   ]
  },
  {
   "cell_type": "code",
   "execution_count": 5,
   "metadata": {},
   "outputs": [],
   "source": [
    "df.to_csv('truck.csv')"
   ]
  },
  {
   "cell_type": "code",
   "execution_count": 27,
   "metadata": {},
   "outputs": [
    {
     "data": {
      "application/vnd.plotly.v1+json": {
       "config": {
        "plotlyServerURL": "https://plot.ly"
       },
       "data": [
        {
         "lat": [
          51.264967,
          51.264968,
          51.264968,
          51.264968,
          51.264961,
          51.265012,
          51.265012,
          51.266747,
          51.266813,
          51.265816,
          51.265776,
          51.261713,
          51.261576,
          51.256392,
          51.260354,
          51.260369,
          51.26276,
          51.262761,
          51.262765,
          51.262782,
          51.262782,
          51.262764,
          51.263,
          51.262769,
          51.262791,
          51.262791,
          51.262885,
          51.262885,
          51.257226,
          51.257257,
          51.25728,
          51.25749,
          51.25749,
          51.25749,
          51.25749,
          51.257478,
          51.25749,
          51.257474,
          51.257477,
          51.2575,
          51.2575,
          51.257461,
          51.257461,
          51.257461,
          51.257461,
          51.257496,
          51.257488
         ],
         "line": {
          "color": "rgb(0, 255, 0)",
          "width": 2
         },
         "lon": [
          4.283523,
          4.283523,
          4.283523,
          4.283523,
          4.283535,
          4.28358,
          4.28358,
          4.288068,
          4.288056,
          4.279989,
          4.279972,
          4.278927,
          4.278451,
          4.245702,
          4.247168,
          4.247182,
          4.249267,
          4.249272,
          4.24928,
          4.249274,
          4.249274,
          4.249281,
          4.2492,
          4.249285,
          4.249246,
          4.249246,
          4.249312,
          4.249312,
          4.243721,
          4.2437,
          4.242657,
          4.242703,
          4.242704,
          4.242704,
          4.242704,
          4.242718,
          4.242675,
          4.242713,
          4.242649,
          4.2426,
          4.2426,
          4.242609,
          4.242609,
          4.242609,
          4.242609,
          4.242683,
          4.242669
         ],
         "marker": {
          "color": "rgb(0, 255, 0)",
          "size": 10
         },
         "mode": "lines+markers",
         "type": "scattermapbox"
        },
        {
         "lat": [
          51.257488,
          51.257488,
          51.257488
         ],
         "line": {
          "color": "rgb(50, 205, 0)",
          "width": 2
         },
         "lon": [
          4.242669,
          4.242669,
          4.242669
         ],
         "marker": {
          "color": "rgb(50, 205, 0)",
          "size": 10
         },
         "mode": "lines+markers",
         "type": "scattermapbox"
        },
        {
         "lat": [
          50.7544,
          50.7544,
          50.7544,
          50.754428,
          50.75447,
          50.75447,
          50.754973,
          50.754987,
          50.750666,
          50.730119,
          50.674444,
          50.627135,
          50.594118,
          50.587631,
          50.572363,
          50.525939,
          50.476507,
          50.454441,
          50.422349,
          50.386124,
          50.383099,
          50.363766,
          50.363761,
          50.363149,
          50.366838,
          50.338686,
          50.297537,
          50.250185,
          50.205236,
          50.20757,
          50.157638,
          50.100074,
          50.044566,
          50.012377,
          49.998271,
          49.972516,
          49.940804,
          49.93045,
          49.924935,
          49.905473,
          49.85039,
          49.816,
          49.775072
         ],
         "line": {
          "color": "rgb(100, 155, 0)",
          "width": 2
         },
         "lon": [
          6.85229,
          6.85229,
          6.85229,
          6.852311,
          6.85233,
          6.85233,
          6.853202,
          6.853233,
          6.852298,
          6.881921,
          6.919011,
          6.973123,
          7.026977,
          7.044484,
          7.135182,
          7.188895,
          7.223769,
          7.23234,
          7.230505,
          7.291877,
          7.380044,
          7.428561,
          7.428627,
          7.436786,
          7.459839,
          7.510819,
          7.502002,
          7.517331,
          7.573843,
          7.569996,
          7.594252,
          7.603278,
          7.637864,
          7.681376,
          7.684783,
          7.737805,
          7.798397,
          7.883349,
          7.943291,
          7.947601,
          7.979486,
          8.049952,
          8.110515
         ],
         "marker": {
          "color": "rgb(100, 155, 0)",
          "size": 10
         },
         "mode": "lines+markers",
         "type": "scattermapbox"
        },
        {
         "lat": [
          49.762954,
          49.719441,
          49.698773,
          49.6567,
          49.613664,
          49.604459
         ],
         "line": {
          "color": "rgb(150, 105, 0)",
          "width": 2
         },
         "lon": [
          8.114794,
          8.134703,
          8.21643,
          8.284182,
          8.291098,
          8.288345
         ],
         "marker": {
          "color": "rgb(150, 105, 0)",
          "size": 10
         },
         "mode": "lines+markers",
         "type": "scattermapbox"
        },
        {
         "lat": [
          50.994167,
          50.994164,
          50.994164,
          50.994115,
          50.994115,
          50.994108,
          50.994089,
          50.994079,
          50.994045,
          50.994045,
          50.994223,
          50.993371,
          50.993327,
          50.992951
         ],
         "line": {
          "color": "rgb(200, 55, 0)",
          "width": 2
         },
         "lon": [
          5.240767,
          5.240773,
          5.240773,
          5.240775,
          5.240775,
          5.240818,
          5.240795,
          5.240799,
          5.240863,
          5.240863,
          5.241447,
          5.240308,
          5.240285,
          5.240464
         ],
         "marker": {
          "color": "rgb(200, 55, 0)",
          "size": 10
         },
         "mode": "lines+markers",
         "type": "scattermapbox"
        },
        {
         "lat": [
          50.992898,
          50.983636,
          51.006359,
          51.030154,
          51.077728,
          51.101342,
          51.2548,
          51.2548,
          51.2548,
          51.2548,
          51.2548,
          51.254768,
          51.25477,
          51.25477,
          51.254767,
          51.254698,
          51.254765,
          51.242259,
          51.227942,
          51.226756,
          51.203,
          51.201208,
          51.201145,
          51.25488
         ],
         "line": {
          "color": "rgb(0, 255, 0)",
          "width": 2
         },
         "lon": [
          5.24045,
          5.242122,
          5.218446,
          5.200133,
          5.138059,
          5.050598,
          4.24988,
          4.24988,
          4.24988,
          4.24988,
          4.24988,
          4.249894,
          4.249887,
          4.249887,
          4.24989,
          4.250799,
          4.249895,
          4.258909,
          4.345116,
          4.351693,
          4.37449,
          4.376393,
          4.376462,
          4.249346
         ],
         "marker": {
          "color": "rgb(0, 255, 0)",
          "size": 10
         },
         "mode": "lines+markers",
         "type": "scattermapbox"
        },
        {
         "lat": [
          51.254371,
          51.254371,
          51.196297,
          51.254371,
          51.1988,
          51.21167,
          51.197697,
          51.194823,
          51.181658,
          51.167942,
          51.147972,
          51.12592
         ],
         "line": {
          "color": "rgb(50, 205, 0)",
          "width": 2
         },
         "lon": [
          4.248231,
          4.248231,
          4.391797,
          4.248231,
          4.43566,
          4.501624,
          4.594922,
          4.625332,
          4.688168,
          4.780491,
          4.871515,
          4.950018
         ],
         "marker": {
          "color": "rgb(50, 205, 0)",
          "size": 10
         },
         "mode": "lines+markers",
         "type": "scattermapbox"
        },
        {
         "lat": [
          49.5955,
          49.595458,
          49.5955,
          49.59544,
          49.595437,
          49.595432,
          49.595359,
          49.595359,
          49.562405,
          49.520091,
          49.496485,
          49.454068,
          49.449944,
          49.400527,
          49.349335,
          49.303927,
          49.282008,
          49.257402,
          49.211619,
          49.1862,
          49.14411,
          49.128906,
          49.093151,
          49.04605,
          49.01385,
          48.96807,
          48.95968,
          48.916917,
          48.876187,
          48.834041,
          48.792018,
          48.789865,
          48.75005,
          48.714618,
          48.690098,
          48.663813
         ],
         "line": {
          "color": "rgb(100, 155, 0)",
          "width": 2
         },
         "lon": [
          4.49876,
          4.498754,
          4.49876,
          4.498751,
          4.498762,
          4.498754,
          4.498755,
          4.498755,
          4.466097,
          4.403106,
          4.353757,
          4.3008,
          4.296647,
          4.245079,
          4.197944,
          4.137437,
          4.111464,
          4.085338,
          4.078167,
          4.145687,
          4.212593,
          4.228144,
          4.25687,
          4.310609,
          4.32894,
          4.382868,
          4.390322,
          4.422877,
          4.468134,
          4.531485,
          4.578023,
          4.578985,
          4.591731,
          4.63613,
          4.716715,
          4.79704
         ],
         "marker": {
          "color": "rgb(100, 155, 0)",
          "size": 10
         },
         "mode": "lines+markers",
         "type": "scattermapbox"
        },
        {
         "lat": [
          48.663149,
          48.65727,
          48.65723,
          48.653046,
          48.640671
         ],
         "line": {
          "color": "rgb(150, 105, 0)",
          "width": 2
         },
         "lon": [
          4.798949,
          4.815377,
          4.815468,
          4.826944,
          4.91247
         ],
         "marker": {
          "color": "rgb(150, 105, 0)",
          "size": 10
         },
         "mode": "lines+markers",
         "type": "scattermapbox"
        },
        {
         "lat": [
          48.620618,
          48.622528,
          48.622418,
          48.594215,
          48.56668,
          48.552593,
          48.552593,
          48.552593,
          48.552593
         ],
         "line": {
          "color": "rgb(200, 55, 0)",
          "width": 2
         },
         "lon": [
          4.987413,
          4.993582,
          4.99371,
          5.03082,
          5.03522,
          5.060996,
          5.060996,
          5.060996,
          5.060996
         ],
         "marker": {
          "color": "rgb(200, 55, 0)",
          "size": 10
         },
         "mode": "lines+markers",
         "type": "scattermapbox"
        },
        {
         "lat": [
          47.2182,
          47.218168,
          47.2182,
          47.218168,
          47.2182,
          47.218168,
          47.218156,
          47.218156,
          47.21815,
          47.218145,
          47.218145,
          47.218145,
          47.218143,
          47.21814,
          47.218147
         ],
         "line": {
          "color": "blue",
          "width": 2
         },
         "lon": [
          5.00065,
          5.000712,
          5.00071,
          5.000712,
          5.00079,
          5.000712,
          5.000722,
          5.000722,
          5.000715,
          5.000711,
          5.000711,
          5.000711,
          5.000725,
          5.000728,
          5.000722
         ],
         "marker": {
          "color": "blue",
          "size": 10
         },
         "mode": "lines+markers",
         "type": "scattermapbox"
        },
        {
         "lat": [
          47.218143,
          47.218147
         ],
         "line": {
          "color": "blue",
          "width": 2
         },
         "lon": [
          5.000715,
          5.000719
         ],
         "marker": {
          "color": "blue",
          "size": 10
         },
         "mode": "lines+markers",
         "type": "scattermapbox"
        },
        {
         "lat": [
          47.218166,
          47.218176,
          47.218163,
          47.218138,
          47.218109,
          47.21809,
          47.218098,
          47.218092,
          47.218113,
          47.218114,
          47.21812,
          47.218136,
          47.218136,
          47.218152,
          47.218125,
          47.2181,
          47.218146,
          47.218146,
          47.218166,
          47.218166,
          47.218166,
          47.218151,
          47.218151,
          47.218153,
          47.218135,
          47.218135,
          47.217498,
          47.217427,
          47.20408,
          47.144785,
          47.094865,
          47.092906,
          47.042991,
          46.987321,
          46.929672,
          46.899671,
          46.86871,
          46.808675,
          46.750206,
          46.756169,
          46.759629,
          46.756921,
          46.740258,
          46.741318,
          46.754021,
          46.761342,
          46.778247,
          46.788291,
          46.78834
         ],
         "line": {
          "color": "rgb(100, 155, 0)",
          "width": 2
         },
         "lon": [
          5.000684,
          5.000704,
          5.000706,
          5.000735,
          5.000756,
          5.000773,
          5.000766,
          5.000767,
          5.000736,
          5.000741,
          5.000752,
          5.000744,
          5.000744,
          5.000737,
          5.000721,
          5.00075,
          5.000714,
          5.000714,
          5.000712,
          5.000712,
          5.000712,
          5.000712,
          5.000712,
          5.000714,
          5.000789,
          5.000789,
          5.000586,
          5.000604,
          4.996983,
          4.987863,
          4.942549,
          4.940381,
          4.888569,
          4.85129,
          4.820461,
          4.82228,
          4.819466,
          4.826422,
          4.831884,
          4.800582,
          4.756285,
          4.712143,
          4.630901,
          4.551984,
          4.486202,
          4.461553,
          4.443478,
          4.445371,
          4.445499
         ],
         "marker": {
          "color": "rgb(100, 155, 0)",
          "size": 10
         },
         "mode": "lines+markers",
         "type": "scattermapbox"
        },
        {
         "lat": [
          46.789715,
          46.789713,
          46.789711,
          46.789716,
          46.789716,
          46.789703,
          46.789716,
          46.789711,
          46.789725,
          46.789725,
          46.789693,
          46.789693,
          46.789693,
          46.789693,
          46.789691,
          46.789691,
          46.789691,
          46.789691,
          46.7897
         ],
         "line": {
          "color": "rgb(150, 105, 0)",
          "width": 2
         },
         "lon": [
          4.449036,
          4.449081,
          4.449085,
          4.449088,
          4.449088,
          4.449096,
          4.449144,
          4.449104,
          4.449113,
          4.449113,
          4.449303,
          4.449303,
          4.449303,
          4.449303,
          4.449305,
          4.449305,
          4.449305,
          4.449305,
          4.44946
         ],
         "marker": {
          "color": "rgb(150, 105, 0)",
          "size": 10
         },
         "mode": "lines+markers",
         "type": "scattermapbox"
        },
        {
         "lat": [
          47.328989,
          47.328963,
          47.328961,
          47.328961,
          47.328961,
          47.328947,
          47.328947,
          47.328996,
          47.337872,
          47.346292,
          47.344121,
          47.373758,
          47.41073,
          47.402291,
          47.414206,
          47.417432,
          47.423782,
          47.456385,
          47.49764,
          47.506605,
          47.546004,
          47.605718,
          47.646428,
          47.672392,
          47.676522,
          47.712386,
          47.718602,
          47.740184,
          47.744403,
          47.761238
         ],
         "line": {
          "color": "rgb(200, 55, 0)",
          "width": 2
         },
         "lon": [
          6.130058,
          6.130061,
          6.130075,
          6.130075,
          6.130071,
          6.13011,
          6.13011,
          6.129002,
          6.214401,
          6.302934,
          6.299415,
          6.369937,
          6.526112,
          6.441337,
          6.576684,
          6.612755,
          6.686885,
          6.756743,
          6.817126,
          6.832817,
          6.863935,
          6.856987,
          6.911414,
          6.971411,
          6.983916,
          7.054769,
          7.144215,
          7.229576,
          7.263757,
          7.314077
         ],
         "marker": {
          "color": "rgb(200, 55, 0)",
          "size": 10
         },
         "mode": "lines+markers",
         "type": "scattermapbox"
        },
        {
         "lat": [
          47.777873,
          47.837531,
          47.89171,
          47.896633,
          47.956362,
          48.016833,
          48.076147,
          48.103424,
          48.130072,
          48.183437,
          48.239868,
          48.286307,
          48.29271,
          48.337428,
          48.394436,
          48.451827,
          48.482977,
          48.498966,
          48.539924
         ],
         "line": {
          "color": "rgb(0, 255, 0)",
          "width": 2
         },
         "lon": [
          7.398373,
          7.394485,
          7.376115,
          7.373025,
          7.367325,
          7.374619,
          7.385389,
          7.38262,
          7.366009,
          7.386688,
          7.408484,
          7.457627,
          7.465086,
          7.499835,
          7.475876,
          7.5074,
          7.549943,
          7.563913,
          7.581533
         ],
         "marker": {
          "color": "rgb(0, 255, 0)",
          "size": 10
         },
         "mode": "lines+markers",
         "type": "scattermapbox"
        },
        {
         "lat": [
          49.702988,
          49.702988,
          49.702988,
          49.703017,
          49.703017,
          49.703847,
          49.707561,
          49.735821,
          49.786202,
          49.842725,
          49.878744,
          49.879755,
          49.887244,
          49.910637,
          49.947265,
          49.989097,
          50.005681,
          50.063526,
          50.099659,
          50.15225,
          50.165587,
          50.203661,
          50.255883,
          50.311798,
          50.371487,
          50.368899,
          50.418426,
          50.474626,
          50.520914,
          50.552967,
          50.558746
         ],
         "line": {
          "color": "rgb(50, 205, 0)",
          "width": 2
         },
         "lon": [
          5.622984,
          5.622984,
          5.622984,
          5.623028,
          5.623028,
          5.623619,
          5.62141,
          5.57698,
          5.532996,
          5.51088,
          5.45706,
          5.450736,
          5.368939,
          5.29446,
          5.236924,
          5.233092,
          5.219851,
          5.19624,
          5.124816,
          5.074701,
          5.070756,
          5.06582,
          5.047331,
          5.020628,
          4.996075,
          4.998255,
          4.945573,
          4.91067,
          4.881197,
          4.848116,
          4.838869
         ],
         "marker": {
          "color": "rgb(50, 205, 0)",
          "size": 10
         },
         "mode": "lines+markers",
         "type": "scattermapbox"
        },
        {
         "lat": [
          50.576967,
          50.616174,
          50.652206,
          50.686291,
          50.706647,
          50.727441,
          50.771082,
          50.789695,
          50.792802,
          50.792819,
          50.794095,
          50.794116,
          50.794362,
          50.794391,
          50.794506,
          50.794532,
          50.794548,
          50.794578,
          50.794588
         ],
         "line": {
          "color": "rgb(100, 155, 0)",
          "width": 2
         },
         "lon": [
          4.815569,
          4.770597,
          4.695456,
          4.624286,
          4.609729,
          4.563476,
          4.502506,
          4.488492,
          4.482048,
          4.482004,
          4.479373,
          4.479333,
          4.478921,
          4.47885,
          4.478664,
          4.478623,
          4.478599,
          4.478569,
          4.478553
         ],
         "marker": {
          "color": "rgb(100, 155, 0)",
          "size": 10
         },
         "mode": "lines+markers",
         "type": "scattermapbox"
        },
        {
         "lat": [
          49.590092,
          49.590092,
          49.590092,
          49.590092,
          49.590129,
          49.590129,
          49.590092,
          49.580262,
          49.533862,
          49.5293,
          49.516244,
          49.467221,
          49.418063,
          49.384062,
          49.370983,
          49.326989,
          49.280549,
          49.230174,
          49.210533,
          49.200546,
          49.166825,
          49.120461,
          49.064234,
          49.054798,
          49.033792,
          48.985139,
          48.93947,
          48.905208,
          48.889051
         ],
         "line": {
          "color": "rgb(150, 105, 0)",
          "width": 2
         },
         "lon": [
          4.499575,
          4.499575,
          4.499557,
          4.499557,
          4.499585,
          4.499585,
          4.499557,
          4.483973,
          4.424192,
          4.42005,
          4.346781,
          4.316293,
          4.263573,
          4.228507,
          4.21586,
          4.165485,
          4.107296,
          4.068507,
          4.079477,
          4.106337,
          4.183792,
          4.243477,
          4.276053,
          4.287698,
          4.318314,
          4.350068,
          4.396908,
          4.44353,
          4.455943
         ],
         "marker": {
          "color": "rgb(150, 105, 0)",
          "size": 10
         },
         "mode": "lines+markers",
         "type": "scattermapbox"
        },
        {
         "lat": [
          48.854756,
          48.813769,
          48.771175,
          48.736917,
          48.72456,
          48.702079,
          48.677436,
          48.651873,
          48.63767,
          48.638599,
          48.620977,
          48.591576,
          48.546251,
          48.501391,
          48.500294,
          48.453224,
          48.404911,
          48.38569,
          48.385554,
          48.37528
         ],
         "line": {
          "color": "rgb(200, 55, 0)",
          "width": 2
         },
         "lon": [
          4.492277,
          4.550293,
          4.583135,
          4.60599,
          4.626485,
          4.672691,
          4.75779,
          4.840833,
          4.92039,
          4.919041,
          4.987961,
          5.031378,
          5.069605,
          5.105424,
          5.106711,
          5.150715,
          5.157128,
          5.15373,
          5.153829,
          5.156262
         ],
         "marker": {
          "color": "rgb(200, 55, 0)",
          "size": 10
         },
         "mode": "lines+markers",
         "type": "scattermapbox"
        },
        {
         "lat": [
          47.32715,
          47.32715,
          47.327135,
          47.327142,
          47.327135,
          47.327148,
          47.327183,
          47.327183,
          47.336815,
          47.343726,
          47.344321,
          47.344321,
          47.344321,
          47.344321,
          47.344341,
          47.344341,
          47.344331,
          47.344331,
          47.344331,
          47.34431,
          47.347031,
          47.374068,
          47.374146,
          47.404845,
          47.410249,
          47.4171,
          47.426076
         ],
         "line": {
          "color": "rgb(0, 255, 0)",
          "width": 2
         },
         "lon": [
          6.124531,
          6.124531,
          6.124539,
          6.124524,
          6.124539,
          6.124525,
          6.124529,
          6.124529,
          6.15788,
          6.246504,
          6.255238,
          6.255237,
          6.255235,
          6.255235,
          6.255339,
          6.255339,
          6.255378,
          6.255378,
          6.255378,
          6.255225,
          6.304209,
          6.361111,
          6.375667,
          6.445004,
          6.529433,
          6.615541,
          6.64794
         ],
         "marker": {
          "color": "rgb(0, 255, 0)",
          "size": 10
         },
         "mode": "lines+markers",
         "type": "scattermapbox"
        },
        {
         "lat": [
          47.425829,
          47.442619,
          47.443109,
          47.442703,
          47.443108,
          47.443108,
          47.443108,
          47.443127,
          47.443119,
          47.443115,
          47.443115,
          47.443105,
          47.443114,
          47.443114,
          47.443102,
          47.443101,
          47.443101
         ],
         "line": {
          "color": "rgb(50, 205, 0)",
          "width": 2
         },
         "lon": [
          6.689482,
          6.732402,
          6.732394,
          6.730988,
          6.732394,
          6.732394,
          6.732394,
          6.732388,
          6.732397,
          6.732394,
          6.732394,
          6.732396,
          6.732401,
          6.732401,
          6.732394,
          6.732503,
          6.732503
         ],
         "marker": {
          "color": "rgb(50, 205, 0)",
          "size": 10
         },
         "mode": "lines+markers",
         "type": "scattermapbox"
        },
        {
         "lat": [
          47.4431,
          47.4431,
          47.4431,
          47.444735
         ],
         "line": {
          "color": "rgb(100, 155, 0)",
          "width": 2
         },
         "lon": [
          6.7324,
          6.7324,
          6.7324,
          6.738362
         ],
         "marker": {
          "color": "rgb(100, 155, 0)",
          "size": 10
         },
         "mode": "lines+markers",
         "type": "scattermapbox"
        },
        {
         "lat": [
          47.482943,
          47.525593,
          47.577711,
          47.577711,
          47.577711,
          47.577684,
          47.577679,
          47.577682,
          47.577657,
          47.577667,
          47.577671,
          47.577671,
          47.577709,
          47.577681,
          47.577723,
          47.577718,
          47.577718,
          47.577688,
          47.577683,
          47.577682,
          47.577673,
          47.577691,
          47.577667,
          47.577704,
          47.577696,
          47.57769,
          47.577676,
          47.577685,
          47.577696,
          47.577708,
          47.577708,
          47.5753,
          47.5702,
          47.5702
         ],
         "line": {
          "color": "rgb(150, 105, 0)",
          "width": 2
         },
         "lon": [
          6.801864,
          6.856876,
          7.565145,
          7.565145,
          7.565145,
          7.565171,
          7.565192,
          7.565174,
          7.565184,
          7.565199,
          7.565202,
          7.565189,
          7.565197,
          7.565185,
          7.565137,
          7.565146,
          7.565146,
          7.565176,
          7.56517,
          7.565174,
          7.565146,
          7.565167,
          7.565168,
          7.56519,
          7.565194,
          7.565186,
          7.565175,
          7.565186,
          7.565174,
          7.565103,
          7.565103,
          7.56177,
          7.58273,
          7.58273
         ],
         "marker": {
          "color": "rgb(150, 105, 0)",
          "size": 10
         },
         "mode": "lines+markers",
         "type": "scattermapbox"
        },
        {
         "lat": [
          47.5702,
          47.5702,
          47.5702,
          47.5702,
          47.5702,
          47.5702,
          47.5702,
          47.5702,
          47.5702,
          47.572643,
          47.572738,
          47.573369,
          47.573456,
          47.57344,
          47.574151,
          47.57415,
          47.526211,
          47.52733,
          47.540828,
          47.558248,
          47.5704,
          47.5704,
          47.5704,
          47.570574,
          47.57063
         ],
         "line": {
          "color": "rgb(200, 55, 0)",
          "width": 2
         },
         "lon": [
          7.58273,
          7.58273,
          7.58273,
          7.58273,
          7.58273,
          7.58273,
          7.58273,
          7.58273,
          7.58273,
          7.598649,
          7.598621,
          7.598601,
          7.598636,
          7.598631,
          7.599963,
          7.600092,
          7.713198,
          7.677364,
          7.632601,
          7.61365,
          7.60397,
          7.60397,
          7.60397,
          7.603787,
          7.603755
         ],
         "marker": {
          "color": "rgb(200, 55, 0)",
          "size": 10
         },
         "mode": "lines+markers",
         "type": "scattermapbox"
        },
        {
         "lat": [
          47.570761,
          47.570787,
          47.573028,
          47.573069,
          47.496238,
          47.449463,
          47.394955,
          47.3784,
          47.34578,
          47.30979,
          47.311989,
          47.305917,
          47.305971,
          47.312728,
          47.7749,
          47.774888,
          47.774844,
          47.774839,
          47.774823
         ],
         "line": {
          "color": "blue",
          "width": 2
         },
         "lon": [
          7.603672,
          7.60365,
          7.602018,
          7.601987,
          7.767398,
          7.803097,
          7.81483,
          7.81608,
          7.83574,
          7.830932,
          7.895991,
          7.92894,
          7.929169,
          7.920223,
          7.37837,
          7.378388,
          7.378466,
          7.378458,
          7.378481
         ],
         "marker": {
          "color": "blue",
          "size": 10
         },
         "mode": "lines+markers",
         "type": "scattermapbox"
        },
        {
         "lat": [
          47.774837,
          47.774848,
          47.774845,
          47.774829,
          47.774818,
          47.774825,
          47.774818,
          47.774814,
          47.774886,
          47.774884,
          47.774871,
          47.774889,
          47.774882,
          47.774883,
          47.774891,
          47.774892,
          47.77488,
          47.774874,
          47.774889,
          47.774895,
          47.774888,
          47.7749,
          47.7749,
          47.7749,
          47.774877,
          47.774877,
          47.774866,
          47.775462,
          47.775426,
          47.770914,
          47.770815,
          47.770736,
          47.779104,
          47.778064,
          47.778073,
          47.778825,
          47.777247,
          47.777171,
          47.768119,
          47.759598,
          47.759466,
          47.759599,
          47.773172
         ],
         "line": {
          "color": "rgb(50, 205, 0)",
          "width": 2
         },
         "lon": [
          7.378452,
          7.378468,
          7.37846,
          7.378453,
          7.378458,
          7.378458,
          7.378466,
          7.378473,
          7.37842,
          7.378457,
          7.378402,
          7.378426,
          7.378408,
          7.378416,
          7.378428,
          7.378441,
          7.378415,
          7.378429,
          7.378424,
          7.378442,
          7.378456,
          7.37842,
          7.37842,
          7.37842,
          7.378477,
          7.378477,
          7.378498,
          7.379359,
          7.379431,
          7.386615,
          7.386752,
          7.387412,
          7.366657,
          7.353339,
          7.353157,
          7.335161,
          7.331351,
          7.331195,
          7.305333,
          7.279765,
          7.279686,
          7.27976,
          7.225186
         ],
         "marker": {
          "color": "rgb(50, 205, 0)",
          "size": 10
         },
         "mode": "lines+markers",
         "type": "scattermapbox"
        },
        {
         "lat": [
          49.369909,
          49.369914,
          49.369909,
          49.369914,
          49.369921,
          49.369907,
          49.369907
         ],
         "line": {
          "color": "blue",
          "width": 2
         },
         "lon": [
          3.467461,
          3.467459,
          3.467461,
          3.467459,
          3.467465,
          3.467521,
          3.467521
         ],
         "marker": {
          "color": "blue",
          "size": 10
         },
         "mode": "lines+markers",
         "type": "scattermapbox"
        },
        {
         "lat": [
          49.369731,
          49.362409,
          49.369983,
          49.369996,
          49.369982,
          49.370128,
          49.365391,
          49.383791,
          49.396192,
          49.39587,
          49.397452,
          49.398103,
          49.398123,
          49.39811,
          49.404238,
          49.403911,
          49.422475,
          49.399077,
          49.400471,
          49.39392,
          49.394088,
          49.392215,
          49.391501,
          49.356232,
          49.321868,
          49.324124,
          49.310365,
          49.304415,
          49.28715,
          49.281636,
          49.281594,
          49.281529,
          49.281508,
          49.281073,
          49.281017,
          49.280946,
          49.280906,
          49.280808,
          49.280812,
          49.280756,
          49.280378,
          49.280365,
          49.280364
         ],
         "line": {
          "color": "rgb(150, 105, 0)",
          "width": 2
         },
         "lon": [
          3.467769,
          3.407279,
          3.357571,
          3.357469,
          3.357571,
          3.356957,
          3.311547,
          3.261017,
          3.179895,
          3.105029,
          3.055748,
          3.045908,
          3.045753,
          3.045936,
          3.004855,
          2.957121,
          2.893263,
          2.867377,
          2.822991,
          2.792278,
          2.792224,
          2.789062,
          2.788454,
          2.757807,
          2.690736,
          2.607519,
          2.547121,
          2.525873,
          2.502946,
          2.501344,
          2.501286,
          2.501196,
          2.501155,
          2.500937,
          2.500995,
          2.501048,
          2.501075,
          2.501114,
          2.501107,
          2.501106,
          2.50046,
          2.50043,
          2.500429
         ],
         "marker": {
          "color": "rgb(150, 105, 0)",
          "size": 10
         },
         "mode": "lines+markers",
         "type": "scattermapbox"
        },
        {
         "lat": [
          50.4762,
          50.4762
         ],
         "line": {
          "color": "rgb(200, 55, 0)",
          "width": 2
         },
         "lon": [
          4.48337,
          4.48337
         ],
         "marker": {
          "color": "rgb(200, 55, 0)",
          "size": 10
         },
         "mode": "lines+markers",
         "type": "scattermapbox"
        },
        {
         "lat": [
          50.4762,
          50.4762,
          50.4762,
          50.476228,
          50.476228,
          50.476301,
          50.481703,
          50.473589,
          50.423992,
          50.407628,
          50.407631,
          50.407631,
          50.407636,
          50.407907,
          50.408353,
          50.408352,
          50.408339,
          50.408348,
          50.408354,
          50.408355,
          50.408315,
          50.408356,
          50.408417,
          50.408333,
          50.408417,
          50.408418,
          50.408433,
          50.408466,
          50.408466,
          50.408446,
          50.408423,
          50.408423,
          50.408423,
          50.408423,
          50.408485,
          50.408453,
          50.408485,
          50.408485,
          50.40846,
          50.40846,
          50.40846,
          50.40846,
          50.40846
         ],
         "line": {
          "color": "rgb(0, 255, 0)",
          "width": 2
         },
         "lon": [
          4.48337,
          4.48337,
          4.48337,
          4.48334,
          4.48334,
          4.482838,
          4.452,
          4.417355,
          4.451416,
          4.42376,
          4.423714,
          4.423708,
          4.423666,
          4.418232,
          4.408848,
          4.408948,
          4.409021,
          4.408924,
          4.40889,
          4.408879,
          4.408906,
          4.408769,
          4.408201,
          4.408876,
          4.408195,
          4.40819,
          4.408214,
          4.407982,
          4.407982,
          4.408177,
          4.408212,
          4.408212,
          4.408212,
          4.408212,
          4.407627,
          4.408113,
          4.407627,
          4.407627,
          4.407655,
          4.407658,
          4.407658,
          4.407658,
          4.407658
         ],
         "marker": {
          "color": "rgb(0, 255, 0)",
          "size": 10
         },
         "mode": "lines+markers",
         "type": "scattermapbox"
        },
        {
         "lat": [
          50.40848,
          50.40848,
          50.408499,
          50.408499,
          50.408499
         ],
         "line": {
          "color": "rgb(50, 205, 0)",
          "width": 2
         },
         "lon": [
          4.407535,
          4.407535,
          4.407384,
          4.407385,
          4.407385
         ],
         "marker": {
          "color": "rgb(50, 205, 0)",
          "size": 10
         },
         "mode": "lines+markers",
         "type": "scattermapbox"
        },
        {
         "lat": [
          46.789173,
          46.7891,
          46.7891,
          46.789176,
          46.789176,
          46.789298,
          46.789358,
          46.789737,
          46.789569,
          46.789738,
          46.7897,
          46.789765,
          46.789766,
          46.789766,
          46.789761,
          46.789766,
          46.789761,
          46.789766,
          46.789763,
          46.789761,
          46.789771,
          46.789771,
          46.7898,
          46.7898,
          46.7898,
          46.789761,
          46.789776,
          46.789907,
          46.789907,
          46.789907,
          46.789904,
          46.789908,
          46.789908,
          46.789908,
          46.789926,
          46.789926,
          46.789912,
          46.785724,
          46.785869,
          46.7858,
          46.785723,
          46.785715,
          46.785706
         ],
         "line": {
          "color": "rgb(100, 155, 0)",
          "width": 2
         },
         "lon": [
          4.444755,
          4.44479,
          4.44479,
          4.444737,
          4.444737,
          4.444377,
          4.444414,
          4.448792,
          4.446766,
          4.448791,
          4.44875,
          4.449251,
          4.449205,
          4.449205,
          4.44924,
          4.449205,
          4.449239,
          4.449205,
          4.448831,
          4.449239,
          4.449318,
          4.449318,
          4.44925,
          4.44925,
          4.44925,
          4.449248,
          4.449254,
          4.450188,
          4.450188,
          4.450188,
          4.450183,
          4.450186,
          4.450186,
          4.450186,
          4.450272,
          4.450272,
          4.45078,
          4.450704,
          4.451021,
          4.45072,
          4.450704,
          4.450696,
          4.450691
         ],
         "marker": {
          "color": "rgb(100, 155, 0)",
          "size": 10
         },
         "mode": "lines+markers",
         "type": "scattermapbox"
        },
        {
         "lat": [
          46.785712
         ],
         "line": {
          "color": "rgb(150, 105, 0)",
          "width": 2
         },
         "lon": [
          4.450684
         ],
         "marker": {
          "color": "rgb(150, 105, 0)",
          "size": 10
         },
         "mode": "lines+markers",
         "type": "scattermapbox"
        },
        {
         "lat": [
          46.785712,
          46.785712,
          46.785712,
          46.785719,
          46.785728,
          46.785731
         ],
         "line": {
          "color": "rgb(200, 55, 0)",
          "width": 2
         },
         "lon": [
          4.450684,
          4.450684,
          4.450684,
          4.450724,
          4.450685,
          4.450697
         ],
         "marker": {
          "color": "rgb(200, 55, 0)",
          "size": 10
         },
         "mode": "lines+markers",
         "type": "scattermapbox"
        },
        {
         "lat": [
          49.347036,
          49.347036,
          49.347039,
          49.347039,
          49.347036,
          49.347036,
          49.347116,
          49.347116
         ],
         "line": {
          "color": "blue",
          "width": 2
         },
         "lon": [
          4.190375,
          4.190375,
          4.190347,
          4.190347,
          4.19034,
          4.190339,
          4.190409,
          4.190409
         ],
         "marker": {
          "color": "blue",
          "size": 10
         },
         "mode": "lines+markers",
         "type": "scattermapbox"
        },
        {
         "lat": [
          49.347403,
          49.391077,
          49.412271,
          49.442051,
          49.48625,
          49.51933,
          49.553694,
          49.55346,
          49.599918
         ],
         "line": {
          "color": "rgb(50, 205, 0)",
          "width": 2
         },
         "lon": [
          4.190736,
          4.235595,
          4.257942,
          4.281165,
          4.343957,
          4.384416,
          4.453393,
          4.452874,
          4.511409
         ],
         "marker": {
          "color": "rgb(50, 205, 0)",
          "size": 10
         },
         "mode": "lines+markers",
         "type": "scattermapbox"
        },
        {
         "lat": [
          49.643054,
          49.666081,
          49.691495,
          49.71124,
          49.759654,
          49.787611,
          49.828322
         ],
         "line": {
          "color": "rgb(100, 155, 0)",
          "width": 2
         },
         "lon": [
          4.575476,
          4.642033,
          4.677846,
          4.700241,
          4.651974,
          4.571326,
          4.511768
         ],
         "marker": {
          "color": "rgb(100, 155, 0)",
          "size": 10
         },
         "mode": "lines+markers",
         "type": "scattermapbox"
        },
        {
         "lat": [
          49.837756,
          49.881362,
          49.937489,
          49.964094,
          49.964177,
          50.039395,
          50.027302,
          49.977919,
          50.082391,
          50.098513,
          50.098471,
          50.128665,
          50.144471,
          50.1445,
          50.14449,
          50.144494,
          50.144574,
          50.169176,
          50.222447,
          50.24049,
          50.273497,
          50.31038,
          50.343113,
          50.343119
         ],
         "line": {
          "color": "rgb(150, 105, 0)",
          "width": 2
         },
         "lon": [
          4.512576,
          4.515086,
          4.535134,
          4.53536,
          4.535389,
          4.508096,
          4.516064,
          4.5391,
          4.514058,
          4.505071,
          4.505143,
          4.494177,
          4.504324,
          4.504335,
          4.504337,
          4.50434,
          4.504315,
          4.522436,
          4.512206,
          4.51344,
          4.503391,
          4.47995,
          4.473438,
          4.473432
         ],
         "marker": {
          "color": "rgb(150, 105, 0)",
          "size": 10
         },
         "mode": "lines+markers",
         "type": "scattermapbox"
        },
        {
         "lat": [
          51.794482,
          51.794502,
          51.794507,
          51.794502,
          51.794508,
          51.794504,
          51.794497,
          51.794503,
          51.794526,
          51.794527,
          51.794527,
          51.794532,
          51.794509,
          51.794483,
          51.794494,
          51.794501,
          51.794501,
          51.794501,
          51.794502,
          51.794501,
          51.7945,
          51.7945,
          51.794497
         ],
         "line": {
          "color": "rgb(200, 55, 0)",
          "width": 2
         },
         "lon": [
          4.61748,
          4.61759,
          4.61752,
          4.617509,
          4.617485,
          4.617491,
          4.617498,
          4.617488,
          4.617484,
          4.617483,
          4.617483,
          4.617505,
          4.617488,
          4.61753,
          4.617482,
          4.617493,
          4.617493,
          4.617493,
          4.617503,
          4.617489,
          4.61749,
          4.617493,
          4.617497
         ],
         "marker": {
          "color": "rgb(200, 55, 0)",
          "size": 10
         },
         "mode": "lines+markers",
         "type": "scattermapbox"
        },
        {
         "lat": [
          51.7945,
          51.79449,
          51.794519,
          51.794496,
          51.794496,
          51.794496,
          51.794492,
          51.794492,
          51.794474,
          51.794492,
          51.7945,
          51.7945,
          51.794487,
          51.794489,
          51.794492,
          51.794488,
          51.794488,
          51.793708
         ],
         "line": {
          "color": "rgb(0, 255, 0)",
          "width": 2
         },
         "lon": [
          4.61748,
          4.617487,
          4.617495,
          4.617516,
          4.617516,
          4.617516,
          4.617491,
          4.617491,
          4.617512,
          4.617495,
          4.61751,
          4.61751,
          4.617508,
          4.617496,
          4.617509,
          4.617486,
          4.617486,
          4.617031
         ],
         "marker": {
          "color": "rgb(0, 255, 0)",
          "size": 10
         },
         "mode": "lines+markers",
         "type": "scattermapbox"
        },
        {
         "lat": [
          51.793658,
          51.792017,
          51.781696,
          51.772465,
          51.772509,
          51.772542,
          51.772462,
          51.772461,
          51.745633,
          51.691747,
          51.65952,
          51.653667,
          51.610754,
          51.557431,
          51.508395,
          51.507241,
          51.499844,
          51.442377,
          51.399174,
          51.376386,
          51.376297,
          51.299798,
          51.308715,
          51.308804,
          51.28584,
          51.284985
         ],
         "line": {
          "color": "rgb(50, 205, 0)",
          "width": 2
         },
         "lon": [
          4.616997,
          4.616952,
          4.605576,
          4.638305,
          4.638206,
          4.638358,
          4.645852,
          4.64599,
          4.63819,
          4.639589,
          4.579373,
          4.571199,
          4.502579,
          4.457187,
          4.402689,
          4.362714,
          4.313716,
          4.312832,
          4.287171,
          4.304203,
          4.304285,
          4.335946,
          4.326294,
          4.326168,
          4.35073,
          4.347904
         ],
         "marker": {
          "color": "rgb(50, 205, 0)",
          "size": 10
         },
         "mode": "lines+markers",
         "type": "scattermapbox"
        },
        {
         "lat": [
          51.284986,
          51.284986,
          51.284986,
          51.284986,
          51.284985,
          51.287159,
          51.287171,
          51.28735,
          51.287371,
          51.284954,
          51.285757,
          51.285836,
          51.285837,
          51.317019,
          51.317002,
          51.365194,
          51.365194,
          51.365194,
          51.365194,
          51.365123,
          51.365123,
          51.358078,
          51.35804,
          51.357855,
          51.357176,
          51.357183,
          51.357183,
          51.357189,
          51.357191,
          51.357192,
          51.357194,
          51.357189,
          51.357189,
          51.3572,
          51.3572,
          51.3572,
          51.3572,
          51.357191,
          51.356977,
          51.35694,
          51.356898,
          51.356835,
          51.356417,
          51.356525,
          51.356415,
          51.356386,
          51.35749,
          51.357475,
          51.357444,
          51.357444
         ],
         "line": {
          "color": "rgb(100, 155, 0)",
          "width": 2
         },
         "lon": [
          4.347919,
          4.347919,
          4.347919,
          4.347919,
          4.347918,
          4.346162,
          4.346081,
          4.345966,
          4.345957,
          4.349022,
          4.350594,
          4.350709,
          4.350711,
          4.346014,
          4.345924,
          4.252562,
          4.252562,
          4.252562,
          4.252577,
          4.252684,
          4.252684,
          4.257488,
          4.257456,
          4.257241,
          4.256104,
          4.256123,
          4.256133,
          4.256158,
          4.256161,
          4.256161,
          4.256158,
          4.25617,
          4.25617,
          4.25616,
          4.25616,
          4.25616,
          4.25616,
          4.256023,
          4.25564,
          4.255614,
          4.255574,
          4.255508,
          4.255324,
          4.255318,
          4.255325,
          4.255352,
          4.258909,
          4.258898,
          4.258865,
          4.258868
         ],
         "marker": {
          "color": "rgb(100, 155, 0)",
          "size": 10
         },
         "mode": "lines+markers",
         "type": "scattermapbox"
        },
        {
         "lat": [
          51.357445,
          51.357445,
          51.357444,
          51.357444,
          51.357444,
          51.357444,
          51.357918,
          51.357923,
          51.35788,
          51.35788,
          51.35788,
          51.35788,
          51.357663
         ],
         "line": {
          "color": "rgb(150, 105, 0)",
          "width": 2
         },
         "lon": [
          4.258864,
          4.258864,
          4.258877,
          4.258877,
          4.258877,
          4.258877,
          4.258948,
          4.258902,
          4.259069,
          4.259069,
          4.259069,
          4.259069,
          4.259554
         ],
         "marker": {
          "color": "rgb(150, 105, 0)",
          "size": 10
         },
         "mode": "lines+markers",
         "type": "scattermapbox"
        },
        {
         "lat": [
          52.214028,
          52.214028,
          52.214031,
          52.214031,
          52.214013,
          52.214013,
          52.214009,
          52.214042,
          52.214031,
          52.214038,
          52.213987,
          52.212607,
          52.212613,
          52.210342,
          52.21023,
          52.210839,
          52.216923,
          52.216856,
          52.218956,
          52.218861,
          52.231423,
          52.252214,
          52.265422,
          52.311688,
          52.357455,
          52.40115,
          52.416554,
          52.423365,
          52.428138,
          52.42688,
          52.412643,
          52.406471,
          52.392418,
          52.377982
         ],
         "line": {
          "color": "rgb(200, 55, 0)",
          "width": 2
         },
         "lon": [
          8.87805,
          8.87805,
          8.878055,
          8.878055,
          8.878098,
          8.878098,
          8.878108,
          8.878087,
          8.878055,
          8.877835,
          8.877804,
          8.876398,
          8.87628,
          8.875316,
          8.875286,
          8.881478,
          8.969863,
          8.976507,
          9.057101,
          9.153091,
          9.240244,
          9.297864,
          9.316701,
          9.379216,
          9.431407,
          9.49582,
          9.523862,
          9.58238,
          9.670577,
          9.768564,
          9.847153,
          9.860089,
          9.939763,
          10.035762
         ],
         "marker": {
          "color": "rgb(200, 55, 0)",
          "size": 10
         },
         "mode": "lines+markers",
         "type": "scattermapbox"
        },
        {
         "lat": [
          52.362943,
          52.351074,
          52.340581,
          52.337765,
          52.335143,
          52.325312,
          52.325289,
          52.323692,
          52.323716,
          52.323672,
          52.313761,
          52.313196,
          52.309746,
          52.308094,
          52.311173,
          52.290784
         ],
         "line": {
          "color": "rgb(0, 255, 0)",
          "width": 2
         },
         "lon": [
          10.131937,
          10.19866,
          10.222299,
          10.320692,
          10.419567,
          10.471516,
          10.471595,
          10.478282,
          10.478188,
          10.47838,
          10.521809,
          10.538735,
          10.619518,
          10.717834,
          10.814098,
          10.883354
         ],
         "marker": {
          "color": "rgb(0, 255, 0)",
          "size": 10
         },
         "mode": "lines+markers",
         "type": "scattermapbox"
        },
        {
         "lat": [
          53.719125,
          53.719117,
          53.719117,
          53.719107,
          53.71913,
          53.71913,
          53.718692,
          53.718748,
          53.717692,
          53.717602,
          53.717205,
          53.759925,
          53.812796,
          53.847394,
          53.851751,
          53.895109,
          53.933635,
          53.929554,
          53.911825,
          53.912101,
          53.918942,
          53.908062,
          53.909462,
          53.909542,
          53.907055,
          53.907042,
          53.907054,
          53.907524,
          53.907471,
          53.907611,
          53.907521,
          53.907612
         ],
         "line": {
          "color": "rgb(50, 205, 0)",
          "width": 2
         },
         "lon": [
          9.760522,
          9.760601,
          9.760602,
          9.760621,
          9.760527,
          9.760527,
          9.759228,
          9.759157,
          9.757171,
          9.757082,
          9.757651,
          9.708332,
          9.664795,
          9.591672,
          9.584286,
          9.516479,
          9.480586,
          9.40834,
          9.332669,
          9.330426,
          9.238171,
          9.186106,
          9.180319,
          9.180135,
          9.172561,
          9.17252,
          9.172563,
          9.173882,
          9.174022,
          9.174286,
          9.173885,
          9.174286
         ],
         "marker": {
          "color": "rgb(50, 205, 0)",
          "size": 10
         },
         "mode": "lines+markers",
         "type": "scattermapbox"
        },
        {
         "lat": [
          53.907612,
          53.907616,
          53.907624,
          53.907584,
          53.907584,
          53.9076,
          53.9076,
          53.907614,
          53.905581,
          53.905624,
          53.905578,
          53.905578,
          53.905602,
          53.905509,
          53.905509,
          53.905533,
          53.905533
         ],
         "line": {
          "color": "rgb(100, 155, 0)",
          "width": 2
         },
         "lon": [
          9.174286,
          9.174295,
          9.174269,
          9.17428,
          9.17428,
          9.17427,
          9.17427,
          9.174275,
          9.169657,
          9.169736,
          9.169652,
          9.169651,
          9.169658,
          9.169614,
          9.169614,
          9.169655,
          9.169655
         ],
         "marker": {
          "color": "rgb(100, 155, 0)",
          "size": 10
         },
         "mode": "lines+markers",
         "type": "scattermapbox"
        },
        {
         "lat": [
          51.488407,
          51.488407,
          51.488407,
          51.488407,
          51.488407,
          51.4884,
          51.488407,
          51.488389,
          51.488387,
          51.488391,
          51.488387,
          51.48838,
          51.48838,
          51.487432,
          51.487396,
          51.487289,
          51.487262,
          51.487088,
          51.451834,
          51.39365,
          51.396293,
          51.347489,
          51.30772,
          51.277859,
          51.257773,
          51.255868,
          51.226299,
          51.226281,
          51.226279,
          51.226216,
          51.22392
         ],
         "line": {
          "color": "rgb(150, 105, 0)",
          "width": 2
         },
         "lon": [
          4.740862,
          4.740862,
          4.740862,
          4.740862,
          4.740862,
          4.74086,
          4.740862,
          4.74087,
          4.740836,
          4.740879,
          4.740836,
          4.740821,
          4.740821,
          4.738005,
          4.737877,
          4.737532,
          4.737452,
          4.736555,
          4.720617,
          4.678793,
          4.682406,
          4.623038,
          4.554179,
          4.506157,
          4.428562,
          4.427367,
          4.446134,
          4.446156,
          4.446158,
          4.446237,
          4.448863
         ],
         "marker": {
          "color": "rgb(150, 105, 0)",
          "size": 10
         },
         "mode": "lines+markers",
         "type": "scattermapbox"
        },
        {
         "lat": [
          51.222669,
          51.222622,
          51.22261,
          51.222587,
          51.222582,
          51.222512,
          51.220291,
          51.220232,
          51.220021,
          51.219996,
          51.219978,
          51.219915,
          51.218704,
          51.218624,
          51.219191
         ],
         "line": {
          "color": "rgb(200, 55, 0)",
          "width": 2
         },
         "lon": [
          4.449844,
          4.449876,
          4.449887,
          4.449898,
          4.449901,
          4.449945,
          4.450795,
          4.450805,
          4.450832,
          4.450832,
          4.450833,
          4.45084,
          4.450814,
          4.450798,
          4.450852
         ],
         "marker": {
          "color": "rgb(200, 55, 0)",
          "size": 10
         },
         "mode": "lines+markers",
         "type": "scattermapbox"
        },
        {
         "lat": [
          51.217344
         ],
         "line": {
          "color": "rgb(0, 255, 0)",
          "width": 2
         },
         "lon": [
          4.450452
         ],
         "marker": {
          "color": "rgb(0, 255, 0)",
          "size": 10
         },
         "mode": "lines+markers",
         "type": "scattermapbox"
        },
        {
         "lat": [
          51.212635,
          51.209366
         ],
         "line": {
          "color": "rgb(50, 205, 0)",
          "width": 2
         },
         "lon": [
          4.446765,
          4.44379
         ],
         "marker": {
          "color": "rgb(50, 205, 0)",
          "size": 10
         },
         "mode": "lines+markers",
         "type": "scattermapbox"
        },
        {
         "lat": [
          49.413962,
          49.413995,
          49.413995,
          49.413997,
          49.414022,
          49.414,
          49.414
         ],
         "line": {
          "color": "rgb(100, 155, 0)",
          "width": 2
         },
         "lon": [
          2.693437,
          2.693458,
          2.693458,
          2.693457,
          2.693452,
          2.69346,
          2.69346
         ],
         "marker": {
          "color": "rgb(100, 155, 0)",
          "size": 10
         },
         "mode": "lines+markers",
         "type": "scattermapbox"
        },
        {
         "lat": [
          49.394442
         ],
         "line": {
          "color": "rgb(150, 105, 0)",
          "width": 2
         },
         "lon": [
          2.698123
         ],
         "marker": {
          "color": "rgb(150, 105, 0)",
          "size": 10
         },
         "mode": "lines+markers",
         "type": "scattermapbox"
        },
        {
         "lat": [
          49.35988,
          49.334537,
          49.278641,
          49.226665,
          49.188889,
          49.16913,
          49.136075,
          49.077745,
          49.018553,
          48.973655,
          48.970449,
          48.913177,
          48.875035,
          48.843519,
          48.816996,
          48.813432,
          48.7802,
          48.72904,
          48.705928,
          48.660079,
          48.667402,
          48.623583,
          48.59769,
          48.565371,
          48.554067,
          48.554032,
          48.547549,
          48.544078,
          48.483938,
          48.423423,
          48.363659,
          48.33708,
          48.303943,
          48.243331,
          48.182425,
          48.121668,
          48.12126,
          48.060305,
          47.99994,
          47.940308,
          47.908059,
          47.900498
         ],
         "line": {
          "color": "rgb(200, 55, 0)",
          "width": 2
         },
         "lon": [
          2.703005,
          2.693453,
          2.695809,
          2.649583,
          2.603719,
          2.599235,
          2.565061,
          2.551572,
          2.532718,
          2.487134,
          2.482313,
          2.476676,
          2.439493,
          2.413788,
          2.365196,
          2.354469,
          2.346224,
          2.305859,
          2.249873,
          2.185071,
          2.19176,
          2.135725,
          2.05426,
          1.976543,
          1.930166,
          1.92998,
          1.913441,
          1.907822,
          1.912788,
          1.900485,
          1.880227,
          1.866874,
          1.86165,
          1.851179,
          1.853988,
          1.851302,
          1.851243,
          1.844744,
          1.851214,
          1.848263,
          1.849474,
          1.813299
         ],
         "marker": {
          "color": "rgb(200, 55, 0)",
          "size": 10
         },
         "mode": "lines+markers",
         "type": "scattermapbox"
        },
        {
         "lat": [
          45.173921,
          45.173921,
          45.173921,
          45.173914,
          45.173921
         ],
         "line": {
          "color": "rgb(0, 255, 0)",
          "width": 2
         },
         "lon": [
          -0.335943,
          -0.335943,
          -0.335943,
          -0.335962,
          -0.335953
         ],
         "marker": {
          "color": "rgb(0, 255, 0)",
          "size": 10
         },
         "mode": "lines+markers",
         "type": "scattermapbox"
        },
        {
         "lat": [
          45.173926,
          45.173907,
          45.173902,
          45.173914,
          45.173917,
          45.173916,
          45.173909,
          45.173909,
          45.173913,
          45.173938,
          45.17393,
          45.173944,
          45.173944,
          45.173944,
          45.17393,
          45.173914,
          45.173893,
          45.173909,
          45.173909,
          45.1736,
          45.173916,
          45.17389,
          45.173935,
          45.173935,
          45.173936,
          45.173932,
          45.173909,
          45.173909,
          45.173904,
          45.152342,
          45.094087,
          44.982728,
          45.020909,
          45.038731,
          44.932731,
          44.885316,
          44.828923,
          44.830772,
          44.78766,
          44.778545,
          44.778566,
          44.778669,
          44.790214
         ],
         "line": {
          "color": "rgb(50, 205, 0)",
          "width": 2
         },
         "lon": [
          -0.335955,
          -0.335951,
          -0.335967,
          -0.335986,
          -0.335932,
          -0.335957,
          -0.335946,
          -0.335946,
          -0.335961,
          -0.335963,
          -0.335916,
          -0.335932,
          -0.335932,
          -0.335932,
          -0.33591,
          -0.335948,
          -0.335947,
          -0.335951,
          -0.335951,
          -0.335656,
          -0.335933,
          -0.335924,
          -0.335972,
          -0.335972,
          -0.335971,
          -0.33596,
          -0.335875,
          -0.335875,
          -0.335937,
          -0.360563,
          -0.380997,
          -0.428918,
          -0.425401,
          -0.41448,
          -0.468205,
          -0.512074,
          -0.503378,
          -0.501548,
          -0.541342,
          -0.566887,
          -0.567021,
          -0.567604,
          -0.608986
         ],
         "marker": {
          "color": "rgb(50, 205, 0)",
          "size": 10
         },
         "mode": "lines+markers",
         "type": "scattermapbox"
        },
        {
         "lat": [
          44.769169,
          44.728505,
          44.728214,
          44.683456,
          44.640743,
          44.583633,
          44.546888,
          44.523969,
          44.466653,
          44.407506,
          44.353343,
          44.345079,
          44.305785,
          44.246338,
          44.190501,
          44.145322,
          44.136664,
          44.078347,
          44.019005,
          43.968668,
          43.949013,
          43.921116,
          43.870022,
          43.825744,
          43.770166,
          43.76978
         ],
         "line": {
          "color": "rgb(100, 155, 0)",
          "width": 2
         },
         "lon": [
          -0.664973,
          -0.728805,
          -0.729212,
          -0.785578,
          -0.841536,
          -0.837986,
          -0.83332,
          -0.837895,
          -0.819439,
          -0.818658,
          -0.856403,
          -0.861844,
          -0.883514,
          -0.905776,
          -0.937619,
          -0.969297,
          -0.977208,
          -1.004122,
          -1.016866,
          -1.064321,
          -1.075416,
          -1.113559,
          -1.146409,
          -1.186864,
          -1.219245,
          -1.219433
         ],
         "marker": {
          "color": "rgb(100, 155, 0)",
          "size": 10
         },
         "mode": "lines+markers",
         "type": "scattermapbox"
        },
        {
         "lat": [
          41.2597,
          41.2597,
          41.259686,
          41.259683,
          41.259681,
          41.259681,
          41.259733,
          41.259713,
          41.258999,
          41.221286,
          41.172694,
          41.137404,
          41.080631,
          41.070302,
          41.022597,
          40.969839,
          40.924152,
          40.876647,
          40.870884,
          40.819386,
          40.767923
         ],
         "line": {
          "color": "rgb(150, 105, 0)",
          "width": 2
         },
         "lon": [
          -3.59598,
          -3.59598,
          -3.59598,
          -3.595988,
          -3.596,
          -3.596,
          -3.596222,
          -3.596207,
          -3.595774,
          -3.586248,
          -3.582601,
          -3.582246,
          -3.599489,
          -3.606199,
          -3.625425,
          -3.640557,
          -3.618784,
          -3.600132,
          -3.604606,
          -3.615622,
          -3.605816
         ],
         "marker": {
          "color": "rgb(150, 105, 0)",
          "size": 10
         },
         "mode": "lines+markers",
         "type": "scattermapbox"
        },
        {
         "lat": [
          40.721999,
          40.687114,
          40.670872,
          40.625633,
          40.582658,
          40.583687,
          40.583706,
          40.584611,
          40.558731,
          40.543091,
          40.53931,
          40.538254,
          40.5378,
          40.537779,
          40.537749,
          40.537727,
          40.537397,
          40.537366,
          40.537347,
          40.537351,
          40.537349,
          40.537349,
          40.537349,
          40.537184,
          40.5374,
          40.5374,
          40.5374,
          40.5374,
          40.5374
         ],
         "line": {
          "color": "rgb(200, 55, 0)",
          "width": 2
         },
         "lon": [
          -3.577641,
          -3.607146,
          -3.610603,
          -3.586919,
          -3.580744,
          -3.566294,
          -3.566215,
          -3.560252,
          -3.514991,
          -3.472765,
          -3.470311,
          -3.440658,
          -3.437963,
          -3.437925,
          -3.43792,
          -3.437932,
          -3.438082,
          -3.438088,
          -3.438101,
          -3.438093,
          -3.438092,
          -3.438092,
          -3.438092,
          -3.437919,
          -3.43809,
          -3.43809,
          -3.43809,
          -3.43809,
          -3.43809
         ],
         "marker": {
          "color": "rgb(200, 55, 0)",
          "size": 10
         },
         "mode": "lines+markers",
         "type": "scattermapbox"
        },
        {
         "lat": [
          42.24666,
          42.24666,
          42.246656,
          42.246656,
          42.246623,
          42.246623,
          42.256163,
          42.302106,
          42.329927,
          42.349333,
          42.36589,
          42.407612,
          42.446838,
          42.481418,
          42.483994,
          42.508538,
          42.545628,
          42.58956,
          42.620689,
          42.622697,
          42.638148
         ],
         "line": {
          "color": "rgb(0, 255, 0)",
          "width": 2
         },
         "lon": [
          -3.703113,
          -3.703113,
          -3.703116,
          -3.703116,
          -3.70309,
          -3.70309,
          -3.699629,
          -3.702884,
          -3.648743,
          -3.603209,
          -3.59016,
          -3.539111,
          -3.483877,
          -3.418668,
          -3.39899,
          -3.347318,
          -3.290589,
          -3.23455,
          -3.181314,
          -3.166114,
          -3.103943
         ],
         "marker": {
          "color": "rgb(0, 255, 0)",
          "size": 10
         },
         "mode": "lines+markers",
         "type": "scattermapbox"
        },
        {
         "lat": [
          42.658133,
          42.695522,
          42.704729,
          42.705907,
          42.741104,
          42.7834,
          42.824939,
          42.832216,
          42.872195,
          42.879477,
          42.879555,
          42.898279,
          42.922676,
          42.965784,
          42.9656,
          43.012769,
          43.049057,
          43.088529,
          43.103394,
          43.101465,
          43.0892,
          43.065742,
          43.050189,
          43.063796,
          43.059507,
          43.094332,
          43.130542,
          43.181831,
          43.223942
         ],
         "line": {
          "color": "rgb(50, 205, 0)",
          "width": 2
         },
         "lon": [
          -3.045311,
          -2.981813,
          -2.934872,
          -2.902517,
          -2.864741,
          -2.82344,
          -2.766758,
          -2.755343,
          -2.719378,
          -2.694239,
          -2.694331,
          -2.705546,
          -2.657015,
          -2.607585,
          -2.60772,
          -2.55378,
          -2.495134,
          -2.434754,
          -2.395977,
          -2.392361,
          -2.35496,
          -2.282606,
          -2.221797,
          -2.167879,
          -2.170998,
          -2.116862,
          -2.072506,
          -2.051897,
          -2.025627
         ],
         "marker": {
          "color": "rgb(50, 205, 0)",
          "size": 10
         },
         "mode": "lines+markers",
         "type": "scattermapbox"
        },
        {
         "lat": [
          46.769038,
          46.769038,
          46.769038,
          46.769038,
          46.768982,
          46.769048,
          46.769048,
          46.770342,
          46.81972,
          46.857834,
          46.910631,
          46.928502,
          46.965276,
          47.020268,
          47.073781,
          47.113823,
          47.114957,
          47.11505,
          47.115219
         ],
         "line": {
          "color": "blue",
          "width": 2
         },
         "lon": [
          -1.177974,
          -1.177974,
          -1.177974,
          -1.177974,
          -1.177981,
          -1.177936,
          -1.177936,
          -1.179616,
          -1.216866,
          -1.280692,
          -1.321293,
          -1.336559,
          -1.359566,
          -1.396739,
          -1.438754,
          -1.490637,
          -1.491514,
          -1.491563,
          -1.491726
         ],
         "marker": {
          "color": "blue",
          "size": 10
         },
         "mode": "lines+markers",
         "type": "scattermapbox"
        },
        {
         "lat": [
          47.166989,
          47.213263,
          47.252444,
          47.26164,
          47.262332,
          47.262377
         ],
         "line": {
          "color": "rgb(150, 105, 0)",
          "width": 2
         },
         "lon": [
          -1.512761,
          -1.482422,
          -1.51324,
          -1.564973,
          -1.566438,
          -1.566548
         ],
         "marker": {
          "color": "rgb(150, 105, 0)",
          "size": 10
         },
         "mode": "lines+markers",
         "type": "scattermapbox"
        },
        {
         "lat": [
          47.263813,
          47.279694,
          47.329353,
          47.38637,
          47.446697
         ],
         "line": {
          "color": "rgb(200, 55, 0)",
          "width": 2
         },
         "lon": [
          -1.578461,
          -1.601541,
          -1.649615,
          -1.643534,
          -1.641153
         ],
         "marker": {
          "color": "rgb(200, 55, 0)",
          "size": 10
         },
         "mode": "lines+markers",
         "type": "scattermapbox"
        },
        {
         "lat": [
          47.455853,
          47.507678,
          47.567441,
          47.625821,
          47.660637,
          47.676544,
          47.733448
         ],
         "line": {
          "color": "rgb(0, 255, 0)",
          "width": 2
         },
         "lon": [
          -1.640318,
          -1.639007,
          -1.633893,
          -1.643178,
          -1.678741,
          -1.691684,
          -1.712579
         ],
         "marker": {
          "color": "rgb(0, 255, 0)",
          "size": 10
         },
         "mode": "lines+markers",
         "type": "scattermapbox"
        },
        {
         "lat": [
          47.790206,
          47.847539,
          47.867517,
          47.904709,
          47.951595,
          48.001756,
          48.062301,
          48.078202
         ],
         "line": {
          "color": "rgb(50, 205, 0)",
          "width": 2
         },
         "lon": [
          -1.694339,
          -1.695813,
          -1.690801,
          -1.685065,
          -1.679252,
          -1.692824,
          -1.678528,
          -1.674666
         ],
         "marker": {
          "color": "rgb(50, 205, 0)",
          "size": 10
         },
         "mode": "lines+markers",
         "type": "scattermapbox"
        },
        {
         "lat": [
          48.093086
         ],
         "line": {
          "color": "rgb(100, 155, 0)",
          "width": 2
         },
         "lon": [
          -1.708406
         ],
         "marker": {
          "color": "rgb(100, 155, 0)",
          "size": 10
         },
         "mode": "lines+markers",
         "type": "scattermapbox"
        },
        {
         "lat": [
          48.129833,
          48.159486,
          48.172641
         ],
         "line": {
          "color": "rgb(150, 105, 0)",
          "width": 2
         },
         "lon": [
          -1.753207,
          -1.831351,
          -1.915434
         ],
         "marker": {
          "color": "rgb(150, 105, 0)",
          "size": 10
         },
         "mode": "lines+markers",
         "type": "scattermapbox"
        },
        {
         "lat": [
          48.178014
         ],
         "line": {
          "color": "rgb(200, 55, 0)",
          "width": 2
         },
         "lon": [
          -1.924901
         ],
         "marker": {
          "color": "rgb(200, 55, 0)",
          "size": 10
         },
         "mode": "lines+markers",
         "type": "scattermapbox"
        },
        {
         "lat": [
          46.572933,
          46.572933,
          46.572933,
          46.572933,
          46.572921,
          46.572888,
          46.572888,
          46.554199,
          46.544855,
          46.533424,
          46.533351,
          46.517805,
          46.478436,
          46.434885,
          46.384748,
          46.355096,
          46.330951,
          46.289229,
          46.243804,
          46.222726,
          46.186375
         ],
         "line": {
          "color": "rgb(0, 255, 0)",
          "width": 2
         },
         "lon": [
          -1.114762,
          -1.114762,
          -1.114762,
          -1.114762,
          -1.114773,
          -1.114738,
          -1.114738,
          -1.095521,
          -1.085777,
          -1.079339,
          -1.079259,
          -1.087381,
          -1.112024,
          -1.09909,
          -1.092617,
          -1.086265,
          -1.081524,
          -1.082764,
          -1.075374,
          -1.127021,
          -1.150871
         ],
         "marker": {
          "color": "rgb(0, 255, 0)",
          "size": 10
         },
         "mode": "lines+markers",
         "type": "scattermapbox"
        },
        {
         "lat": [
          46.183399,
          46.183226,
          46.179131,
          46.165358,
          46.16162,
          46.161559
         ],
         "line": {
          "color": "rgb(50, 205, 0)",
          "width": 2
         },
         "lon": [
          -1.152481,
          -1.152525,
          -1.156028,
          -1.193897,
          -1.205043,
          -1.204935
         ],
         "marker": {
          "color": "rgb(50, 205, 0)",
          "size": 10
         },
         "mode": "lines+markers",
         "type": "scattermapbox"
        },
        {
         "lat": [
          46.161434,
          46.161439,
          46.161564
         ],
         "line": {
          "color": "rgb(100, 155, 0)",
          "width": 2
         },
         "lon": [
          -1.203086,
          -1.203073,
          -1.204978
         ],
         "marker": {
          "color": "rgb(100, 155, 0)",
          "size": 10
         },
         "mode": "lines+markers",
         "type": "scattermapbox"
        },
        {
         "lat": [
          46.176444,
          46.173519,
          46.169943,
          46.169913,
          46.168634
         ],
         "line": {
          "color": "rgb(150, 105, 0)",
          "width": 2
         },
         "lon": [
          -1.166139,
          -1.198935,
          -1.206427,
          -1.206529,
          -1.212702
         ],
         "marker": {
          "color": "rgb(150, 105, 0)",
          "size": 10
         },
         "mode": "lines+markers",
         "type": "scattermapbox"
        },
        {
         "lat": [
          46.160526,
          46.160675,
          46.160602,
          46.160653,
          46.160666,
          46.160653,
          46.160653,
          46.160672,
          46.160651,
          46.160689,
          46.160689,
          46.160684,
          46.160684
         ],
         "line": {
          "color": "rgb(200, 55, 0)",
          "width": 2
         },
         "lon": [
          -1.203278,
          -1.204624,
          -1.204543,
          -1.204596,
          -1.204616,
          -1.204606,
          -1.204606,
          -1.204629,
          -1.204624,
          -1.204644,
          -1.204644,
          -1.204633,
          -1.204633
         ],
         "marker": {
          "color": "rgb(200, 55, 0)",
          "size": 10
         },
         "mode": "lines+markers",
         "type": "scattermapbox"
        },
        {
         "lat": [
          49.07353,
          49.07353,
          49.073529,
          49.0735,
          49.073526,
          49.073526,
          49.07351,
          49.073553,
          49.073553,
          49.073545,
          49.073546,
          49.073525,
          49.073549,
          49.073549,
          49.073544,
          49.073531,
          49.073533,
          49.073542,
          49.073547,
          49.073525,
          49.073521,
          49.073528
         ],
         "line": {
          "color": "rgb(0, 255, 0)",
          "width": 2
         },
         "lon": [
          2.553128,
          2.553128,
          2.553127,
          2.55312,
          2.553129,
          2.553129,
          2.553126,
          2.553136,
          2.553136,
          2.553113,
          2.553111,
          2.55314,
          2.553135,
          2.553135,
          2.553151,
          2.553157,
          2.553147,
          2.553142,
          2.55314,
          2.553138,
          2.553135,
          2.553113
         ],
         "marker": {
          "color": "rgb(0, 255, 0)",
          "size": 10
         },
         "mode": "lines+markers",
         "type": "scattermapbox"
        },
        {
         "lat": [
          49.073528,
          49.073528,
          49.073516,
          49.073516,
          49.073518,
          49.0736,
          49.07355
         ],
         "line": {
          "color": "rgb(50, 205, 0)",
          "width": 2
         },
         "lon": [
          2.553113,
          2.553113,
          2.553123,
          2.553123,
          2.553116,
          2.55309,
          2.553154
         ],
         "marker": {
          "color": "rgb(50, 205, 0)",
          "size": 10
         },
         "mode": "lines+markers",
         "type": "scattermapbox"
        },
        {
         "lat": [
          49.073544,
          49.073544,
          49.073543,
          49.073563,
          49.073563,
          49.073564,
          49.073552,
          49.073534,
          49.07353,
          49.073558,
          49.073513,
          49.073513,
          49.073533,
          49.073543,
          49.07355,
          49.07357,
          49.073532,
          49.073542,
          49.073545,
          49.073531,
          49.073541,
          49.073541,
          49.073541,
          49.073541,
          49.073539,
          49.0736,
          49.073546,
          49.073567,
          49.073567,
          49.073549,
          49.073549,
          49.073534,
          49.0735,
          49.0735,
          49.073549,
          49.073549,
          49.073549,
          49.073654,
          49.073654,
          49.073654,
          49.073654,
          49.073643,
          49.0735,
          49.073534,
          49.073529,
          49.07352,
          49.073552,
          49.073552,
          49.073977,
          49.074109
         ],
         "line": {
          "color": "rgb(100, 155, 0)",
          "width": 2
         },
         "lon": [
          2.553138,
          2.553138,
          2.553148,
          2.553089,
          2.553089,
          2.553099,
          2.553116,
          2.553122,
          2.553123,
          2.553146,
          2.553121,
          2.553135,
          2.553115,
          2.553136,
          2.553144,
          2.553139,
          2.553131,
          2.55314,
          2.55315,
          2.553157,
          2.553131,
          2.553131,
          2.553131,
          2.553131,
          2.553137,
          2.55316,
          2.553158,
          2.553131,
          2.553131,
          2.553143,
          2.553143,
          2.553153,
          2.55314,
          2.55314,
          2.553124,
          2.553124,
          2.553124,
          2.553232,
          2.553232,
          2.553232,
          2.553232,
          2.553215,
          2.5531,
          2.553138,
          2.553147,
          2.553128,
          2.553032,
          2.553032,
          2.552483,
          2.552402
         ],
         "marker": {
          "color": "rgb(100, 155, 0)",
          "size": 10
         },
         "mode": "lines+markers",
         "type": "scattermapbox"
        },
        {
         "lat": [
          49.082054,
          49.139674,
          49.191298,
          49.225884,
          49.229253,
          49.281984
         ],
         "line": {
          "color": "blue",
          "width": 2
         },
         "lon": [
          2.551547,
          2.570049,
          2.603448,
          2.648801,
          2.653289,
          2.695151
         ],
         "marker": {
          "color": "blue",
          "size": 10
         },
         "mode": "lines+markers",
         "type": "scattermapbox"
        },
        {
         "lat": [
          49.342096,
          49.582525,
          49.522679,
          49.462545,
          49.430003,
          49.402069,
          49.622973,
          49.622956,
          49.622956,
          49.622963,
          49.622963,
          49.622956,
          49.623
         ],
         "line": {
          "color": "rgb(200, 55, 0)",
          "width": 2
         },
         "lon": [
          2.697228,
          2.746142,
          2.721497,
          2.705461,
          2.69561,
          2.695663,
          2.756292,
          2.756267,
          2.756252,
          2.756255,
          2.756259,
          2.756252,
          2.75626
         ],
         "marker": {
          "color": "rgb(200, 55, 0)",
          "size": 10
         },
         "mode": "lines+markers",
         "type": "scattermapbox"
        },
        {
         "lat": [
          49.622963,
          49.622963,
          49.623079,
          49.623079,
          49.622984,
          49.622984,
          49.62296,
          49.642032,
          49.663117
         ],
         "line": {
          "color": "rgb(0, 255, 0)",
          "width": 2
         },
         "lon": [
          2.756261,
          2.756261,
          2.756355,
          2.756355,
          2.756268,
          2.756268,
          2.756266,
          2.759056,
          2.767319
         ],
         "marker": {
          "color": "rgb(0, 255, 0)",
          "size": 10
         },
         "mode": "lines+markers",
         "type": "scattermapbox"
        },
        {
         "lat": [
          49.723393,
          50.656,
          50.612793,
          50.603053,
          50.603011,
          50.601442,
          50.601739,
          50.598812,
          51.244834,
          51.244834,
          51.244834,
          51.244841,
          51.244859,
          51.244859,
          51.246958,
          51.247462,
          51.247462,
          51.247464,
          51.247464,
          51.247372,
          51.247372,
          51.247372,
          51.247372,
          51.247475,
          51.24582,
          51.245784,
          51.24569,
          51.24569,
          51.245605,
          51.247356,
          51.247366,
          51.247173,
          51.247511,
          51.247513,
          51.247514,
          51.247514,
          51.247515,
          51.247515,
          51.24751,
          51.24751,
          51.24751,
          51.24751,
          51.247523,
          51.247528,
          51.247528,
          51.247765,
          51.247767,
          51.249338,
          51.24934,
          51.249341
         ],
         "line": {
          "color": "rgb(50, 205, 0)",
          "width": 2
         },
         "lon": [
          2.778733,
          3.289875,
          3.319121,
          3.275825,
          3.275608,
          3.244142,
          3.204788,
          3.153705,
          4.333491,
          4.333491,
          4.333491,
          4.333518,
          4.333451,
          4.333451,
          4.310818,
          4.306681,
          4.30668,
          4.306681,
          4.306681,
          4.307046,
          4.307046,
          4.307046,
          4.307046,
          4.306687,
          4.306558,
          4.306481,
          4.306295,
          4.306296,
          4.306214,
          4.307079,
          4.306987,
          4.307632,
          4.306615,
          4.306605,
          4.306618,
          4.306618,
          4.306616,
          4.306616,
          4.306617,
          4.306617,
          4.306617,
          4.306618,
          4.306606,
          4.306535,
          4.306535,
          4.306485,
          4.306594,
          4.318701,
          4.318705,
          4.318889
         ],
         "marker": {
          "color": "rgb(50, 205, 0)",
          "size": 10
         },
         "mode": "lines+markers",
         "type": "scattermapbox"
        },
        {
         "lat": [
          51.249229,
          51.249146,
          51.249141,
          51.228879,
          51.218148,
          51.218031,
          51.217773,
          51.217714
         ],
         "line": {
          "color": "rgb(100, 155, 0)",
          "width": 2
         },
         "lon": [
          4.319753,
          4.320311,
          4.320526,
          4.32419,
          4.351339,
          4.351333,
          4.351344,
          4.351345
         ],
         "marker": {
          "color": "rgb(100, 155, 0)",
          "size": 10
         },
         "mode": "lines+markers",
         "type": "scattermapbox"
        },
        {
         "lat": [
          48.510793,
          48.510793,
          48.510799,
          48.510799,
          48.510799,
          48.510799,
          48.5109,
          48.510865,
          48.510865,
          48.510865,
          48.510865,
          48.510808,
          48.510809,
          48.510835,
          48.510835,
          48.510851,
          48.510849,
          48.510849,
          48.510842,
          48.510791,
          48.510784,
          48.510784,
          48.510784,
          48.510783,
          48.510832,
          48.5108,
          48.510812,
          48.510812,
          48.510792,
          48.510827,
          48.510827,
          48.510827,
          48.510829,
          48.510782,
          48.510782,
          48.504834,
          48.49586,
          48.453868,
          48.400802,
          48.344462,
          48.298758
         ],
         "line": {
          "color": "rgb(150, 105, 0)",
          "width": 2
         },
         "lon": [
          5.91254,
          5.91254,
          5.912534,
          5.912534,
          5.912534,
          5.912534,
          5.91257,
          5.912513,
          5.912513,
          5.912513,
          5.912513,
          5.912533,
          5.912531,
          5.912511,
          5.912511,
          5.912516,
          5.912542,
          5.912542,
          5.912535,
          5.912523,
          5.912494,
          5.912494,
          5.912494,
          5.912491,
          5.912449,
          5.912493,
          5.912476,
          5.912476,
          5.912496,
          5.912501,
          5.912501,
          5.912501,
          5.912521,
          5.9124,
          5.9124,
          5.911367,
          5.907178,
          5.86803,
          5.880502,
          5.853976,
          5.857546
         ],
         "marker": {
          "color": "rgb(150, 105, 0)",
          "size": 10
         },
         "mode": "lines+markers",
         "type": "scattermapbox"
        },
        {
         "lat": [
          48.283736,
          48.22641,
          48.193408,
          48.159816,
          48.144082,
          48.107584,
          48.066368,
          48.020478,
          47.974844,
          47.967724,
          47.957765,
          47.948424,
          47.919585,
          47.906266,
          47.874028,
          47.814489,
          47.76326,
          47.702712,
          47.704542,
          47.644478,
          47.589056,
          47.528636,
          47.49592,
          47.46892,
          47.412686,
          47.354867,
          47.295042,
          47.289977,
          47.248086,
          47.239575,
          47.183443,
          47.145844,
          47.127836,
          47.074984,
          47.025337,
          46.968454,
          46.957906,
          46.909364
         ],
         "line": {
          "color": "rgb(200, 55, 0)",
          "width": 2
         },
         "lon": [
          5.855206,
          5.853503,
          5.776083,
          5.700329,
          5.685846,
          5.653672,
          5.590489,
          5.53062,
          5.497118,
          5.488011,
          5.406273,
          5.317636,
          5.248383,
          5.222864,
          5.219394,
          5.223618,
          5.187853,
          5.186835,
          5.18706,
          5.179105,
          5.20909,
          5.198876,
          5.188759,
          5.185322,
          5.177168,
          5.16224,
          5.165412,
          5.159784,
          5.10819,
          5.024842,
          4.999255,
          4.988909,
          4.970008,
          4.924485,
          4.873,
          4.838756,
          4.834855,
          4.820195
         ],
         "marker": {
          "color": "rgb(200, 55, 0)",
          "size": 10
         },
         "mode": "lines+markers",
         "type": "scattermapbox"
        },
        {
         "lat": [
          45.681605,
          45.681605,
          45.68159,
          45.681582,
          45.681667,
          45.681667,
          45.688675,
          45.73738,
          45.744585,
          45.795375,
          45.831533,
          45.849552
         ],
         "line": {
          "color": "rgb(0, 255, 0)",
          "width": 2
         },
         "lon": [
          4.15587,
          4.15587,
          4.155864,
          4.155862,
          4.155854,
          4.155854,
          4.156207,
          4.182062,
          4.176728,
          4.133012,
          4.152828,
          4.221387
         ],
         "marker": {
          "color": "rgb(0, 255, 0)",
          "size": 10
         },
         "mode": "lines+markers",
         "type": "scattermapbox"
        },
        {
         "lat": [
          45.867151,
          45.869082,
          45.8613,
          45.888806,
          45.878702,
          45.876148,
          45.876148
         ],
         "line": {
          "color": "rgb(50, 205, 0)",
          "width": 2
         },
         "lon": [
          4.265229,
          4.280727,
          4.31959,
          4.408362,
          4.471747,
          4.529247,
          4.529247
         ],
         "marker": {
          "color": "rgb(50, 205, 0)",
          "size": 10
         },
         "mode": "lines+markers",
         "type": "scattermapbox"
        },
        {
         "lat": [
          45.875039,
          45.864482,
          45.830343,
          45.833922
         ],
         "line": {
          "color": "blue",
          "width": 2
         },
         "lon": [
          4.542856,
          4.625321,
          4.686136,
          4.746354
         ],
         "marker": {
          "color": "blue",
          "size": 10
         },
         "mode": "lines+markers",
         "type": "scattermapbox"
        },
        {
         "lat": [
          45.855746,
          45.873592,
          45.933074,
          45.972937,
          45.973013,
          45.975775,
          46.033449,
          46.062171,
          46.092233,
          46.149218,
          46.208669,
          46.270497,
          46.266757,
          46.323401
         ],
         "line": {
          "color": "rgb(150, 105, 0)",
          "width": 2
         },
         "lon": [
          4.742674,
          4.74038,
          4.728556,
          4.733295,
          4.73336,
          4.73447,
          4.725933,
          4.737855,
          4.744969,
          4.770365,
          4.783433,
          4.788454,
          4.789763,
          4.804091
         ],
         "marker": {
          "color": "rgb(150, 105, 0)",
          "size": 10
         },
         "mode": "lines+markers",
         "type": "scattermapbox"
        },
        {
         "lat": [
          46.374712,
          46.429775,
          46.471785,
          46.487405,
          46.543634,
          46.596746,
          46.648166,
          46.666824,
          46.707811,
          46.766779,
          46.82597,
          46.878872,
          46.885301
         ],
         "line": {
          "color": "rgb(200, 55, 0)",
          "width": 2
         },
         "lon": [
          4.842594,
          4.869105,
          4.883876,
          4.894249,
          4.917605,
          4.893167,
          4.859646,
          4.850992,
          4.841409,
          4.823506,
          4.831056,
          4.819009,
          4.82003
         ],
         "marker": {
          "color": "rgb(200, 55, 0)",
          "size": 10
         },
         "mode": "lines+markers",
         "type": "scattermapbox"
        },
        {
         "lat": [
          50.227748,
          50.227748,
          50.227748,
          50.227736,
          50.227753,
          50.227748,
          50.22776,
          50.227772,
          50.227772,
          50.227765,
          50.227732,
          50.227726,
          50.227726,
          50.250618,
          50.290098,
          50.325883,
          50.37096,
          50.371639,
          50.429835,
          50.487819,
          50.533545,
          50.56422,
          50.586189,
          50.599134,
          50.601682,
          50.603111,
          50.603133,
          50.614075,
          50.638655,
          50.662262,
          50.722763,
          50.774121,
          50.774432,
          50.774516,
          50.771317
         ],
         "line": {
          "color": "rgb(0, 255, 0)",
          "width": 2
         },
         "lon": [
          3.063589,
          3.063589,
          3.063589,
          3.063577,
          3.063625,
          3.0636,
          3.063591,
          3.063604,
          3.063604,
          3.063593,
          3.063585,
          3.063529,
          3.063529,
          3.018916,
          2.948,
          2.913287,
          2.970206,
          2.970746,
          2.981373,
          2.987622,
          3.048232,
          3.072031,
          3.093599,
          3.172158,
          3.261851,
          3.275617,
          3.275744,
          3.327732,
          3.304653,
          3.287604,
          3.295436,
          3.198495,
          3.261898,
          3.190539,
          3.198846
         ],
         "marker": {
          "color": "rgb(0, 255, 0)",
          "size": 10
         },
         "mode": "lines+markers",
         "type": "scattermapbox"
        },
        {
         "lat": [
          50.771586,
          50.771313,
          50.771313,
          50.771314,
          50.771318,
          50.771318,
          50.771291,
          50.771291,
          50.771318,
          50.772313,
          50.798519,
          50.800458,
          50.799667,
          50.799652,
          50.799582,
          50.7996,
          50.7996,
          50.799574,
          50.79958,
          50.799571,
          50.799571,
          50.799571,
          50.79958,
          50.799583,
          50.799559,
          50.799559,
          50.799559,
          50.799559,
          50.7996,
          50.7996,
          50.79961,
          50.79961,
          50.79961,
          50.79961,
          50.799588,
          50.799569,
          50.799572,
          50.799569,
          50.79957,
          50.799566,
          50.799575,
          50.799557,
          50.799557,
          50.799573,
          50.829091,
          50.791909,
          50.79953,
          50.79953,
          50.799559,
          50.799559
         ],
         "line": {
          "color": "rgb(50, 205, 0)",
          "width": 2
         },
         "lon": [
          3.199277,
          3.19884,
          3.19884,
          3.198833,
          3.19885,
          3.19885,
          3.198744,
          3.198744,
          3.19885,
          3.188174,
          3.249237,
          3.252012,
          3.250491,
          3.250492,
          3.250469,
          3.25045,
          3.25045,
          3.250442,
          3.250452,
          3.250435,
          3.250435,
          3.250435,
          3.250448,
          3.250454,
          3.250506,
          3.250506,
          3.250506,
          3.250506,
          3.25043,
          3.25043,
          3.250484,
          3.250484,
          3.250484,
          3.250484,
          3.250479,
          3.250455,
          3.250454,
          3.250441,
          3.250465,
          3.250482,
          3.250421,
          3.250394,
          3.250394,
          3.250403,
          3.197609,
          3.234711,
          3.25046,
          3.25046,
          3.250456,
          3.250456
         ],
         "marker": {
          "color": "rgb(50, 205, 0)",
          "size": 10
         },
         "mode": "lines+markers",
         "type": "scattermapbox"
        },
        {
         "lat": [
          50.7996,
          50.7996,
          50.829556,
          50.829608,
          50.829906,
          50.830047,
          50.835042,
          50.846619,
          50.846616,
          50.846616,
          50.846625,
          50.846624,
          50.846652,
          50.847486,
          50.844329,
          50.845064,
          50.844262,
          50.844263,
          50.844262,
          50.844263,
          50.844268,
          50.844268,
          50.844262,
          50.844288,
          50.844301,
          50.844299,
          50.844298,
          50.844289,
          50.844283,
          50.844283,
          50.844288,
          50.844283,
          50.844269,
          50.844271,
          50.84427,
          50.844261,
          50.844248,
          50.844292,
          50.844252,
          50.844253,
          50.844245,
          50.844231,
          50.844303,
          50.844221
         ],
         "line": {
          "color": "rgb(100, 155, 0)",
          "width": 2
         },
         "lon": [
          3.25046,
          3.25046,
          3.197148,
          3.197162,
          3.197232,
          3.197258,
          3.184089,
          3.176606,
          3.176599,
          3.176599,
          3.176631,
          3.17663,
          3.176699,
          3.17995,
          3.185954,
          3.186012,
          3.18365,
          3.183694,
          3.183699,
          3.183699,
          3.183704,
          3.183704,
          3.183703,
          3.185852,
          3.185814,
          3.185707,
          3.185671,
          3.185564,
          3.185643,
          3.185526,
          3.185561,
          3.185642,
          3.185409,
          3.185389,
          3.185384,
          3.185355,
          3.185031,
          3.185964,
          3.184989,
          3.185008,
          3.185047,
          3.183053,
          3.1859,
          3.183053
         ],
         "marker": {
          "color": "rgb(100, 155, 0)",
          "size": 10
         },
         "mode": "lines+markers",
         "type": "scattermapbox"
        },
        {
         "lat": [
          51.487919,
          51.487919,
          51.487919,
          51.487985,
          51.487974,
          51.487974,
          51.487928
         ],
         "line": {
          "color": "rgb(150, 105, 0)",
          "width": 2
         },
         "lon": [
          9.006851,
          9.006851,
          9.006851,
          9.006813,
          9.006834,
          9.006834,
          9.008218
         ],
         "marker": {
          "color": "rgb(150, 105, 0)",
          "size": 10
         },
         "mode": "lines+markers",
         "type": "scattermapbox"
        },
        {
         "lat": [
          51.487933,
          51.48788
         ],
         "line": {
          "color": "rgb(200, 55, 0)",
          "width": 2
         },
         "lon": [
          9.00834,
          9.007268
         ],
         "marker": {
          "color": "rgb(200, 55, 0)",
          "size": 10
         },
         "mode": "lines+markers",
         "type": "scattermapbox"
        },
        {
         "lat": [
          51.487837,
          51.487768,
          51.478232,
          51.450518,
          51.400259,
          51.402105,
          51.379255,
          51.325646,
          51.292329,
          51.271805,
          51.266385,
          51.260232,
          51.285554,
          51.283825,
          51.285552,
          51.28555,
          51.28549,
          51.285864,
          51.28005,
          51.280008,
          51.281011,
          51.28095,
          51.271883,
          51.274414,
          51.282062,
          51.282146,
          51.287823,
          51.287809,
          51.287757,
          51.287731,
          51.28773,
          51.28773,
          51.28773,
          51.287735,
          51.288126,
          51.288126,
          51.288126,
          51.288126,
          51.287739,
          51.289048,
          51.289045
         ],
         "line": {
          "color": "rgb(0, 255, 0)",
          "width": 2
         },
         "lon": [
          9.008543,
          9.008753,
          9.05366,
          9.131513,
          9.189187,
          9.181681,
          9.264579,
          9.281421,
          9.353319,
          9.416609,
          9.441964,
          9.51869,
          9.523025,
          9.520289,
          9.523035,
          9.52304,
          9.523131,
          9.537074,
          9.54746,
          9.547646,
          9.549287,
          9.549491,
          9.558133,
          9.59137,
          9.588327,
          9.588182,
          9.567385,
          9.567443,
          9.567612,
          9.567833,
          9.567831,
          9.567831,
          9.567831,
          9.567842,
          9.56834,
          9.56834,
          9.56834,
          9.56834,
          9.567846,
          9.56549,
          9.565516
         ],
         "marker": {
          "color": "rgb(0, 255, 0)",
          "size": 10
         },
         "mode": "lines+markers",
         "type": "scattermapbox"
        },
        {
         "lat": [
          52.2305,
          52.2305,
          52.2305,
          52.2305,
          52.2305,
          52.230482,
          52.230482,
          52.230468,
          52.230713,
          52.230734,
          52.230276,
          52.230318,
          52.230144,
          52.235238,
          52.210923,
          52.212824,
          52.185761,
          52.18108,
          52.198909,
          52.202402,
          52.219637,
          52.255431,
          52.284304,
          52.323034,
          52.358988,
          52.368258,
          52.397722,
          52.441232,
          52.481957
         ],
         "line": {
          "color": "blue",
          "width": 2
         },
         "lon": [
          6.21264,
          6.21264,
          6.21264,
          6.21264,
          6.21264,
          6.2126,
          6.2126,
          6.212686,
          6.212374,
          6.212407,
          6.212599,
          6.212524,
          6.212848,
          6.196239,
          6.100128,
          6.10483,
          6.015765,
          5.923481,
          5.830725,
          5.778164,
          5.779071,
          5.745301,
          5.691182,
          5.653867,
          5.623285,
          5.607021,
          5.579429,
          5.557358,
          5.502466
         ],
         "marker": {
          "color": "blue",
          "size": 10
         },
         "mode": "lines+markers",
         "type": "scattermapbox"
        },
        {
         "lat": [
          52.480504,
          52.48055,
          52.480425,
          52.480405,
          52.480397,
          52.480383,
          52.48047,
          52.480474,
          52.480524,
          52.479649,
          52.479642,
          52.479588,
          52.479565,
          52.479537,
          52.479562,
          52.479599,
          52.479606,
          52.479596,
          52.479596,
          52.479597
         ],
         "line": {
          "color": "rgb(100, 155, 0)",
          "width": 2
         },
         "lon": [
          5.496792,
          5.496868,
          5.496641,
          5.496598,
          5.496591,
          5.496527,
          5.496349,
          5.496343,
          5.496277,
          5.494646,
          5.494605,
          5.494475,
          5.494452,
          5.494353,
          5.494373,
          5.49436,
          5.494352,
          5.494354,
          5.494354,
          5.494351
         ],
         "marker": {
          "color": "rgb(100, 155, 0)",
          "size": 10
         },
         "mode": "lines+markers",
         "type": "scattermapbox"
        },
        {
         "lat": [
          51.698674,
          51.698674,
          51.698674,
          51.698662,
          51.698662,
          51.698662,
          51.698662,
          51.698655,
          51.6987,
          51.698655,
          51.698649,
          51.698649,
          51.698646,
          51.69864,
          51.698648,
          51.698648,
          51.698895,
          51.698934,
          51.697559,
          51.753303,
          51.812395,
          51.849062,
          51.862609,
          51.921628,
          51.981922,
          52.03466,
          52.053027,
          52.08861,
          52.132138,
          52.180312
         ],
         "line": {
          "color": "rgb(150, 105, 0)",
          "width": 2
         },
         "lon": [
          7.67343,
          7.67343,
          7.67343,
          7.673458,
          7.673458,
          7.673458,
          7.673458,
          7.673486,
          7.67347,
          7.673486,
          7.673471,
          7.673471,
          7.673451,
          7.673452,
          7.67353,
          7.67353,
          7.673422,
          7.673375,
          7.667723,
          7.645755,
          7.621363,
          7.581003,
          7.576135,
          7.557732,
          7.553405,
          7.604476,
          7.6161,
          7.6512,
          7.720485,
          7.781121
         ],
         "marker": {
          "color": "rgb(150, 105, 0)",
          "size": 10
         },
         "mode": "lines+markers",
         "type": "scattermapbox"
        },
        {
         "lat": [
          52.210666,
          52.214153,
          52.261079,
          52.316888,
          52.351215,
          52.378201,
          52.410916,
          52.470258
         ],
         "line": {
          "color": "rgb(200, 55, 0)",
          "width": 2
         },
         "lon": [
          7.847007,
          7.859676,
          7.922022,
          7.955953,
          8.031684,
          8.043913,
          8.03187,
          8.053865
         ],
         "marker": {
          "color": "rgb(200, 55, 0)",
          "size": 10
         },
         "mode": "lines+markers",
         "type": "scattermapbox"
        },
        {
         "lat": [
          52.52278,
          52.58283,
          52.583856,
          52.63997,
          52.699444,
          52.760164,
          52.789964
         ],
         "line": {
          "color": "rgb(0, 255, 0)",
          "width": 2
         },
         "lon": [
          8.106269,
          8.1097,
          8.10978,
          8.151009,
          8.173526,
          8.185914,
          8.202529
         ],
         "marker": {
          "color": "rgb(0, 255, 0)",
          "size": 10
         },
         "mode": "lines+markers",
         "type": "scattermapbox"
        },
        {
         "lat": [
          52.819529,
          52.874748,
          52.902325,
          52.914717,
          52.915096,
          52.908222,
          52.937318,
          52.965466,
          53.001781,
          53.006966,
          53.019563,
          53.03543,
          53.034046,
          53.053345,
          53.054702,
          53.079223,
          53.126717,
          53.179562,
          53.198491,
          53.226732,
          53.251819,
          53.290592,
          53.3211,
          53.323142,
          53.350146,
          53.370159,
          53.371651,
          53.3751,
          53.380303,
          53.416597
         ],
         "line": {
          "color": "rgb(50, 205, 0)",
          "width": 2
         },
         "lon": [
          8.212629,
          8.253478,
          8.343458,
          8.438121,
          8.445743,
          8.441721,
          8.508557,
          8.598745,
          8.680796,
          8.714435,
          8.778444,
          8.874222,
          8.967273,
          9.047637,
          9.06041,
          9.153208,
          9.214297,
          9.265337,
          9.292766,
          9.331252,
          9.423204,
          9.501624,
          9.583506,
          9.58824,
          9.680343,
          9.775941,
          9.877883,
          9.927947,
          9.97984,
          10.03067
         ],
         "marker": {
          "color": "rgb(50, 205, 0)",
          "size": 10
         },
         "mode": "lines+markers",
         "type": "scattermapbox"
        },
        {
         "lat": [
          53.47724,
          53.508424,
          53.507498,
          53.552392,
          53.593568
         ],
         "line": {
          "color": "rgb(100, 155, 0)",
          "width": 2
         },
         "lon": [
          10.022626,
          10.0923,
          10.087711,
          10.150691,
          10.219973
         ],
         "marker": {
          "color": "rgb(100, 155, 0)",
          "size": 10
         },
         "mode": "lines+markers",
         "type": "scattermapbox"
        },
        {
         "lat": [
          52.714394,
          52.695154,
          52.676995,
          52.688282,
          52.696328,
          52.707078,
          52.722054,
          52.720075,
          52.721876,
          52.721644,
          52.721362,
          52.734919,
          52.734819,
          52.734918
         ],
         "line": {
          "color": "rgb(150, 105, 0)",
          "width": 2
         },
         "lon": [
          7.645516,
          7.578957,
          7.503029,
          7.483069,
          7.429866,
          7.347015,
          7.269391,
          7.183756,
          7.15227,
          7.085679,
          6.907989,
          6.987189,
          6.989381,
          6.987362
         ],
         "marker": {
          "color": "rgb(150, 105, 0)",
          "size": 10
         },
         "mode": "lines+markers",
         "type": "scattermapbox"
        },
        {
         "lat": [
          52.724834,
          52.724882,
          52.723595,
          52.715943,
          52.714008,
          52.714009,
          52.714236,
          52.714009,
          52.714004,
          52.714004,
          52.714004,
          52.714008,
          52.714008,
          52.714014,
          52.714014,
          52.714015,
          52.714015,
          52.714015,
          52.714008,
          52.714008,
          52.714008,
          52.714008,
          52.714008,
          52.714008,
          52.713983,
          52.713983,
          52.713202,
          52.710408,
          52.70801,
          52.691328,
          52.67887,
          52.678019,
          52.627196,
          52.619464,
          52.561122,
          52.546119
         ],
         "line": {
          "color": "rgb(200, 55, 0)",
          "width": 2
         },
         "lon": [
          6.808518,
          6.804478,
          6.710722,
          6.639077,
          6.636939,
          6.636939,
          6.637813,
          6.636939,
          6.636952,
          6.636941,
          6.636941,
          6.636944,
          6.636944,
          6.636943,
          6.636943,
          6.636935,
          6.636935,
          6.636935,
          6.636935,
          6.636935,
          6.636935,
          6.636935,
          6.636935,
          6.636935,
          6.636847,
          6.636847,
          6.591798,
          6.493171,
          6.459031,
          6.401884,
          6.306473,
          6.20994,
          6.206104,
          6.207316,
          6.178544,
          6.168041
         ],
         "marker": {
          "color": "rgb(200, 55, 0)",
          "size": 10
         },
         "mode": "lines+markers",
         "type": "scattermapbox"
        },
        {
         "lat": [
          50.173443,
          50.173443,
          50.173443,
          50.173443,
          50.173443,
          50.173443,
          50.173434,
          50.173434,
          50.173452,
          50.1734,
          50.1734,
          50.1734
         ],
         "line": {
          "color": "blue",
          "width": 2
         },
         "lon": [
          2.873045,
          2.873057,
          2.873057,
          2.873057,
          2.873057,
          2.873057,
          2.873054,
          2.873058,
          2.873102,
          2.87311,
          2.87311,
          2.87311
         ],
         "marker": {
          "color": "blue",
          "size": 10
         },
         "mode": "lines+markers",
         "type": "scattermapbox"
        },
        {
         "lat": [
          50.173439,
          50.173435,
          50.173435,
          50.173435,
          50.173437,
          50.173428,
          50.173438,
          50.173438,
          50.173448,
          50.173448,
          50.173454,
          50.173461,
          50.173461,
          50.173555,
          50.173557,
          50.173583,
          50.152211,
          50.102719,
          50.104302,
          50.108731,
          50.076416,
          50.045953,
          50.01752,
          49.986583,
          49.986267,
          49.984182,
          49.962299,
          49.946822,
          49.921186,
          49.915123,
          49.927104,
          49.932483,
          49.881988,
          49.849672,
          49.84146,
          49.830217
         ],
         "line": {
          "color": "rgb(50, 205, 0)",
          "width": 2
         },
         "lon": [
          2.873063,
          2.873044,
          2.873044,
          2.873044,
          2.873025,
          2.873046,
          2.873064,
          2.873064,
          2.873062,
          2.873062,
          2.873067,
          2.873039,
          2.873039,
          2.872944,
          2.872951,
          2.872976,
          2.872874,
          2.871203,
          2.867981,
          2.829247,
          2.791111,
          2.738462,
          2.685006,
          2.649415,
          2.65206,
          2.588493,
          2.512805,
          2.429735,
          2.369566,
          2.34807,
          2.30509,
          2.243792,
          2.221363,
          2.153122,
          2.118326,
          2.067254
         ],
         "marker": {
          "color": "rgb(50, 205, 0)",
          "size": 10
         },
         "mode": "lines+markers",
         "type": "scattermapbox"
        },
        {
         "lat": [
          49.144486,
          49.144486,
          49.144474,
          49.144479,
          49.144483,
          49.143265,
          49.144482,
          49.137777,
          49.168278,
          49.168395,
          49.168398,
          49.168366,
          49.144498,
          49.144498
         ],
         "line": {
          "color": "rgb(100, 155, 0)",
          "width": 2
         },
         "lon": [
          -0.405689,
          -0.405689,
          -0.405699,
          -0.405678,
          -0.405686,
          -0.403521,
          -0.405685,
          -0.369184,
          -0.302617,
          -0.275495,
          -0.275391,
          -0.275411,
          -0.405731,
          -0.405731
         ],
         "marker": {
          "color": "rgb(100, 155, 0)",
          "size": 10
         },
         "mode": "lines+markers",
         "type": "scattermapbox"
        },
        {
         "lat": [
          49.168349,
          49.168345,
          49.168331,
          49.168272,
          49.193957
         ],
         "line": {
          "color": "rgb(150, 105, 0)",
          "width": 2
         },
         "lon": [
          -0.275408,
          -0.275412,
          -0.275434,
          -0.260452,
          -0.186058
         ],
         "marker": {
          "color": "rgb(150, 105, 0)",
          "size": 10
         },
         "mode": "lines+markers",
         "type": "scattermapbox"
        },
        {
         "lat": [
          47.539123,
          47.539146,
          47.53915,
          47.539165,
          47.539125,
          47.539125,
          47.539106,
          47.539033,
          47.537425,
          47.490087,
          47.47781,
          47.480013,
          47.430445,
          47.376993,
          47.319217,
          47.314702,
          47.311696,
          47.306032,
          47.300781,
          47.288902,
          47.287039,
          47.28808,
          47.293839
         ],
         "line": {
          "color": "rgb(200, 55, 0)",
          "width": 2
         },
         "lon": [
          0.61484,
          0.614869,
          0.614845,
          0.614889,
          0.614875,
          0.614875,
          0.614871,
          0.614885,
          0.616983,
          0.666906,
          0.704376,
          0.749441,
          0.734911,
          0.714283,
          0.689357,
          0.688895,
          0.734914,
          0.815505,
          0.90549,
          0.980129,
          0.99377,
          1.082351,
          1.170663
         ],
         "marker": {
          "color": "rgb(200, 55, 0)",
          "size": 10
         },
         "mode": "lines+markers",
         "type": "scattermapbox"
        },
        {
         "lat": [
          47.294735,
          47.291879,
          47.30262,
          47.31677,
          47.332232,
          47.338594,
          47.339316,
          47.339376,
          47.31969,
          47.300707,
          47.295335,
          47.292555,
          47.289956,
          47.241573,
          47.199354,
          47.199899,
          47.15131,
          47.100696,
          47.095066,
          47.094964
         ],
         "line": {
          "color": "rgb(0, 255, 0)",
          "width": 2
         },
         "lon": [
          1.255518,
          1.290801,
          1.343679,
          1.430743,
          1.518395,
          1.599263,
          1.606411,
          1.696302,
          1.778037,
          1.863179,
          1.902647,
          1.951873,
          2.040546,
          2.076304,
          2.140684,
          2.139064,
          2.184397,
          2.225455,
          2.239607,
          2.239725
         ],
         "marker": {
          "color": "rgb(0, 255, 0)",
          "size": 10
         },
         "mode": "lines+markers",
         "type": "scattermapbox"
        },
        {
         "lat": [
          47.094205,
          47.094221,
          47.094323,
          47.094231,
          47.094332
         ],
         "line": {
          "color": "rgb(50, 205, 0)",
          "width": 2
         },
         "lon": [
          2.240633,
          2.240597,
          2.240408,
          2.240534,
          2.240418
         ],
         "marker": {
          "color": "rgb(50, 205, 0)",
          "size": 10
         },
         "mode": "lines+markers",
         "type": "scattermapbox"
        },
        {
         "lat": [
          47.81298,
          47.81298,
          47.81298,
          47.812965,
          47.812888,
          47.812888,
          47.842099,
          47.901724,
          47.948004,
          47.980348,
          47.9934,
          48.038844,
          48.075183,
          48.119953,
          48.161137,
          48.178943,
          48.230741,
          48.277705,
          48.316567,
          48.356166,
          48.360344,
          48.409315,
          48.455886,
          48.503864,
          48.537242,
          48.551581,
          48.600706,
          48.62076,
          48.640882,
          48.647358,
          48.653592,
          48.682335,
          48.705725,
          48.740196,
          48.74836,
          48.776033,
          48.82185,
          48.86649,
          48.912903,
          48.916781,
          48.95439
         ],
         "line": {
          "color": "rgb(100, 155, 0)",
          "width": 2
         },
         "lon": [
          5.225087,
          5.225087,
          5.225087,
          5.225074,
          5.225091,
          5.225091,
          5.232138,
          5.223678,
          5.178158,
          5.133276,
          5.123981,
          5.06537,
          5.078071,
          5.109843,
          5.122503,
          5.124617,
          5.118518,
          5.11224,
          5.115778,
          5.131751,
          5.137226,
          5.154609,
          5.142026,
          5.102502,
          5.088506,
          5.06263,
          5.033529,
          4.983917,
          4.911549,
          4.867349,
          4.824057,
          4.744202,
          4.660175,
          4.59373,
          4.59296,
          4.589242,
          4.53952,
          4.483767,
          4.4331,
          4.423076,
          4.389973
         ],
         "marker": {
          "color": "rgb(100, 155, 0)",
          "size": 10
         },
         "mode": "lines+markers",
         "type": "scattermapbox"
        },
        {
         "lat": [
          48.997843,
          49.04412,
          49.072973,
          49.085348,
          49.127104,
          49.172209,
          49.203983,
          49.242052,
          49.243459
         ],
         "line": {
          "color": "rgb(150, 105, 0)",
          "width": 2
         },
         "lon": [
          4.340294,
          4.324681,
          4.266968,
          4.261027,
          4.231821,
          4.171334,
          4.09262,
          4.079512,
          4.080357
         ],
         "marker": {
          "color": "rgb(150, 105, 0)",
          "size": 10
         },
         "mode": "lines+markers",
         "type": "scattermapbox"
        },
        {
         "lat": [
          51.27617,
          51.27617,
          51.276201,
          51.276201,
          51.276202,
          51.249093,
          51.476153,
          51.476181,
          51.476181,
          51.476181,
          51.475238,
          51.476173,
          51.472514,
          51.472512,
          51.478237,
          51.432164,
          51.381816,
          51.476138,
          51.476138,
          51.332817,
          51.331508,
          51.294874,
          51.267401,
          51.295709,
          51.313944,
          51.310752,
          51.272414,
          51.242527,
          51.47614,
          51.47614,
          51.476282,
          51.476376,
          51.473694,
          51.493365,
          51.490976,
          51.52618,
          51.554076,
          51.552374,
          51.539096,
          51.539727,
          51.547848
         ],
         "line": {
          "color": "rgb(200, 55, 0)",
          "width": 2
         },
         "lon": [
          4.206063,
          4.206063,
          4.206097,
          4.206097,
          4.206091,
          4.200874,
          4.727861,
          4.72785,
          4.72785,
          4.72785,
          4.726085,
          4.727851,
          4.727169,
          4.727235,
          4.730339,
          4.71196,
          4.66361,
          4.727848,
          4.727848,
          4.604674,
          4.602599,
          4.527797,
          4.450811,
          4.400959,
          4.354163,
          4.327075,
          4.278648,
          4.229923,
          4.727917,
          4.727917,
          4.7282,
          4.728249,
          4.725443,
          4.740224,
          4.738966,
          4.757899,
          4.84162,
          4.938305,
          5.020423,
          5.03048,
          5.119708
         ],
         "marker": {
          "color": "rgb(200, 55, 0)",
          "size": 10
         },
         "mode": "lines+markers",
         "type": "scattermapbox"
        },
        {
         "lat": [
          51.592638
         ],
         "line": {
          "color": "rgb(0, 255, 0)",
          "width": 2
         },
         "lon": [
          5.17103
         ],
         "marker": {
          "color": "rgb(0, 255, 0)",
          "size": 10
         },
         "mode": "lines+markers",
         "type": "scattermapbox"
        },
        {
         "lat": [
          51.592674,
          51.592638,
          51.626167,
          51.629795,
          51.629835,
          51.653977
         ],
         "line": {
          "color": "rgb(50, 205, 0)",
          "width": 2
         },
         "lon": [
          5.171099,
          5.171033,
          5.229935,
          5.237734,
          5.237858,
          5.28293
         ],
         "marker": {
          "color": "rgb(50, 205, 0)",
          "size": 10
         },
         "mode": "lines+markers",
         "type": "scattermapbox"
        },
        {
         "lat": [
          51.4887,
          51.4887,
          51.488697,
          51.4886,
          51.4886,
          51.4887,
          51.4887,
          51.488697
         ],
         "line": {
          "color": "rgb(100, 155, 0)",
          "width": 2
         },
         "lon": [
          4.739355,
          4.739355,
          4.739355,
          4.73926,
          4.73926,
          4.739355,
          4.739355,
          4.739355
         ],
         "marker": {
          "color": "rgb(100, 155, 0)",
          "size": 10
         },
         "mode": "lines+markers",
         "type": "scattermapbox"
        },
        {
         "lat": [
          51.4886,
          51.4886,
          51.4887,
          51.488726,
          51.488726
         ],
         "line": {
          "color": "rgb(150, 105, 0)",
          "width": 2
         },
         "lon": [
          4.73926,
          4.73926,
          4.739355,
          4.739345,
          4.739345
         ],
         "marker": {
          "color": "rgb(150, 105, 0)",
          "size": 10
         },
         "mode": "lines+markers",
         "type": "scattermapbox"
        },
        {
         "lat": [
          51.488785,
          51.488785,
          51.487394,
          51.487361,
          51.487243,
          51.48722,
          51.487048
         ],
         "line": {
          "color": "rgb(200, 55, 0)",
          "width": 2
         },
         "lon": [
          4.7394,
          4.7394,
          4.738056,
          4.737952,
          4.737586,
          4.737482,
          4.736566
         ],
         "marker": {
          "color": "rgb(200, 55, 0)",
          "size": 10
         },
         "mode": "lines+markers",
         "type": "scattermapbox"
        },
        {
         "lat": [
          51.486929,
          51.483386,
          51.483209,
          51.48344,
          51.445183,
          51.34164,
          51.376977,
          51.390914,
          51.302203,
          51.268358,
          51.236555,
          51.231191,
          51.191232,
          51.141193,
          51.080774,
          51.04419
         ],
         "line": {
          "color": "rgb(0, 255, 0)",
          "width": 2
         },
         "lon": [
          4.736376,
          4.734471,
          4.734377,
          4.7345,
          4.717587,
          4.616315,
          4.657325,
          4.675094,
          4.541512,
          4.468182,
          4.428313,
          4.438972,
          4.417474,
          4.428687,
          4.443559,
          4.452923
         ],
         "marker": {
          "color": "rgb(0, 255, 0)",
          "size": 10
         },
         "mode": "lines+markers",
         "type": "scattermapbox"
        },
        {
         "lat": [
          51.02055,
          50.966829,
          50.910511,
          50.872985,
          50.864369,
          50.864647,
          50.864785,
          50.865706,
          50.865706,
          50.858708,
          50.84796
         ],
         "line": {
          "color": "rgb(50, 205, 0)",
          "width": 2
         },
         "lon": [
          4.447507,
          4.490496,
          4.453232,
          4.465837,
          4.445328,
          4.44507,
          4.445042,
          4.451124,
          4.451288,
          4.448691,
          4.43987
         ],
         "marker": {
          "color": "rgb(50, 205, 0)",
          "size": 10
         },
         "mode": "lines+markers",
         "type": "scattermapbox"
        },
        {
         "lat": [
          50.847826,
          50.844991,
          50.844838,
          50.936009,
          50.936006,
          50.936005,
          50.936003,
          50.935999,
          50.935941,
          50.935941,
          50.904482,
          50.857753,
          50.830764,
          50.83065,
          50.830445,
          50.830376,
          50.8303,
          50.830198,
          50.830159,
          50.830065,
          50.830301,
          50.829995,
          50.829918,
          50.829832,
          50.829779,
          50.829771,
          50.829712,
          50.829571,
          50.829497,
          50.829386,
          50.829317,
          50.829198,
          50.829152,
          50.829193,
          50.82854,
          50.82846,
          50.828186,
          50.828145,
          50.828096,
          50.828043,
          50.827921,
          50.827848,
          50.827821,
          50.827745,
          50.826599,
          50.823718,
          50.823651,
          50.823015
         ],
         "line": {
          "color": "rgb(100, 155, 0)",
          "width": 2
         },
         "lon": [
          4.439768,
          4.438139,
          4.438096,
          4.47373,
          4.473733,
          4.473734,
          4.473739,
          4.473742,
          4.473749,
          4.473749,
          4.439433,
          4.475102,
          4.481783,
          4.481715,
          4.481574,
          4.481529,
          4.481477,
          4.481435,
          4.481401,
          4.48135,
          4.481472,
          4.481285,
          4.481219,
          4.481175,
          4.481128,
          4.481125,
          4.48108,
          4.480981,
          4.480938,
          4.48088,
          4.480819,
          4.480751,
          4.480702,
          4.480739,
          4.48033,
          4.480286,
          4.480112,
          4.48007,
          4.480032,
          4.48,
          4.479916,
          4.479887,
          4.479864,
          4.479819,
          4.479098,
          4.478621,
          4.478617,
          4.478499
         ],
         "marker": {
          "color": "rgb(100, 155, 0)",
          "size": 10
         },
         "mode": "lines+markers",
         "type": "scattermapbox"
        },
        {
         "lat": [
          50.822914,
          50.822852,
          50.822766,
          50.822008,
          50.822344
         ],
         "line": {
          "color": "rgb(150, 105, 0)",
          "width": 2
         },
         "lon": [
          4.478481,
          4.47848,
          4.478453,
          4.478149,
          4.478305
         ],
         "marker": {
          "color": "rgb(150, 105, 0)",
          "size": 10
         },
         "mode": "lines+markers",
         "type": "scattermapbox"
        },
        {
         "lat": [
          47.420511,
          47.420496,
          47.420496,
          47.4205,
          47.420496,
          47.420496,
          47.420496,
          47.420496,
          47.420491,
          47.420491,
          47.420491,
          47.420517,
          47.420468,
          47.420489,
          47.420489,
          47.420502,
          47.420492,
          47.420492,
          47.420492,
          47.420492,
          47.420492,
          47.4205,
          47.4205,
          47.420516,
          47.420508,
          47.420508,
          47.420508,
          47.420508,
          47.420508,
          47.42051,
          47.420521,
          47.420521,
          47.420521,
          47.420532,
          47.420552,
          47.420536,
          47.420554,
          47.420535,
          47.420542,
          47.420546,
          47.420537,
          47.420536
         ],
         "line": {
          "color": "blue",
          "width": 2
         },
         "lon": [
          5.17149,
          5.171468,
          5.171468,
          5.1715,
          5.171468,
          5.171468,
          5.171468,
          5.171468,
          5.171494,
          5.171494,
          5.171494,
          5.171482,
          5.1715,
          5.171497,
          5.171497,
          5.171502,
          5.17148,
          5.17148,
          5.17148,
          5.17148,
          5.17148,
          5.17147,
          5.17147,
          5.171463,
          5.171482,
          5.171482,
          5.171482,
          5.171482,
          5.171482,
          5.171475,
          5.171487,
          5.171487,
          5.171487,
          5.171482,
          5.171488,
          5.1715,
          5.171508,
          5.171515,
          5.171508,
          5.171556,
          5.171528,
          5.171508
         ],
         "marker": {
          "color": "blue",
          "size": 10
         },
         "mode": "lines+markers",
         "type": "scattermapbox"
        },
        {
         "lat": [
          47.420528,
          47.420529,
          47.420529,
          47.42053,
          47.420504,
          47.420501,
          47.420501,
          47.420501,
          47.4205,
          47.420501,
          47.42053,
          47.42053,
          47.420903,
          47.420944,
          47.421205
         ],
         "line": {
          "color": "blue",
          "width": 2
         },
         "lon": [
          5.171495,
          5.171504,
          5.171504,
          5.171515,
          5.171512,
          5.171499,
          5.171499,
          5.171499,
          5.171506,
          5.171499,
          5.17144,
          5.17144,
          5.170646,
          5.170587,
          5.172993
         ],
         "marker": {
          "color": "blue",
          "size": 10
         },
         "mode": "lines+markers",
         "type": "scattermapbox"
        },
        {
         "lat": [
          44.8639,
          44.8639,
          44.863889,
          44.863887,
          44.863889,
          44.863889,
          44.863891,
          44.863888,
          44.863893,
          44.863942,
          44.863769,
          44.863744,
          44.863808,
          44.863808,
          44.866723,
          44.916712,
          44.931462,
          44.974725,
          45.034943,
          45.093216,
          45.138123,
          45.15047,
          45.208735,
          45.254293,
          45.310015,
          45.33701,
          45.371174,
          45.425358,
          45.478706,
          45.529158,
          45.538125,
          45.573521,
          45.595306,
          45.639517,
          45.671223
         ],
         "line": {
          "color": "rgb(50, 205, 0)",
          "width": 2
         },
         "lon": [
          4.86577,
          4.86577,
          4.865798,
          4.865796,
          4.865793,
          4.865793,
          4.865792,
          4.865795,
          4.865796,
          4.865792,
          4.865841,
          4.865847,
          4.865804,
          4.865804,
          4.864501,
          4.877009,
          4.884211,
          4.885519,
          4.876175,
          4.878993,
          4.892536,
          4.888036,
          4.870156,
          4.835393,
          4.811665,
          4.809518,
          4.807724,
          4.825838,
          4.832613,
          4.861572,
          4.856269,
          4.808772,
          4.849199,
          4.895235,
          4.937102
         ],
         "marker": {
          "color": "rgb(50, 205, 0)",
          "size": 10
         },
         "mode": "lines+markers",
         "type": "scattermapbox"
        },
        {
         "lat": [
          45.676006,
          45.731363,
          45.77802,
          45.812031,
          45.838679,
          45.869726,
          45.909933,
          45.917889,
          45.952456,
          45.959323,
          45.9998,
          46.058869,
          46.116443,
          46.166418,
          46.177472
         ],
         "line": {
          "color": "rgb(100, 155, 0)",
          "width": 2
         },
         "lon": [
          4.956008,
          4.978641,
          4.965941,
          4.915889,
          4.916803,
          4.904631,
          4.852074,
          4.780736,
          4.716037,
          4.719634,
          4.735042,
          4.736015,
          4.762755,
          4.770403,
          4.769857
         ],
         "marker": {
          "color": "rgb(100, 155, 0)",
          "size": 10
         },
         "mode": "lines+markers",
         "type": "scattermapbox"
        },
        {
         "lat": [
          43.3549,
          43.3549,
          43.354947,
          43.354952,
          43.354976,
          43.354971,
          43.354972,
          43.354967,
          43.354969,
          43.354969,
          43.354956,
          43.354963,
          43.355093,
          43.353681,
          43.353665,
          43.355299,
          43.354378,
          43.3552,
          43.35529,
          43.355298,
          43.355289,
          43.355817,
          43.355801,
          43.355694,
          43.355694,
          43.355694,
          43.355694,
          43.355848,
          43.35572,
          43.355689,
          43.355545,
          43.355545
         ],
         "line": {
          "color": "blue",
          "width": 2
         },
         "lon": [
          5.31521,
          5.31521,
          5.315263,
          5.31526,
          5.315249,
          5.31524,
          5.315245,
          5.315265,
          5.315302,
          5.315302,
          5.315363,
          5.315417,
          5.319955,
          5.327821,
          5.327854,
          5.319656,
          5.321762,
          5.31989,
          5.319655,
          5.319628,
          5.319641,
          5.318398,
          5.318429,
          5.318691,
          5.318691,
          5.318691,
          5.318691,
          5.318331,
          5.317851,
          5.317824,
          5.317638,
          5.317638
         ],
         "marker": {
          "color": "blue",
          "size": 10
         },
         "mode": "lines+markers",
         "type": "scattermapbox"
        },
        {
         "lat": [
          43.355555,
          43.355669,
          43.355679,
          43.355691,
          43.355701,
          43.355701,
          43.355701,
          43.355698,
          43.355384,
          43.355384,
          43.355384,
          43.355384,
          43.355291,
          43.355172,
          43.354987,
          43.355006,
          43.355059,
          43.355077
         ],
         "line": {
          "color": "rgb(200, 55, 0)",
          "width": 2
         },
         "lon": [
          5.317676,
          5.317803,
          5.317811,
          5.317825,
          5.317822,
          5.317821,
          5.317821,
          5.317818,
          5.317462,
          5.317462,
          5.317462,
          5.317462,
          5.316739,
          5.316625,
          5.316469,
          5.316505,
          5.316558,
          5.31657
         ],
         "marker": {
          "color": "rgb(200, 55, 0)",
          "size": 10
         },
         "mode": "lines+markers",
         "type": "scattermapbox"
        },
        {
         "lat": [
          45.923419,
          45.923419,
          45.923419,
          45.923419,
          45.923493,
          45.923493,
          45.938765,
          45.990838,
          46.040226,
          46.091481,
          46.094471,
          46.145471,
          46.197014,
          46.248843,
          46.282778,
          46.293529,
          46.327967,
          46.333605,
          46.353521,
          46.355436,
          46.370805,
          46.422707,
          46.479325,
          46.510495,
          46.511572,
          46.552646,
          46.606955,
          46.662715,
          46.697085,
          46.719439,
          46.761965,
          46.822837
         ],
         "line": {
          "color": "blue",
          "width": 2
         },
         "lon": [
          3.146059,
          3.146059,
          3.146059,
          3.146059,
          3.146029,
          3.146029,
          3.126098,
          3.109813,
          3.11308,
          3.135637,
          3.137226,
          3.114071,
          3.105456,
          3.08658,
          3.048202,
          3.036138,
          2.974777,
          2.890847,
          2.811464,
          2.775284,
          2.74007,
          2.701756,
          2.670332,
          2.602933,
          2.599192,
          2.548866,
          2.508708,
          2.474483,
          2.462653,
          2.454339,
          2.408286,
          2.412906
         ],
         "marker": {
          "color": "blue",
          "size": 10
         },
         "mode": "lines+markers",
         "type": "scattermapbox"
        },
        {
         "lat": [
          46.881235,
          46.894151,
          46.940279
         ],
         "line": {
          "color": "rgb(50, 205, 0)",
          "width": 2
         },
         "lon": [
          2.421056,
          2.417802,
          2.418658
         ],
         "marker": {
          "color": "rgb(50, 205, 0)",
          "size": 10
         },
         "mode": "lines+markers",
         "type": "scattermapbox"
        },
        {
         "lat": [
          46.997053,
          47.04045,
          47.065037,
          47.075572,
          47.1115,
          47.16999,
          47.210329,
          47.224959,
          47.251134,
          47.290424,
          47.29464,
          47.30468,
          47.30927,
          47.321712,
          47.340473
         ],
         "line": {
          "color": "rgb(100, 155, 0)",
          "width": 2
         },
         "lon": [
          2.406339,
          2.34984,
          2.293465,
          2.275496,
          2.203032,
          2.180703,
          2.117029,
          2.10698,
          2.054896,
          2.015377,
          1.925908,
          1.85554,
          1.840531,
          1.752512,
          1.670968
         ],
         "marker": {
          "color": "rgb(100, 155, 0)",
          "size": 10
         },
         "mode": "lines+markers",
         "type": "scattermapbox"
        },
        {
         "lat": [
          47.660738,
          47.6608,
          47.6608,
          47.660777,
          47.660777,
          47.660247,
          47.689476,
          47.733131,
          47.737591,
          47.76741,
          47.787966,
          47.78705,
          47.771614,
          47.778064,
          47.820843,
          47.860163,
          47.87557,
          47.877559,
          47.88715,
          47.889468,
          47.915855,
          47.946226,
          47.95187,
          47.983876,
          48.021518,
          48.067743,
          48.097292,
          48.123244,
          48.179698,
          48.226795,
          48.274207,
          48.281131,
          48.302772,
          48.344824,
          48.378802,
          48.386803,
          48.386789,
          48.386924,
          48.386924,
          48.38693,
          48.38693,
          48.386921,
          48.386919,
          48.386919,
          48.386919,
          48.387124,
          48.386918,
          48.387538,
          48.387598
         ],
         "line": {
          "color": "rgb(150, 105, 0)",
          "width": 2
         },
         "lon": [
          -2.971431,
          -2.97141,
          -2.97141,
          -2.971371,
          -2.971371,
          -2.972944,
          -3.032709,
          -3.092191,
          -3.095817,
          -3.161776,
          -3.244837,
          -3.330853,
          -3.384574,
          -3.410667,
          -3.46702,
          -3.535753,
          -3.618046,
          -3.642092,
          -3.706178,
          -3.793085,
          -3.873849,
          -3.935412,
          -3.945085,
          -4.018952,
          -4.083167,
          -4.04832,
          -4.032166,
          -4.022294,
          -4.044471,
          -4.080597,
          -4.118176,
          -4.127288,
          -4.182603,
          -4.231289,
          -4.287655,
          -4.459312,
          -4.459333,
          -4.459145,
          -4.459145,
          -4.459144,
          -4.459144,
          -4.459128,
          -4.459122,
          -4.459122,
          -4.459122,
          -4.458898,
          -4.459122,
          -4.459029,
          -4.459093
         ],
         "marker": {
          "color": "rgb(150, 105, 0)",
          "size": 10
         },
         "mode": "lines+markers",
         "type": "scattermapbox"
        },
        {
         "lat": [
          49.451045,
          49.451068,
          49.451068,
          49.45104,
          49.45104,
          49.451038,
          49.451038,
          49.485096,
          49.534394,
          49.531519,
          49.570104,
          49.586617,
          49.613313,
          49.620969,
          49.628772
         ],
         "line": {
          "color": "rgb(200, 55, 0)",
          "width": 2
         },
         "lon": [
          0.272093,
          0.272119,
          0.272119,
          0.272105,
          0.272105,
          0.272114,
          0.272114,
          0.263401,
          0.316247,
          0.313254,
          0.361851,
          0.44667,
          0.522795,
          0.591269,
          0.612451
         ],
         "marker": {
          "color": "rgb(200, 55, 0)",
          "size": 10
         },
         "mode": "lines+markers",
         "type": "scattermapbox"
        },
        {
         "lat": [
          49.639421,
          49.652151,
          49.655984,
          49.659636,
          49.645564,
          49.638744,
          49.6341,
          49.642554,
          49.646174,
          49.665164,
          49.706626,
          49.728763,
          49.75688,
          49.74872,
          49.741307,
          49.752922,
          49.782035,
          49.791803,
          49.808676,
          49.815017
         ],
         "line": {
          "color": "rgb(0, 255, 0)",
          "width": 2
         },
         "lon": [
          0.704797,
          0.793576,
          0.88347,
          0.910199,
          0.965679,
          1.057936,
          1.150271,
          1.226553,
          1.239907,
          1.31043,
          1.375423,
          1.457641,
          1.48747,
          1.514639,
          1.598424,
          1.688251,
          1.751548,
          1.785201,
          1.832239,
          1.925265
         ],
         "marker": {
          "color": "rgb(0, 255, 0)",
          "size": 10
         },
         "mode": "lines+markers",
         "type": "scattermapbox"
        },
        {
         "lat": [
          49.812119,
          49.841439,
          49.841456,
          49.865762,
          49.903409,
          49.931517,
          49.939292,
          49.938488,
          49.980884,
          50.000346,
          50.00045,
          50.005036,
          50.05303,
          50.101021,
          50.142677
         ],
         "line": {
          "color": "rgb(50, 205, 0)",
          "width": 2
         },
         "lon": [
          2.018788,
          2.096621,
          2.100102,
          2.18215,
          2.234522,
          2.255882,
          2.308235,
          2.308086,
          2.316107,
          2.311445,
          2.311446,
          2.313088,
          2.323706,
          2.332047,
          2.338285
         ],
         "marker": {
          "color": "rgb(50, 205, 0)",
          "size": 10
         },
         "mode": "lines+markers",
         "type": "scattermapbox"
        },
        {
         "lat": [
          52.258006,
          52.258006,
          52.258,
          52.258,
          52.258,
          52.257997,
          52.257996,
          52.258,
          52.257987,
          52.257987,
          52.25802,
          52.25802,
          52.277857,
          52.323703,
          52.330587
         ],
         "line": {
          "color": "rgb(100, 155, 0)",
          "width": 2
         },
         "lon": [
          5.522057,
          5.522057,
          5.52209,
          5.52209,
          5.52209,
          5.522059,
          5.522081,
          5.52208,
          5.522056,
          5.522039,
          5.522075,
          5.522075,
          5.543244,
          5.575062,
          5.5892
         ],
         "marker": {
          "color": "rgb(100, 155, 0)",
          "size": 10
         },
         "mode": "lines+markers",
         "type": "scattermapbox"
        },
        {
         "lat": [
          52.342119,
          52.361633,
          52.393119,
          52.407054,
          52.429844,
          52.474145,
          52.513215,
          52.534232,
          52.539681,
          52.596796,
          52.657158,
          52.684489,
          52.677977,
          52.681747,
          52.707611,
          52.714819,
          52.714987,
          52.716224,
          52.717423,
          52.717417,
          52.717468,
          52.722474,
          52.729641,
          52.722718,
          52.735219,
          52.734344,
          52.721427,
          52.720289,
          52.722574,
          52.722676,
          52.725836,
          52.706634,
          52.706717,
          52.703081,
          52.688522,
          52.677995,
          52.677628,
          52.677995,
          52.6778,
          52.677988,
          52.677994,
          52.677994,
          52.677985,
          52.678032,
          52.678032,
          52.691419
         ],
         "line": {
          "color": "rgb(150, 105, 0)",
          "width": 2
         },
         "lon": [
          5.68298,
          5.776231,
          5.856485,
          5.884413,
          5.936591,
          6.000368,
          6.077301,
          6.157317,
          6.164352,
          6.201131,
          6.199001,
          6.269751,
          6.310781,
          6.368004,
          6.455663,
          6.554226,
          6.644874,
          6.649009,
          6.651178,
          6.651164,
          6.651334,
          6.681724,
          6.780972,
          6.879937,
          6.976492,
          6.995392,
          7.073506,
          7.174406,
          7.220115,
          7.220329,
          7.254321,
          7.315537,
          7.337499,
          7.395634,
          7.475013,
          7.508053,
          7.507245,
          7.508053,
          7.50765,
          7.50808,
          7.508046,
          7.508046,
          7.50804,
          7.508171,
          7.508171,
          7.543866
         ],
         "marker": {
          "color": "rgb(150, 105, 0)",
          "size": 10
         },
         "mode": "lines+markers",
         "type": "scattermapbox"
        },
        {
         "lat": [
          52.704759,
          52.713888
         ],
         "line": {
          "color": "rgb(200, 55, 0)",
          "width": 2
         },
         "lon": [
          7.630013,
          7.644545
         ],
         "marker": {
          "color": "rgb(200, 55, 0)",
          "size": 10
         },
         "mode": "lines+markers",
         "type": "scattermapbox"
        },
        {
         "lat": [
          52.728268,
          52.754157,
          52.787165,
          52.809381,
          52.816421,
          52.820971,
          52.847373,
          52.850902,
          52.814312,
          52.822322,
          52.823328,
          52.877388,
          52.904187,
          52.914957,
          52.92796,
          52.943541,
          52.971038,
          53.004605,
          53.022279,
          53.02354,
          53.038241,
          53.038776,
          53.053814,
          53.073852
         ],
         "line": {
          "color": "rgb(0, 255, 0)",
          "width": 2
         },
         "lon": [
          7.70805,
          7.776453,
          7.838047,
          7.900735,
          7.940802,
          7.970924,
          8.025394,
          8.095159,
          8.158035,
          8.213394,
          8.213671,
          8.258554,
          8.348911,
          8.441276,
          8.493498,
          8.521634,
          8.612949,
          8.69665,
          8.793846,
          8.809308,
          8.886299,
          8.977165,
          9.052497,
          9.137955
         ],
         "marker": {
          "color": "rgb(0, 255, 0)",
          "size": 10
         },
         "mode": "lines+markers",
         "type": "scattermapbox"
        },
        {
         "lat": [
          56.176117,
          56.176117
         ],
         "line": {
          "color": "blue",
          "width": 2
         },
         "lon": [
          10.066009,
          10.066009
         ],
         "marker": {
          "color": "blue",
          "size": 10
         },
         "mode": "lines+markers",
         "type": "scattermapbox"
        },
        {
         "lat": [
          56.176121,
          56.176121,
          56.176179,
          56.176179,
          56.17611,
          56.177777,
          56.134198,
          56.126774,
          56.076253,
          56.045853,
          55.992594,
          55.966955,
          55.940521,
          55.884532,
          55.836133,
          55.786423,
          55.786236,
          55.747446
         ],
         "line": {
          "color": "rgb(100, 155, 0)",
          "width": 2
         },
         "lon": [
          10.066009,
          10.066009,
          10.065969,
          10.065969,
          10.066009,
          10.066663,
          10.035404,
          10.034607,
          10.001997,
          9.907499,
          9.867547,
          9.853186,
          9.819364,
          9.789699,
          9.722936,
          9.665864,
          9.665714,
          9.585349
         ],
         "marker": {
          "color": "rgb(100, 155, 0)",
          "size": 10
         },
         "mode": "lines+markers",
         "type": "scattermapbox"
        },
        {
         "lat": [
          54.363672,
          54.363672,
          54.363671,
          54.36367
         ],
         "line": {
          "color": "rgb(150, 105, 0)",
          "width": 2
         },
         "lon": [
          9.67172,
          9.67172,
          9.67172,
          9.67172
         ],
         "marker": {
          "color": "rgb(150, 105, 0)",
          "size": 10
         },
         "mode": "lines+markers",
         "type": "scattermapbox"
        },
        {
         "lat": [
          54.363662,
          54.363663,
          54.363672,
          54.363666,
          54.36366,
          54.380794,
          54.415628,
          54.425739,
          54.44294,
          54.447532,
          54.447604,
          54.447598,
          54.477569,
          54.528446,
          54.363672,
          54.58727,
          54.603827,
          54.646181,
          54.703204,
          54.759322,
          54.804851,
          54.804943,
          54.804953,
          54.805912,
          54.844642,
          54.900351
         ],
         "line": {
          "color": "rgb(200, 55, 0)",
          "width": 2
         },
         "lon": [
          9.671741,
          9.671746,
          9.671788,
          9.671888,
          9.671931,
          9.65761,
          9.611626,
          9.599738,
          9.589085,
          9.586286,
          9.586227,
          9.586242,
          9.541328,
          9.483099,
          9.67172,
          9.463612,
          9.450388,
          9.43665,
          9.402367,
          9.363271,
          9.327906,
          9.327803,
          9.327802,
          9.327355,
          9.346555,
          9.377141
         ],
         "marker": {
          "color": "rgb(200, 55, 0)",
          "size": 10
         },
         "mode": "lines+markers",
         "type": "scattermapbox"
        },
        {
         "lat": [
          52.209985,
          52.152125,
          52.121405,
          52.104836,
          52.104695,
          52.092594,
          52.036122,
          51.97883,
          51.956004,
          51.954053,
          51.900121,
          51.841894,
          51.78196,
          51.777065,
          51.726945,
          51.666592,
          51.610433,
          51.579586,
          51.555829,
          51.526473,
          51.479821,
          51.420162,
          51.420162
         ],
         "line": {
          "color": "rgb(0, 255, 0)",
          "width": 2
         },
         "lon": [
          5.442971,
          5.415951,
          5.335959,
          5.24993,
          5.247952,
          5.157675,
          5.13819,
          5.104855,
          5.067686,
          5.022742,
          4.979442,
          4.948494,
          4.927671,
          4.927313,
          4.894677,
          4.880071,
          4.854208,
          4.823569,
          4.819523,
          4.748511,
          4.731941,
          4.70417,
          4.70417
         ],
         "marker": {
          "color": "rgb(0, 255, 0)",
          "size": 10
         },
         "mode": "lines+markers",
         "type": "scattermapbox"
        },
        {
         "lat": [
          51.420162
         ],
         "line": {
          "color": "rgb(50, 205, 0)",
          "width": 2
         },
         "lon": [
          4.70417
         ],
         "marker": {
          "color": "rgb(50, 205, 0)",
          "size": 10
         },
         "mode": "lines+markers",
         "type": "scattermapbox"
        },
        {
         "lat": [
          51.420162,
          51.423099,
          51.420173,
          51.420176,
          51.420176,
          51.420176,
          51.420143,
          51.420143,
          51.40742,
          51.388333,
          51.339054,
          51.300291,
          51.268506,
          51.267686,
          51.228982,
          51.190975,
          51.208086,
          51.175706,
          51.172448,
          51.141636,
          51.127048,
          51.082774,
          50.771323,
          50.771323
         ],
         "line": {
          "color": "rgb(100, 155, 0)",
          "width": 2
         },
         "lon": [
          4.70417,
          4.706582,
          4.704173,
          4.704188,
          4.704188,
          4.704188,
          4.70417,
          4.70417,
          4.696693,
          4.671533,
          4.61303,
          4.53734,
          4.463166,
          4.450842,
          4.442275,
          4.409354,
          4.334714,
          4.266197,
          4.258704,
          4.174908,
          4.080163,
          4.013004,
          3.198794,
          3.198794
         ],
         "marker": {
          "color": "rgb(100, 155, 0)",
          "size": 10
         },
         "mode": "lines+markers",
         "type": "scattermapbox"
        },
        {
         "lat": [
          47.255462,
          47.228079,
          47.212478,
          47.173999,
          47.131465,
          47.104028,
          47.067589,
          47.066371,
          47.013643,
          46.955474,
          46.896651,
          46.885124,
          46.885134,
          46.88515,
          46.885151
         ],
         "line": {
          "color": "blue",
          "width": 2
         },
         "lon": [
          2.048846,
          2.03729,
          2.03953,
          2.007016,
          1.945398,
          1.878411,
          1.820686,
          1.820411,
          1.782907,
          1.757157,
          1.731231,
          1.725367,
          1.725401,
          1.725437,
          1.725455
         ],
         "marker": {
          "color": "blue",
          "size": 10
         },
         "mode": "lines+markers",
         "type": "scattermapbox"
        },
        {
         "lat": [
          46.885163,
          46.88516,
          46.88516,
          46.885163,
          46.885162,
          46.885164,
          46.885163,
          46.885163,
          46.885159,
          46.885186,
          46.885164
         ],
         "line": {
          "color": "rgb(200, 55, 0)",
          "width": 2
         },
         "lon": [
          1.725493,
          1.725479,
          1.725477,
          1.725489,
          1.725489,
          1.725494,
          1.725487,
          1.725487,
          1.725503,
          1.725505,
          1.725507
         ],
         "marker": {
          "color": "rgb(200, 55, 0)",
          "size": 10
         },
         "mode": "lines+markers",
         "type": "scattermapbox"
        },
        {
         "lat": [
          46.88508
         ],
         "line": {
          "color": "rgb(0, 255, 0)",
          "width": 2
         },
         "lon": [
          1.725379
         ],
         "marker": {
          "color": "rgb(0, 255, 0)",
          "size": 10
         },
         "mode": "lines+markers",
         "type": "scattermapbox"
        },
        {
         "lat": [
          46.885121,
          46.885134,
          46.885134,
          46.8851,
          46.884213,
          46.884146
         ],
         "line": {
          "color": "rgb(50, 205, 0)",
          "width": 2
         },
         "lon": [
          1.725446,
          1.725473,
          1.725473,
          1.72554,
          1.725009,
          1.725046
         ],
         "marker": {
          "color": "rgb(50, 205, 0)",
          "size": 10
         },
         "mode": "lines+markers",
         "type": "scattermapbox"
        },
        {
         "lat": [
          46.867543,
          46.853553
         ],
         "line": {
          "color": "rgb(100, 155, 0)",
          "width": 2
         },
         "lon": [
          1.713015,
          1.703111
         ],
         "marker": {
          "color": "rgb(100, 155, 0)",
          "size": 10
         },
         "mode": "lines+markers",
         "type": "scattermapbox"
        },
        {
         "lat": [
          46.821109,
          46.765195,
          46.712549,
          46.697242,
          46.65512,
          46.610637,
          46.56436,
          46.510849,
          46.508064
         ],
         "line": {
          "color": "rgb(150, 105, 0)",
          "width": 2
         },
         "lon": [
          1.627848,
          1.637101,
          1.593305,
          1.583436,
          1.566222,
          1.516618,
          1.505082,
          1.50757,
          1.505325
         ],
         "marker": {
          "color": "rgb(150, 105, 0)",
          "size": 10
         },
         "mode": "lines+markers",
         "type": "scattermapbox"
        },
        {
         "lat": [
          46.451289,
          46.396648,
          46.341393,
          46.310314,
          46.283146
         ],
         "line": {
          "color": "rgb(200, 55, 0)",
          "width": 2
         },
         "lon": [
          1.49138,
          1.45237,
          1.420059,
          1.418151,
          1.406305
         ],
         "marker": {
          "color": "rgb(200, 55, 0)",
          "size": 10
         },
         "mode": "lines+markers",
         "type": "scattermapbox"
        },
        {
         "lat": [
          44.230589,
          44.230589,
          44.230601,
          44.230601,
          44.230574,
          44.230574,
          44.230588,
          44.178661,
          44.182609,
          44.13214,
          44.090543,
          44.052859,
          44.052796,
          44.047728,
          44.006757,
          43.999094,
          43.952198,
          43.914942,
          43.853625,
          43.829628,
          43.804295,
          43.7449,
          43.685972,
          43.643421,
          43.62772,
          43.610891,
          43.606861,
          43.60701,
          43.608392,
          43.60852,
          43.609473,
          43.629683
         ],
         "line": {
          "color": "rgb(0, 255, 0)",
          "width": 2
         },
         "lon": [
          1.530204,
          1.530204,
          1.530221,
          1.530221,
          1.530345,
          1.530345,
          1.530233,
          1.532243,
          1.533787,
          1.486394,
          1.425513,
          1.409834,
          1.409674,
          1.398209,
          1.383383,
          1.363918,
          1.325545,
          1.31891,
          1.318667,
          1.341885,
          1.367607,
          1.388689,
          1.412358,
          1.421586,
          1.41985,
          1.385486,
          1.336065,
          1.335939,
          1.336136,
          1.336283,
          1.336405,
          1.347145
         ],
         "marker": {
          "color": "rgb(0, 255, 0)",
          "size": 10
         },
         "mode": "lines+markers",
         "type": "scattermapbox"
        },
        {
         "lat": [
          43.629127,
          43.629683,
          43.629677,
          43.629677,
          43.629685,
          43.629714,
          43.629714,
          43.6296,
          43.62969,
          43.62969,
          43.62969,
          43.62969,
          43.629135,
          43.629135,
          43.629135,
          43.629135,
          43.629137,
          43.629137
         ],
         "line": {
          "color": "rgb(50, 205, 0)",
          "width": 2
         },
         "lon": [
          1.346526,
          1.347142,
          1.347128,
          1.347128,
          1.347139,
          1.347364,
          1.347364,
          1.34712,
          1.347281,
          1.347281,
          1.347281,
          1.347281,
          1.349232,
          1.34958,
          1.349232,
          1.349232,
          1.349223,
          1.349223
         ],
         "marker": {
          "color": "rgb(50, 205, 0)",
          "size": 10
         },
         "mode": "lines+markers",
         "type": "scattermapbox"
        },
        {
         "lat": [
          43.588159,
          43.588146,
          43.588146,
          43.588146,
          43.588129,
          43.588204,
          43.588204,
          43.600488,
          43.623849,
          43.660531,
          43.693878,
          43.696737,
          43.722492,
          43.73308,
          43.743469,
          43.744886,
          43.744896,
          43.729336,
          43.725286,
          43.725255,
          43.731682,
          43.728226,
          43.748482,
          43.760176,
          43.753256,
          43.753214,
          43.751999,
          43.740647,
          43.726818
         ],
         "line": {
          "color": "rgb(100, 155, 0)",
          "width": 2
         },
         "lon": [
          7.034236,
          7.0343,
          7.0343,
          7.0343,
          7.034312,
          7.034376,
          7.034376,
          7.056141,
          7.116347,
          7.166573,
          7.189402,
          7.188867,
          7.224929,
          7.289765,
          7.352322,
          7.372702,
          7.372905,
          7.390945,
          7.400464,
          7.400565,
          7.411771,
          7.408228,
          7.424993,
          7.452186,
          7.44087,
          7.440805,
          7.438905,
          7.429911,
          7.40719
         ],
         "marker": {
          "color": "rgb(100, 155, 0)",
          "size": 10
         },
         "mode": "lines+markers",
         "type": "scattermapbox"
        }
       ],
       "layout": {
        "autosize": true,
        "height": 600,
        "hovermode": "closest",
        "mapbox": {
         "center": {
          "lat": 52.1326,
          "lon": 5.2913
         },
         "style": "open-street-map",
         "zoom": 5
        },
        "template": {
         "data": {
          "bar": [
           {
            "error_x": {
             "color": "#2a3f5f"
            },
            "error_y": {
             "color": "#2a3f5f"
            },
            "marker": {
             "line": {
              "color": "#E5ECF6",
              "width": 0.5
             },
             "pattern": {
              "fillmode": "overlay",
              "size": 10,
              "solidity": 0.2
             }
            },
            "type": "bar"
           }
          ],
          "barpolar": [
           {
            "marker": {
             "line": {
              "color": "#E5ECF6",
              "width": 0.5
             },
             "pattern": {
              "fillmode": "overlay",
              "size": 10,
              "solidity": 0.2
             }
            },
            "type": "barpolar"
           }
          ],
          "carpet": [
           {
            "aaxis": {
             "endlinecolor": "#2a3f5f",
             "gridcolor": "white",
             "linecolor": "white",
             "minorgridcolor": "white",
             "startlinecolor": "#2a3f5f"
            },
            "baxis": {
             "endlinecolor": "#2a3f5f",
             "gridcolor": "white",
             "linecolor": "white",
             "minorgridcolor": "white",
             "startlinecolor": "#2a3f5f"
            },
            "type": "carpet"
           }
          ],
          "choropleth": [
           {
            "colorbar": {
             "outlinewidth": 0,
             "ticks": ""
            },
            "type": "choropleth"
           }
          ],
          "contour": [
           {
            "colorbar": {
             "outlinewidth": 0,
             "ticks": ""
            },
            "colorscale": [
             [
              0,
              "#0d0887"
             ],
             [
              0.1111111111111111,
              "#46039f"
             ],
             [
              0.2222222222222222,
              "#7201a8"
             ],
             [
              0.3333333333333333,
              "#9c179e"
             ],
             [
              0.4444444444444444,
              "#bd3786"
             ],
             [
              0.5555555555555556,
              "#d8576b"
             ],
             [
              0.6666666666666666,
              "#ed7953"
             ],
             [
              0.7777777777777778,
              "#fb9f3a"
             ],
             [
              0.8888888888888888,
              "#fdca26"
             ],
             [
              1,
              "#f0f921"
             ]
            ],
            "type": "contour"
           }
          ],
          "contourcarpet": [
           {
            "colorbar": {
             "outlinewidth": 0,
             "ticks": ""
            },
            "type": "contourcarpet"
           }
          ],
          "heatmap": [
           {
            "colorbar": {
             "outlinewidth": 0,
             "ticks": ""
            },
            "colorscale": [
             [
              0,
              "#0d0887"
             ],
             [
              0.1111111111111111,
              "#46039f"
             ],
             [
              0.2222222222222222,
              "#7201a8"
             ],
             [
              0.3333333333333333,
              "#9c179e"
             ],
             [
              0.4444444444444444,
              "#bd3786"
             ],
             [
              0.5555555555555556,
              "#d8576b"
             ],
             [
              0.6666666666666666,
              "#ed7953"
             ],
             [
              0.7777777777777778,
              "#fb9f3a"
             ],
             [
              0.8888888888888888,
              "#fdca26"
             ],
             [
              1,
              "#f0f921"
             ]
            ],
            "type": "heatmap"
           }
          ],
          "heatmapgl": [
           {
            "colorbar": {
             "outlinewidth": 0,
             "ticks": ""
            },
            "colorscale": [
             [
              0,
              "#0d0887"
             ],
             [
              0.1111111111111111,
              "#46039f"
             ],
             [
              0.2222222222222222,
              "#7201a8"
             ],
             [
              0.3333333333333333,
              "#9c179e"
             ],
             [
              0.4444444444444444,
              "#bd3786"
             ],
             [
              0.5555555555555556,
              "#d8576b"
             ],
             [
              0.6666666666666666,
              "#ed7953"
             ],
             [
              0.7777777777777778,
              "#fb9f3a"
             ],
             [
              0.8888888888888888,
              "#fdca26"
             ],
             [
              1,
              "#f0f921"
             ]
            ],
            "type": "heatmapgl"
           }
          ],
          "histogram": [
           {
            "marker": {
             "pattern": {
              "fillmode": "overlay",
              "size": 10,
              "solidity": 0.2
             }
            },
            "type": "histogram"
           }
          ],
          "histogram2d": [
           {
            "colorbar": {
             "outlinewidth": 0,
             "ticks": ""
            },
            "colorscale": [
             [
              0,
              "#0d0887"
             ],
             [
              0.1111111111111111,
              "#46039f"
             ],
             [
              0.2222222222222222,
              "#7201a8"
             ],
             [
              0.3333333333333333,
              "#9c179e"
             ],
             [
              0.4444444444444444,
              "#bd3786"
             ],
             [
              0.5555555555555556,
              "#d8576b"
             ],
             [
              0.6666666666666666,
              "#ed7953"
             ],
             [
              0.7777777777777778,
              "#fb9f3a"
             ],
             [
              0.8888888888888888,
              "#fdca26"
             ],
             [
              1,
              "#f0f921"
             ]
            ],
            "type": "histogram2d"
           }
          ],
          "histogram2dcontour": [
           {
            "colorbar": {
             "outlinewidth": 0,
             "ticks": ""
            },
            "colorscale": [
             [
              0,
              "#0d0887"
             ],
             [
              0.1111111111111111,
              "#46039f"
             ],
             [
              0.2222222222222222,
              "#7201a8"
             ],
             [
              0.3333333333333333,
              "#9c179e"
             ],
             [
              0.4444444444444444,
              "#bd3786"
             ],
             [
              0.5555555555555556,
              "#d8576b"
             ],
             [
              0.6666666666666666,
              "#ed7953"
             ],
             [
              0.7777777777777778,
              "#fb9f3a"
             ],
             [
              0.8888888888888888,
              "#fdca26"
             ],
             [
              1,
              "#f0f921"
             ]
            ],
            "type": "histogram2dcontour"
           }
          ],
          "mesh3d": [
           {
            "colorbar": {
             "outlinewidth": 0,
             "ticks": ""
            },
            "type": "mesh3d"
           }
          ],
          "parcoords": [
           {
            "line": {
             "colorbar": {
              "outlinewidth": 0,
              "ticks": ""
             }
            },
            "type": "parcoords"
           }
          ],
          "pie": [
           {
            "automargin": true,
            "type": "pie"
           }
          ],
          "scatter": [
           {
            "fillpattern": {
             "fillmode": "overlay",
             "size": 10,
             "solidity": 0.2
            },
            "type": "scatter"
           }
          ],
          "scatter3d": [
           {
            "line": {
             "colorbar": {
              "outlinewidth": 0,
              "ticks": ""
             }
            },
            "marker": {
             "colorbar": {
              "outlinewidth": 0,
              "ticks": ""
             }
            },
            "type": "scatter3d"
           }
          ],
          "scattercarpet": [
           {
            "marker": {
             "colorbar": {
              "outlinewidth": 0,
              "ticks": ""
             }
            },
            "type": "scattercarpet"
           }
          ],
          "scattergeo": [
           {
            "marker": {
             "colorbar": {
              "outlinewidth": 0,
              "ticks": ""
             }
            },
            "type": "scattergeo"
           }
          ],
          "scattergl": [
           {
            "marker": {
             "colorbar": {
              "outlinewidth": 0,
              "ticks": ""
             }
            },
            "type": "scattergl"
           }
          ],
          "scattermapbox": [
           {
            "marker": {
             "colorbar": {
              "outlinewidth": 0,
              "ticks": ""
             }
            },
            "type": "scattermapbox"
           }
          ],
          "scatterpolar": [
           {
            "marker": {
             "colorbar": {
              "outlinewidth": 0,
              "ticks": ""
             }
            },
            "type": "scatterpolar"
           }
          ],
          "scatterpolargl": [
           {
            "marker": {
             "colorbar": {
              "outlinewidth": 0,
              "ticks": ""
             }
            },
            "type": "scatterpolargl"
           }
          ],
          "scatterternary": [
           {
            "marker": {
             "colorbar": {
              "outlinewidth": 0,
              "ticks": ""
             }
            },
            "type": "scatterternary"
           }
          ],
          "surface": [
           {
            "colorbar": {
             "outlinewidth": 0,
             "ticks": ""
            },
            "colorscale": [
             [
              0,
              "#0d0887"
             ],
             [
              0.1111111111111111,
              "#46039f"
             ],
             [
              0.2222222222222222,
              "#7201a8"
             ],
             [
              0.3333333333333333,
              "#9c179e"
             ],
             [
              0.4444444444444444,
              "#bd3786"
             ],
             [
              0.5555555555555556,
              "#d8576b"
             ],
             [
              0.6666666666666666,
              "#ed7953"
             ],
             [
              0.7777777777777778,
              "#fb9f3a"
             ],
             [
              0.8888888888888888,
              "#fdca26"
             ],
             [
              1,
              "#f0f921"
             ]
            ],
            "type": "surface"
           }
          ],
          "table": [
           {
            "cells": {
             "fill": {
              "color": "#EBF0F8"
             },
             "line": {
              "color": "white"
             }
            },
            "header": {
             "fill": {
              "color": "#C8D4E3"
             },
             "line": {
              "color": "white"
             }
            },
            "type": "table"
           }
          ]
         },
         "layout": {
          "annotationdefaults": {
           "arrowcolor": "#2a3f5f",
           "arrowhead": 0,
           "arrowwidth": 1
          },
          "autotypenumbers": "strict",
          "coloraxis": {
           "colorbar": {
            "outlinewidth": 0,
            "ticks": ""
           }
          },
          "colorscale": {
           "diverging": [
            [
             0,
             "#8e0152"
            ],
            [
             0.1,
             "#c51b7d"
            ],
            [
             0.2,
             "#de77ae"
            ],
            [
             0.3,
             "#f1b6da"
            ],
            [
             0.4,
             "#fde0ef"
            ],
            [
             0.5,
             "#f7f7f7"
            ],
            [
             0.6,
             "#e6f5d0"
            ],
            [
             0.7,
             "#b8e186"
            ],
            [
             0.8,
             "#7fbc41"
            ],
            [
             0.9,
             "#4d9221"
            ],
            [
             1,
             "#276419"
            ]
           ],
           "sequential": [
            [
             0,
             "#0d0887"
            ],
            [
             0.1111111111111111,
             "#46039f"
            ],
            [
             0.2222222222222222,
             "#7201a8"
            ],
            [
             0.3333333333333333,
             "#9c179e"
            ],
            [
             0.4444444444444444,
             "#bd3786"
            ],
            [
             0.5555555555555556,
             "#d8576b"
            ],
            [
             0.6666666666666666,
             "#ed7953"
            ],
            [
             0.7777777777777778,
             "#fb9f3a"
            ],
            [
             0.8888888888888888,
             "#fdca26"
            ],
            [
             1,
             "#f0f921"
            ]
           ],
           "sequentialminus": [
            [
             0,
             "#0d0887"
            ],
            [
             0.1111111111111111,
             "#46039f"
            ],
            [
             0.2222222222222222,
             "#7201a8"
            ],
            [
             0.3333333333333333,
             "#9c179e"
            ],
            [
             0.4444444444444444,
             "#bd3786"
            ],
            [
             0.5555555555555556,
             "#d8576b"
            ],
            [
             0.6666666666666666,
             "#ed7953"
            ],
            [
             0.7777777777777778,
             "#fb9f3a"
            ],
            [
             0.8888888888888888,
             "#fdca26"
            ],
            [
             1,
             "#f0f921"
            ]
           ]
          },
          "colorway": [
           "#636efa",
           "#EF553B",
           "#00cc96",
           "#ab63fa",
           "#FFA15A",
           "#19d3f3",
           "#FF6692",
           "#B6E880",
           "#FF97FF",
           "#FECB52"
          ],
          "font": {
           "color": "#2a3f5f"
          },
          "geo": {
           "bgcolor": "white",
           "lakecolor": "white",
           "landcolor": "#E5ECF6",
           "showlakes": true,
           "showland": true,
           "subunitcolor": "white"
          },
          "hoverlabel": {
           "align": "left"
          },
          "hovermode": "closest",
          "mapbox": {
           "style": "light"
          },
          "paper_bgcolor": "white",
          "plot_bgcolor": "#E5ECF6",
          "polar": {
           "angularaxis": {
            "gridcolor": "white",
            "linecolor": "white",
            "ticks": ""
           },
           "bgcolor": "#E5ECF6",
           "radialaxis": {
            "gridcolor": "white",
            "linecolor": "white",
            "ticks": ""
           }
          },
          "scene": {
           "xaxis": {
            "backgroundcolor": "#E5ECF6",
            "gridcolor": "white",
            "gridwidth": 2,
            "linecolor": "white",
            "showbackground": true,
            "ticks": "",
            "zerolinecolor": "white"
           },
           "yaxis": {
            "backgroundcolor": "#E5ECF6",
            "gridcolor": "white",
            "gridwidth": 2,
            "linecolor": "white",
            "showbackground": true,
            "ticks": "",
            "zerolinecolor": "white"
           },
           "zaxis": {
            "backgroundcolor": "#E5ECF6",
            "gridcolor": "white",
            "gridwidth": 2,
            "linecolor": "white",
            "showbackground": true,
            "ticks": "",
            "zerolinecolor": "white"
           }
          },
          "shapedefaults": {
           "line": {
            "color": "#2a3f5f"
           }
          },
          "ternary": {
           "aaxis": {
            "gridcolor": "white",
            "linecolor": "white",
            "ticks": ""
           },
           "baxis": {
            "gridcolor": "white",
            "linecolor": "white",
            "ticks": ""
           },
           "bgcolor": "#E5ECF6",
           "caxis": {
            "gridcolor": "white",
            "linecolor": "white",
            "ticks": ""
           }
          },
          "title": {
           "x": 0.05
          },
          "xaxis": {
           "automargin": true,
           "gridcolor": "white",
           "linecolor": "white",
           "ticks": "",
           "title": {
            "standoff": 15
           },
           "zerolinecolor": "white",
           "zerolinewidth": 2
          },
          "yaxis": {
           "automargin": true,
           "gridcolor": "white",
           "linecolor": "white",
           "ticks": "",
           "title": {
            "standoff": 15
           },
           "zerolinecolor": "white",
           "zerolinewidth": 2
          }
         }
        },
        "width": 1000
       }
      }
     },
     "metadata": {},
     "output_type": "display_data"
    },
    {
     "data": {
      "application/vnd.plotly.v1+json": {
       "config": {
        "plotlyServerURL": "https://plot.ly"
       },
       "data": [
        {
         "lat": [
          51.264967,
          51.264968,
          51.264968,
          51.264968,
          51.264961,
          51.265012,
          51.265012,
          51.266747,
          51.266813,
          51.265816,
          51.265776,
          51.261713,
          51.261576,
          51.256392,
          51.260354,
          51.260369,
          51.26276,
          51.262761,
          51.262765,
          51.262782,
          51.262782,
          51.262764,
          51.263,
          51.262769,
          51.262791,
          51.262791,
          51.262885,
          51.262885,
          51.257226,
          51.257257,
          51.25728,
          51.25749,
          51.25749,
          51.25749,
          51.25749,
          51.257478,
          51.25749,
          51.257474,
          51.257477,
          51.2575,
          51.2575,
          51.257461,
          51.257461,
          51.257461,
          51.257461,
          51.257496,
          51.257488
         ],
         "line": {
          "color": "rgb(0, 255, 0)",
          "width": 2
         },
         "lon": [
          4.283523,
          4.283523,
          4.283523,
          4.283523,
          4.283535,
          4.28358,
          4.28358,
          4.288068,
          4.288056,
          4.279989,
          4.279972,
          4.278927,
          4.278451,
          4.245702,
          4.247168,
          4.247182,
          4.249267,
          4.249272,
          4.24928,
          4.249274,
          4.249274,
          4.249281,
          4.2492,
          4.249285,
          4.249246,
          4.249246,
          4.249312,
          4.249312,
          4.243721,
          4.2437,
          4.242657,
          4.242703,
          4.242704,
          4.242704,
          4.242704,
          4.242718,
          4.242675,
          4.242713,
          4.242649,
          4.2426,
          4.2426,
          4.242609,
          4.242609,
          4.242609,
          4.242609,
          4.242683,
          4.242669
         ],
         "marker": {
          "color": "rgb(0, 255, 0)",
          "size": 10
         },
         "mode": "lines+markers",
         "type": "scattermapbox"
        },
        {
         "lat": [
          51.257488,
          51.257488,
          51.257488
         ],
         "line": {
          "color": "rgb(50, 205, 0)",
          "width": 2
         },
         "lon": [
          4.242669,
          4.242669,
          4.242669
         ],
         "marker": {
          "color": "rgb(50, 205, 0)",
          "size": 10
         },
         "mode": "lines+markers",
         "type": "scattermapbox"
        },
        {
         "lat": [
          50.7544,
          50.7544,
          50.7544,
          50.754428,
          50.75447,
          50.75447,
          50.754973,
          50.754987,
          50.750666,
          50.730119,
          50.674444,
          50.627135,
          50.594118,
          50.587631,
          50.572363,
          50.525939,
          50.476507,
          50.454441,
          50.422349,
          50.386124,
          50.383099,
          50.363766,
          50.363761,
          50.363149,
          50.366838,
          50.338686,
          50.297537,
          50.250185,
          50.205236,
          50.20757,
          50.157638,
          50.100074,
          50.044566,
          50.012377,
          49.998271,
          49.972516,
          49.940804,
          49.93045,
          49.924935,
          49.905473,
          49.85039,
          49.816,
          49.775072
         ],
         "line": {
          "color": "rgb(100, 155, 0)",
          "width": 2
         },
         "lon": [
          6.85229,
          6.85229,
          6.85229,
          6.852311,
          6.85233,
          6.85233,
          6.853202,
          6.853233,
          6.852298,
          6.881921,
          6.919011,
          6.973123,
          7.026977,
          7.044484,
          7.135182,
          7.188895,
          7.223769,
          7.23234,
          7.230505,
          7.291877,
          7.380044,
          7.428561,
          7.428627,
          7.436786,
          7.459839,
          7.510819,
          7.502002,
          7.517331,
          7.573843,
          7.569996,
          7.594252,
          7.603278,
          7.637864,
          7.681376,
          7.684783,
          7.737805,
          7.798397,
          7.883349,
          7.943291,
          7.947601,
          7.979486,
          8.049952,
          8.110515
         ],
         "marker": {
          "color": "rgb(100, 155, 0)",
          "size": 10
         },
         "mode": "lines+markers",
         "type": "scattermapbox"
        },
        {
         "lat": [
          49.762954,
          49.719441,
          49.698773,
          49.6567,
          49.613664,
          49.604459
         ],
         "line": {
          "color": "rgb(150, 105, 0)",
          "width": 2
         },
         "lon": [
          8.114794,
          8.134703,
          8.21643,
          8.284182,
          8.291098,
          8.288345
         ],
         "marker": {
          "color": "rgb(150, 105, 0)",
          "size": 10
         },
         "mode": "lines+markers",
         "type": "scattermapbox"
        },
        {
         "lat": [
          50.994167,
          50.994164,
          50.994164,
          50.994115,
          50.994115,
          50.994108,
          50.994089,
          50.994079,
          50.994045,
          50.994045,
          50.994223,
          50.993371,
          50.993327,
          50.992951
         ],
         "line": {
          "color": "rgb(200, 55, 0)",
          "width": 2
         },
         "lon": [
          5.240767,
          5.240773,
          5.240773,
          5.240775,
          5.240775,
          5.240818,
          5.240795,
          5.240799,
          5.240863,
          5.240863,
          5.241447,
          5.240308,
          5.240285,
          5.240464
         ],
         "marker": {
          "color": "rgb(200, 55, 0)",
          "size": 10
         },
         "mode": "lines+markers",
         "type": "scattermapbox"
        },
        {
         "lat": [
          50.992898,
          50.983636,
          51.006359,
          51.030154,
          51.077728,
          51.101342,
          51.2548,
          51.2548,
          51.2548,
          51.2548,
          51.2548,
          51.254768,
          51.25477,
          51.25477,
          51.254767,
          51.254698,
          51.254765,
          51.242259,
          51.227942,
          51.226756,
          51.203,
          51.201208,
          51.201145,
          51.25488
         ],
         "line": {
          "color": "rgb(0, 255, 0)",
          "width": 2
         },
         "lon": [
          5.24045,
          5.242122,
          5.218446,
          5.200133,
          5.138059,
          5.050598,
          4.24988,
          4.24988,
          4.24988,
          4.24988,
          4.24988,
          4.249894,
          4.249887,
          4.249887,
          4.24989,
          4.250799,
          4.249895,
          4.258909,
          4.345116,
          4.351693,
          4.37449,
          4.376393,
          4.376462,
          4.249346
         ],
         "marker": {
          "color": "rgb(0, 255, 0)",
          "size": 10
         },
         "mode": "lines+markers",
         "type": "scattermapbox"
        },
        {
         "lat": [
          51.254371,
          51.254371,
          51.196297,
          51.254371,
          51.1988,
          51.21167,
          51.197697,
          51.194823,
          51.181658,
          51.167942,
          51.147972,
          51.12592
         ],
         "line": {
          "color": "rgb(50, 205, 0)",
          "width": 2
         },
         "lon": [
          4.248231,
          4.248231,
          4.391797,
          4.248231,
          4.43566,
          4.501624,
          4.594922,
          4.625332,
          4.688168,
          4.780491,
          4.871515,
          4.950018
         ],
         "marker": {
          "color": "rgb(50, 205, 0)",
          "size": 10
         },
         "mode": "lines+markers",
         "type": "scattermapbox"
        },
        {
         "lat": [
          49.5955,
          49.595458,
          49.5955,
          49.59544,
          49.595437,
          49.595432,
          49.595359,
          49.595359,
          49.562405,
          49.520091,
          49.496485,
          49.454068,
          49.449944,
          49.400527,
          49.349335,
          49.303927,
          49.282008,
          49.257402,
          49.211619,
          49.1862,
          49.14411,
          49.128906,
          49.093151,
          49.04605,
          49.01385,
          48.96807,
          48.95968,
          48.916917,
          48.876187,
          48.834041,
          48.792018,
          48.789865,
          48.75005,
          48.714618,
          48.690098,
          48.663813
         ],
         "line": {
          "color": "rgb(100, 155, 0)",
          "width": 2
         },
         "lon": [
          4.49876,
          4.498754,
          4.49876,
          4.498751,
          4.498762,
          4.498754,
          4.498755,
          4.498755,
          4.466097,
          4.403106,
          4.353757,
          4.3008,
          4.296647,
          4.245079,
          4.197944,
          4.137437,
          4.111464,
          4.085338,
          4.078167,
          4.145687,
          4.212593,
          4.228144,
          4.25687,
          4.310609,
          4.32894,
          4.382868,
          4.390322,
          4.422877,
          4.468134,
          4.531485,
          4.578023,
          4.578985,
          4.591731,
          4.63613,
          4.716715,
          4.79704
         ],
         "marker": {
          "color": "rgb(100, 155, 0)",
          "size": 10
         },
         "mode": "lines+markers",
         "type": "scattermapbox"
        },
        {
         "lat": [
          48.663149,
          48.65727,
          48.65723,
          48.653046,
          48.640671
         ],
         "line": {
          "color": "rgb(150, 105, 0)",
          "width": 2
         },
         "lon": [
          4.798949,
          4.815377,
          4.815468,
          4.826944,
          4.91247
         ],
         "marker": {
          "color": "rgb(150, 105, 0)",
          "size": 10
         },
         "mode": "lines+markers",
         "type": "scattermapbox"
        },
        {
         "lat": [
          48.620618,
          48.622528,
          48.622418,
          48.594215,
          48.56668,
          48.552593,
          48.552593,
          48.552593,
          48.552593
         ],
         "line": {
          "color": "rgb(200, 55, 0)",
          "width": 2
         },
         "lon": [
          4.987413,
          4.993582,
          4.99371,
          5.03082,
          5.03522,
          5.060996,
          5.060996,
          5.060996,
          5.060996
         ],
         "marker": {
          "color": "rgb(200, 55, 0)",
          "size": 10
         },
         "mode": "lines+markers",
         "type": "scattermapbox"
        },
        {
         "lat": [
          47.2182,
          47.218168,
          47.2182,
          47.218168,
          47.2182,
          47.218168,
          47.218156,
          47.218156,
          47.21815,
          47.218145,
          47.218145,
          47.218145,
          47.218143,
          47.21814,
          47.218147
         ],
         "line": {
          "color": "blue",
          "width": 2
         },
         "lon": [
          5.00065,
          5.000712,
          5.00071,
          5.000712,
          5.00079,
          5.000712,
          5.000722,
          5.000722,
          5.000715,
          5.000711,
          5.000711,
          5.000711,
          5.000725,
          5.000728,
          5.000722
         ],
         "marker": {
          "color": "blue",
          "size": 10
         },
         "mode": "lines+markers",
         "type": "scattermapbox"
        },
        {
         "lat": [
          47.218143,
          47.218147
         ],
         "line": {
          "color": "blue",
          "width": 2
         },
         "lon": [
          5.000715,
          5.000719
         ],
         "marker": {
          "color": "blue",
          "size": 10
         },
         "mode": "lines+markers",
         "type": "scattermapbox"
        },
        {
         "lat": [
          47.218166,
          47.218176,
          47.218163,
          47.218138,
          47.218109,
          47.21809,
          47.218098,
          47.218092,
          47.218113,
          47.218114,
          47.21812,
          47.218136,
          47.218136,
          47.218152,
          47.218125,
          47.2181,
          47.218146,
          47.218146,
          47.218166,
          47.218166,
          47.218166,
          47.218151,
          47.218151,
          47.218153,
          47.218135,
          47.218135,
          47.217498,
          47.217427,
          47.20408,
          47.144785,
          47.094865,
          47.092906,
          47.042991,
          46.987321,
          46.929672,
          46.899671,
          46.86871,
          46.808675,
          46.750206,
          46.756169,
          46.759629,
          46.756921,
          46.740258,
          46.741318,
          46.754021,
          46.761342,
          46.778247,
          46.788291,
          46.78834
         ],
         "line": {
          "color": "rgb(100, 155, 0)",
          "width": 2
         },
         "lon": [
          5.000684,
          5.000704,
          5.000706,
          5.000735,
          5.000756,
          5.000773,
          5.000766,
          5.000767,
          5.000736,
          5.000741,
          5.000752,
          5.000744,
          5.000744,
          5.000737,
          5.000721,
          5.00075,
          5.000714,
          5.000714,
          5.000712,
          5.000712,
          5.000712,
          5.000712,
          5.000712,
          5.000714,
          5.000789,
          5.000789,
          5.000586,
          5.000604,
          4.996983,
          4.987863,
          4.942549,
          4.940381,
          4.888569,
          4.85129,
          4.820461,
          4.82228,
          4.819466,
          4.826422,
          4.831884,
          4.800582,
          4.756285,
          4.712143,
          4.630901,
          4.551984,
          4.486202,
          4.461553,
          4.443478,
          4.445371,
          4.445499
         ],
         "marker": {
          "color": "rgb(100, 155, 0)",
          "size": 10
         },
         "mode": "lines+markers",
         "type": "scattermapbox"
        },
        {
         "lat": [
          46.789715,
          46.789713,
          46.789711,
          46.789716,
          46.789716,
          46.789703,
          46.789716,
          46.789711,
          46.789725,
          46.789725,
          46.789693,
          46.789693,
          46.789693,
          46.789693,
          46.789691,
          46.789691,
          46.789691,
          46.789691,
          46.7897
         ],
         "line": {
          "color": "rgb(150, 105, 0)",
          "width": 2
         },
         "lon": [
          4.449036,
          4.449081,
          4.449085,
          4.449088,
          4.449088,
          4.449096,
          4.449144,
          4.449104,
          4.449113,
          4.449113,
          4.449303,
          4.449303,
          4.449303,
          4.449303,
          4.449305,
          4.449305,
          4.449305,
          4.449305,
          4.44946
         ],
         "marker": {
          "color": "rgb(150, 105, 0)",
          "size": 10
         },
         "mode": "lines+markers",
         "type": "scattermapbox"
        },
        {
         "lat": [
          47.328989,
          47.328963,
          47.328961,
          47.328961,
          47.328961,
          47.328947,
          47.328947,
          47.328996,
          47.337872,
          47.346292,
          47.344121,
          47.373758,
          47.41073,
          47.402291,
          47.414206,
          47.417432,
          47.423782,
          47.456385,
          47.49764,
          47.506605,
          47.546004,
          47.605718,
          47.646428,
          47.672392,
          47.676522,
          47.712386,
          47.718602,
          47.740184,
          47.744403,
          47.761238
         ],
         "line": {
          "color": "rgb(200, 55, 0)",
          "width": 2
         },
         "lon": [
          6.130058,
          6.130061,
          6.130075,
          6.130075,
          6.130071,
          6.13011,
          6.13011,
          6.129002,
          6.214401,
          6.302934,
          6.299415,
          6.369937,
          6.526112,
          6.441337,
          6.576684,
          6.612755,
          6.686885,
          6.756743,
          6.817126,
          6.832817,
          6.863935,
          6.856987,
          6.911414,
          6.971411,
          6.983916,
          7.054769,
          7.144215,
          7.229576,
          7.263757,
          7.314077
         ],
         "marker": {
          "color": "rgb(200, 55, 0)",
          "size": 10
         },
         "mode": "lines+markers",
         "type": "scattermapbox"
        },
        {
         "lat": [
          47.777873,
          47.837531,
          47.89171,
          47.896633,
          47.956362,
          48.016833,
          48.076147,
          48.103424,
          48.130072,
          48.183437,
          48.239868,
          48.286307,
          48.29271,
          48.337428,
          48.394436,
          48.451827,
          48.482977,
          48.498966,
          48.539924
         ],
         "line": {
          "color": "rgb(0, 255, 0)",
          "width": 2
         },
         "lon": [
          7.398373,
          7.394485,
          7.376115,
          7.373025,
          7.367325,
          7.374619,
          7.385389,
          7.38262,
          7.366009,
          7.386688,
          7.408484,
          7.457627,
          7.465086,
          7.499835,
          7.475876,
          7.5074,
          7.549943,
          7.563913,
          7.581533
         ],
         "marker": {
          "color": "rgb(0, 255, 0)",
          "size": 10
         },
         "mode": "lines+markers",
         "type": "scattermapbox"
        },
        {
         "lat": [
          49.702988,
          49.702988,
          49.702988,
          49.703017,
          49.703017,
          49.703847,
          49.707561,
          49.735821,
          49.786202,
          49.842725,
          49.878744,
          49.879755,
          49.887244,
          49.910637,
          49.947265,
          49.989097,
          50.005681,
          50.063526,
          50.099659,
          50.15225,
          50.165587,
          50.203661,
          50.255883,
          50.311798,
          50.371487,
          50.368899,
          50.418426,
          50.474626,
          50.520914,
          50.552967,
          50.558746
         ],
         "line": {
          "color": "rgb(50, 205, 0)",
          "width": 2
         },
         "lon": [
          5.622984,
          5.622984,
          5.622984,
          5.623028,
          5.623028,
          5.623619,
          5.62141,
          5.57698,
          5.532996,
          5.51088,
          5.45706,
          5.450736,
          5.368939,
          5.29446,
          5.236924,
          5.233092,
          5.219851,
          5.19624,
          5.124816,
          5.074701,
          5.070756,
          5.06582,
          5.047331,
          5.020628,
          4.996075,
          4.998255,
          4.945573,
          4.91067,
          4.881197,
          4.848116,
          4.838869
         ],
         "marker": {
          "color": "rgb(50, 205, 0)",
          "size": 10
         },
         "mode": "lines+markers",
         "type": "scattermapbox"
        },
        {
         "lat": [
          50.576967,
          50.616174,
          50.652206,
          50.686291,
          50.706647,
          50.727441,
          50.771082,
          50.789695,
          50.792802,
          50.792819,
          50.794095,
          50.794116,
          50.794362,
          50.794391,
          50.794506,
          50.794532,
          50.794548,
          50.794578,
          50.794588
         ],
         "line": {
          "color": "rgb(100, 155, 0)",
          "width": 2
         },
         "lon": [
          4.815569,
          4.770597,
          4.695456,
          4.624286,
          4.609729,
          4.563476,
          4.502506,
          4.488492,
          4.482048,
          4.482004,
          4.479373,
          4.479333,
          4.478921,
          4.47885,
          4.478664,
          4.478623,
          4.478599,
          4.478569,
          4.478553
         ],
         "marker": {
          "color": "rgb(100, 155, 0)",
          "size": 10
         },
         "mode": "lines+markers",
         "type": "scattermapbox"
        },
        {
         "lat": [
          49.590092,
          49.590092,
          49.590092,
          49.590092,
          49.590129,
          49.590129,
          49.590092,
          49.580262,
          49.533862,
          49.5293,
          49.516244,
          49.467221,
          49.418063,
          49.384062,
          49.370983,
          49.326989,
          49.280549,
          49.230174,
          49.210533,
          49.200546,
          49.166825,
          49.120461,
          49.064234,
          49.054798,
          49.033792,
          48.985139,
          48.93947,
          48.905208,
          48.889051
         ],
         "line": {
          "color": "rgb(150, 105, 0)",
          "width": 2
         },
         "lon": [
          4.499575,
          4.499575,
          4.499557,
          4.499557,
          4.499585,
          4.499585,
          4.499557,
          4.483973,
          4.424192,
          4.42005,
          4.346781,
          4.316293,
          4.263573,
          4.228507,
          4.21586,
          4.165485,
          4.107296,
          4.068507,
          4.079477,
          4.106337,
          4.183792,
          4.243477,
          4.276053,
          4.287698,
          4.318314,
          4.350068,
          4.396908,
          4.44353,
          4.455943
         ],
         "marker": {
          "color": "rgb(150, 105, 0)",
          "size": 10
         },
         "mode": "lines+markers",
         "type": "scattermapbox"
        },
        {
         "lat": [
          48.854756,
          48.813769,
          48.771175,
          48.736917,
          48.72456,
          48.702079,
          48.677436,
          48.651873,
          48.63767,
          48.638599,
          48.620977,
          48.591576,
          48.546251,
          48.501391,
          48.500294,
          48.453224,
          48.404911,
          48.38569,
          48.385554,
          48.37528
         ],
         "line": {
          "color": "rgb(200, 55, 0)",
          "width": 2
         },
         "lon": [
          4.492277,
          4.550293,
          4.583135,
          4.60599,
          4.626485,
          4.672691,
          4.75779,
          4.840833,
          4.92039,
          4.919041,
          4.987961,
          5.031378,
          5.069605,
          5.105424,
          5.106711,
          5.150715,
          5.157128,
          5.15373,
          5.153829,
          5.156262
         ],
         "marker": {
          "color": "rgb(200, 55, 0)",
          "size": 10
         },
         "mode": "lines+markers",
         "type": "scattermapbox"
        },
        {
         "lat": [
          47.32715,
          47.32715,
          47.327135,
          47.327142,
          47.327135,
          47.327148,
          47.327183,
          47.327183,
          47.336815,
          47.343726,
          47.344321,
          47.344321,
          47.344321,
          47.344321,
          47.344341,
          47.344341,
          47.344331,
          47.344331,
          47.344331,
          47.34431,
          47.347031,
          47.374068,
          47.374146,
          47.404845,
          47.410249,
          47.4171,
          47.426076
         ],
         "line": {
          "color": "rgb(0, 255, 0)",
          "width": 2
         },
         "lon": [
          6.124531,
          6.124531,
          6.124539,
          6.124524,
          6.124539,
          6.124525,
          6.124529,
          6.124529,
          6.15788,
          6.246504,
          6.255238,
          6.255237,
          6.255235,
          6.255235,
          6.255339,
          6.255339,
          6.255378,
          6.255378,
          6.255378,
          6.255225,
          6.304209,
          6.361111,
          6.375667,
          6.445004,
          6.529433,
          6.615541,
          6.64794
         ],
         "marker": {
          "color": "rgb(0, 255, 0)",
          "size": 10
         },
         "mode": "lines+markers",
         "type": "scattermapbox"
        },
        {
         "lat": [
          47.425829,
          47.442619,
          47.443109,
          47.442703,
          47.443108,
          47.443108,
          47.443108,
          47.443127,
          47.443119,
          47.443115,
          47.443115,
          47.443105,
          47.443114,
          47.443114,
          47.443102,
          47.443101,
          47.443101
         ],
         "line": {
          "color": "rgb(50, 205, 0)",
          "width": 2
         },
         "lon": [
          6.689482,
          6.732402,
          6.732394,
          6.730988,
          6.732394,
          6.732394,
          6.732394,
          6.732388,
          6.732397,
          6.732394,
          6.732394,
          6.732396,
          6.732401,
          6.732401,
          6.732394,
          6.732503,
          6.732503
         ],
         "marker": {
          "color": "rgb(50, 205, 0)",
          "size": 10
         },
         "mode": "lines+markers",
         "type": "scattermapbox"
        },
        {
         "lat": [
          47.4431,
          47.4431,
          47.4431,
          47.444735
         ],
         "line": {
          "color": "rgb(100, 155, 0)",
          "width": 2
         },
         "lon": [
          6.7324,
          6.7324,
          6.7324,
          6.738362
         ],
         "marker": {
          "color": "rgb(100, 155, 0)",
          "size": 10
         },
         "mode": "lines+markers",
         "type": "scattermapbox"
        },
        {
         "lat": [
          47.482943,
          47.525593,
          47.577711,
          47.577711,
          47.577711,
          47.577684,
          47.577679,
          47.577682,
          47.577657,
          47.577667,
          47.577671,
          47.577671,
          47.577709,
          47.577681,
          47.577723,
          47.577718,
          47.577718,
          47.577688,
          47.577683,
          47.577682,
          47.577673,
          47.577691,
          47.577667,
          47.577704,
          47.577696,
          47.57769,
          47.577676,
          47.577685,
          47.577696,
          47.577708,
          47.577708,
          47.5753,
          47.5702,
          47.5702
         ],
         "line": {
          "color": "rgb(150, 105, 0)",
          "width": 2
         },
         "lon": [
          6.801864,
          6.856876,
          7.565145,
          7.565145,
          7.565145,
          7.565171,
          7.565192,
          7.565174,
          7.565184,
          7.565199,
          7.565202,
          7.565189,
          7.565197,
          7.565185,
          7.565137,
          7.565146,
          7.565146,
          7.565176,
          7.56517,
          7.565174,
          7.565146,
          7.565167,
          7.565168,
          7.56519,
          7.565194,
          7.565186,
          7.565175,
          7.565186,
          7.565174,
          7.565103,
          7.565103,
          7.56177,
          7.58273,
          7.58273
         ],
         "marker": {
          "color": "rgb(150, 105, 0)",
          "size": 10
         },
         "mode": "lines+markers",
         "type": "scattermapbox"
        },
        {
         "lat": [
          47.5702,
          47.5702,
          47.5702,
          47.5702,
          47.5702,
          47.5702,
          47.5702,
          47.5702,
          47.5702,
          47.572643,
          47.572738,
          47.573369,
          47.573456,
          47.57344,
          47.574151,
          47.57415,
          47.526211,
          47.52733,
          47.540828,
          47.558248,
          47.5704,
          47.5704,
          47.5704,
          47.570574,
          47.57063
         ],
         "line": {
          "color": "rgb(200, 55, 0)",
          "width": 2
         },
         "lon": [
          7.58273,
          7.58273,
          7.58273,
          7.58273,
          7.58273,
          7.58273,
          7.58273,
          7.58273,
          7.58273,
          7.598649,
          7.598621,
          7.598601,
          7.598636,
          7.598631,
          7.599963,
          7.600092,
          7.713198,
          7.677364,
          7.632601,
          7.61365,
          7.60397,
          7.60397,
          7.60397,
          7.603787,
          7.603755
         ],
         "marker": {
          "color": "rgb(200, 55, 0)",
          "size": 10
         },
         "mode": "lines+markers",
         "type": "scattermapbox"
        },
        {
         "lat": [
          47.570761,
          47.570787,
          47.573028,
          47.573069,
          47.496238,
          47.449463,
          47.394955,
          47.3784,
          47.34578,
          47.30979,
          47.311989,
          47.305917,
          47.305971,
          47.312728,
          47.7749,
          47.774888,
          47.774844,
          47.774839,
          47.774823
         ],
         "line": {
          "color": "blue",
          "width": 2
         },
         "lon": [
          7.603672,
          7.60365,
          7.602018,
          7.601987,
          7.767398,
          7.803097,
          7.81483,
          7.81608,
          7.83574,
          7.830932,
          7.895991,
          7.92894,
          7.929169,
          7.920223,
          7.37837,
          7.378388,
          7.378466,
          7.378458,
          7.378481
         ],
         "marker": {
          "color": "blue",
          "size": 10
         },
         "mode": "lines+markers",
         "type": "scattermapbox"
        },
        {
         "lat": [
          47.774837,
          47.774848,
          47.774845,
          47.774829,
          47.774818,
          47.774825,
          47.774818,
          47.774814,
          47.774886,
          47.774884,
          47.774871,
          47.774889,
          47.774882,
          47.774883,
          47.774891,
          47.774892,
          47.77488,
          47.774874,
          47.774889,
          47.774895,
          47.774888,
          47.7749,
          47.7749,
          47.7749,
          47.774877,
          47.774877,
          47.774866,
          47.775462,
          47.775426,
          47.770914,
          47.770815,
          47.770736,
          47.779104,
          47.778064,
          47.778073,
          47.778825,
          47.777247,
          47.777171,
          47.768119,
          47.759598,
          47.759466,
          47.759599,
          47.773172
         ],
         "line": {
          "color": "rgb(50, 205, 0)",
          "width": 2
         },
         "lon": [
          7.378452,
          7.378468,
          7.37846,
          7.378453,
          7.378458,
          7.378458,
          7.378466,
          7.378473,
          7.37842,
          7.378457,
          7.378402,
          7.378426,
          7.378408,
          7.378416,
          7.378428,
          7.378441,
          7.378415,
          7.378429,
          7.378424,
          7.378442,
          7.378456,
          7.37842,
          7.37842,
          7.37842,
          7.378477,
          7.378477,
          7.378498,
          7.379359,
          7.379431,
          7.386615,
          7.386752,
          7.387412,
          7.366657,
          7.353339,
          7.353157,
          7.335161,
          7.331351,
          7.331195,
          7.305333,
          7.279765,
          7.279686,
          7.27976,
          7.225186
         ],
         "marker": {
          "color": "rgb(50, 205, 0)",
          "size": 10
         },
         "mode": "lines+markers",
         "type": "scattermapbox"
        },
        {
         "lat": [
          49.369909,
          49.369914,
          49.369909,
          49.369914,
          49.369921,
          49.369907,
          49.369907
         ],
         "line": {
          "color": "blue",
          "width": 2
         },
         "lon": [
          3.467461,
          3.467459,
          3.467461,
          3.467459,
          3.467465,
          3.467521,
          3.467521
         ],
         "marker": {
          "color": "blue",
          "size": 10
         },
         "mode": "lines+markers",
         "type": "scattermapbox"
        },
        {
         "lat": [
          49.369731,
          49.362409,
          49.369983,
          49.369996,
          49.369982,
          49.370128,
          49.365391,
          49.383791,
          49.396192,
          49.39587,
          49.397452,
          49.398103,
          49.398123,
          49.39811,
          49.404238,
          49.403911,
          49.422475,
          49.399077,
          49.400471,
          49.39392,
          49.394088,
          49.392215,
          49.391501,
          49.356232,
          49.321868,
          49.324124,
          49.310365,
          49.304415,
          49.28715,
          49.281636,
          49.281594,
          49.281529,
          49.281508,
          49.281073,
          49.281017,
          49.280946,
          49.280906,
          49.280808,
          49.280812,
          49.280756,
          49.280378,
          49.280365,
          49.280364
         ],
         "line": {
          "color": "rgb(150, 105, 0)",
          "width": 2
         },
         "lon": [
          3.467769,
          3.407279,
          3.357571,
          3.357469,
          3.357571,
          3.356957,
          3.311547,
          3.261017,
          3.179895,
          3.105029,
          3.055748,
          3.045908,
          3.045753,
          3.045936,
          3.004855,
          2.957121,
          2.893263,
          2.867377,
          2.822991,
          2.792278,
          2.792224,
          2.789062,
          2.788454,
          2.757807,
          2.690736,
          2.607519,
          2.547121,
          2.525873,
          2.502946,
          2.501344,
          2.501286,
          2.501196,
          2.501155,
          2.500937,
          2.500995,
          2.501048,
          2.501075,
          2.501114,
          2.501107,
          2.501106,
          2.50046,
          2.50043,
          2.500429
         ],
         "marker": {
          "color": "rgb(150, 105, 0)",
          "size": 10
         },
         "mode": "lines+markers",
         "type": "scattermapbox"
        },
        {
         "lat": [
          50.4762,
          50.4762
         ],
         "line": {
          "color": "rgb(200, 55, 0)",
          "width": 2
         },
         "lon": [
          4.48337,
          4.48337
         ],
         "marker": {
          "color": "rgb(200, 55, 0)",
          "size": 10
         },
         "mode": "lines+markers",
         "type": "scattermapbox"
        },
        {
         "lat": [
          50.4762,
          50.4762,
          50.4762,
          50.476228,
          50.476228,
          50.476301,
          50.481703,
          50.473589,
          50.423992,
          50.407628,
          50.407631,
          50.407631,
          50.407636,
          50.407907,
          50.408353,
          50.408352,
          50.408339,
          50.408348,
          50.408354,
          50.408355,
          50.408315,
          50.408356,
          50.408417,
          50.408333,
          50.408417,
          50.408418,
          50.408433,
          50.408466,
          50.408466,
          50.408446,
          50.408423,
          50.408423,
          50.408423,
          50.408423,
          50.408485,
          50.408453,
          50.408485,
          50.408485,
          50.40846,
          50.40846,
          50.40846,
          50.40846,
          50.40846
         ],
         "line": {
          "color": "rgb(0, 255, 0)",
          "width": 2
         },
         "lon": [
          4.48337,
          4.48337,
          4.48337,
          4.48334,
          4.48334,
          4.482838,
          4.452,
          4.417355,
          4.451416,
          4.42376,
          4.423714,
          4.423708,
          4.423666,
          4.418232,
          4.408848,
          4.408948,
          4.409021,
          4.408924,
          4.40889,
          4.408879,
          4.408906,
          4.408769,
          4.408201,
          4.408876,
          4.408195,
          4.40819,
          4.408214,
          4.407982,
          4.407982,
          4.408177,
          4.408212,
          4.408212,
          4.408212,
          4.408212,
          4.407627,
          4.408113,
          4.407627,
          4.407627,
          4.407655,
          4.407658,
          4.407658,
          4.407658,
          4.407658
         ],
         "marker": {
          "color": "rgb(0, 255, 0)",
          "size": 10
         },
         "mode": "lines+markers",
         "type": "scattermapbox"
        },
        {
         "lat": [
          50.40848,
          50.40848,
          50.408499,
          50.408499,
          50.408499
         ],
         "line": {
          "color": "rgb(50, 205, 0)",
          "width": 2
         },
         "lon": [
          4.407535,
          4.407535,
          4.407384,
          4.407385,
          4.407385
         ],
         "marker": {
          "color": "rgb(50, 205, 0)",
          "size": 10
         },
         "mode": "lines+markers",
         "type": "scattermapbox"
        },
        {
         "lat": [
          46.789173,
          46.7891,
          46.7891,
          46.789176,
          46.789176,
          46.789298,
          46.789358,
          46.789737,
          46.789569,
          46.789738,
          46.7897,
          46.789765,
          46.789766,
          46.789766,
          46.789761,
          46.789766,
          46.789761,
          46.789766,
          46.789763,
          46.789761,
          46.789771,
          46.789771,
          46.7898,
          46.7898,
          46.7898,
          46.789761,
          46.789776,
          46.789907,
          46.789907,
          46.789907,
          46.789904,
          46.789908,
          46.789908,
          46.789908,
          46.789926,
          46.789926,
          46.789912,
          46.785724,
          46.785869,
          46.7858,
          46.785723,
          46.785715,
          46.785706
         ],
         "line": {
          "color": "rgb(100, 155, 0)",
          "width": 2
         },
         "lon": [
          4.444755,
          4.44479,
          4.44479,
          4.444737,
          4.444737,
          4.444377,
          4.444414,
          4.448792,
          4.446766,
          4.448791,
          4.44875,
          4.449251,
          4.449205,
          4.449205,
          4.44924,
          4.449205,
          4.449239,
          4.449205,
          4.448831,
          4.449239,
          4.449318,
          4.449318,
          4.44925,
          4.44925,
          4.44925,
          4.449248,
          4.449254,
          4.450188,
          4.450188,
          4.450188,
          4.450183,
          4.450186,
          4.450186,
          4.450186,
          4.450272,
          4.450272,
          4.45078,
          4.450704,
          4.451021,
          4.45072,
          4.450704,
          4.450696,
          4.450691
         ],
         "marker": {
          "color": "rgb(100, 155, 0)",
          "size": 10
         },
         "mode": "lines+markers",
         "type": "scattermapbox"
        },
        {
         "lat": [
          46.785712
         ],
         "line": {
          "color": "rgb(150, 105, 0)",
          "width": 2
         },
         "lon": [
          4.450684
         ],
         "marker": {
          "color": "rgb(150, 105, 0)",
          "size": 10
         },
         "mode": "lines+markers",
         "type": "scattermapbox"
        },
        {
         "lat": [
          46.785712,
          46.785712,
          46.785712,
          46.785719,
          46.785728,
          46.785731
         ],
         "line": {
          "color": "rgb(200, 55, 0)",
          "width": 2
         },
         "lon": [
          4.450684,
          4.450684,
          4.450684,
          4.450724,
          4.450685,
          4.450697
         ],
         "marker": {
          "color": "rgb(200, 55, 0)",
          "size": 10
         },
         "mode": "lines+markers",
         "type": "scattermapbox"
        },
        {
         "lat": [
          49.347036,
          49.347036,
          49.347039,
          49.347039,
          49.347036,
          49.347036,
          49.347116,
          49.347116
         ],
         "line": {
          "color": "blue",
          "width": 2
         },
         "lon": [
          4.190375,
          4.190375,
          4.190347,
          4.190347,
          4.19034,
          4.190339,
          4.190409,
          4.190409
         ],
         "marker": {
          "color": "blue",
          "size": 10
         },
         "mode": "lines+markers",
         "type": "scattermapbox"
        },
        {
         "lat": [
          49.347403,
          49.391077,
          49.412271,
          49.442051,
          49.48625,
          49.51933,
          49.553694,
          49.55346,
          49.599918
         ],
         "line": {
          "color": "rgb(50, 205, 0)",
          "width": 2
         },
         "lon": [
          4.190736,
          4.235595,
          4.257942,
          4.281165,
          4.343957,
          4.384416,
          4.453393,
          4.452874,
          4.511409
         ],
         "marker": {
          "color": "rgb(50, 205, 0)",
          "size": 10
         },
         "mode": "lines+markers",
         "type": "scattermapbox"
        },
        {
         "lat": [
          49.643054,
          49.666081,
          49.691495,
          49.71124,
          49.759654,
          49.787611,
          49.828322
         ],
         "line": {
          "color": "rgb(100, 155, 0)",
          "width": 2
         },
         "lon": [
          4.575476,
          4.642033,
          4.677846,
          4.700241,
          4.651974,
          4.571326,
          4.511768
         ],
         "marker": {
          "color": "rgb(100, 155, 0)",
          "size": 10
         },
         "mode": "lines+markers",
         "type": "scattermapbox"
        },
        {
         "lat": [
          49.837756,
          49.881362,
          49.937489,
          49.964094,
          49.964177,
          50.039395,
          50.027302,
          49.977919,
          50.082391,
          50.098513,
          50.098471,
          50.128665,
          50.144471,
          50.1445,
          50.14449,
          50.144494,
          50.144574,
          50.169176,
          50.222447,
          50.24049,
          50.273497,
          50.31038,
          50.343113,
          50.343119
         ],
         "line": {
          "color": "rgb(150, 105, 0)",
          "width": 2
         },
         "lon": [
          4.512576,
          4.515086,
          4.535134,
          4.53536,
          4.535389,
          4.508096,
          4.516064,
          4.5391,
          4.514058,
          4.505071,
          4.505143,
          4.494177,
          4.504324,
          4.504335,
          4.504337,
          4.50434,
          4.504315,
          4.522436,
          4.512206,
          4.51344,
          4.503391,
          4.47995,
          4.473438,
          4.473432
         ],
         "marker": {
          "color": "rgb(150, 105, 0)",
          "size": 10
         },
         "mode": "lines+markers",
         "type": "scattermapbox"
        },
        {
         "lat": [
          51.794482,
          51.794502,
          51.794507,
          51.794502,
          51.794508,
          51.794504,
          51.794497,
          51.794503,
          51.794526,
          51.794527,
          51.794527,
          51.794532,
          51.794509,
          51.794483,
          51.794494,
          51.794501,
          51.794501,
          51.794501,
          51.794502,
          51.794501,
          51.7945,
          51.7945,
          51.794497
         ],
         "line": {
          "color": "rgb(200, 55, 0)",
          "width": 2
         },
         "lon": [
          4.61748,
          4.61759,
          4.61752,
          4.617509,
          4.617485,
          4.617491,
          4.617498,
          4.617488,
          4.617484,
          4.617483,
          4.617483,
          4.617505,
          4.617488,
          4.61753,
          4.617482,
          4.617493,
          4.617493,
          4.617493,
          4.617503,
          4.617489,
          4.61749,
          4.617493,
          4.617497
         ],
         "marker": {
          "color": "rgb(200, 55, 0)",
          "size": 10
         },
         "mode": "lines+markers",
         "type": "scattermapbox"
        },
        {
         "lat": [
          51.7945,
          51.79449,
          51.794519,
          51.794496,
          51.794496,
          51.794496,
          51.794492,
          51.794492,
          51.794474,
          51.794492,
          51.7945,
          51.7945,
          51.794487,
          51.794489,
          51.794492,
          51.794488,
          51.794488,
          51.793708
         ],
         "line": {
          "color": "rgb(0, 255, 0)",
          "width": 2
         },
         "lon": [
          4.61748,
          4.617487,
          4.617495,
          4.617516,
          4.617516,
          4.617516,
          4.617491,
          4.617491,
          4.617512,
          4.617495,
          4.61751,
          4.61751,
          4.617508,
          4.617496,
          4.617509,
          4.617486,
          4.617486,
          4.617031
         ],
         "marker": {
          "color": "rgb(0, 255, 0)",
          "size": 10
         },
         "mode": "lines+markers",
         "type": "scattermapbox"
        },
        {
         "lat": [
          51.793658,
          51.792017,
          51.781696,
          51.772465,
          51.772509,
          51.772542,
          51.772462,
          51.772461,
          51.745633,
          51.691747,
          51.65952,
          51.653667,
          51.610754,
          51.557431,
          51.508395,
          51.507241,
          51.499844,
          51.442377,
          51.399174,
          51.376386,
          51.376297,
          51.299798,
          51.308715,
          51.308804,
          51.28584,
          51.284985
         ],
         "line": {
          "color": "rgb(50, 205, 0)",
          "width": 2
         },
         "lon": [
          4.616997,
          4.616952,
          4.605576,
          4.638305,
          4.638206,
          4.638358,
          4.645852,
          4.64599,
          4.63819,
          4.639589,
          4.579373,
          4.571199,
          4.502579,
          4.457187,
          4.402689,
          4.362714,
          4.313716,
          4.312832,
          4.287171,
          4.304203,
          4.304285,
          4.335946,
          4.326294,
          4.326168,
          4.35073,
          4.347904
         ],
         "marker": {
          "color": "rgb(50, 205, 0)",
          "size": 10
         },
         "mode": "lines+markers",
         "type": "scattermapbox"
        },
        {
         "lat": [
          51.284986,
          51.284986,
          51.284986,
          51.284986,
          51.284985,
          51.287159,
          51.287171,
          51.28735,
          51.287371,
          51.284954,
          51.285757,
          51.285836,
          51.285837,
          51.317019,
          51.317002,
          51.365194,
          51.365194,
          51.365194,
          51.365194,
          51.365123,
          51.365123,
          51.358078,
          51.35804,
          51.357855,
          51.357176,
          51.357183,
          51.357183,
          51.357189,
          51.357191,
          51.357192,
          51.357194,
          51.357189,
          51.357189,
          51.3572,
          51.3572,
          51.3572,
          51.3572,
          51.357191,
          51.356977,
          51.35694,
          51.356898,
          51.356835,
          51.356417,
          51.356525,
          51.356415,
          51.356386,
          51.35749,
          51.357475,
          51.357444,
          51.357444
         ],
         "line": {
          "color": "rgb(100, 155, 0)",
          "width": 2
         },
         "lon": [
          4.347919,
          4.347919,
          4.347919,
          4.347919,
          4.347918,
          4.346162,
          4.346081,
          4.345966,
          4.345957,
          4.349022,
          4.350594,
          4.350709,
          4.350711,
          4.346014,
          4.345924,
          4.252562,
          4.252562,
          4.252562,
          4.252577,
          4.252684,
          4.252684,
          4.257488,
          4.257456,
          4.257241,
          4.256104,
          4.256123,
          4.256133,
          4.256158,
          4.256161,
          4.256161,
          4.256158,
          4.25617,
          4.25617,
          4.25616,
          4.25616,
          4.25616,
          4.25616,
          4.256023,
          4.25564,
          4.255614,
          4.255574,
          4.255508,
          4.255324,
          4.255318,
          4.255325,
          4.255352,
          4.258909,
          4.258898,
          4.258865,
          4.258868
         ],
         "marker": {
          "color": "rgb(100, 155, 0)",
          "size": 10
         },
         "mode": "lines+markers",
         "type": "scattermapbox"
        },
        {
         "lat": [
          51.357445,
          51.357445,
          51.357444,
          51.357444,
          51.357444,
          51.357444,
          51.357918,
          51.357923,
          51.35788,
          51.35788,
          51.35788,
          51.35788,
          51.357663
         ],
         "line": {
          "color": "rgb(150, 105, 0)",
          "width": 2
         },
         "lon": [
          4.258864,
          4.258864,
          4.258877,
          4.258877,
          4.258877,
          4.258877,
          4.258948,
          4.258902,
          4.259069,
          4.259069,
          4.259069,
          4.259069,
          4.259554
         ],
         "marker": {
          "color": "rgb(150, 105, 0)",
          "size": 10
         },
         "mode": "lines+markers",
         "type": "scattermapbox"
        },
        {
         "lat": [
          52.214028,
          52.214028,
          52.214031,
          52.214031,
          52.214013,
          52.214013,
          52.214009,
          52.214042,
          52.214031,
          52.214038,
          52.213987,
          52.212607,
          52.212613,
          52.210342,
          52.21023,
          52.210839,
          52.216923,
          52.216856,
          52.218956,
          52.218861,
          52.231423,
          52.252214,
          52.265422,
          52.311688,
          52.357455,
          52.40115,
          52.416554,
          52.423365,
          52.428138,
          52.42688,
          52.412643,
          52.406471,
          52.392418,
          52.377982
         ],
         "line": {
          "color": "rgb(200, 55, 0)",
          "width": 2
         },
         "lon": [
          8.87805,
          8.87805,
          8.878055,
          8.878055,
          8.878098,
          8.878098,
          8.878108,
          8.878087,
          8.878055,
          8.877835,
          8.877804,
          8.876398,
          8.87628,
          8.875316,
          8.875286,
          8.881478,
          8.969863,
          8.976507,
          9.057101,
          9.153091,
          9.240244,
          9.297864,
          9.316701,
          9.379216,
          9.431407,
          9.49582,
          9.523862,
          9.58238,
          9.670577,
          9.768564,
          9.847153,
          9.860089,
          9.939763,
          10.035762
         ],
         "marker": {
          "color": "rgb(200, 55, 0)",
          "size": 10
         },
         "mode": "lines+markers",
         "type": "scattermapbox"
        },
        {
         "lat": [
          52.362943,
          52.351074,
          52.340581,
          52.337765,
          52.335143,
          52.325312,
          52.325289,
          52.323692,
          52.323716,
          52.323672,
          52.313761,
          52.313196,
          52.309746,
          52.308094,
          52.311173,
          52.290784
         ],
         "line": {
          "color": "rgb(0, 255, 0)",
          "width": 2
         },
         "lon": [
          10.131937,
          10.19866,
          10.222299,
          10.320692,
          10.419567,
          10.471516,
          10.471595,
          10.478282,
          10.478188,
          10.47838,
          10.521809,
          10.538735,
          10.619518,
          10.717834,
          10.814098,
          10.883354
         ],
         "marker": {
          "color": "rgb(0, 255, 0)",
          "size": 10
         },
         "mode": "lines+markers",
         "type": "scattermapbox"
        },
        {
         "lat": [
          53.719125,
          53.719117,
          53.719117,
          53.719107,
          53.71913,
          53.71913,
          53.718692,
          53.718748,
          53.717692,
          53.717602,
          53.717205,
          53.759925,
          53.812796,
          53.847394,
          53.851751,
          53.895109,
          53.933635,
          53.929554,
          53.911825,
          53.912101,
          53.918942,
          53.908062,
          53.909462,
          53.909542,
          53.907055,
          53.907042,
          53.907054,
          53.907524,
          53.907471,
          53.907611,
          53.907521,
          53.907612
         ],
         "line": {
          "color": "rgb(50, 205, 0)",
          "width": 2
         },
         "lon": [
          9.760522,
          9.760601,
          9.760602,
          9.760621,
          9.760527,
          9.760527,
          9.759228,
          9.759157,
          9.757171,
          9.757082,
          9.757651,
          9.708332,
          9.664795,
          9.591672,
          9.584286,
          9.516479,
          9.480586,
          9.40834,
          9.332669,
          9.330426,
          9.238171,
          9.186106,
          9.180319,
          9.180135,
          9.172561,
          9.17252,
          9.172563,
          9.173882,
          9.174022,
          9.174286,
          9.173885,
          9.174286
         ],
         "marker": {
          "color": "rgb(50, 205, 0)",
          "size": 10
         },
         "mode": "lines+markers",
         "type": "scattermapbox"
        },
        {
         "lat": [
          53.907612,
          53.907616,
          53.907624,
          53.907584,
          53.907584,
          53.9076,
          53.9076,
          53.907614,
          53.905581,
          53.905624,
          53.905578,
          53.905578,
          53.905602,
          53.905509,
          53.905509,
          53.905533,
          53.905533
         ],
         "line": {
          "color": "rgb(100, 155, 0)",
          "width": 2
         },
         "lon": [
          9.174286,
          9.174295,
          9.174269,
          9.17428,
          9.17428,
          9.17427,
          9.17427,
          9.174275,
          9.169657,
          9.169736,
          9.169652,
          9.169651,
          9.169658,
          9.169614,
          9.169614,
          9.169655,
          9.169655
         ],
         "marker": {
          "color": "rgb(100, 155, 0)",
          "size": 10
         },
         "mode": "lines+markers",
         "type": "scattermapbox"
        },
        {
         "lat": [
          51.488407,
          51.488407,
          51.488407,
          51.488407,
          51.488407,
          51.4884,
          51.488407,
          51.488389,
          51.488387,
          51.488391,
          51.488387,
          51.48838,
          51.48838,
          51.487432,
          51.487396,
          51.487289,
          51.487262,
          51.487088,
          51.451834,
          51.39365,
          51.396293,
          51.347489,
          51.30772,
          51.277859,
          51.257773,
          51.255868,
          51.226299,
          51.226281,
          51.226279,
          51.226216,
          51.22392
         ],
         "line": {
          "color": "rgb(150, 105, 0)",
          "width": 2
         },
         "lon": [
          4.740862,
          4.740862,
          4.740862,
          4.740862,
          4.740862,
          4.74086,
          4.740862,
          4.74087,
          4.740836,
          4.740879,
          4.740836,
          4.740821,
          4.740821,
          4.738005,
          4.737877,
          4.737532,
          4.737452,
          4.736555,
          4.720617,
          4.678793,
          4.682406,
          4.623038,
          4.554179,
          4.506157,
          4.428562,
          4.427367,
          4.446134,
          4.446156,
          4.446158,
          4.446237,
          4.448863
         ],
         "marker": {
          "color": "rgb(150, 105, 0)",
          "size": 10
         },
         "mode": "lines+markers",
         "type": "scattermapbox"
        },
        {
         "lat": [
          51.222669,
          51.222622,
          51.22261,
          51.222587,
          51.222582,
          51.222512,
          51.220291,
          51.220232,
          51.220021,
          51.219996,
          51.219978,
          51.219915,
          51.218704,
          51.218624,
          51.219191
         ],
         "line": {
          "color": "rgb(200, 55, 0)",
          "width": 2
         },
         "lon": [
          4.449844,
          4.449876,
          4.449887,
          4.449898,
          4.449901,
          4.449945,
          4.450795,
          4.450805,
          4.450832,
          4.450832,
          4.450833,
          4.45084,
          4.450814,
          4.450798,
          4.450852
         ],
         "marker": {
          "color": "rgb(200, 55, 0)",
          "size": 10
         },
         "mode": "lines+markers",
         "type": "scattermapbox"
        },
        {
         "lat": [
          51.217344
         ],
         "line": {
          "color": "rgb(0, 255, 0)",
          "width": 2
         },
         "lon": [
          4.450452
         ],
         "marker": {
          "color": "rgb(0, 255, 0)",
          "size": 10
         },
         "mode": "lines+markers",
         "type": "scattermapbox"
        },
        {
         "lat": [
          51.212635,
          51.209366
         ],
         "line": {
          "color": "rgb(50, 205, 0)",
          "width": 2
         },
         "lon": [
          4.446765,
          4.44379
         ],
         "marker": {
          "color": "rgb(50, 205, 0)",
          "size": 10
         },
         "mode": "lines+markers",
         "type": "scattermapbox"
        },
        {
         "lat": [
          49.413962,
          49.413995,
          49.413995,
          49.413997,
          49.414022,
          49.414,
          49.414
         ],
         "line": {
          "color": "rgb(100, 155, 0)",
          "width": 2
         },
         "lon": [
          2.693437,
          2.693458,
          2.693458,
          2.693457,
          2.693452,
          2.69346,
          2.69346
         ],
         "marker": {
          "color": "rgb(100, 155, 0)",
          "size": 10
         },
         "mode": "lines+markers",
         "type": "scattermapbox"
        },
        {
         "lat": [
          49.394442
         ],
         "line": {
          "color": "rgb(150, 105, 0)",
          "width": 2
         },
         "lon": [
          2.698123
         ],
         "marker": {
          "color": "rgb(150, 105, 0)",
          "size": 10
         },
         "mode": "lines+markers",
         "type": "scattermapbox"
        },
        {
         "lat": [
          49.35988,
          49.334537,
          49.278641,
          49.226665,
          49.188889,
          49.16913,
          49.136075,
          49.077745,
          49.018553,
          48.973655,
          48.970449,
          48.913177,
          48.875035,
          48.843519,
          48.816996,
          48.813432,
          48.7802,
          48.72904,
          48.705928,
          48.660079,
          48.667402,
          48.623583,
          48.59769,
          48.565371,
          48.554067,
          48.554032,
          48.547549,
          48.544078,
          48.483938,
          48.423423,
          48.363659,
          48.33708,
          48.303943,
          48.243331,
          48.182425,
          48.121668,
          48.12126,
          48.060305,
          47.99994,
          47.940308,
          47.908059,
          47.900498
         ],
         "line": {
          "color": "rgb(200, 55, 0)",
          "width": 2
         },
         "lon": [
          2.703005,
          2.693453,
          2.695809,
          2.649583,
          2.603719,
          2.599235,
          2.565061,
          2.551572,
          2.532718,
          2.487134,
          2.482313,
          2.476676,
          2.439493,
          2.413788,
          2.365196,
          2.354469,
          2.346224,
          2.305859,
          2.249873,
          2.185071,
          2.19176,
          2.135725,
          2.05426,
          1.976543,
          1.930166,
          1.92998,
          1.913441,
          1.907822,
          1.912788,
          1.900485,
          1.880227,
          1.866874,
          1.86165,
          1.851179,
          1.853988,
          1.851302,
          1.851243,
          1.844744,
          1.851214,
          1.848263,
          1.849474,
          1.813299
         ],
         "marker": {
          "color": "rgb(200, 55, 0)",
          "size": 10
         },
         "mode": "lines+markers",
         "type": "scattermapbox"
        },
        {
         "lat": [
          45.173921,
          45.173921,
          45.173921,
          45.173914,
          45.173921
         ],
         "line": {
          "color": "rgb(0, 255, 0)",
          "width": 2
         },
         "lon": [
          -0.335943,
          -0.335943,
          -0.335943,
          -0.335962,
          -0.335953
         ],
         "marker": {
          "color": "rgb(0, 255, 0)",
          "size": 10
         },
         "mode": "lines+markers",
         "type": "scattermapbox"
        },
        {
         "lat": [
          45.173926,
          45.173907,
          45.173902,
          45.173914,
          45.173917,
          45.173916,
          45.173909,
          45.173909,
          45.173913,
          45.173938,
          45.17393,
          45.173944,
          45.173944,
          45.173944,
          45.17393,
          45.173914,
          45.173893,
          45.173909,
          45.173909,
          45.1736,
          45.173916,
          45.17389,
          45.173935,
          45.173935,
          45.173936,
          45.173932,
          45.173909,
          45.173909,
          45.173904,
          45.152342,
          45.094087,
          44.982728,
          45.020909,
          45.038731,
          44.932731,
          44.885316,
          44.828923,
          44.830772,
          44.78766,
          44.778545,
          44.778566,
          44.778669,
          44.790214
         ],
         "line": {
          "color": "rgb(50, 205, 0)",
          "width": 2
         },
         "lon": [
          -0.335955,
          -0.335951,
          -0.335967,
          -0.335986,
          -0.335932,
          -0.335957,
          -0.335946,
          -0.335946,
          -0.335961,
          -0.335963,
          -0.335916,
          -0.335932,
          -0.335932,
          -0.335932,
          -0.33591,
          -0.335948,
          -0.335947,
          -0.335951,
          -0.335951,
          -0.335656,
          -0.335933,
          -0.335924,
          -0.335972,
          -0.335972,
          -0.335971,
          -0.33596,
          -0.335875,
          -0.335875,
          -0.335937,
          -0.360563,
          -0.380997,
          -0.428918,
          -0.425401,
          -0.41448,
          -0.468205,
          -0.512074,
          -0.503378,
          -0.501548,
          -0.541342,
          -0.566887,
          -0.567021,
          -0.567604,
          -0.608986
         ],
         "marker": {
          "color": "rgb(50, 205, 0)",
          "size": 10
         },
         "mode": "lines+markers",
         "type": "scattermapbox"
        },
        {
         "lat": [
          44.769169,
          44.728505,
          44.728214,
          44.683456,
          44.640743,
          44.583633,
          44.546888,
          44.523969,
          44.466653,
          44.407506,
          44.353343,
          44.345079,
          44.305785,
          44.246338,
          44.190501,
          44.145322,
          44.136664,
          44.078347,
          44.019005,
          43.968668,
          43.949013,
          43.921116,
          43.870022,
          43.825744,
          43.770166,
          43.76978
         ],
         "line": {
          "color": "rgb(100, 155, 0)",
          "width": 2
         },
         "lon": [
          -0.664973,
          -0.728805,
          -0.729212,
          -0.785578,
          -0.841536,
          -0.837986,
          -0.83332,
          -0.837895,
          -0.819439,
          -0.818658,
          -0.856403,
          -0.861844,
          -0.883514,
          -0.905776,
          -0.937619,
          -0.969297,
          -0.977208,
          -1.004122,
          -1.016866,
          -1.064321,
          -1.075416,
          -1.113559,
          -1.146409,
          -1.186864,
          -1.219245,
          -1.219433
         ],
         "marker": {
          "color": "rgb(100, 155, 0)",
          "size": 10
         },
         "mode": "lines+markers",
         "type": "scattermapbox"
        },
        {
         "lat": [
          41.2597,
          41.2597,
          41.259686,
          41.259683,
          41.259681,
          41.259681,
          41.259733,
          41.259713,
          41.258999,
          41.221286,
          41.172694,
          41.137404,
          41.080631,
          41.070302,
          41.022597,
          40.969839,
          40.924152,
          40.876647,
          40.870884,
          40.819386,
          40.767923
         ],
         "line": {
          "color": "rgb(150, 105, 0)",
          "width": 2
         },
         "lon": [
          -3.59598,
          -3.59598,
          -3.59598,
          -3.595988,
          -3.596,
          -3.596,
          -3.596222,
          -3.596207,
          -3.595774,
          -3.586248,
          -3.582601,
          -3.582246,
          -3.599489,
          -3.606199,
          -3.625425,
          -3.640557,
          -3.618784,
          -3.600132,
          -3.604606,
          -3.615622,
          -3.605816
         ],
         "marker": {
          "color": "rgb(150, 105, 0)",
          "size": 10
         },
         "mode": "lines+markers",
         "type": "scattermapbox"
        },
        {
         "lat": [
          40.721999,
          40.687114,
          40.670872,
          40.625633,
          40.582658,
          40.583687,
          40.583706,
          40.584611,
          40.558731,
          40.543091,
          40.53931,
          40.538254,
          40.5378,
          40.537779,
          40.537749,
          40.537727,
          40.537397,
          40.537366,
          40.537347,
          40.537351,
          40.537349,
          40.537349,
          40.537349,
          40.537184,
          40.5374,
          40.5374,
          40.5374,
          40.5374,
          40.5374
         ],
         "line": {
          "color": "rgb(200, 55, 0)",
          "width": 2
         },
         "lon": [
          -3.577641,
          -3.607146,
          -3.610603,
          -3.586919,
          -3.580744,
          -3.566294,
          -3.566215,
          -3.560252,
          -3.514991,
          -3.472765,
          -3.470311,
          -3.440658,
          -3.437963,
          -3.437925,
          -3.43792,
          -3.437932,
          -3.438082,
          -3.438088,
          -3.438101,
          -3.438093,
          -3.438092,
          -3.438092,
          -3.438092,
          -3.437919,
          -3.43809,
          -3.43809,
          -3.43809,
          -3.43809,
          -3.43809
         ],
         "marker": {
          "color": "rgb(200, 55, 0)",
          "size": 10
         },
         "mode": "lines+markers",
         "type": "scattermapbox"
        },
        {
         "lat": [
          42.24666,
          42.24666,
          42.246656,
          42.246656,
          42.246623,
          42.246623,
          42.256163,
          42.302106,
          42.329927,
          42.349333,
          42.36589,
          42.407612,
          42.446838,
          42.481418,
          42.483994,
          42.508538,
          42.545628,
          42.58956,
          42.620689,
          42.622697,
          42.638148
         ],
         "line": {
          "color": "rgb(0, 255, 0)",
          "width": 2
         },
         "lon": [
          -3.703113,
          -3.703113,
          -3.703116,
          -3.703116,
          -3.70309,
          -3.70309,
          -3.699629,
          -3.702884,
          -3.648743,
          -3.603209,
          -3.59016,
          -3.539111,
          -3.483877,
          -3.418668,
          -3.39899,
          -3.347318,
          -3.290589,
          -3.23455,
          -3.181314,
          -3.166114,
          -3.103943
         ],
         "marker": {
          "color": "rgb(0, 255, 0)",
          "size": 10
         },
         "mode": "lines+markers",
         "type": "scattermapbox"
        },
        {
         "lat": [
          42.658133,
          42.695522,
          42.704729,
          42.705907,
          42.741104,
          42.7834,
          42.824939,
          42.832216,
          42.872195,
          42.879477,
          42.879555,
          42.898279,
          42.922676,
          42.965784,
          42.9656,
          43.012769,
          43.049057,
          43.088529,
          43.103394,
          43.101465,
          43.0892,
          43.065742,
          43.050189,
          43.063796,
          43.059507,
          43.094332,
          43.130542,
          43.181831,
          43.223942
         ],
         "line": {
          "color": "rgb(50, 205, 0)",
          "width": 2
         },
         "lon": [
          -3.045311,
          -2.981813,
          -2.934872,
          -2.902517,
          -2.864741,
          -2.82344,
          -2.766758,
          -2.755343,
          -2.719378,
          -2.694239,
          -2.694331,
          -2.705546,
          -2.657015,
          -2.607585,
          -2.60772,
          -2.55378,
          -2.495134,
          -2.434754,
          -2.395977,
          -2.392361,
          -2.35496,
          -2.282606,
          -2.221797,
          -2.167879,
          -2.170998,
          -2.116862,
          -2.072506,
          -2.051897,
          -2.025627
         ],
         "marker": {
          "color": "rgb(50, 205, 0)",
          "size": 10
         },
         "mode": "lines+markers",
         "type": "scattermapbox"
        },
        {
         "lat": [
          46.769038,
          46.769038,
          46.769038,
          46.769038,
          46.768982,
          46.769048,
          46.769048,
          46.770342,
          46.81972,
          46.857834,
          46.910631,
          46.928502,
          46.965276,
          47.020268,
          47.073781,
          47.113823,
          47.114957,
          47.11505,
          47.115219
         ],
         "line": {
          "color": "blue",
          "width": 2
         },
         "lon": [
          -1.177974,
          -1.177974,
          -1.177974,
          -1.177974,
          -1.177981,
          -1.177936,
          -1.177936,
          -1.179616,
          -1.216866,
          -1.280692,
          -1.321293,
          -1.336559,
          -1.359566,
          -1.396739,
          -1.438754,
          -1.490637,
          -1.491514,
          -1.491563,
          -1.491726
         ],
         "marker": {
          "color": "blue",
          "size": 10
         },
         "mode": "lines+markers",
         "type": "scattermapbox"
        },
        {
         "lat": [
          47.166989,
          47.213263,
          47.252444,
          47.26164,
          47.262332,
          47.262377
         ],
         "line": {
          "color": "rgb(150, 105, 0)",
          "width": 2
         },
         "lon": [
          -1.512761,
          -1.482422,
          -1.51324,
          -1.564973,
          -1.566438,
          -1.566548
         ],
         "marker": {
          "color": "rgb(150, 105, 0)",
          "size": 10
         },
         "mode": "lines+markers",
         "type": "scattermapbox"
        },
        {
         "lat": [
          47.263813,
          47.279694,
          47.329353,
          47.38637,
          47.446697
         ],
         "line": {
          "color": "rgb(200, 55, 0)",
          "width": 2
         },
         "lon": [
          -1.578461,
          -1.601541,
          -1.649615,
          -1.643534,
          -1.641153
         ],
         "marker": {
          "color": "rgb(200, 55, 0)",
          "size": 10
         },
         "mode": "lines+markers",
         "type": "scattermapbox"
        },
        {
         "lat": [
          47.455853,
          47.507678,
          47.567441,
          47.625821,
          47.660637,
          47.676544,
          47.733448
         ],
         "line": {
          "color": "rgb(0, 255, 0)",
          "width": 2
         },
         "lon": [
          -1.640318,
          -1.639007,
          -1.633893,
          -1.643178,
          -1.678741,
          -1.691684,
          -1.712579
         ],
         "marker": {
          "color": "rgb(0, 255, 0)",
          "size": 10
         },
         "mode": "lines+markers",
         "type": "scattermapbox"
        },
        {
         "lat": [
          47.790206,
          47.847539,
          47.867517,
          47.904709,
          47.951595,
          48.001756,
          48.062301,
          48.078202
         ],
         "line": {
          "color": "rgb(50, 205, 0)",
          "width": 2
         },
         "lon": [
          -1.694339,
          -1.695813,
          -1.690801,
          -1.685065,
          -1.679252,
          -1.692824,
          -1.678528,
          -1.674666
         ],
         "marker": {
          "color": "rgb(50, 205, 0)",
          "size": 10
         },
         "mode": "lines+markers",
         "type": "scattermapbox"
        },
        {
         "lat": [
          48.093086
         ],
         "line": {
          "color": "rgb(100, 155, 0)",
          "width": 2
         },
         "lon": [
          -1.708406
         ],
         "marker": {
          "color": "rgb(100, 155, 0)",
          "size": 10
         },
         "mode": "lines+markers",
         "type": "scattermapbox"
        },
        {
         "lat": [
          48.129833,
          48.159486,
          48.172641
         ],
         "line": {
          "color": "rgb(150, 105, 0)",
          "width": 2
         },
         "lon": [
          -1.753207,
          -1.831351,
          -1.915434
         ],
         "marker": {
          "color": "rgb(150, 105, 0)",
          "size": 10
         },
         "mode": "lines+markers",
         "type": "scattermapbox"
        },
        {
         "lat": [
          48.178014
         ],
         "line": {
          "color": "rgb(200, 55, 0)",
          "width": 2
         },
         "lon": [
          -1.924901
         ],
         "marker": {
          "color": "rgb(200, 55, 0)",
          "size": 10
         },
         "mode": "lines+markers",
         "type": "scattermapbox"
        },
        {
         "lat": [
          46.572933,
          46.572933,
          46.572933,
          46.572933,
          46.572921,
          46.572888,
          46.572888,
          46.554199,
          46.544855,
          46.533424,
          46.533351,
          46.517805,
          46.478436,
          46.434885,
          46.384748,
          46.355096,
          46.330951,
          46.289229,
          46.243804,
          46.222726,
          46.186375
         ],
         "line": {
          "color": "rgb(0, 255, 0)",
          "width": 2
         },
         "lon": [
          -1.114762,
          -1.114762,
          -1.114762,
          -1.114762,
          -1.114773,
          -1.114738,
          -1.114738,
          -1.095521,
          -1.085777,
          -1.079339,
          -1.079259,
          -1.087381,
          -1.112024,
          -1.09909,
          -1.092617,
          -1.086265,
          -1.081524,
          -1.082764,
          -1.075374,
          -1.127021,
          -1.150871
         ],
         "marker": {
          "color": "rgb(0, 255, 0)",
          "size": 10
         },
         "mode": "lines+markers",
         "type": "scattermapbox"
        },
        {
         "lat": [
          46.183399,
          46.183226,
          46.179131,
          46.165358,
          46.16162,
          46.161559
         ],
         "line": {
          "color": "rgb(50, 205, 0)",
          "width": 2
         },
         "lon": [
          -1.152481,
          -1.152525,
          -1.156028,
          -1.193897,
          -1.205043,
          -1.204935
         ],
         "marker": {
          "color": "rgb(50, 205, 0)",
          "size": 10
         },
         "mode": "lines+markers",
         "type": "scattermapbox"
        },
        {
         "lat": [
          46.161434,
          46.161439,
          46.161564
         ],
         "line": {
          "color": "rgb(100, 155, 0)",
          "width": 2
         },
         "lon": [
          -1.203086,
          -1.203073,
          -1.204978
         ],
         "marker": {
          "color": "rgb(100, 155, 0)",
          "size": 10
         },
         "mode": "lines+markers",
         "type": "scattermapbox"
        },
        {
         "lat": [
          46.176444,
          46.173519,
          46.169943,
          46.169913,
          46.168634
         ],
         "line": {
          "color": "rgb(150, 105, 0)",
          "width": 2
         },
         "lon": [
          -1.166139,
          -1.198935,
          -1.206427,
          -1.206529,
          -1.212702
         ],
         "marker": {
          "color": "rgb(150, 105, 0)",
          "size": 10
         },
         "mode": "lines+markers",
         "type": "scattermapbox"
        },
        {
         "lat": [
          46.160526,
          46.160675,
          46.160602,
          46.160653,
          46.160666,
          46.160653,
          46.160653,
          46.160672,
          46.160651,
          46.160689,
          46.160689,
          46.160684,
          46.160684
         ],
         "line": {
          "color": "rgb(200, 55, 0)",
          "width": 2
         },
         "lon": [
          -1.203278,
          -1.204624,
          -1.204543,
          -1.204596,
          -1.204616,
          -1.204606,
          -1.204606,
          -1.204629,
          -1.204624,
          -1.204644,
          -1.204644,
          -1.204633,
          -1.204633
         ],
         "marker": {
          "color": "rgb(200, 55, 0)",
          "size": 10
         },
         "mode": "lines+markers",
         "type": "scattermapbox"
        },
        {
         "lat": [
          49.07353,
          49.07353,
          49.073529,
          49.0735,
          49.073526,
          49.073526,
          49.07351,
          49.073553,
          49.073553,
          49.073545,
          49.073546,
          49.073525,
          49.073549,
          49.073549,
          49.073544,
          49.073531,
          49.073533,
          49.073542,
          49.073547,
          49.073525,
          49.073521,
          49.073528
         ],
         "line": {
          "color": "rgb(0, 255, 0)",
          "width": 2
         },
         "lon": [
          2.553128,
          2.553128,
          2.553127,
          2.55312,
          2.553129,
          2.553129,
          2.553126,
          2.553136,
          2.553136,
          2.553113,
          2.553111,
          2.55314,
          2.553135,
          2.553135,
          2.553151,
          2.553157,
          2.553147,
          2.553142,
          2.55314,
          2.553138,
          2.553135,
          2.553113
         ],
         "marker": {
          "color": "rgb(0, 255, 0)",
          "size": 10
         },
         "mode": "lines+markers",
         "type": "scattermapbox"
        },
        {
         "lat": [
          49.073528,
          49.073528,
          49.073516,
          49.073516,
          49.073518,
          49.0736,
          49.07355
         ],
         "line": {
          "color": "rgb(50, 205, 0)",
          "width": 2
         },
         "lon": [
          2.553113,
          2.553113,
          2.553123,
          2.553123,
          2.553116,
          2.55309,
          2.553154
         ],
         "marker": {
          "color": "rgb(50, 205, 0)",
          "size": 10
         },
         "mode": "lines+markers",
         "type": "scattermapbox"
        },
        {
         "lat": [
          49.073544,
          49.073544,
          49.073543,
          49.073563,
          49.073563,
          49.073564,
          49.073552,
          49.073534,
          49.07353,
          49.073558,
          49.073513,
          49.073513,
          49.073533,
          49.073543,
          49.07355,
          49.07357,
          49.073532,
          49.073542,
          49.073545,
          49.073531,
          49.073541,
          49.073541,
          49.073541,
          49.073541,
          49.073539,
          49.0736,
          49.073546,
          49.073567,
          49.073567,
          49.073549,
          49.073549,
          49.073534,
          49.0735,
          49.0735,
          49.073549,
          49.073549,
          49.073549,
          49.073654,
          49.073654,
          49.073654,
          49.073654,
          49.073643,
          49.0735,
          49.073534,
          49.073529,
          49.07352,
          49.073552,
          49.073552,
          49.073977,
          49.074109
         ],
         "line": {
          "color": "rgb(100, 155, 0)",
          "width": 2
         },
         "lon": [
          2.553138,
          2.553138,
          2.553148,
          2.553089,
          2.553089,
          2.553099,
          2.553116,
          2.553122,
          2.553123,
          2.553146,
          2.553121,
          2.553135,
          2.553115,
          2.553136,
          2.553144,
          2.553139,
          2.553131,
          2.55314,
          2.55315,
          2.553157,
          2.553131,
          2.553131,
          2.553131,
          2.553131,
          2.553137,
          2.55316,
          2.553158,
          2.553131,
          2.553131,
          2.553143,
          2.553143,
          2.553153,
          2.55314,
          2.55314,
          2.553124,
          2.553124,
          2.553124,
          2.553232,
          2.553232,
          2.553232,
          2.553232,
          2.553215,
          2.5531,
          2.553138,
          2.553147,
          2.553128,
          2.553032,
          2.553032,
          2.552483,
          2.552402
         ],
         "marker": {
          "color": "rgb(100, 155, 0)",
          "size": 10
         },
         "mode": "lines+markers",
         "type": "scattermapbox"
        },
        {
         "lat": [
          49.082054,
          49.139674,
          49.191298,
          49.225884,
          49.229253,
          49.281984
         ],
         "line": {
          "color": "blue",
          "width": 2
         },
         "lon": [
          2.551547,
          2.570049,
          2.603448,
          2.648801,
          2.653289,
          2.695151
         ],
         "marker": {
          "color": "blue",
          "size": 10
         },
         "mode": "lines+markers",
         "type": "scattermapbox"
        },
        {
         "lat": [
          49.342096,
          49.582525,
          49.522679,
          49.462545,
          49.430003,
          49.402069,
          49.622973,
          49.622956,
          49.622956,
          49.622963,
          49.622963,
          49.622956,
          49.623
         ],
         "line": {
          "color": "rgb(200, 55, 0)",
          "width": 2
         },
         "lon": [
          2.697228,
          2.746142,
          2.721497,
          2.705461,
          2.69561,
          2.695663,
          2.756292,
          2.756267,
          2.756252,
          2.756255,
          2.756259,
          2.756252,
          2.75626
         ],
         "marker": {
          "color": "rgb(200, 55, 0)",
          "size": 10
         },
         "mode": "lines+markers",
         "type": "scattermapbox"
        },
        {
         "lat": [
          49.622963,
          49.622963,
          49.623079,
          49.623079,
          49.622984,
          49.622984,
          49.62296,
          49.642032,
          49.663117
         ],
         "line": {
          "color": "rgb(0, 255, 0)",
          "width": 2
         },
         "lon": [
          2.756261,
          2.756261,
          2.756355,
          2.756355,
          2.756268,
          2.756268,
          2.756266,
          2.759056,
          2.767319
         ],
         "marker": {
          "color": "rgb(0, 255, 0)",
          "size": 10
         },
         "mode": "lines+markers",
         "type": "scattermapbox"
        },
        {
         "lat": [
          49.723393,
          50.656,
          50.612793,
          50.603053,
          50.603011,
          50.601442,
          50.601739,
          50.598812,
          51.244834,
          51.244834,
          51.244834,
          51.244841,
          51.244859,
          51.244859,
          51.246958,
          51.247462,
          51.247462,
          51.247464,
          51.247464,
          51.247372,
          51.247372,
          51.247372,
          51.247372,
          51.247475,
          51.24582,
          51.245784,
          51.24569,
          51.24569,
          51.245605,
          51.247356,
          51.247366,
          51.247173,
          51.247511,
          51.247513,
          51.247514,
          51.247514,
          51.247515,
          51.247515,
          51.24751,
          51.24751,
          51.24751,
          51.24751,
          51.247523,
          51.247528,
          51.247528,
          51.247765,
          51.247767,
          51.249338,
          51.24934,
          51.249341
         ],
         "line": {
          "color": "rgb(50, 205, 0)",
          "width": 2
         },
         "lon": [
          2.778733,
          3.289875,
          3.319121,
          3.275825,
          3.275608,
          3.244142,
          3.204788,
          3.153705,
          4.333491,
          4.333491,
          4.333491,
          4.333518,
          4.333451,
          4.333451,
          4.310818,
          4.306681,
          4.30668,
          4.306681,
          4.306681,
          4.307046,
          4.307046,
          4.307046,
          4.307046,
          4.306687,
          4.306558,
          4.306481,
          4.306295,
          4.306296,
          4.306214,
          4.307079,
          4.306987,
          4.307632,
          4.306615,
          4.306605,
          4.306618,
          4.306618,
          4.306616,
          4.306616,
          4.306617,
          4.306617,
          4.306617,
          4.306618,
          4.306606,
          4.306535,
          4.306535,
          4.306485,
          4.306594,
          4.318701,
          4.318705,
          4.318889
         ],
         "marker": {
          "color": "rgb(50, 205, 0)",
          "size": 10
         },
         "mode": "lines+markers",
         "type": "scattermapbox"
        },
        {
         "lat": [
          51.249229,
          51.249146,
          51.249141,
          51.228879,
          51.218148,
          51.218031,
          51.217773,
          51.217714
         ],
         "line": {
          "color": "rgb(100, 155, 0)",
          "width": 2
         },
         "lon": [
          4.319753,
          4.320311,
          4.320526,
          4.32419,
          4.351339,
          4.351333,
          4.351344,
          4.351345
         ],
         "marker": {
          "color": "rgb(100, 155, 0)",
          "size": 10
         },
         "mode": "lines+markers",
         "type": "scattermapbox"
        },
        {
         "lat": [
          48.510793,
          48.510793,
          48.510799,
          48.510799,
          48.510799,
          48.510799,
          48.5109,
          48.510865,
          48.510865,
          48.510865,
          48.510865,
          48.510808,
          48.510809,
          48.510835,
          48.510835,
          48.510851,
          48.510849,
          48.510849,
          48.510842,
          48.510791,
          48.510784,
          48.510784,
          48.510784,
          48.510783,
          48.510832,
          48.5108,
          48.510812,
          48.510812,
          48.510792,
          48.510827,
          48.510827,
          48.510827,
          48.510829,
          48.510782,
          48.510782,
          48.504834,
          48.49586,
          48.453868,
          48.400802,
          48.344462,
          48.298758
         ],
         "line": {
          "color": "rgb(150, 105, 0)",
          "width": 2
         },
         "lon": [
          5.91254,
          5.91254,
          5.912534,
          5.912534,
          5.912534,
          5.912534,
          5.91257,
          5.912513,
          5.912513,
          5.912513,
          5.912513,
          5.912533,
          5.912531,
          5.912511,
          5.912511,
          5.912516,
          5.912542,
          5.912542,
          5.912535,
          5.912523,
          5.912494,
          5.912494,
          5.912494,
          5.912491,
          5.912449,
          5.912493,
          5.912476,
          5.912476,
          5.912496,
          5.912501,
          5.912501,
          5.912501,
          5.912521,
          5.9124,
          5.9124,
          5.911367,
          5.907178,
          5.86803,
          5.880502,
          5.853976,
          5.857546
         ],
         "marker": {
          "color": "rgb(150, 105, 0)",
          "size": 10
         },
         "mode": "lines+markers",
         "type": "scattermapbox"
        },
        {
         "lat": [
          48.283736,
          48.22641,
          48.193408,
          48.159816,
          48.144082,
          48.107584,
          48.066368,
          48.020478,
          47.974844,
          47.967724,
          47.957765,
          47.948424,
          47.919585,
          47.906266,
          47.874028,
          47.814489,
          47.76326,
          47.702712,
          47.704542,
          47.644478,
          47.589056,
          47.528636,
          47.49592,
          47.46892,
          47.412686,
          47.354867,
          47.295042,
          47.289977,
          47.248086,
          47.239575,
          47.183443,
          47.145844,
          47.127836,
          47.074984,
          47.025337,
          46.968454,
          46.957906,
          46.909364
         ],
         "line": {
          "color": "rgb(200, 55, 0)",
          "width": 2
         },
         "lon": [
          5.855206,
          5.853503,
          5.776083,
          5.700329,
          5.685846,
          5.653672,
          5.590489,
          5.53062,
          5.497118,
          5.488011,
          5.406273,
          5.317636,
          5.248383,
          5.222864,
          5.219394,
          5.223618,
          5.187853,
          5.186835,
          5.18706,
          5.179105,
          5.20909,
          5.198876,
          5.188759,
          5.185322,
          5.177168,
          5.16224,
          5.165412,
          5.159784,
          5.10819,
          5.024842,
          4.999255,
          4.988909,
          4.970008,
          4.924485,
          4.873,
          4.838756,
          4.834855,
          4.820195
         ],
         "marker": {
          "color": "rgb(200, 55, 0)",
          "size": 10
         },
         "mode": "lines+markers",
         "type": "scattermapbox"
        },
        {
         "lat": [
          45.681605,
          45.681605,
          45.68159,
          45.681582,
          45.681667,
          45.681667,
          45.688675,
          45.73738,
          45.744585,
          45.795375,
          45.831533,
          45.849552
         ],
         "line": {
          "color": "rgb(0, 255, 0)",
          "width": 2
         },
         "lon": [
          4.15587,
          4.15587,
          4.155864,
          4.155862,
          4.155854,
          4.155854,
          4.156207,
          4.182062,
          4.176728,
          4.133012,
          4.152828,
          4.221387
         ],
         "marker": {
          "color": "rgb(0, 255, 0)",
          "size": 10
         },
         "mode": "lines+markers",
         "type": "scattermapbox"
        },
        {
         "lat": [
          45.867151,
          45.869082,
          45.8613,
          45.888806,
          45.878702,
          45.876148,
          45.876148
         ],
         "line": {
          "color": "rgb(50, 205, 0)",
          "width": 2
         },
         "lon": [
          4.265229,
          4.280727,
          4.31959,
          4.408362,
          4.471747,
          4.529247,
          4.529247
         ],
         "marker": {
          "color": "rgb(50, 205, 0)",
          "size": 10
         },
         "mode": "lines+markers",
         "type": "scattermapbox"
        },
        {
         "lat": [
          45.875039,
          45.864482,
          45.830343,
          45.833922
         ],
         "line": {
          "color": "blue",
          "width": 2
         },
         "lon": [
          4.542856,
          4.625321,
          4.686136,
          4.746354
         ],
         "marker": {
          "color": "blue",
          "size": 10
         },
         "mode": "lines+markers",
         "type": "scattermapbox"
        },
        {
         "lat": [
          45.855746,
          45.873592,
          45.933074,
          45.972937,
          45.973013,
          45.975775,
          46.033449,
          46.062171,
          46.092233,
          46.149218,
          46.208669,
          46.270497,
          46.266757,
          46.323401
         ],
         "line": {
          "color": "rgb(150, 105, 0)",
          "width": 2
         },
         "lon": [
          4.742674,
          4.74038,
          4.728556,
          4.733295,
          4.73336,
          4.73447,
          4.725933,
          4.737855,
          4.744969,
          4.770365,
          4.783433,
          4.788454,
          4.789763,
          4.804091
         ],
         "marker": {
          "color": "rgb(150, 105, 0)",
          "size": 10
         },
         "mode": "lines+markers",
         "type": "scattermapbox"
        },
        {
         "lat": [
          46.374712,
          46.429775,
          46.471785,
          46.487405,
          46.543634,
          46.596746,
          46.648166,
          46.666824,
          46.707811,
          46.766779,
          46.82597,
          46.878872,
          46.885301
         ],
         "line": {
          "color": "rgb(200, 55, 0)",
          "width": 2
         },
         "lon": [
          4.842594,
          4.869105,
          4.883876,
          4.894249,
          4.917605,
          4.893167,
          4.859646,
          4.850992,
          4.841409,
          4.823506,
          4.831056,
          4.819009,
          4.82003
         ],
         "marker": {
          "color": "rgb(200, 55, 0)",
          "size": 10
         },
         "mode": "lines+markers",
         "type": "scattermapbox"
        },
        {
         "lat": [
          50.227748,
          50.227748,
          50.227748,
          50.227736,
          50.227753,
          50.227748,
          50.22776,
          50.227772,
          50.227772,
          50.227765,
          50.227732,
          50.227726,
          50.227726,
          50.250618,
          50.290098,
          50.325883,
          50.37096,
          50.371639,
          50.429835,
          50.487819,
          50.533545,
          50.56422,
          50.586189,
          50.599134,
          50.601682,
          50.603111,
          50.603133,
          50.614075,
          50.638655,
          50.662262,
          50.722763,
          50.774121,
          50.774432,
          50.774516,
          50.771317
         ],
         "line": {
          "color": "rgb(0, 255, 0)",
          "width": 2
         },
         "lon": [
          3.063589,
          3.063589,
          3.063589,
          3.063577,
          3.063625,
          3.0636,
          3.063591,
          3.063604,
          3.063604,
          3.063593,
          3.063585,
          3.063529,
          3.063529,
          3.018916,
          2.948,
          2.913287,
          2.970206,
          2.970746,
          2.981373,
          2.987622,
          3.048232,
          3.072031,
          3.093599,
          3.172158,
          3.261851,
          3.275617,
          3.275744,
          3.327732,
          3.304653,
          3.287604,
          3.295436,
          3.198495,
          3.261898,
          3.190539,
          3.198846
         ],
         "marker": {
          "color": "rgb(0, 255, 0)",
          "size": 10
         },
         "mode": "lines+markers",
         "type": "scattermapbox"
        },
        {
         "lat": [
          50.771586,
          50.771313,
          50.771313,
          50.771314,
          50.771318,
          50.771318,
          50.771291,
          50.771291,
          50.771318,
          50.772313,
          50.798519,
          50.800458,
          50.799667,
          50.799652,
          50.799582,
          50.7996,
          50.7996,
          50.799574,
          50.79958,
          50.799571,
          50.799571,
          50.799571,
          50.79958,
          50.799583,
          50.799559,
          50.799559,
          50.799559,
          50.799559,
          50.7996,
          50.7996,
          50.79961,
          50.79961,
          50.79961,
          50.79961,
          50.799588,
          50.799569,
          50.799572,
          50.799569,
          50.79957,
          50.799566,
          50.799575,
          50.799557,
          50.799557,
          50.799573,
          50.829091,
          50.791909,
          50.79953,
          50.79953,
          50.799559,
          50.799559
         ],
         "line": {
          "color": "rgb(50, 205, 0)",
          "width": 2
         },
         "lon": [
          3.199277,
          3.19884,
          3.19884,
          3.198833,
          3.19885,
          3.19885,
          3.198744,
          3.198744,
          3.19885,
          3.188174,
          3.249237,
          3.252012,
          3.250491,
          3.250492,
          3.250469,
          3.25045,
          3.25045,
          3.250442,
          3.250452,
          3.250435,
          3.250435,
          3.250435,
          3.250448,
          3.250454,
          3.250506,
          3.250506,
          3.250506,
          3.250506,
          3.25043,
          3.25043,
          3.250484,
          3.250484,
          3.250484,
          3.250484,
          3.250479,
          3.250455,
          3.250454,
          3.250441,
          3.250465,
          3.250482,
          3.250421,
          3.250394,
          3.250394,
          3.250403,
          3.197609,
          3.234711,
          3.25046,
          3.25046,
          3.250456,
          3.250456
         ],
         "marker": {
          "color": "rgb(50, 205, 0)",
          "size": 10
         },
         "mode": "lines+markers",
         "type": "scattermapbox"
        },
        {
         "lat": [
          50.7996,
          50.7996,
          50.829556,
          50.829608,
          50.829906,
          50.830047,
          50.835042,
          50.846619,
          50.846616,
          50.846616,
          50.846625,
          50.846624,
          50.846652,
          50.847486,
          50.844329,
          50.845064,
          50.844262,
          50.844263,
          50.844262,
          50.844263,
          50.844268,
          50.844268,
          50.844262,
          50.844288,
          50.844301,
          50.844299,
          50.844298,
          50.844289,
          50.844283,
          50.844283,
          50.844288,
          50.844283,
          50.844269,
          50.844271,
          50.84427,
          50.844261,
          50.844248,
          50.844292,
          50.844252,
          50.844253,
          50.844245,
          50.844231,
          50.844303,
          50.844221
         ],
         "line": {
          "color": "rgb(100, 155, 0)",
          "width": 2
         },
         "lon": [
          3.25046,
          3.25046,
          3.197148,
          3.197162,
          3.197232,
          3.197258,
          3.184089,
          3.176606,
          3.176599,
          3.176599,
          3.176631,
          3.17663,
          3.176699,
          3.17995,
          3.185954,
          3.186012,
          3.18365,
          3.183694,
          3.183699,
          3.183699,
          3.183704,
          3.183704,
          3.183703,
          3.185852,
          3.185814,
          3.185707,
          3.185671,
          3.185564,
          3.185643,
          3.185526,
          3.185561,
          3.185642,
          3.185409,
          3.185389,
          3.185384,
          3.185355,
          3.185031,
          3.185964,
          3.184989,
          3.185008,
          3.185047,
          3.183053,
          3.1859,
          3.183053
         ],
         "marker": {
          "color": "rgb(100, 155, 0)",
          "size": 10
         },
         "mode": "lines+markers",
         "type": "scattermapbox"
        },
        {
         "lat": [
          51.487919,
          51.487919,
          51.487919,
          51.487985,
          51.487974,
          51.487974,
          51.487928
         ],
         "line": {
          "color": "rgb(150, 105, 0)",
          "width": 2
         },
         "lon": [
          9.006851,
          9.006851,
          9.006851,
          9.006813,
          9.006834,
          9.006834,
          9.008218
         ],
         "marker": {
          "color": "rgb(150, 105, 0)",
          "size": 10
         },
         "mode": "lines+markers",
         "type": "scattermapbox"
        },
        {
         "lat": [
          51.487933,
          51.48788
         ],
         "line": {
          "color": "rgb(200, 55, 0)",
          "width": 2
         },
         "lon": [
          9.00834,
          9.007268
         ],
         "marker": {
          "color": "rgb(200, 55, 0)",
          "size": 10
         },
         "mode": "lines+markers",
         "type": "scattermapbox"
        },
        {
         "lat": [
          51.487837,
          51.487768,
          51.478232,
          51.450518,
          51.400259,
          51.402105,
          51.379255,
          51.325646,
          51.292329,
          51.271805,
          51.266385,
          51.260232,
          51.285554,
          51.283825,
          51.285552,
          51.28555,
          51.28549,
          51.285864,
          51.28005,
          51.280008,
          51.281011,
          51.28095,
          51.271883,
          51.274414,
          51.282062,
          51.282146,
          51.287823,
          51.287809,
          51.287757,
          51.287731,
          51.28773,
          51.28773,
          51.28773,
          51.287735,
          51.288126,
          51.288126,
          51.288126,
          51.288126,
          51.287739,
          51.289048,
          51.289045
         ],
         "line": {
          "color": "rgb(0, 255, 0)",
          "width": 2
         },
         "lon": [
          9.008543,
          9.008753,
          9.05366,
          9.131513,
          9.189187,
          9.181681,
          9.264579,
          9.281421,
          9.353319,
          9.416609,
          9.441964,
          9.51869,
          9.523025,
          9.520289,
          9.523035,
          9.52304,
          9.523131,
          9.537074,
          9.54746,
          9.547646,
          9.549287,
          9.549491,
          9.558133,
          9.59137,
          9.588327,
          9.588182,
          9.567385,
          9.567443,
          9.567612,
          9.567833,
          9.567831,
          9.567831,
          9.567831,
          9.567842,
          9.56834,
          9.56834,
          9.56834,
          9.56834,
          9.567846,
          9.56549,
          9.565516
         ],
         "marker": {
          "color": "rgb(0, 255, 0)",
          "size": 10
         },
         "mode": "lines+markers",
         "type": "scattermapbox"
        },
        {
         "lat": [
          52.2305,
          52.2305,
          52.2305,
          52.2305,
          52.2305,
          52.230482,
          52.230482,
          52.230468,
          52.230713,
          52.230734,
          52.230276,
          52.230318,
          52.230144,
          52.235238,
          52.210923,
          52.212824,
          52.185761,
          52.18108,
          52.198909,
          52.202402,
          52.219637,
          52.255431,
          52.284304,
          52.323034,
          52.358988,
          52.368258,
          52.397722,
          52.441232,
          52.481957
         ],
         "line": {
          "color": "blue",
          "width": 2
         },
         "lon": [
          6.21264,
          6.21264,
          6.21264,
          6.21264,
          6.21264,
          6.2126,
          6.2126,
          6.212686,
          6.212374,
          6.212407,
          6.212599,
          6.212524,
          6.212848,
          6.196239,
          6.100128,
          6.10483,
          6.015765,
          5.923481,
          5.830725,
          5.778164,
          5.779071,
          5.745301,
          5.691182,
          5.653867,
          5.623285,
          5.607021,
          5.579429,
          5.557358,
          5.502466
         ],
         "marker": {
          "color": "blue",
          "size": 10
         },
         "mode": "lines+markers",
         "type": "scattermapbox"
        },
        {
         "lat": [
          52.480504,
          52.48055,
          52.480425,
          52.480405,
          52.480397,
          52.480383,
          52.48047,
          52.480474,
          52.480524,
          52.479649,
          52.479642,
          52.479588,
          52.479565,
          52.479537,
          52.479562,
          52.479599,
          52.479606,
          52.479596,
          52.479596,
          52.479597
         ],
         "line": {
          "color": "rgb(100, 155, 0)",
          "width": 2
         },
         "lon": [
          5.496792,
          5.496868,
          5.496641,
          5.496598,
          5.496591,
          5.496527,
          5.496349,
          5.496343,
          5.496277,
          5.494646,
          5.494605,
          5.494475,
          5.494452,
          5.494353,
          5.494373,
          5.49436,
          5.494352,
          5.494354,
          5.494354,
          5.494351
         ],
         "marker": {
          "color": "rgb(100, 155, 0)",
          "size": 10
         },
         "mode": "lines+markers",
         "type": "scattermapbox"
        },
        {
         "lat": [
          51.698674,
          51.698674,
          51.698674,
          51.698662,
          51.698662,
          51.698662,
          51.698662,
          51.698655,
          51.6987,
          51.698655,
          51.698649,
          51.698649,
          51.698646,
          51.69864,
          51.698648,
          51.698648,
          51.698895,
          51.698934,
          51.697559,
          51.753303,
          51.812395,
          51.849062,
          51.862609,
          51.921628,
          51.981922,
          52.03466,
          52.053027,
          52.08861,
          52.132138,
          52.180312
         ],
         "line": {
          "color": "rgb(150, 105, 0)",
          "width": 2
         },
         "lon": [
          7.67343,
          7.67343,
          7.67343,
          7.673458,
          7.673458,
          7.673458,
          7.673458,
          7.673486,
          7.67347,
          7.673486,
          7.673471,
          7.673471,
          7.673451,
          7.673452,
          7.67353,
          7.67353,
          7.673422,
          7.673375,
          7.667723,
          7.645755,
          7.621363,
          7.581003,
          7.576135,
          7.557732,
          7.553405,
          7.604476,
          7.6161,
          7.6512,
          7.720485,
          7.781121
         ],
         "marker": {
          "color": "rgb(150, 105, 0)",
          "size": 10
         },
         "mode": "lines+markers",
         "type": "scattermapbox"
        },
        {
         "lat": [
          52.210666,
          52.214153,
          52.261079,
          52.316888,
          52.351215,
          52.378201,
          52.410916,
          52.470258
         ],
         "line": {
          "color": "rgb(200, 55, 0)",
          "width": 2
         },
         "lon": [
          7.847007,
          7.859676,
          7.922022,
          7.955953,
          8.031684,
          8.043913,
          8.03187,
          8.053865
         ],
         "marker": {
          "color": "rgb(200, 55, 0)",
          "size": 10
         },
         "mode": "lines+markers",
         "type": "scattermapbox"
        },
        {
         "lat": [
          52.52278,
          52.58283,
          52.583856,
          52.63997,
          52.699444,
          52.760164,
          52.789964
         ],
         "line": {
          "color": "rgb(0, 255, 0)",
          "width": 2
         },
         "lon": [
          8.106269,
          8.1097,
          8.10978,
          8.151009,
          8.173526,
          8.185914,
          8.202529
         ],
         "marker": {
          "color": "rgb(0, 255, 0)",
          "size": 10
         },
         "mode": "lines+markers",
         "type": "scattermapbox"
        },
        {
         "lat": [
          52.819529,
          52.874748,
          52.902325,
          52.914717,
          52.915096,
          52.908222,
          52.937318,
          52.965466,
          53.001781,
          53.006966,
          53.019563,
          53.03543,
          53.034046,
          53.053345,
          53.054702,
          53.079223,
          53.126717,
          53.179562,
          53.198491,
          53.226732,
          53.251819,
          53.290592,
          53.3211,
          53.323142,
          53.350146,
          53.370159,
          53.371651,
          53.3751,
          53.380303,
          53.416597
         ],
         "line": {
          "color": "rgb(50, 205, 0)",
          "width": 2
         },
         "lon": [
          8.212629,
          8.253478,
          8.343458,
          8.438121,
          8.445743,
          8.441721,
          8.508557,
          8.598745,
          8.680796,
          8.714435,
          8.778444,
          8.874222,
          8.967273,
          9.047637,
          9.06041,
          9.153208,
          9.214297,
          9.265337,
          9.292766,
          9.331252,
          9.423204,
          9.501624,
          9.583506,
          9.58824,
          9.680343,
          9.775941,
          9.877883,
          9.927947,
          9.97984,
          10.03067
         ],
         "marker": {
          "color": "rgb(50, 205, 0)",
          "size": 10
         },
         "mode": "lines+markers",
         "type": "scattermapbox"
        },
        {
         "lat": [
          53.47724,
          53.508424,
          53.507498,
          53.552392,
          53.593568
         ],
         "line": {
          "color": "rgb(100, 155, 0)",
          "width": 2
         },
         "lon": [
          10.022626,
          10.0923,
          10.087711,
          10.150691,
          10.219973
         ],
         "marker": {
          "color": "rgb(100, 155, 0)",
          "size": 10
         },
         "mode": "lines+markers",
         "type": "scattermapbox"
        },
        {
         "lat": [
          52.714394,
          52.695154,
          52.676995,
          52.688282,
          52.696328,
          52.707078,
          52.722054,
          52.720075,
          52.721876,
          52.721644,
          52.721362,
          52.734919,
          52.734819,
          52.734918
         ],
         "line": {
          "color": "rgb(150, 105, 0)",
          "width": 2
         },
         "lon": [
          7.645516,
          7.578957,
          7.503029,
          7.483069,
          7.429866,
          7.347015,
          7.269391,
          7.183756,
          7.15227,
          7.085679,
          6.907989,
          6.987189,
          6.989381,
          6.987362
         ],
         "marker": {
          "color": "rgb(150, 105, 0)",
          "size": 10
         },
         "mode": "lines+markers",
         "type": "scattermapbox"
        },
        {
         "lat": [
          52.724834,
          52.724882,
          52.723595,
          52.715943,
          52.714008,
          52.714009,
          52.714236,
          52.714009,
          52.714004,
          52.714004,
          52.714004,
          52.714008,
          52.714008,
          52.714014,
          52.714014,
          52.714015,
          52.714015,
          52.714015,
          52.714008,
          52.714008,
          52.714008,
          52.714008,
          52.714008,
          52.714008,
          52.713983,
          52.713983,
          52.713202,
          52.710408,
          52.70801,
          52.691328,
          52.67887,
          52.678019,
          52.627196,
          52.619464,
          52.561122,
          52.546119
         ],
         "line": {
          "color": "rgb(200, 55, 0)",
          "width": 2
         },
         "lon": [
          6.808518,
          6.804478,
          6.710722,
          6.639077,
          6.636939,
          6.636939,
          6.637813,
          6.636939,
          6.636952,
          6.636941,
          6.636941,
          6.636944,
          6.636944,
          6.636943,
          6.636943,
          6.636935,
          6.636935,
          6.636935,
          6.636935,
          6.636935,
          6.636935,
          6.636935,
          6.636935,
          6.636935,
          6.636847,
          6.636847,
          6.591798,
          6.493171,
          6.459031,
          6.401884,
          6.306473,
          6.20994,
          6.206104,
          6.207316,
          6.178544,
          6.168041
         ],
         "marker": {
          "color": "rgb(200, 55, 0)",
          "size": 10
         },
         "mode": "lines+markers",
         "type": "scattermapbox"
        },
        {
         "lat": [
          50.173443,
          50.173443,
          50.173443,
          50.173443,
          50.173443,
          50.173443,
          50.173434,
          50.173434,
          50.173452,
          50.1734,
          50.1734,
          50.1734
         ],
         "line": {
          "color": "blue",
          "width": 2
         },
         "lon": [
          2.873045,
          2.873057,
          2.873057,
          2.873057,
          2.873057,
          2.873057,
          2.873054,
          2.873058,
          2.873102,
          2.87311,
          2.87311,
          2.87311
         ],
         "marker": {
          "color": "blue",
          "size": 10
         },
         "mode": "lines+markers",
         "type": "scattermapbox"
        },
        {
         "lat": [
          50.173439,
          50.173435,
          50.173435,
          50.173435,
          50.173437,
          50.173428,
          50.173438,
          50.173438,
          50.173448,
          50.173448,
          50.173454,
          50.173461,
          50.173461,
          50.173555,
          50.173557,
          50.173583,
          50.152211,
          50.102719,
          50.104302,
          50.108731,
          50.076416,
          50.045953,
          50.01752,
          49.986583,
          49.986267,
          49.984182,
          49.962299,
          49.946822,
          49.921186,
          49.915123,
          49.927104,
          49.932483,
          49.881988,
          49.849672,
          49.84146,
          49.830217
         ],
         "line": {
          "color": "rgb(50, 205, 0)",
          "width": 2
         },
         "lon": [
          2.873063,
          2.873044,
          2.873044,
          2.873044,
          2.873025,
          2.873046,
          2.873064,
          2.873064,
          2.873062,
          2.873062,
          2.873067,
          2.873039,
          2.873039,
          2.872944,
          2.872951,
          2.872976,
          2.872874,
          2.871203,
          2.867981,
          2.829247,
          2.791111,
          2.738462,
          2.685006,
          2.649415,
          2.65206,
          2.588493,
          2.512805,
          2.429735,
          2.369566,
          2.34807,
          2.30509,
          2.243792,
          2.221363,
          2.153122,
          2.118326,
          2.067254
         ],
         "marker": {
          "color": "rgb(50, 205, 0)",
          "size": 10
         },
         "mode": "lines+markers",
         "type": "scattermapbox"
        },
        {
         "lat": [
          49.144486,
          49.144486,
          49.144474,
          49.144479,
          49.144483,
          49.143265,
          49.144482,
          49.137777,
          49.168278,
          49.168395,
          49.168398,
          49.168366,
          49.144498,
          49.144498
         ],
         "line": {
          "color": "rgb(100, 155, 0)",
          "width": 2
         },
         "lon": [
          -0.405689,
          -0.405689,
          -0.405699,
          -0.405678,
          -0.405686,
          -0.403521,
          -0.405685,
          -0.369184,
          -0.302617,
          -0.275495,
          -0.275391,
          -0.275411,
          -0.405731,
          -0.405731
         ],
         "marker": {
          "color": "rgb(100, 155, 0)",
          "size": 10
         },
         "mode": "lines+markers",
         "type": "scattermapbox"
        },
        {
         "lat": [
          49.168349,
          49.168345,
          49.168331,
          49.168272,
          49.193957
         ],
         "line": {
          "color": "rgb(150, 105, 0)",
          "width": 2
         },
         "lon": [
          -0.275408,
          -0.275412,
          -0.275434,
          -0.260452,
          -0.186058
         ],
         "marker": {
          "color": "rgb(150, 105, 0)",
          "size": 10
         },
         "mode": "lines+markers",
         "type": "scattermapbox"
        },
        {
         "lat": [
          47.539123,
          47.539146,
          47.53915,
          47.539165,
          47.539125,
          47.539125,
          47.539106,
          47.539033,
          47.537425,
          47.490087,
          47.47781,
          47.480013,
          47.430445,
          47.376993,
          47.319217,
          47.314702,
          47.311696,
          47.306032,
          47.300781,
          47.288902,
          47.287039,
          47.28808,
          47.293839
         ],
         "line": {
          "color": "rgb(200, 55, 0)",
          "width": 2
         },
         "lon": [
          0.61484,
          0.614869,
          0.614845,
          0.614889,
          0.614875,
          0.614875,
          0.614871,
          0.614885,
          0.616983,
          0.666906,
          0.704376,
          0.749441,
          0.734911,
          0.714283,
          0.689357,
          0.688895,
          0.734914,
          0.815505,
          0.90549,
          0.980129,
          0.99377,
          1.082351,
          1.170663
         ],
         "marker": {
          "color": "rgb(200, 55, 0)",
          "size": 10
         },
         "mode": "lines+markers",
         "type": "scattermapbox"
        },
        {
         "lat": [
          47.294735,
          47.291879,
          47.30262,
          47.31677,
          47.332232,
          47.338594,
          47.339316,
          47.339376,
          47.31969,
          47.300707,
          47.295335,
          47.292555,
          47.289956,
          47.241573,
          47.199354,
          47.199899,
          47.15131,
          47.100696,
          47.095066,
          47.094964
         ],
         "line": {
          "color": "rgb(0, 255, 0)",
          "width": 2
         },
         "lon": [
          1.255518,
          1.290801,
          1.343679,
          1.430743,
          1.518395,
          1.599263,
          1.606411,
          1.696302,
          1.778037,
          1.863179,
          1.902647,
          1.951873,
          2.040546,
          2.076304,
          2.140684,
          2.139064,
          2.184397,
          2.225455,
          2.239607,
          2.239725
         ],
         "marker": {
          "color": "rgb(0, 255, 0)",
          "size": 10
         },
         "mode": "lines+markers",
         "type": "scattermapbox"
        },
        {
         "lat": [
          47.094205,
          47.094221,
          47.094323,
          47.094231,
          47.094332
         ],
         "line": {
          "color": "rgb(50, 205, 0)",
          "width": 2
         },
         "lon": [
          2.240633,
          2.240597,
          2.240408,
          2.240534,
          2.240418
         ],
         "marker": {
          "color": "rgb(50, 205, 0)",
          "size": 10
         },
         "mode": "lines+markers",
         "type": "scattermapbox"
        },
        {
         "lat": [
          47.81298,
          47.81298,
          47.81298,
          47.812965,
          47.812888,
          47.812888,
          47.842099,
          47.901724,
          47.948004,
          47.980348,
          47.9934,
          48.038844,
          48.075183,
          48.119953,
          48.161137,
          48.178943,
          48.230741,
          48.277705,
          48.316567,
          48.356166,
          48.360344,
          48.409315,
          48.455886,
          48.503864,
          48.537242,
          48.551581,
          48.600706,
          48.62076,
          48.640882,
          48.647358,
          48.653592,
          48.682335,
          48.705725,
          48.740196,
          48.74836,
          48.776033,
          48.82185,
          48.86649,
          48.912903,
          48.916781,
          48.95439
         ],
         "line": {
          "color": "rgb(100, 155, 0)",
          "width": 2
         },
         "lon": [
          5.225087,
          5.225087,
          5.225087,
          5.225074,
          5.225091,
          5.225091,
          5.232138,
          5.223678,
          5.178158,
          5.133276,
          5.123981,
          5.06537,
          5.078071,
          5.109843,
          5.122503,
          5.124617,
          5.118518,
          5.11224,
          5.115778,
          5.131751,
          5.137226,
          5.154609,
          5.142026,
          5.102502,
          5.088506,
          5.06263,
          5.033529,
          4.983917,
          4.911549,
          4.867349,
          4.824057,
          4.744202,
          4.660175,
          4.59373,
          4.59296,
          4.589242,
          4.53952,
          4.483767,
          4.4331,
          4.423076,
          4.389973
         ],
         "marker": {
          "color": "rgb(100, 155, 0)",
          "size": 10
         },
         "mode": "lines+markers",
         "type": "scattermapbox"
        },
        {
         "lat": [
          48.997843,
          49.04412,
          49.072973,
          49.085348,
          49.127104,
          49.172209,
          49.203983,
          49.242052,
          49.243459
         ],
         "line": {
          "color": "rgb(150, 105, 0)",
          "width": 2
         },
         "lon": [
          4.340294,
          4.324681,
          4.266968,
          4.261027,
          4.231821,
          4.171334,
          4.09262,
          4.079512,
          4.080357
         ],
         "marker": {
          "color": "rgb(150, 105, 0)",
          "size": 10
         },
         "mode": "lines+markers",
         "type": "scattermapbox"
        },
        {
         "lat": [
          51.27617,
          51.27617,
          51.276201,
          51.276201,
          51.276202,
          51.249093,
          51.476153,
          51.476181,
          51.476181,
          51.476181,
          51.475238,
          51.476173,
          51.472514,
          51.472512,
          51.478237,
          51.432164,
          51.381816,
          51.476138,
          51.476138,
          51.332817,
          51.331508,
          51.294874,
          51.267401,
          51.295709,
          51.313944,
          51.310752,
          51.272414,
          51.242527,
          51.47614,
          51.47614,
          51.476282,
          51.476376,
          51.473694,
          51.493365,
          51.490976,
          51.52618,
          51.554076,
          51.552374,
          51.539096,
          51.539727,
          51.547848
         ],
         "line": {
          "color": "rgb(200, 55, 0)",
          "width": 2
         },
         "lon": [
          4.206063,
          4.206063,
          4.206097,
          4.206097,
          4.206091,
          4.200874,
          4.727861,
          4.72785,
          4.72785,
          4.72785,
          4.726085,
          4.727851,
          4.727169,
          4.727235,
          4.730339,
          4.71196,
          4.66361,
          4.727848,
          4.727848,
          4.604674,
          4.602599,
          4.527797,
          4.450811,
          4.400959,
          4.354163,
          4.327075,
          4.278648,
          4.229923,
          4.727917,
          4.727917,
          4.7282,
          4.728249,
          4.725443,
          4.740224,
          4.738966,
          4.757899,
          4.84162,
          4.938305,
          5.020423,
          5.03048,
          5.119708
         ],
         "marker": {
          "color": "rgb(200, 55, 0)",
          "size": 10
         },
         "mode": "lines+markers",
         "type": "scattermapbox"
        },
        {
         "lat": [
          51.592638
         ],
         "line": {
          "color": "rgb(0, 255, 0)",
          "width": 2
         },
         "lon": [
          5.17103
         ],
         "marker": {
          "color": "rgb(0, 255, 0)",
          "size": 10
         },
         "mode": "lines+markers",
         "type": "scattermapbox"
        },
        {
         "lat": [
          51.592674,
          51.592638,
          51.626167,
          51.629795,
          51.629835,
          51.653977
         ],
         "line": {
          "color": "rgb(50, 205, 0)",
          "width": 2
         },
         "lon": [
          5.171099,
          5.171033,
          5.229935,
          5.237734,
          5.237858,
          5.28293
         ],
         "marker": {
          "color": "rgb(50, 205, 0)",
          "size": 10
         },
         "mode": "lines+markers",
         "type": "scattermapbox"
        },
        {
         "lat": [
          51.4887,
          51.4887,
          51.488697,
          51.4886,
          51.4886,
          51.4887,
          51.4887,
          51.488697
         ],
         "line": {
          "color": "rgb(100, 155, 0)",
          "width": 2
         },
         "lon": [
          4.739355,
          4.739355,
          4.739355,
          4.73926,
          4.73926,
          4.739355,
          4.739355,
          4.739355
         ],
         "marker": {
          "color": "rgb(100, 155, 0)",
          "size": 10
         },
         "mode": "lines+markers",
         "type": "scattermapbox"
        },
        {
         "lat": [
          51.4886,
          51.4886,
          51.4887,
          51.488726,
          51.488726
         ],
         "line": {
          "color": "rgb(150, 105, 0)",
          "width": 2
         },
         "lon": [
          4.73926,
          4.73926,
          4.739355,
          4.739345,
          4.739345
         ],
         "marker": {
          "color": "rgb(150, 105, 0)",
          "size": 10
         },
         "mode": "lines+markers",
         "type": "scattermapbox"
        },
        {
         "lat": [
          51.488785,
          51.488785,
          51.487394,
          51.487361,
          51.487243,
          51.48722,
          51.487048
         ],
         "line": {
          "color": "rgb(200, 55, 0)",
          "width": 2
         },
         "lon": [
          4.7394,
          4.7394,
          4.738056,
          4.737952,
          4.737586,
          4.737482,
          4.736566
         ],
         "marker": {
          "color": "rgb(200, 55, 0)",
          "size": 10
         },
         "mode": "lines+markers",
         "type": "scattermapbox"
        },
        {
         "lat": [
          51.486929,
          51.483386,
          51.483209,
          51.48344,
          51.445183,
          51.34164,
          51.376977,
          51.390914,
          51.302203,
          51.268358,
          51.236555,
          51.231191,
          51.191232,
          51.141193,
          51.080774,
          51.04419
         ],
         "line": {
          "color": "rgb(0, 255, 0)",
          "width": 2
         },
         "lon": [
          4.736376,
          4.734471,
          4.734377,
          4.7345,
          4.717587,
          4.616315,
          4.657325,
          4.675094,
          4.541512,
          4.468182,
          4.428313,
          4.438972,
          4.417474,
          4.428687,
          4.443559,
          4.452923
         ],
         "marker": {
          "color": "rgb(0, 255, 0)",
          "size": 10
         },
         "mode": "lines+markers",
         "type": "scattermapbox"
        },
        {
         "lat": [
          51.02055,
          50.966829,
          50.910511,
          50.872985,
          50.864369,
          50.864647,
          50.864785,
          50.865706,
          50.865706,
          50.858708,
          50.84796
         ],
         "line": {
          "color": "rgb(50, 205, 0)",
          "width": 2
         },
         "lon": [
          4.447507,
          4.490496,
          4.453232,
          4.465837,
          4.445328,
          4.44507,
          4.445042,
          4.451124,
          4.451288,
          4.448691,
          4.43987
         ],
         "marker": {
          "color": "rgb(50, 205, 0)",
          "size": 10
         },
         "mode": "lines+markers",
         "type": "scattermapbox"
        },
        {
         "lat": [
          50.847826,
          50.844991,
          50.844838,
          50.936009,
          50.936006,
          50.936005,
          50.936003,
          50.935999,
          50.935941,
          50.935941,
          50.904482,
          50.857753,
          50.830764,
          50.83065,
          50.830445,
          50.830376,
          50.8303,
          50.830198,
          50.830159,
          50.830065,
          50.830301,
          50.829995,
          50.829918,
          50.829832,
          50.829779,
          50.829771,
          50.829712,
          50.829571,
          50.829497,
          50.829386,
          50.829317,
          50.829198,
          50.829152,
          50.829193,
          50.82854,
          50.82846,
          50.828186,
          50.828145,
          50.828096,
          50.828043,
          50.827921,
          50.827848,
          50.827821,
          50.827745,
          50.826599,
          50.823718,
          50.823651,
          50.823015
         ],
         "line": {
          "color": "rgb(100, 155, 0)",
          "width": 2
         },
         "lon": [
          4.439768,
          4.438139,
          4.438096,
          4.47373,
          4.473733,
          4.473734,
          4.473739,
          4.473742,
          4.473749,
          4.473749,
          4.439433,
          4.475102,
          4.481783,
          4.481715,
          4.481574,
          4.481529,
          4.481477,
          4.481435,
          4.481401,
          4.48135,
          4.481472,
          4.481285,
          4.481219,
          4.481175,
          4.481128,
          4.481125,
          4.48108,
          4.480981,
          4.480938,
          4.48088,
          4.480819,
          4.480751,
          4.480702,
          4.480739,
          4.48033,
          4.480286,
          4.480112,
          4.48007,
          4.480032,
          4.48,
          4.479916,
          4.479887,
          4.479864,
          4.479819,
          4.479098,
          4.478621,
          4.478617,
          4.478499
         ],
         "marker": {
          "color": "rgb(100, 155, 0)",
          "size": 10
         },
         "mode": "lines+markers",
         "type": "scattermapbox"
        },
        {
         "lat": [
          50.822914,
          50.822852,
          50.822766,
          50.822008,
          50.822344
         ],
         "line": {
          "color": "rgb(150, 105, 0)",
          "width": 2
         },
         "lon": [
          4.478481,
          4.47848,
          4.478453,
          4.478149,
          4.478305
         ],
         "marker": {
          "color": "rgb(150, 105, 0)",
          "size": 10
         },
         "mode": "lines+markers",
         "type": "scattermapbox"
        },
        {
         "lat": [
          47.420511,
          47.420496,
          47.420496,
          47.4205,
          47.420496,
          47.420496,
          47.420496,
          47.420496,
          47.420491,
          47.420491,
          47.420491,
          47.420517,
          47.420468,
          47.420489,
          47.420489,
          47.420502,
          47.420492,
          47.420492,
          47.420492,
          47.420492,
          47.420492,
          47.4205,
          47.4205,
          47.420516,
          47.420508,
          47.420508,
          47.420508,
          47.420508,
          47.420508,
          47.42051,
          47.420521,
          47.420521,
          47.420521,
          47.420532,
          47.420552,
          47.420536,
          47.420554,
          47.420535,
          47.420542,
          47.420546,
          47.420537,
          47.420536
         ],
         "line": {
          "color": "blue",
          "width": 2
         },
         "lon": [
          5.17149,
          5.171468,
          5.171468,
          5.1715,
          5.171468,
          5.171468,
          5.171468,
          5.171468,
          5.171494,
          5.171494,
          5.171494,
          5.171482,
          5.1715,
          5.171497,
          5.171497,
          5.171502,
          5.17148,
          5.17148,
          5.17148,
          5.17148,
          5.17148,
          5.17147,
          5.17147,
          5.171463,
          5.171482,
          5.171482,
          5.171482,
          5.171482,
          5.171482,
          5.171475,
          5.171487,
          5.171487,
          5.171487,
          5.171482,
          5.171488,
          5.1715,
          5.171508,
          5.171515,
          5.171508,
          5.171556,
          5.171528,
          5.171508
         ],
         "marker": {
          "color": "blue",
          "size": 10
         },
         "mode": "lines+markers",
         "type": "scattermapbox"
        },
        {
         "lat": [
          47.420528,
          47.420529,
          47.420529,
          47.42053,
          47.420504,
          47.420501,
          47.420501,
          47.420501,
          47.4205,
          47.420501,
          47.42053,
          47.42053,
          47.420903,
          47.420944,
          47.421205
         ],
         "line": {
          "color": "blue",
          "width": 2
         },
         "lon": [
          5.171495,
          5.171504,
          5.171504,
          5.171515,
          5.171512,
          5.171499,
          5.171499,
          5.171499,
          5.171506,
          5.171499,
          5.17144,
          5.17144,
          5.170646,
          5.170587,
          5.172993
         ],
         "marker": {
          "color": "blue",
          "size": 10
         },
         "mode": "lines+markers",
         "type": "scattermapbox"
        },
        {
         "lat": [
          44.8639,
          44.8639,
          44.863889,
          44.863887,
          44.863889,
          44.863889,
          44.863891,
          44.863888,
          44.863893,
          44.863942,
          44.863769,
          44.863744,
          44.863808,
          44.863808,
          44.866723,
          44.916712,
          44.931462,
          44.974725,
          45.034943,
          45.093216,
          45.138123,
          45.15047,
          45.208735,
          45.254293,
          45.310015,
          45.33701,
          45.371174,
          45.425358,
          45.478706,
          45.529158,
          45.538125,
          45.573521,
          45.595306,
          45.639517,
          45.671223
         ],
         "line": {
          "color": "rgb(50, 205, 0)",
          "width": 2
         },
         "lon": [
          4.86577,
          4.86577,
          4.865798,
          4.865796,
          4.865793,
          4.865793,
          4.865792,
          4.865795,
          4.865796,
          4.865792,
          4.865841,
          4.865847,
          4.865804,
          4.865804,
          4.864501,
          4.877009,
          4.884211,
          4.885519,
          4.876175,
          4.878993,
          4.892536,
          4.888036,
          4.870156,
          4.835393,
          4.811665,
          4.809518,
          4.807724,
          4.825838,
          4.832613,
          4.861572,
          4.856269,
          4.808772,
          4.849199,
          4.895235,
          4.937102
         ],
         "marker": {
          "color": "rgb(50, 205, 0)",
          "size": 10
         },
         "mode": "lines+markers",
         "type": "scattermapbox"
        },
        {
         "lat": [
          45.676006,
          45.731363,
          45.77802,
          45.812031,
          45.838679,
          45.869726,
          45.909933,
          45.917889,
          45.952456,
          45.959323,
          45.9998,
          46.058869,
          46.116443,
          46.166418,
          46.177472
         ],
         "line": {
          "color": "rgb(100, 155, 0)",
          "width": 2
         },
         "lon": [
          4.956008,
          4.978641,
          4.965941,
          4.915889,
          4.916803,
          4.904631,
          4.852074,
          4.780736,
          4.716037,
          4.719634,
          4.735042,
          4.736015,
          4.762755,
          4.770403,
          4.769857
         ],
         "marker": {
          "color": "rgb(100, 155, 0)",
          "size": 10
         },
         "mode": "lines+markers",
         "type": "scattermapbox"
        },
        {
         "lat": [
          43.3549,
          43.3549,
          43.354947,
          43.354952,
          43.354976,
          43.354971,
          43.354972,
          43.354967,
          43.354969,
          43.354969,
          43.354956,
          43.354963,
          43.355093,
          43.353681,
          43.353665,
          43.355299,
          43.354378,
          43.3552,
          43.35529,
          43.355298,
          43.355289,
          43.355817,
          43.355801,
          43.355694,
          43.355694,
          43.355694,
          43.355694,
          43.355848,
          43.35572,
          43.355689,
          43.355545,
          43.355545
         ],
         "line": {
          "color": "blue",
          "width": 2
         },
         "lon": [
          5.31521,
          5.31521,
          5.315263,
          5.31526,
          5.315249,
          5.31524,
          5.315245,
          5.315265,
          5.315302,
          5.315302,
          5.315363,
          5.315417,
          5.319955,
          5.327821,
          5.327854,
          5.319656,
          5.321762,
          5.31989,
          5.319655,
          5.319628,
          5.319641,
          5.318398,
          5.318429,
          5.318691,
          5.318691,
          5.318691,
          5.318691,
          5.318331,
          5.317851,
          5.317824,
          5.317638,
          5.317638
         ],
         "marker": {
          "color": "blue",
          "size": 10
         },
         "mode": "lines+markers",
         "type": "scattermapbox"
        },
        {
         "lat": [
          43.355555,
          43.355669,
          43.355679,
          43.355691,
          43.355701,
          43.355701,
          43.355701,
          43.355698,
          43.355384,
          43.355384,
          43.355384,
          43.355384,
          43.355291,
          43.355172,
          43.354987,
          43.355006,
          43.355059,
          43.355077
         ],
         "line": {
          "color": "rgb(200, 55, 0)",
          "width": 2
         },
         "lon": [
          5.317676,
          5.317803,
          5.317811,
          5.317825,
          5.317822,
          5.317821,
          5.317821,
          5.317818,
          5.317462,
          5.317462,
          5.317462,
          5.317462,
          5.316739,
          5.316625,
          5.316469,
          5.316505,
          5.316558,
          5.31657
         ],
         "marker": {
          "color": "rgb(200, 55, 0)",
          "size": 10
         },
         "mode": "lines+markers",
         "type": "scattermapbox"
        },
        {
         "lat": [
          45.923419,
          45.923419,
          45.923419,
          45.923419,
          45.923493,
          45.923493,
          45.938765,
          45.990838,
          46.040226,
          46.091481,
          46.094471,
          46.145471,
          46.197014,
          46.248843,
          46.282778,
          46.293529,
          46.327967,
          46.333605,
          46.353521,
          46.355436,
          46.370805,
          46.422707,
          46.479325,
          46.510495,
          46.511572,
          46.552646,
          46.606955,
          46.662715,
          46.697085,
          46.719439,
          46.761965,
          46.822837
         ],
         "line": {
          "color": "blue",
          "width": 2
         },
         "lon": [
          3.146059,
          3.146059,
          3.146059,
          3.146059,
          3.146029,
          3.146029,
          3.126098,
          3.109813,
          3.11308,
          3.135637,
          3.137226,
          3.114071,
          3.105456,
          3.08658,
          3.048202,
          3.036138,
          2.974777,
          2.890847,
          2.811464,
          2.775284,
          2.74007,
          2.701756,
          2.670332,
          2.602933,
          2.599192,
          2.548866,
          2.508708,
          2.474483,
          2.462653,
          2.454339,
          2.408286,
          2.412906
         ],
         "marker": {
          "color": "blue",
          "size": 10
         },
         "mode": "lines+markers",
         "type": "scattermapbox"
        },
        {
         "lat": [
          46.881235,
          46.894151,
          46.940279
         ],
         "line": {
          "color": "rgb(50, 205, 0)",
          "width": 2
         },
         "lon": [
          2.421056,
          2.417802,
          2.418658
         ],
         "marker": {
          "color": "rgb(50, 205, 0)",
          "size": 10
         },
         "mode": "lines+markers",
         "type": "scattermapbox"
        },
        {
         "lat": [
          46.997053,
          47.04045,
          47.065037,
          47.075572,
          47.1115,
          47.16999,
          47.210329,
          47.224959,
          47.251134,
          47.290424,
          47.29464,
          47.30468,
          47.30927,
          47.321712,
          47.340473
         ],
         "line": {
          "color": "rgb(100, 155, 0)",
          "width": 2
         },
         "lon": [
          2.406339,
          2.34984,
          2.293465,
          2.275496,
          2.203032,
          2.180703,
          2.117029,
          2.10698,
          2.054896,
          2.015377,
          1.925908,
          1.85554,
          1.840531,
          1.752512,
          1.670968
         ],
         "marker": {
          "color": "rgb(100, 155, 0)",
          "size": 10
         },
         "mode": "lines+markers",
         "type": "scattermapbox"
        },
        {
         "lat": [
          47.660738,
          47.6608,
          47.6608,
          47.660777,
          47.660777,
          47.660247,
          47.689476,
          47.733131,
          47.737591,
          47.76741,
          47.787966,
          47.78705,
          47.771614,
          47.778064,
          47.820843,
          47.860163,
          47.87557,
          47.877559,
          47.88715,
          47.889468,
          47.915855,
          47.946226,
          47.95187,
          47.983876,
          48.021518,
          48.067743,
          48.097292,
          48.123244,
          48.179698,
          48.226795,
          48.274207,
          48.281131,
          48.302772,
          48.344824,
          48.378802,
          48.386803,
          48.386789,
          48.386924,
          48.386924,
          48.38693,
          48.38693,
          48.386921,
          48.386919,
          48.386919,
          48.386919,
          48.387124,
          48.386918,
          48.387538,
          48.387598
         ],
         "line": {
          "color": "rgb(150, 105, 0)",
          "width": 2
         },
         "lon": [
          -2.971431,
          -2.97141,
          -2.97141,
          -2.971371,
          -2.971371,
          -2.972944,
          -3.032709,
          -3.092191,
          -3.095817,
          -3.161776,
          -3.244837,
          -3.330853,
          -3.384574,
          -3.410667,
          -3.46702,
          -3.535753,
          -3.618046,
          -3.642092,
          -3.706178,
          -3.793085,
          -3.873849,
          -3.935412,
          -3.945085,
          -4.018952,
          -4.083167,
          -4.04832,
          -4.032166,
          -4.022294,
          -4.044471,
          -4.080597,
          -4.118176,
          -4.127288,
          -4.182603,
          -4.231289,
          -4.287655,
          -4.459312,
          -4.459333,
          -4.459145,
          -4.459145,
          -4.459144,
          -4.459144,
          -4.459128,
          -4.459122,
          -4.459122,
          -4.459122,
          -4.458898,
          -4.459122,
          -4.459029,
          -4.459093
         ],
         "marker": {
          "color": "rgb(150, 105, 0)",
          "size": 10
         },
         "mode": "lines+markers",
         "type": "scattermapbox"
        },
        {
         "lat": [
          49.451045,
          49.451068,
          49.451068,
          49.45104,
          49.45104,
          49.451038,
          49.451038,
          49.485096,
          49.534394,
          49.531519,
          49.570104,
          49.586617,
          49.613313,
          49.620969,
          49.628772
         ],
         "line": {
          "color": "rgb(200, 55, 0)",
          "width": 2
         },
         "lon": [
          0.272093,
          0.272119,
          0.272119,
          0.272105,
          0.272105,
          0.272114,
          0.272114,
          0.263401,
          0.316247,
          0.313254,
          0.361851,
          0.44667,
          0.522795,
          0.591269,
          0.612451
         ],
         "marker": {
          "color": "rgb(200, 55, 0)",
          "size": 10
         },
         "mode": "lines+markers",
         "type": "scattermapbox"
        },
        {
         "lat": [
          52.258006,
          52.258006,
          52.258,
          52.258,
          52.258,
          52.257997,
          52.257996,
          52.258,
          52.257987,
          52.257987,
          52.25802,
          52.25802,
          52.277857,
          52.323703,
          52.330587
         ],
         "line": {
          "color": "rgb(100, 155, 0)",
          "width": 2
         },
         "lon": [
          5.522057,
          5.522057,
          5.52209,
          5.52209,
          5.52209,
          5.522059,
          5.522081,
          5.52208,
          5.522056,
          5.522039,
          5.522075,
          5.522075,
          5.543244,
          5.575062,
          5.5892
         ],
         "marker": {
          "color": "rgb(100, 155, 0)",
          "size": 10
         },
         "mode": "lines+markers",
         "type": "scattermapbox"
        },
        {
         "lat": [
          52.342119,
          52.361633,
          52.393119,
          52.407054,
          52.429844,
          52.474145,
          52.513215,
          52.534232,
          52.539681,
          52.596796,
          52.657158,
          52.684489,
          52.677977,
          52.681747,
          52.707611,
          52.714819,
          52.714987,
          52.716224,
          52.717423,
          52.717417,
          52.717468,
          52.722474,
          52.729641,
          52.722718,
          52.735219,
          52.734344,
          52.721427,
          52.720289,
          52.722574,
          52.722676,
          52.725836,
          52.706634,
          52.706717,
          52.703081,
          52.688522,
          52.677995,
          52.677628,
          52.677995,
          52.6778,
          52.677988,
          52.677994,
          52.677994,
          52.677985,
          52.678032,
          52.678032,
          52.691419
         ],
         "line": {
          "color": "rgb(150, 105, 0)",
          "width": 2
         },
         "lon": [
          5.68298,
          5.776231,
          5.856485,
          5.884413,
          5.936591,
          6.000368,
          6.077301,
          6.157317,
          6.164352,
          6.201131,
          6.199001,
          6.269751,
          6.310781,
          6.368004,
          6.455663,
          6.554226,
          6.644874,
          6.649009,
          6.651178,
          6.651164,
          6.651334,
          6.681724,
          6.780972,
          6.879937,
          6.976492,
          6.995392,
          7.073506,
          7.174406,
          7.220115,
          7.220329,
          7.254321,
          7.315537,
          7.337499,
          7.395634,
          7.475013,
          7.508053,
          7.507245,
          7.508053,
          7.50765,
          7.50808,
          7.508046,
          7.508046,
          7.50804,
          7.508171,
          7.508171,
          7.543866
         ],
         "marker": {
          "color": "rgb(150, 105, 0)",
          "size": 10
         },
         "mode": "lines+markers",
         "type": "scattermapbox"
        },
        {
         "lat": [
          52.704759,
          52.713888
         ],
         "line": {
          "color": "rgb(200, 55, 0)",
          "width": 2
         },
         "lon": [
          7.630013,
          7.644545
         ],
         "marker": {
          "color": "rgb(200, 55, 0)",
          "size": 10
         },
         "mode": "lines+markers",
         "type": "scattermapbox"
        },
        {
         "lat": [
          52.728268,
          52.754157,
          52.787165,
          52.809381,
          52.816421,
          52.820971,
          52.847373,
          52.850902,
          52.814312,
          52.822322,
          52.823328,
          52.877388,
          52.904187,
          52.914957,
          52.92796,
          52.943541,
          52.971038,
          53.004605,
          53.022279,
          53.02354,
          53.038241,
          53.038776,
          53.053814,
          53.073852
         ],
         "line": {
          "color": "rgb(0, 255, 0)",
          "width": 2
         },
         "lon": [
          7.70805,
          7.776453,
          7.838047,
          7.900735,
          7.940802,
          7.970924,
          8.025394,
          8.095159,
          8.158035,
          8.213394,
          8.213671,
          8.258554,
          8.348911,
          8.441276,
          8.493498,
          8.521634,
          8.612949,
          8.69665,
          8.793846,
          8.809308,
          8.886299,
          8.977165,
          9.052497,
          9.137955
         ],
         "marker": {
          "color": "rgb(0, 255, 0)",
          "size": 10
         },
         "mode": "lines+markers",
         "type": "scattermapbox"
        },
        {
         "lat": [
          56.176117,
          56.176117
         ],
         "line": {
          "color": "blue",
          "width": 2
         },
         "lon": [
          10.066009,
          10.066009
         ],
         "marker": {
          "color": "blue",
          "size": 10
         },
         "mode": "lines+markers",
         "type": "scattermapbox"
        },
        {
         "lat": [
          56.176121,
          56.176121,
          56.176179,
          56.176179,
          56.17611,
          56.177777,
          56.134198,
          56.126774,
          56.076253,
          56.045853,
          55.992594,
          55.966955,
          55.940521,
          55.884532,
          55.836133,
          55.786423,
          55.786236,
          55.747446
         ],
         "line": {
          "color": "rgb(100, 155, 0)",
          "width": 2
         },
         "lon": [
          10.066009,
          10.066009,
          10.065969,
          10.065969,
          10.066009,
          10.066663,
          10.035404,
          10.034607,
          10.001997,
          9.907499,
          9.867547,
          9.853186,
          9.819364,
          9.789699,
          9.722936,
          9.665864,
          9.665714,
          9.585349
         ],
         "marker": {
          "color": "rgb(100, 155, 0)",
          "size": 10
         },
         "mode": "lines+markers",
         "type": "scattermapbox"
        },
        {
         "lat": [
          54.363672,
          54.363672,
          54.363671,
          54.36367
         ],
         "line": {
          "color": "rgb(150, 105, 0)",
          "width": 2
         },
         "lon": [
          9.67172,
          9.67172,
          9.67172,
          9.67172
         ],
         "marker": {
          "color": "rgb(150, 105, 0)",
          "size": 10
         },
         "mode": "lines+markers",
         "type": "scattermapbox"
        },
        {
         "lat": [
          54.363662,
          54.363663,
          54.363672,
          54.363666,
          54.36366,
          54.380794,
          54.415628,
          54.425739,
          54.44294,
          54.447532,
          54.447604,
          54.447598,
          54.477569,
          54.528446,
          54.363672,
          54.58727,
          54.603827,
          54.646181,
          54.703204,
          54.759322,
          54.804851,
          54.804943,
          54.804953,
          54.805912,
          54.844642,
          54.900351
         ],
         "line": {
          "color": "rgb(200, 55, 0)",
          "width": 2
         },
         "lon": [
          9.671741,
          9.671746,
          9.671788,
          9.671888,
          9.671931,
          9.65761,
          9.611626,
          9.599738,
          9.589085,
          9.586286,
          9.586227,
          9.586242,
          9.541328,
          9.483099,
          9.67172,
          9.463612,
          9.450388,
          9.43665,
          9.402367,
          9.363271,
          9.327906,
          9.327803,
          9.327802,
          9.327355,
          9.346555,
          9.377141
         ],
         "marker": {
          "color": "rgb(200, 55, 0)",
          "size": 10
         },
         "mode": "lines+markers",
         "type": "scattermapbox"
        },
        {
         "lat": [
          52.209985,
          52.152125,
          52.121405,
          52.104836,
          52.104695,
          52.092594,
          52.036122,
          51.97883,
          51.956004,
          51.954053,
          51.900121,
          51.841894,
          51.78196,
          51.777065,
          51.726945,
          51.666592,
          51.610433,
          51.579586,
          51.555829,
          51.526473,
          51.479821,
          51.420162,
          51.420162
         ],
         "line": {
          "color": "rgb(0, 255, 0)",
          "width": 2
         },
         "lon": [
          5.442971,
          5.415951,
          5.335959,
          5.24993,
          5.247952,
          5.157675,
          5.13819,
          5.104855,
          5.067686,
          5.022742,
          4.979442,
          4.948494,
          4.927671,
          4.927313,
          4.894677,
          4.880071,
          4.854208,
          4.823569,
          4.819523,
          4.748511,
          4.731941,
          4.70417,
          4.70417
         ],
         "marker": {
          "color": "rgb(0, 255, 0)",
          "size": 10
         },
         "mode": "lines+markers",
         "type": "scattermapbox"
        },
        {
         "lat": [
          51.420162
         ],
         "line": {
          "color": "rgb(50, 205, 0)",
          "width": 2
         },
         "lon": [
          4.70417
         ],
         "marker": {
          "color": "rgb(50, 205, 0)",
          "size": 10
         },
         "mode": "lines+markers",
         "type": "scattermapbox"
        },
        {
         "lat": [
          51.420162,
          51.423099,
          51.420173,
          51.420176,
          51.420176,
          51.420176,
          51.420143,
          51.420143,
          51.40742,
          51.388333,
          51.339054,
          51.300291,
          51.268506,
          51.267686,
          51.228982,
          51.190975,
          51.208086,
          51.175706,
          51.172448,
          51.141636,
          51.127048,
          51.082774,
          50.771323,
          50.771323
         ],
         "line": {
          "color": "rgb(100, 155, 0)",
          "width": 2
         },
         "lon": [
          4.70417,
          4.706582,
          4.704173,
          4.704188,
          4.704188,
          4.704188,
          4.70417,
          4.70417,
          4.696693,
          4.671533,
          4.61303,
          4.53734,
          4.463166,
          4.450842,
          4.442275,
          4.409354,
          4.334714,
          4.266197,
          4.258704,
          4.174908,
          4.080163,
          4.013004,
          3.198794,
          3.198794
         ],
         "marker": {
          "color": "rgb(100, 155, 0)",
          "size": 10
         },
         "mode": "lines+markers",
         "type": "scattermapbox"
        },
        {
         "lat": [
          47.255462,
          47.228079,
          47.212478,
          47.173999,
          47.131465,
          47.104028,
          47.067589,
          47.066371,
          47.013643,
          46.955474,
          46.896651,
          46.885124,
          46.885134,
          46.88515,
          46.885151
         ],
         "line": {
          "color": "blue",
          "width": 2
         },
         "lon": [
          2.048846,
          2.03729,
          2.03953,
          2.007016,
          1.945398,
          1.878411,
          1.820686,
          1.820411,
          1.782907,
          1.757157,
          1.731231,
          1.725367,
          1.725401,
          1.725437,
          1.725455
         ],
         "marker": {
          "color": "blue",
          "size": 10
         },
         "mode": "lines+markers",
         "type": "scattermapbox"
        },
        {
         "lat": [
          46.885163,
          46.88516,
          46.88516,
          46.885163,
          46.885162,
          46.885164,
          46.885163,
          46.885163,
          46.885159,
          46.885186,
          46.885164
         ],
         "line": {
          "color": "rgb(200, 55, 0)",
          "width": 2
         },
         "lon": [
          1.725493,
          1.725479,
          1.725477,
          1.725489,
          1.725489,
          1.725494,
          1.725487,
          1.725487,
          1.725503,
          1.725505,
          1.725507
         ],
         "marker": {
          "color": "rgb(200, 55, 0)",
          "size": 10
         },
         "mode": "lines+markers",
         "type": "scattermapbox"
        },
        {
         "lat": [
          46.88508
         ],
         "line": {
          "color": "rgb(0, 255, 0)",
          "width": 2
         },
         "lon": [
          1.725379
         ],
         "marker": {
          "color": "rgb(0, 255, 0)",
          "size": 10
         },
         "mode": "lines+markers",
         "type": "scattermapbox"
        },
        {
         "lat": [
          46.885121,
          46.885134,
          46.885134,
          46.8851,
          46.884213,
          46.884146
         ],
         "line": {
          "color": "rgb(50, 205, 0)",
          "width": 2
         },
         "lon": [
          1.725446,
          1.725473,
          1.725473,
          1.72554,
          1.725009,
          1.725046
         ],
         "marker": {
          "color": "rgb(50, 205, 0)",
          "size": 10
         },
         "mode": "lines+markers",
         "type": "scattermapbox"
        },
        {
         "lat": [
          46.867543,
          46.853553
         ],
         "line": {
          "color": "rgb(100, 155, 0)",
          "width": 2
         },
         "lon": [
          1.713015,
          1.703111
         ],
         "marker": {
          "color": "rgb(100, 155, 0)",
          "size": 10
         },
         "mode": "lines+markers",
         "type": "scattermapbox"
        },
        {
         "lat": [
          46.821109,
          46.765195,
          46.712549,
          46.697242,
          46.65512,
          46.610637,
          46.56436,
          46.510849,
          46.508064
         ],
         "line": {
          "color": "rgb(150, 105, 0)",
          "width": 2
         },
         "lon": [
          1.627848,
          1.637101,
          1.593305,
          1.583436,
          1.566222,
          1.516618,
          1.505082,
          1.50757,
          1.505325
         ],
         "marker": {
          "color": "rgb(150, 105, 0)",
          "size": 10
         },
         "mode": "lines+markers",
         "type": "scattermapbox"
        },
        {
         "lat": [
          46.451289,
          46.396648,
          46.341393,
          46.310314,
          46.283146
         ],
         "line": {
          "color": "rgb(200, 55, 0)",
          "width": 2
         },
         "lon": [
          1.49138,
          1.45237,
          1.420059,
          1.418151,
          1.406305
         ],
         "marker": {
          "color": "rgb(200, 55, 0)",
          "size": 10
         },
         "mode": "lines+markers",
         "type": "scattermapbox"
        },
        {
         "lat": [
          44.230589,
          44.230589,
          44.230601,
          44.230601,
          44.230574,
          44.230574,
          44.230588,
          44.178661,
          44.182609,
          44.13214,
          44.090543,
          44.052859,
          44.052796,
          44.047728,
          44.006757,
          43.999094,
          43.952198,
          43.914942,
          43.853625,
          43.829628,
          43.804295,
          43.7449,
          43.685972,
          43.643421,
          43.62772,
          43.610891,
          43.606861,
          43.60701,
          43.608392,
          43.60852,
          43.609473,
          43.629683
         ],
         "line": {
          "color": "rgb(0, 255, 0)",
          "width": 2
         },
         "lon": [
          1.530204,
          1.530204,
          1.530221,
          1.530221,
          1.530345,
          1.530345,
          1.530233,
          1.532243,
          1.533787,
          1.486394,
          1.425513,
          1.409834,
          1.409674,
          1.398209,
          1.383383,
          1.363918,
          1.325545,
          1.31891,
          1.318667,
          1.341885,
          1.367607,
          1.388689,
          1.412358,
          1.421586,
          1.41985,
          1.385486,
          1.336065,
          1.335939,
          1.336136,
          1.336283,
          1.336405,
          1.347145
         ],
         "marker": {
          "color": "rgb(0, 255, 0)",
          "size": 10
         },
         "mode": "lines+markers",
         "type": "scattermapbox"
        },
        {
         "lat": [
          43.629127,
          43.629683,
          43.629677,
          43.629677,
          43.629685,
          43.629714,
          43.629714,
          43.6296,
          43.62969,
          43.62969,
          43.62969,
          43.62969,
          43.629135,
          43.629135,
          43.629135,
          43.629135,
          43.629137,
          43.629137
         ],
         "line": {
          "color": "rgb(50, 205, 0)",
          "width": 2
         },
         "lon": [
          1.346526,
          1.347142,
          1.347128,
          1.347128,
          1.347139,
          1.347364,
          1.347364,
          1.34712,
          1.347281,
          1.347281,
          1.347281,
          1.347281,
          1.349232,
          1.34958,
          1.349232,
          1.349232,
          1.349223,
          1.349223
         ],
         "marker": {
          "color": "rgb(50, 205, 0)",
          "size": 10
         },
         "mode": "lines+markers",
         "type": "scattermapbox"
        },
        {
         "lat": [
          43.588159,
          43.588146,
          43.588146,
          43.588146,
          43.588129,
          43.588204,
          43.588204,
          43.600488,
          43.623849,
          43.660531,
          43.693878,
          43.696737,
          43.722492,
          43.73308,
          43.743469,
          43.744886,
          43.744896,
          43.729336,
          43.725286,
          43.725255,
          43.731682,
          43.728226,
          43.748482,
          43.760176,
          43.753256,
          43.753214,
          43.751999,
          43.740647,
          43.726818
         ],
         "line": {
          "color": "rgb(100, 155, 0)",
          "width": 2
         },
         "lon": [
          7.034236,
          7.0343,
          7.0343,
          7.0343,
          7.034312,
          7.034376,
          7.034376,
          7.056141,
          7.116347,
          7.166573,
          7.189402,
          7.188867,
          7.224929,
          7.289765,
          7.352322,
          7.372702,
          7.372905,
          7.390945,
          7.400464,
          7.400565,
          7.411771,
          7.408228,
          7.424993,
          7.452186,
          7.44087,
          7.440805,
          7.438905,
          7.429911,
          7.40719
         ],
         "marker": {
          "color": "rgb(100, 155, 0)",
          "size": 10
         },
         "mode": "lines+markers",
         "type": "scattermapbox"
        },
        {
         "lat": [
          49.812119,
          49.841439,
          49.841456,
          49.865762,
          49.903409,
          49.931517,
          49.939292,
          49.938488,
          49.980884,
          50.000346,
          50.00045,
          50.005036,
          50.05303,
          50.101021,
          50.142677,
          49.639421,
          49.652151,
          49.655984,
          49.659636,
          49.645564,
          49.638744,
          49.6341,
          49.642554,
          49.646174,
          49.665164,
          49.706626,
          49.728763,
          49.75688,
          49.74872,
          49.741307,
          49.752922,
          49.782035,
          49.791803,
          49.808676,
          49.815017
         ],
         "line": {
          "color": "rgb(50, 205, 0)",
          "width": 2
         },
         "lon": [
          2.018788,
          2.096621,
          2.100102,
          2.18215,
          2.234522,
          2.255882,
          2.308235,
          2.308086,
          2.316107,
          2.311445,
          2.311446,
          2.313088,
          2.323706,
          2.332047,
          2.338285,
          0.704797,
          0.793576,
          0.88347,
          0.910199,
          0.965679,
          1.057936,
          1.150271,
          1.226553,
          1.239907,
          1.31043,
          1.375423,
          1.457641,
          1.48747,
          1.514639,
          1.598424,
          1.688251,
          1.751548,
          1.785201,
          1.832239,
          1.925265
         ],
         "marker": {
          "color": "rgb(50, 205, 0)",
          "size": 10
         },
         "mode": "lines+markers",
         "type": "scattermapbox"
        }
       ],
       "layout": {
        "autosize": true,
        "height": 600,
        "hovermode": "closest",
        "mapbox": {
         "center": {
          "lat": 52.1326,
          "lon": 5.2913
         },
         "style": "open-street-map",
         "zoom": 5
        },
        "template": {
         "data": {
          "bar": [
           {
            "error_x": {
             "color": "#2a3f5f"
            },
            "error_y": {
             "color": "#2a3f5f"
            },
            "marker": {
             "line": {
              "color": "#E5ECF6",
              "width": 0.5
             },
             "pattern": {
              "fillmode": "overlay",
              "size": 10,
              "solidity": 0.2
             }
            },
            "type": "bar"
           }
          ],
          "barpolar": [
           {
            "marker": {
             "line": {
              "color": "#E5ECF6",
              "width": 0.5
             },
             "pattern": {
              "fillmode": "overlay",
              "size": 10,
              "solidity": 0.2
             }
            },
            "type": "barpolar"
           }
          ],
          "carpet": [
           {
            "aaxis": {
             "endlinecolor": "#2a3f5f",
             "gridcolor": "white",
             "linecolor": "white",
             "minorgridcolor": "white",
             "startlinecolor": "#2a3f5f"
            },
            "baxis": {
             "endlinecolor": "#2a3f5f",
             "gridcolor": "white",
             "linecolor": "white",
             "minorgridcolor": "white",
             "startlinecolor": "#2a3f5f"
            },
            "type": "carpet"
           }
          ],
          "choropleth": [
           {
            "colorbar": {
             "outlinewidth": 0,
             "ticks": ""
            },
            "type": "choropleth"
           }
          ],
          "contour": [
           {
            "colorbar": {
             "outlinewidth": 0,
             "ticks": ""
            },
            "colorscale": [
             [
              0,
              "#0d0887"
             ],
             [
              0.1111111111111111,
              "#46039f"
             ],
             [
              0.2222222222222222,
              "#7201a8"
             ],
             [
              0.3333333333333333,
              "#9c179e"
             ],
             [
              0.4444444444444444,
              "#bd3786"
             ],
             [
              0.5555555555555556,
              "#d8576b"
             ],
             [
              0.6666666666666666,
              "#ed7953"
             ],
             [
              0.7777777777777778,
              "#fb9f3a"
             ],
             [
              0.8888888888888888,
              "#fdca26"
             ],
             [
              1,
              "#f0f921"
             ]
            ],
            "type": "contour"
           }
          ],
          "contourcarpet": [
           {
            "colorbar": {
             "outlinewidth": 0,
             "ticks": ""
            },
            "type": "contourcarpet"
           }
          ],
          "heatmap": [
           {
            "colorbar": {
             "outlinewidth": 0,
             "ticks": ""
            },
            "colorscale": [
             [
              0,
              "#0d0887"
             ],
             [
              0.1111111111111111,
              "#46039f"
             ],
             [
              0.2222222222222222,
              "#7201a8"
             ],
             [
              0.3333333333333333,
              "#9c179e"
             ],
             [
              0.4444444444444444,
              "#bd3786"
             ],
             [
              0.5555555555555556,
              "#d8576b"
             ],
             [
              0.6666666666666666,
              "#ed7953"
             ],
             [
              0.7777777777777778,
              "#fb9f3a"
             ],
             [
              0.8888888888888888,
              "#fdca26"
             ],
             [
              1,
              "#f0f921"
             ]
            ],
            "type": "heatmap"
           }
          ],
          "heatmapgl": [
           {
            "colorbar": {
             "outlinewidth": 0,
             "ticks": ""
            },
            "colorscale": [
             [
              0,
              "#0d0887"
             ],
             [
              0.1111111111111111,
              "#46039f"
             ],
             [
              0.2222222222222222,
              "#7201a8"
             ],
             [
              0.3333333333333333,
              "#9c179e"
             ],
             [
              0.4444444444444444,
              "#bd3786"
             ],
             [
              0.5555555555555556,
              "#d8576b"
             ],
             [
              0.6666666666666666,
              "#ed7953"
             ],
             [
              0.7777777777777778,
              "#fb9f3a"
             ],
             [
              0.8888888888888888,
              "#fdca26"
             ],
             [
              1,
              "#f0f921"
             ]
            ],
            "type": "heatmapgl"
           }
          ],
          "histogram": [
           {
            "marker": {
             "pattern": {
              "fillmode": "overlay",
              "size": 10,
              "solidity": 0.2
             }
            },
            "type": "histogram"
           }
          ],
          "histogram2d": [
           {
            "colorbar": {
             "outlinewidth": 0,
             "ticks": ""
            },
            "colorscale": [
             [
              0,
              "#0d0887"
             ],
             [
              0.1111111111111111,
              "#46039f"
             ],
             [
              0.2222222222222222,
              "#7201a8"
             ],
             [
              0.3333333333333333,
              "#9c179e"
             ],
             [
              0.4444444444444444,
              "#bd3786"
             ],
             [
              0.5555555555555556,
              "#d8576b"
             ],
             [
              0.6666666666666666,
              "#ed7953"
             ],
             [
              0.7777777777777778,
              "#fb9f3a"
             ],
             [
              0.8888888888888888,
              "#fdca26"
             ],
             [
              1,
              "#f0f921"
             ]
            ],
            "type": "histogram2d"
           }
          ],
          "histogram2dcontour": [
           {
            "colorbar": {
             "outlinewidth": 0,
             "ticks": ""
            },
            "colorscale": [
             [
              0,
              "#0d0887"
             ],
             [
              0.1111111111111111,
              "#46039f"
             ],
             [
              0.2222222222222222,
              "#7201a8"
             ],
             [
              0.3333333333333333,
              "#9c179e"
             ],
             [
              0.4444444444444444,
              "#bd3786"
             ],
             [
              0.5555555555555556,
              "#d8576b"
             ],
             [
              0.6666666666666666,
              "#ed7953"
             ],
             [
              0.7777777777777778,
              "#fb9f3a"
             ],
             [
              0.8888888888888888,
              "#fdca26"
             ],
             [
              1,
              "#f0f921"
             ]
            ],
            "type": "histogram2dcontour"
           }
          ],
          "mesh3d": [
           {
            "colorbar": {
             "outlinewidth": 0,
             "ticks": ""
            },
            "type": "mesh3d"
           }
          ],
          "parcoords": [
           {
            "line": {
             "colorbar": {
              "outlinewidth": 0,
              "ticks": ""
             }
            },
            "type": "parcoords"
           }
          ],
          "pie": [
           {
            "automargin": true,
            "type": "pie"
           }
          ],
          "scatter": [
           {
            "fillpattern": {
             "fillmode": "overlay",
             "size": 10,
             "solidity": 0.2
            },
            "type": "scatter"
           }
          ],
          "scatter3d": [
           {
            "line": {
             "colorbar": {
              "outlinewidth": 0,
              "ticks": ""
             }
            },
            "marker": {
             "colorbar": {
              "outlinewidth": 0,
              "ticks": ""
             }
            },
            "type": "scatter3d"
           }
          ],
          "scattercarpet": [
           {
            "marker": {
             "colorbar": {
              "outlinewidth": 0,
              "ticks": ""
             }
            },
            "type": "scattercarpet"
           }
          ],
          "scattergeo": [
           {
            "marker": {
             "colorbar": {
              "outlinewidth": 0,
              "ticks": ""
             }
            },
            "type": "scattergeo"
           }
          ],
          "scattergl": [
           {
            "marker": {
             "colorbar": {
              "outlinewidth": 0,
              "ticks": ""
             }
            },
            "type": "scattergl"
           }
          ],
          "scattermapbox": [
           {
            "marker": {
             "colorbar": {
              "outlinewidth": 0,
              "ticks": ""
             }
            },
            "type": "scattermapbox"
           }
          ],
          "scatterpolar": [
           {
            "marker": {
             "colorbar": {
              "outlinewidth": 0,
              "ticks": ""
             }
            },
            "type": "scatterpolar"
           }
          ],
          "scatterpolargl": [
           {
            "marker": {
             "colorbar": {
              "outlinewidth": 0,
              "ticks": ""
             }
            },
            "type": "scatterpolargl"
           }
          ],
          "scatterternary": [
           {
            "marker": {
             "colorbar": {
              "outlinewidth": 0,
              "ticks": ""
             }
            },
            "type": "scatterternary"
           }
          ],
          "surface": [
           {
            "colorbar": {
             "outlinewidth": 0,
             "ticks": ""
            },
            "colorscale": [
             [
              0,
              "#0d0887"
             ],
             [
              0.1111111111111111,
              "#46039f"
             ],
             [
              0.2222222222222222,
              "#7201a8"
             ],
             [
              0.3333333333333333,
              "#9c179e"
             ],
             [
              0.4444444444444444,
              "#bd3786"
             ],
             [
              0.5555555555555556,
              "#d8576b"
             ],
             [
              0.6666666666666666,
              "#ed7953"
             ],
             [
              0.7777777777777778,
              "#fb9f3a"
             ],
             [
              0.8888888888888888,
              "#fdca26"
             ],
             [
              1,
              "#f0f921"
             ]
            ],
            "type": "surface"
           }
          ],
          "table": [
           {
            "cells": {
             "fill": {
              "color": "#EBF0F8"
             },
             "line": {
              "color": "white"
             }
            },
            "header": {
             "fill": {
              "color": "#C8D4E3"
             },
             "line": {
              "color": "white"
             }
            },
            "type": "table"
           }
          ]
         },
         "layout": {
          "annotationdefaults": {
           "arrowcolor": "#2a3f5f",
           "arrowhead": 0,
           "arrowwidth": 1
          },
          "autotypenumbers": "strict",
          "coloraxis": {
           "colorbar": {
            "outlinewidth": 0,
            "ticks": ""
           }
          },
          "colorscale": {
           "diverging": [
            [
             0,
             "#8e0152"
            ],
            [
             0.1,
             "#c51b7d"
            ],
            [
             0.2,
             "#de77ae"
            ],
            [
             0.3,
             "#f1b6da"
            ],
            [
             0.4,
             "#fde0ef"
            ],
            [
             0.5,
             "#f7f7f7"
            ],
            [
             0.6,
             "#e6f5d0"
            ],
            [
             0.7,
             "#b8e186"
            ],
            [
             0.8,
             "#7fbc41"
            ],
            [
             0.9,
             "#4d9221"
            ],
            [
             1,
             "#276419"
            ]
           ],
           "sequential": [
            [
             0,
             "#0d0887"
            ],
            [
             0.1111111111111111,
             "#46039f"
            ],
            [
             0.2222222222222222,
             "#7201a8"
            ],
            [
             0.3333333333333333,
             "#9c179e"
            ],
            [
             0.4444444444444444,
             "#bd3786"
            ],
            [
             0.5555555555555556,
             "#d8576b"
            ],
            [
             0.6666666666666666,
             "#ed7953"
            ],
            [
             0.7777777777777778,
             "#fb9f3a"
            ],
            [
             0.8888888888888888,
             "#fdca26"
            ],
            [
             1,
             "#f0f921"
            ]
           ],
           "sequentialminus": [
            [
             0,
             "#0d0887"
            ],
            [
             0.1111111111111111,
             "#46039f"
            ],
            [
             0.2222222222222222,
             "#7201a8"
            ],
            [
             0.3333333333333333,
             "#9c179e"
            ],
            [
             0.4444444444444444,
             "#bd3786"
            ],
            [
             0.5555555555555556,
             "#d8576b"
            ],
            [
             0.6666666666666666,
             "#ed7953"
            ],
            [
             0.7777777777777778,
             "#fb9f3a"
            ],
            [
             0.8888888888888888,
             "#fdca26"
            ],
            [
             1,
             "#f0f921"
            ]
           ]
          },
          "colorway": [
           "#636efa",
           "#EF553B",
           "#00cc96",
           "#ab63fa",
           "#FFA15A",
           "#19d3f3",
           "#FF6692",
           "#B6E880",
           "#FF97FF",
           "#FECB52"
          ],
          "font": {
           "color": "#2a3f5f"
          },
          "geo": {
           "bgcolor": "white",
           "lakecolor": "white",
           "landcolor": "#E5ECF6",
           "showlakes": true,
           "showland": true,
           "subunitcolor": "white"
          },
          "hoverlabel": {
           "align": "left"
          },
          "hovermode": "closest",
          "mapbox": {
           "style": "light"
          },
          "paper_bgcolor": "white",
          "plot_bgcolor": "#E5ECF6",
          "polar": {
           "angularaxis": {
            "gridcolor": "white",
            "linecolor": "white",
            "ticks": ""
           },
           "bgcolor": "#E5ECF6",
           "radialaxis": {
            "gridcolor": "white",
            "linecolor": "white",
            "ticks": ""
           }
          },
          "scene": {
           "xaxis": {
            "backgroundcolor": "#E5ECF6",
            "gridcolor": "white",
            "gridwidth": 2,
            "linecolor": "white",
            "showbackground": true,
            "ticks": "",
            "zerolinecolor": "white"
           },
           "yaxis": {
            "backgroundcolor": "#E5ECF6",
            "gridcolor": "white",
            "gridwidth": 2,
            "linecolor": "white",
            "showbackground": true,
            "ticks": "",
            "zerolinecolor": "white"
           },
           "zaxis": {
            "backgroundcolor": "#E5ECF6",
            "gridcolor": "white",
            "gridwidth": 2,
            "linecolor": "white",
            "showbackground": true,
            "ticks": "",
            "zerolinecolor": "white"
           }
          },
          "shapedefaults": {
           "line": {
            "color": "#2a3f5f"
           }
          },
          "ternary": {
           "aaxis": {
            "gridcolor": "white",
            "linecolor": "white",
            "ticks": ""
           },
           "baxis": {
            "gridcolor": "white",
            "linecolor": "white",
            "ticks": ""
           },
           "bgcolor": "#E5ECF6",
           "caxis": {
            "gridcolor": "white",
            "linecolor": "white",
            "ticks": ""
           }
          },
          "title": {
           "x": 0.05
          },
          "xaxis": {
           "automargin": true,
           "gridcolor": "white",
           "linecolor": "white",
           "ticks": "",
           "title": {
            "standoff": 15
           },
           "zerolinecolor": "white",
           "zerolinewidth": 2
          },
          "yaxis": {
           "automargin": true,
           "gridcolor": "white",
           "linecolor": "white",
           "ticks": "",
           "title": {
            "standoff": 15
           },
           "zerolinecolor": "white",
           "zerolinewidth": 2
          }
         }
        },
        "width": 1000
       }
      }
     },
     "metadata": {},
     "output_type": "display_data"
    },
    {
     "data": {
      "application/vnd.plotly.v1+json": {
       "config": {
        "plotlyServerURL": "https://plot.ly"
       },
       "data": [
        {
         "lat": [
          51.264967,
          51.264968,
          51.264968,
          51.264968,
          51.264961,
          51.265012,
          51.265012,
          51.266747,
          51.266813,
          51.265816,
          51.265776,
          51.261713,
          51.261576,
          51.256392,
          51.260354,
          51.260369,
          51.26276,
          51.262761,
          51.262765,
          51.262782,
          51.262782,
          51.262764,
          51.263,
          51.262769,
          51.262791,
          51.262791,
          51.262885,
          51.262885,
          51.257226,
          51.257257,
          51.25728,
          51.25749,
          51.25749,
          51.25749,
          51.25749,
          51.257478,
          51.25749,
          51.257474,
          51.257477,
          51.2575,
          51.2575,
          51.257461,
          51.257461,
          51.257461,
          51.257461,
          51.257496,
          51.257488
         ],
         "line": {
          "color": "rgb(0, 255, 0)",
          "width": 2
         },
         "lon": [
          4.283523,
          4.283523,
          4.283523,
          4.283523,
          4.283535,
          4.28358,
          4.28358,
          4.288068,
          4.288056,
          4.279989,
          4.279972,
          4.278927,
          4.278451,
          4.245702,
          4.247168,
          4.247182,
          4.249267,
          4.249272,
          4.24928,
          4.249274,
          4.249274,
          4.249281,
          4.2492,
          4.249285,
          4.249246,
          4.249246,
          4.249312,
          4.249312,
          4.243721,
          4.2437,
          4.242657,
          4.242703,
          4.242704,
          4.242704,
          4.242704,
          4.242718,
          4.242675,
          4.242713,
          4.242649,
          4.2426,
          4.2426,
          4.242609,
          4.242609,
          4.242609,
          4.242609,
          4.242683,
          4.242669
         ],
         "marker": {
          "color": "rgb(0, 255, 0)",
          "size": 10
         },
         "mode": "lines+markers",
         "type": "scattermapbox"
        },
        {
         "lat": [
          51.257488,
          51.257488,
          51.257488
         ],
         "line": {
          "color": "rgb(50, 205, 0)",
          "width": 2
         },
         "lon": [
          4.242669,
          4.242669,
          4.242669
         ],
         "marker": {
          "color": "rgb(50, 205, 0)",
          "size": 10
         },
         "mode": "lines+markers",
         "type": "scattermapbox"
        },
        {
         "lat": [
          50.7544,
          50.7544,
          50.7544,
          50.754428,
          50.75447,
          50.75447,
          50.754973,
          50.754987,
          50.750666,
          50.730119,
          50.674444,
          50.627135,
          50.594118,
          50.587631,
          50.572363,
          50.525939,
          50.476507,
          50.454441,
          50.422349,
          50.386124,
          50.383099,
          50.363766,
          50.363761,
          50.363149,
          50.366838,
          50.338686,
          50.297537,
          50.250185,
          50.205236,
          50.20757,
          50.157638,
          50.100074,
          50.044566,
          50.012377,
          49.998271,
          49.972516,
          49.940804,
          49.93045,
          49.924935,
          49.905473,
          49.85039,
          49.816,
          49.775072
         ],
         "line": {
          "color": "rgb(100, 155, 0)",
          "width": 2
         },
         "lon": [
          6.85229,
          6.85229,
          6.85229,
          6.852311,
          6.85233,
          6.85233,
          6.853202,
          6.853233,
          6.852298,
          6.881921,
          6.919011,
          6.973123,
          7.026977,
          7.044484,
          7.135182,
          7.188895,
          7.223769,
          7.23234,
          7.230505,
          7.291877,
          7.380044,
          7.428561,
          7.428627,
          7.436786,
          7.459839,
          7.510819,
          7.502002,
          7.517331,
          7.573843,
          7.569996,
          7.594252,
          7.603278,
          7.637864,
          7.681376,
          7.684783,
          7.737805,
          7.798397,
          7.883349,
          7.943291,
          7.947601,
          7.979486,
          8.049952,
          8.110515
         ],
         "marker": {
          "color": "rgb(100, 155, 0)",
          "size": 10
         },
         "mode": "lines+markers",
         "type": "scattermapbox"
        },
        {
         "lat": [
          49.762954,
          49.719441,
          49.698773,
          49.6567,
          49.613664,
          49.604459
         ],
         "line": {
          "color": "rgb(150, 105, 0)",
          "width": 2
         },
         "lon": [
          8.114794,
          8.134703,
          8.21643,
          8.284182,
          8.291098,
          8.288345
         ],
         "marker": {
          "color": "rgb(150, 105, 0)",
          "size": 10
         },
         "mode": "lines+markers",
         "type": "scattermapbox"
        },
        {
         "lat": [
          50.994167,
          50.994164,
          50.994164,
          50.994115,
          50.994115,
          50.994108,
          50.994089,
          50.994079,
          50.994045,
          50.994045,
          50.994223,
          50.993371,
          50.993327,
          50.992951
         ],
         "line": {
          "color": "rgb(200, 55, 0)",
          "width": 2
         },
         "lon": [
          5.240767,
          5.240773,
          5.240773,
          5.240775,
          5.240775,
          5.240818,
          5.240795,
          5.240799,
          5.240863,
          5.240863,
          5.241447,
          5.240308,
          5.240285,
          5.240464
         ],
         "marker": {
          "color": "rgb(200, 55, 0)",
          "size": 10
         },
         "mode": "lines+markers",
         "type": "scattermapbox"
        },
        {
         "lat": [
          50.992898,
          50.983636,
          51.006359,
          51.030154,
          51.077728,
          51.101342,
          51.2548,
          51.2548,
          51.2548,
          51.2548,
          51.2548,
          51.254768,
          51.25477,
          51.25477,
          51.254767,
          51.254698,
          51.254765,
          51.242259,
          51.227942,
          51.226756,
          51.203,
          51.201208,
          51.201145,
          51.25488
         ],
         "line": {
          "color": "rgb(0, 255, 0)",
          "width": 2
         },
         "lon": [
          5.24045,
          5.242122,
          5.218446,
          5.200133,
          5.138059,
          5.050598,
          4.24988,
          4.24988,
          4.24988,
          4.24988,
          4.24988,
          4.249894,
          4.249887,
          4.249887,
          4.24989,
          4.250799,
          4.249895,
          4.258909,
          4.345116,
          4.351693,
          4.37449,
          4.376393,
          4.376462,
          4.249346
         ],
         "marker": {
          "color": "rgb(0, 255, 0)",
          "size": 10
         },
         "mode": "lines+markers",
         "type": "scattermapbox"
        },
        {
         "lat": [
          51.254371,
          51.254371,
          51.196297,
          51.254371,
          51.1988,
          51.21167,
          51.197697,
          51.194823,
          51.181658,
          51.167942,
          51.147972,
          51.12592
         ],
         "line": {
          "color": "rgb(50, 205, 0)",
          "width": 2
         },
         "lon": [
          4.248231,
          4.248231,
          4.391797,
          4.248231,
          4.43566,
          4.501624,
          4.594922,
          4.625332,
          4.688168,
          4.780491,
          4.871515,
          4.950018
         ],
         "marker": {
          "color": "rgb(50, 205, 0)",
          "size": 10
         },
         "mode": "lines+markers",
         "type": "scattermapbox"
        },
        {
         "lat": [
          49.5955,
          49.595458,
          49.5955,
          49.59544,
          49.595437,
          49.595432,
          49.595359,
          49.595359,
          49.562405,
          49.520091,
          49.496485,
          49.454068,
          49.449944,
          49.400527,
          49.349335,
          49.303927,
          49.282008,
          49.257402,
          49.211619,
          49.1862,
          49.14411,
          49.128906,
          49.093151,
          49.04605,
          49.01385,
          48.96807,
          48.95968,
          48.916917,
          48.876187,
          48.834041,
          48.792018,
          48.789865,
          48.75005,
          48.714618,
          48.690098,
          48.663813
         ],
         "line": {
          "color": "rgb(100, 155, 0)",
          "width": 2
         },
         "lon": [
          4.49876,
          4.498754,
          4.49876,
          4.498751,
          4.498762,
          4.498754,
          4.498755,
          4.498755,
          4.466097,
          4.403106,
          4.353757,
          4.3008,
          4.296647,
          4.245079,
          4.197944,
          4.137437,
          4.111464,
          4.085338,
          4.078167,
          4.145687,
          4.212593,
          4.228144,
          4.25687,
          4.310609,
          4.32894,
          4.382868,
          4.390322,
          4.422877,
          4.468134,
          4.531485,
          4.578023,
          4.578985,
          4.591731,
          4.63613,
          4.716715,
          4.79704
         ],
         "marker": {
          "color": "rgb(100, 155, 0)",
          "size": 10
         },
         "mode": "lines+markers",
         "type": "scattermapbox"
        },
        {
         "lat": [
          48.663149,
          48.65727,
          48.65723,
          48.653046,
          48.640671
         ],
         "line": {
          "color": "rgb(150, 105, 0)",
          "width": 2
         },
         "lon": [
          4.798949,
          4.815377,
          4.815468,
          4.826944,
          4.91247
         ],
         "marker": {
          "color": "rgb(150, 105, 0)",
          "size": 10
         },
         "mode": "lines+markers",
         "type": "scattermapbox"
        },
        {
         "lat": [
          48.620618,
          48.622528,
          48.622418,
          48.594215,
          48.56668,
          48.552593,
          48.552593,
          48.552593,
          48.552593
         ],
         "line": {
          "color": "rgb(200, 55, 0)",
          "width": 2
         },
         "lon": [
          4.987413,
          4.993582,
          4.99371,
          5.03082,
          5.03522,
          5.060996,
          5.060996,
          5.060996,
          5.060996
         ],
         "marker": {
          "color": "rgb(200, 55, 0)",
          "size": 10
         },
         "mode": "lines+markers",
         "type": "scattermapbox"
        },
        {
         "lat": [
          47.2182,
          47.218168,
          47.2182,
          47.218168,
          47.2182,
          47.218168,
          47.218156,
          47.218156,
          47.21815,
          47.218145,
          47.218145,
          47.218145,
          47.218143,
          47.21814,
          47.218147
         ],
         "line": {
          "color": "blue",
          "width": 2
         },
         "lon": [
          5.00065,
          5.000712,
          5.00071,
          5.000712,
          5.00079,
          5.000712,
          5.000722,
          5.000722,
          5.000715,
          5.000711,
          5.000711,
          5.000711,
          5.000725,
          5.000728,
          5.000722
         ],
         "marker": {
          "color": "blue",
          "size": 10
         },
         "mode": "lines+markers",
         "type": "scattermapbox"
        },
        {
         "lat": [
          47.218143,
          47.218147
         ],
         "line": {
          "color": "blue",
          "width": 2
         },
         "lon": [
          5.000715,
          5.000719
         ],
         "marker": {
          "color": "blue",
          "size": 10
         },
         "mode": "lines+markers",
         "type": "scattermapbox"
        },
        {
         "lat": [
          47.218166,
          47.218176,
          47.218163,
          47.218138,
          47.218109,
          47.21809,
          47.218098,
          47.218092,
          47.218113,
          47.218114,
          47.21812,
          47.218136,
          47.218136,
          47.218152,
          47.218125,
          47.2181,
          47.218146,
          47.218146,
          47.218166,
          47.218166,
          47.218166,
          47.218151,
          47.218151,
          47.218153,
          47.218135,
          47.218135,
          47.217498,
          47.217427,
          47.20408,
          47.144785,
          47.094865,
          47.092906,
          47.042991,
          46.987321,
          46.929672,
          46.899671,
          46.86871,
          46.808675,
          46.750206,
          46.756169,
          46.759629,
          46.756921,
          46.740258,
          46.741318,
          46.754021,
          46.761342,
          46.778247,
          46.788291,
          46.78834
         ],
         "line": {
          "color": "rgb(100, 155, 0)",
          "width": 2
         },
         "lon": [
          5.000684,
          5.000704,
          5.000706,
          5.000735,
          5.000756,
          5.000773,
          5.000766,
          5.000767,
          5.000736,
          5.000741,
          5.000752,
          5.000744,
          5.000744,
          5.000737,
          5.000721,
          5.00075,
          5.000714,
          5.000714,
          5.000712,
          5.000712,
          5.000712,
          5.000712,
          5.000712,
          5.000714,
          5.000789,
          5.000789,
          5.000586,
          5.000604,
          4.996983,
          4.987863,
          4.942549,
          4.940381,
          4.888569,
          4.85129,
          4.820461,
          4.82228,
          4.819466,
          4.826422,
          4.831884,
          4.800582,
          4.756285,
          4.712143,
          4.630901,
          4.551984,
          4.486202,
          4.461553,
          4.443478,
          4.445371,
          4.445499
         ],
         "marker": {
          "color": "rgb(100, 155, 0)",
          "size": 10
         },
         "mode": "lines+markers",
         "type": "scattermapbox"
        },
        {
         "lat": [
          46.789715,
          46.789713,
          46.789711,
          46.789716,
          46.789716,
          46.789703,
          46.789716,
          46.789711,
          46.789725,
          46.789725,
          46.789693,
          46.789693,
          46.789693,
          46.789693,
          46.789691,
          46.789691,
          46.789691,
          46.789691,
          46.7897
         ],
         "line": {
          "color": "rgb(150, 105, 0)",
          "width": 2
         },
         "lon": [
          4.449036,
          4.449081,
          4.449085,
          4.449088,
          4.449088,
          4.449096,
          4.449144,
          4.449104,
          4.449113,
          4.449113,
          4.449303,
          4.449303,
          4.449303,
          4.449303,
          4.449305,
          4.449305,
          4.449305,
          4.449305,
          4.44946
         ],
         "marker": {
          "color": "rgb(150, 105, 0)",
          "size": 10
         },
         "mode": "lines+markers",
         "type": "scattermapbox"
        },
        {
         "lat": [
          47.328989,
          47.328963,
          47.328961,
          47.328961,
          47.328961,
          47.328947,
          47.328947,
          47.328996,
          47.337872,
          47.346292,
          47.344121,
          47.373758,
          47.41073,
          47.402291,
          47.414206,
          47.417432,
          47.423782,
          47.456385,
          47.49764,
          47.506605,
          47.546004,
          47.605718,
          47.646428,
          47.672392,
          47.676522,
          47.712386,
          47.718602,
          47.740184,
          47.744403,
          47.761238
         ],
         "line": {
          "color": "rgb(200, 55, 0)",
          "width": 2
         },
         "lon": [
          6.130058,
          6.130061,
          6.130075,
          6.130075,
          6.130071,
          6.13011,
          6.13011,
          6.129002,
          6.214401,
          6.302934,
          6.299415,
          6.369937,
          6.526112,
          6.441337,
          6.576684,
          6.612755,
          6.686885,
          6.756743,
          6.817126,
          6.832817,
          6.863935,
          6.856987,
          6.911414,
          6.971411,
          6.983916,
          7.054769,
          7.144215,
          7.229576,
          7.263757,
          7.314077
         ],
         "marker": {
          "color": "rgb(200, 55, 0)",
          "size": 10
         },
         "mode": "lines+markers",
         "type": "scattermapbox"
        },
        {
         "lat": [
          47.777873,
          47.837531,
          47.89171,
          47.896633,
          47.956362,
          48.016833,
          48.076147,
          48.103424,
          48.130072,
          48.183437,
          48.239868,
          48.286307,
          48.29271,
          48.337428,
          48.394436,
          48.451827,
          48.482977,
          48.498966,
          48.539924
         ],
         "line": {
          "color": "rgb(0, 255, 0)",
          "width": 2
         },
         "lon": [
          7.398373,
          7.394485,
          7.376115,
          7.373025,
          7.367325,
          7.374619,
          7.385389,
          7.38262,
          7.366009,
          7.386688,
          7.408484,
          7.457627,
          7.465086,
          7.499835,
          7.475876,
          7.5074,
          7.549943,
          7.563913,
          7.581533
         ],
         "marker": {
          "color": "rgb(0, 255, 0)",
          "size": 10
         },
         "mode": "lines+markers",
         "type": "scattermapbox"
        },
        {
         "lat": [
          49.702988,
          49.702988,
          49.702988,
          49.703017,
          49.703017,
          49.703847,
          49.707561,
          49.735821,
          49.786202,
          49.842725,
          49.878744,
          49.879755,
          49.887244,
          49.910637,
          49.947265,
          49.989097,
          50.005681,
          50.063526,
          50.099659,
          50.15225,
          50.165587,
          50.203661,
          50.255883,
          50.311798,
          50.371487,
          50.368899,
          50.418426,
          50.474626,
          50.520914,
          50.552967,
          50.558746
         ],
         "line": {
          "color": "rgb(50, 205, 0)",
          "width": 2
         },
         "lon": [
          5.622984,
          5.622984,
          5.622984,
          5.623028,
          5.623028,
          5.623619,
          5.62141,
          5.57698,
          5.532996,
          5.51088,
          5.45706,
          5.450736,
          5.368939,
          5.29446,
          5.236924,
          5.233092,
          5.219851,
          5.19624,
          5.124816,
          5.074701,
          5.070756,
          5.06582,
          5.047331,
          5.020628,
          4.996075,
          4.998255,
          4.945573,
          4.91067,
          4.881197,
          4.848116,
          4.838869
         ],
         "marker": {
          "color": "rgb(50, 205, 0)",
          "size": 10
         },
         "mode": "lines+markers",
         "type": "scattermapbox"
        },
        {
         "lat": [
          50.576967,
          50.616174,
          50.652206,
          50.686291,
          50.706647,
          50.727441,
          50.771082,
          50.789695,
          50.792802,
          50.792819,
          50.794095,
          50.794116,
          50.794362,
          50.794391,
          50.794506,
          50.794532,
          50.794548,
          50.794578,
          50.794588
         ],
         "line": {
          "color": "rgb(100, 155, 0)",
          "width": 2
         },
         "lon": [
          4.815569,
          4.770597,
          4.695456,
          4.624286,
          4.609729,
          4.563476,
          4.502506,
          4.488492,
          4.482048,
          4.482004,
          4.479373,
          4.479333,
          4.478921,
          4.47885,
          4.478664,
          4.478623,
          4.478599,
          4.478569,
          4.478553
         ],
         "marker": {
          "color": "rgb(100, 155, 0)",
          "size": 10
         },
         "mode": "lines+markers",
         "type": "scattermapbox"
        },
        {
         "lat": [
          49.590092,
          49.590092,
          49.590092,
          49.590092,
          49.590129,
          49.590129,
          49.590092,
          49.580262,
          49.533862,
          49.5293,
          49.516244,
          49.467221,
          49.418063,
          49.384062,
          49.370983,
          49.326989,
          49.280549,
          49.230174,
          49.210533,
          49.200546,
          49.166825,
          49.120461,
          49.064234,
          49.054798,
          49.033792,
          48.985139,
          48.93947,
          48.905208,
          48.889051
         ],
         "line": {
          "color": "rgb(150, 105, 0)",
          "width": 2
         },
         "lon": [
          4.499575,
          4.499575,
          4.499557,
          4.499557,
          4.499585,
          4.499585,
          4.499557,
          4.483973,
          4.424192,
          4.42005,
          4.346781,
          4.316293,
          4.263573,
          4.228507,
          4.21586,
          4.165485,
          4.107296,
          4.068507,
          4.079477,
          4.106337,
          4.183792,
          4.243477,
          4.276053,
          4.287698,
          4.318314,
          4.350068,
          4.396908,
          4.44353,
          4.455943
         ],
         "marker": {
          "color": "rgb(150, 105, 0)",
          "size": 10
         },
         "mode": "lines+markers",
         "type": "scattermapbox"
        },
        {
         "lat": [
          48.854756,
          48.813769,
          48.771175,
          48.736917,
          48.72456,
          48.702079,
          48.677436,
          48.651873,
          48.63767,
          48.638599,
          48.620977,
          48.591576,
          48.546251,
          48.501391,
          48.500294,
          48.453224,
          48.404911,
          48.38569,
          48.385554,
          48.37528
         ],
         "line": {
          "color": "rgb(200, 55, 0)",
          "width": 2
         },
         "lon": [
          4.492277,
          4.550293,
          4.583135,
          4.60599,
          4.626485,
          4.672691,
          4.75779,
          4.840833,
          4.92039,
          4.919041,
          4.987961,
          5.031378,
          5.069605,
          5.105424,
          5.106711,
          5.150715,
          5.157128,
          5.15373,
          5.153829,
          5.156262
         ],
         "marker": {
          "color": "rgb(200, 55, 0)",
          "size": 10
         },
         "mode": "lines+markers",
         "type": "scattermapbox"
        },
        {
         "lat": [
          47.32715,
          47.32715,
          47.327135,
          47.327142,
          47.327135,
          47.327148,
          47.327183,
          47.327183,
          47.336815,
          47.343726,
          47.344321,
          47.344321,
          47.344321,
          47.344321,
          47.344341,
          47.344341,
          47.344331,
          47.344331,
          47.344331,
          47.34431,
          47.347031,
          47.374068,
          47.374146,
          47.404845,
          47.410249,
          47.4171,
          47.426076
         ],
         "line": {
          "color": "rgb(0, 255, 0)",
          "width": 2
         },
         "lon": [
          6.124531,
          6.124531,
          6.124539,
          6.124524,
          6.124539,
          6.124525,
          6.124529,
          6.124529,
          6.15788,
          6.246504,
          6.255238,
          6.255237,
          6.255235,
          6.255235,
          6.255339,
          6.255339,
          6.255378,
          6.255378,
          6.255378,
          6.255225,
          6.304209,
          6.361111,
          6.375667,
          6.445004,
          6.529433,
          6.615541,
          6.64794
         ],
         "marker": {
          "color": "rgb(0, 255, 0)",
          "size": 10
         },
         "mode": "lines+markers",
         "type": "scattermapbox"
        },
        {
         "lat": [
          47.425829,
          47.442619,
          47.443109,
          47.442703,
          47.443108,
          47.443108,
          47.443108,
          47.443127,
          47.443119,
          47.443115,
          47.443115,
          47.443105,
          47.443114,
          47.443114,
          47.443102,
          47.443101,
          47.443101
         ],
         "line": {
          "color": "rgb(50, 205, 0)",
          "width": 2
         },
         "lon": [
          6.689482,
          6.732402,
          6.732394,
          6.730988,
          6.732394,
          6.732394,
          6.732394,
          6.732388,
          6.732397,
          6.732394,
          6.732394,
          6.732396,
          6.732401,
          6.732401,
          6.732394,
          6.732503,
          6.732503
         ],
         "marker": {
          "color": "rgb(50, 205, 0)",
          "size": 10
         },
         "mode": "lines+markers",
         "type": "scattermapbox"
        },
        {
         "lat": [
          47.4431,
          47.4431,
          47.4431,
          47.444735
         ],
         "line": {
          "color": "rgb(100, 155, 0)",
          "width": 2
         },
         "lon": [
          6.7324,
          6.7324,
          6.7324,
          6.738362
         ],
         "marker": {
          "color": "rgb(100, 155, 0)",
          "size": 10
         },
         "mode": "lines+markers",
         "type": "scattermapbox"
        },
        {
         "lat": [
          47.482943,
          47.525593,
          47.577711,
          47.577711,
          47.577711,
          47.577684,
          47.577679,
          47.577682,
          47.577657,
          47.577667,
          47.577671,
          47.577671,
          47.577709,
          47.577681,
          47.577723,
          47.577718,
          47.577718,
          47.577688,
          47.577683,
          47.577682,
          47.577673,
          47.577691,
          47.577667,
          47.577704,
          47.577696,
          47.57769,
          47.577676,
          47.577685,
          47.577696,
          47.577708,
          47.577708,
          47.5753,
          47.5702,
          47.5702
         ],
         "line": {
          "color": "rgb(150, 105, 0)",
          "width": 2
         },
         "lon": [
          6.801864,
          6.856876,
          7.565145,
          7.565145,
          7.565145,
          7.565171,
          7.565192,
          7.565174,
          7.565184,
          7.565199,
          7.565202,
          7.565189,
          7.565197,
          7.565185,
          7.565137,
          7.565146,
          7.565146,
          7.565176,
          7.56517,
          7.565174,
          7.565146,
          7.565167,
          7.565168,
          7.56519,
          7.565194,
          7.565186,
          7.565175,
          7.565186,
          7.565174,
          7.565103,
          7.565103,
          7.56177,
          7.58273,
          7.58273
         ],
         "marker": {
          "color": "rgb(150, 105, 0)",
          "size": 10
         },
         "mode": "lines+markers",
         "type": "scattermapbox"
        },
        {
         "lat": [
          47.5702,
          47.5702,
          47.5702,
          47.5702,
          47.5702,
          47.5702,
          47.5702,
          47.5702,
          47.5702,
          47.572643,
          47.572738,
          47.573369,
          47.573456,
          47.57344,
          47.574151,
          47.57415,
          47.526211,
          47.52733,
          47.540828,
          47.558248,
          47.5704,
          47.5704,
          47.5704,
          47.570574,
          47.57063
         ],
         "line": {
          "color": "rgb(200, 55, 0)",
          "width": 2
         },
         "lon": [
          7.58273,
          7.58273,
          7.58273,
          7.58273,
          7.58273,
          7.58273,
          7.58273,
          7.58273,
          7.58273,
          7.598649,
          7.598621,
          7.598601,
          7.598636,
          7.598631,
          7.599963,
          7.600092,
          7.713198,
          7.677364,
          7.632601,
          7.61365,
          7.60397,
          7.60397,
          7.60397,
          7.603787,
          7.603755
         ],
         "marker": {
          "color": "rgb(200, 55, 0)",
          "size": 10
         },
         "mode": "lines+markers",
         "type": "scattermapbox"
        },
        {
         "lat": [
          47.570761,
          47.570787,
          47.573028,
          47.573069,
          47.496238,
          47.449463,
          47.394955,
          47.3784,
          47.34578,
          47.30979,
          47.311989,
          47.305917,
          47.305971,
          47.312728,
          47.7749,
          47.774888,
          47.774844,
          47.774839,
          47.774823
         ],
         "line": {
          "color": "blue",
          "width": 2
         },
         "lon": [
          7.603672,
          7.60365,
          7.602018,
          7.601987,
          7.767398,
          7.803097,
          7.81483,
          7.81608,
          7.83574,
          7.830932,
          7.895991,
          7.92894,
          7.929169,
          7.920223,
          7.37837,
          7.378388,
          7.378466,
          7.378458,
          7.378481
         ],
         "marker": {
          "color": "blue",
          "size": 10
         },
         "mode": "lines+markers",
         "type": "scattermapbox"
        },
        {
         "lat": [
          47.774837,
          47.774848,
          47.774845,
          47.774829,
          47.774818,
          47.774825,
          47.774818,
          47.774814,
          47.774886,
          47.774884,
          47.774871,
          47.774889,
          47.774882,
          47.774883,
          47.774891,
          47.774892,
          47.77488,
          47.774874,
          47.774889,
          47.774895,
          47.774888,
          47.7749,
          47.7749,
          47.7749,
          47.774877,
          47.774877,
          47.774866,
          47.775462,
          47.775426,
          47.770914,
          47.770815,
          47.770736,
          47.779104,
          47.778064,
          47.778073,
          47.778825,
          47.777247,
          47.777171,
          47.768119,
          47.759598,
          47.759466,
          47.759599,
          47.773172
         ],
         "line": {
          "color": "rgb(50, 205, 0)",
          "width": 2
         },
         "lon": [
          7.378452,
          7.378468,
          7.37846,
          7.378453,
          7.378458,
          7.378458,
          7.378466,
          7.378473,
          7.37842,
          7.378457,
          7.378402,
          7.378426,
          7.378408,
          7.378416,
          7.378428,
          7.378441,
          7.378415,
          7.378429,
          7.378424,
          7.378442,
          7.378456,
          7.37842,
          7.37842,
          7.37842,
          7.378477,
          7.378477,
          7.378498,
          7.379359,
          7.379431,
          7.386615,
          7.386752,
          7.387412,
          7.366657,
          7.353339,
          7.353157,
          7.335161,
          7.331351,
          7.331195,
          7.305333,
          7.279765,
          7.279686,
          7.27976,
          7.225186
         ],
         "marker": {
          "color": "rgb(50, 205, 0)",
          "size": 10
         },
         "mode": "lines+markers",
         "type": "scattermapbox"
        },
        {
         "lat": [
          49.369909,
          49.369914,
          49.369909,
          49.369914,
          49.369921,
          49.369907,
          49.369907
         ],
         "line": {
          "color": "blue",
          "width": 2
         },
         "lon": [
          3.467461,
          3.467459,
          3.467461,
          3.467459,
          3.467465,
          3.467521,
          3.467521
         ],
         "marker": {
          "color": "blue",
          "size": 10
         },
         "mode": "lines+markers",
         "type": "scattermapbox"
        },
        {
         "lat": [
          49.369731,
          49.362409,
          49.369983,
          49.369996,
          49.369982,
          49.370128,
          49.365391,
          49.383791,
          49.396192,
          49.39587,
          49.397452,
          49.398103,
          49.398123,
          49.39811,
          49.404238,
          49.403911,
          49.422475,
          49.399077,
          49.400471,
          49.39392,
          49.394088,
          49.392215,
          49.391501,
          49.356232,
          49.321868,
          49.324124,
          49.310365,
          49.304415,
          49.28715,
          49.281636,
          49.281594,
          49.281529,
          49.281508,
          49.281073,
          49.281017,
          49.280946,
          49.280906,
          49.280808,
          49.280812,
          49.280756,
          49.280378,
          49.280365,
          49.280364
         ],
         "line": {
          "color": "rgb(150, 105, 0)",
          "width": 2
         },
         "lon": [
          3.467769,
          3.407279,
          3.357571,
          3.357469,
          3.357571,
          3.356957,
          3.311547,
          3.261017,
          3.179895,
          3.105029,
          3.055748,
          3.045908,
          3.045753,
          3.045936,
          3.004855,
          2.957121,
          2.893263,
          2.867377,
          2.822991,
          2.792278,
          2.792224,
          2.789062,
          2.788454,
          2.757807,
          2.690736,
          2.607519,
          2.547121,
          2.525873,
          2.502946,
          2.501344,
          2.501286,
          2.501196,
          2.501155,
          2.500937,
          2.500995,
          2.501048,
          2.501075,
          2.501114,
          2.501107,
          2.501106,
          2.50046,
          2.50043,
          2.500429
         ],
         "marker": {
          "color": "rgb(150, 105, 0)",
          "size": 10
         },
         "mode": "lines+markers",
         "type": "scattermapbox"
        },
        {
         "lat": [
          50.4762,
          50.4762
         ],
         "line": {
          "color": "rgb(200, 55, 0)",
          "width": 2
         },
         "lon": [
          4.48337,
          4.48337
         ],
         "marker": {
          "color": "rgb(200, 55, 0)",
          "size": 10
         },
         "mode": "lines+markers",
         "type": "scattermapbox"
        },
        {
         "lat": [
          50.4762,
          50.4762,
          50.4762,
          50.476228,
          50.476228,
          50.476301,
          50.481703,
          50.473589,
          50.423992,
          50.407628,
          50.407631,
          50.407631,
          50.407636,
          50.407907,
          50.408353,
          50.408352,
          50.408339,
          50.408348,
          50.408354,
          50.408355,
          50.408315,
          50.408356,
          50.408417,
          50.408333,
          50.408417,
          50.408418,
          50.408433,
          50.408466,
          50.408466,
          50.408446,
          50.408423,
          50.408423,
          50.408423,
          50.408423,
          50.408485,
          50.408453,
          50.408485,
          50.408485,
          50.40846,
          50.40846,
          50.40846,
          50.40846,
          50.40846
         ],
         "line": {
          "color": "rgb(0, 255, 0)",
          "width": 2
         },
         "lon": [
          4.48337,
          4.48337,
          4.48337,
          4.48334,
          4.48334,
          4.482838,
          4.452,
          4.417355,
          4.451416,
          4.42376,
          4.423714,
          4.423708,
          4.423666,
          4.418232,
          4.408848,
          4.408948,
          4.409021,
          4.408924,
          4.40889,
          4.408879,
          4.408906,
          4.408769,
          4.408201,
          4.408876,
          4.408195,
          4.40819,
          4.408214,
          4.407982,
          4.407982,
          4.408177,
          4.408212,
          4.408212,
          4.408212,
          4.408212,
          4.407627,
          4.408113,
          4.407627,
          4.407627,
          4.407655,
          4.407658,
          4.407658,
          4.407658,
          4.407658
         ],
         "marker": {
          "color": "rgb(0, 255, 0)",
          "size": 10
         },
         "mode": "lines+markers",
         "type": "scattermapbox"
        },
        {
         "lat": [
          50.40848,
          50.40848,
          50.408499,
          50.408499,
          50.408499
         ],
         "line": {
          "color": "rgb(50, 205, 0)",
          "width": 2
         },
         "lon": [
          4.407535,
          4.407535,
          4.407384,
          4.407385,
          4.407385
         ],
         "marker": {
          "color": "rgb(50, 205, 0)",
          "size": 10
         },
         "mode": "lines+markers",
         "type": "scattermapbox"
        },
        {
         "lat": [
          46.789173,
          46.7891,
          46.7891,
          46.789176,
          46.789176,
          46.789298,
          46.789358,
          46.789737,
          46.789569,
          46.789738,
          46.7897,
          46.789765,
          46.789766,
          46.789766,
          46.789761,
          46.789766,
          46.789761,
          46.789766,
          46.789763,
          46.789761,
          46.789771,
          46.789771,
          46.7898,
          46.7898,
          46.7898,
          46.789761,
          46.789776,
          46.789907,
          46.789907,
          46.789907,
          46.789904,
          46.789908,
          46.789908,
          46.789908,
          46.789926,
          46.789926,
          46.789912,
          46.785724,
          46.785869,
          46.7858,
          46.785723,
          46.785715,
          46.785706
         ],
         "line": {
          "color": "rgb(100, 155, 0)",
          "width": 2
         },
         "lon": [
          4.444755,
          4.44479,
          4.44479,
          4.444737,
          4.444737,
          4.444377,
          4.444414,
          4.448792,
          4.446766,
          4.448791,
          4.44875,
          4.449251,
          4.449205,
          4.449205,
          4.44924,
          4.449205,
          4.449239,
          4.449205,
          4.448831,
          4.449239,
          4.449318,
          4.449318,
          4.44925,
          4.44925,
          4.44925,
          4.449248,
          4.449254,
          4.450188,
          4.450188,
          4.450188,
          4.450183,
          4.450186,
          4.450186,
          4.450186,
          4.450272,
          4.450272,
          4.45078,
          4.450704,
          4.451021,
          4.45072,
          4.450704,
          4.450696,
          4.450691
         ],
         "marker": {
          "color": "rgb(100, 155, 0)",
          "size": 10
         },
         "mode": "lines+markers",
         "type": "scattermapbox"
        },
        {
         "lat": [
          46.785712
         ],
         "line": {
          "color": "rgb(150, 105, 0)",
          "width": 2
         },
         "lon": [
          4.450684
         ],
         "marker": {
          "color": "rgb(150, 105, 0)",
          "size": 10
         },
         "mode": "lines+markers",
         "type": "scattermapbox"
        },
        {
         "lat": [
          46.785712,
          46.785712,
          46.785712,
          46.785719,
          46.785728,
          46.785731
         ],
         "line": {
          "color": "rgb(200, 55, 0)",
          "width": 2
         },
         "lon": [
          4.450684,
          4.450684,
          4.450684,
          4.450724,
          4.450685,
          4.450697
         ],
         "marker": {
          "color": "rgb(200, 55, 0)",
          "size": 10
         },
         "mode": "lines+markers",
         "type": "scattermapbox"
        },
        {
         "lat": [
          49.347036,
          49.347036,
          49.347039,
          49.347039,
          49.347036,
          49.347036,
          49.347116,
          49.347116
         ],
         "line": {
          "color": "blue",
          "width": 2
         },
         "lon": [
          4.190375,
          4.190375,
          4.190347,
          4.190347,
          4.19034,
          4.190339,
          4.190409,
          4.190409
         ],
         "marker": {
          "color": "blue",
          "size": 10
         },
         "mode": "lines+markers",
         "type": "scattermapbox"
        },
        {
         "lat": [
          49.347403,
          49.391077,
          49.412271,
          49.442051,
          49.48625,
          49.51933,
          49.553694,
          49.55346,
          49.599918
         ],
         "line": {
          "color": "rgb(50, 205, 0)",
          "width": 2
         },
         "lon": [
          4.190736,
          4.235595,
          4.257942,
          4.281165,
          4.343957,
          4.384416,
          4.453393,
          4.452874,
          4.511409
         ],
         "marker": {
          "color": "rgb(50, 205, 0)",
          "size": 10
         },
         "mode": "lines+markers",
         "type": "scattermapbox"
        },
        {
         "lat": [
          49.643054,
          49.666081,
          49.691495,
          49.71124,
          49.759654,
          49.787611,
          49.828322
         ],
         "line": {
          "color": "rgb(100, 155, 0)",
          "width": 2
         },
         "lon": [
          4.575476,
          4.642033,
          4.677846,
          4.700241,
          4.651974,
          4.571326,
          4.511768
         ],
         "marker": {
          "color": "rgb(100, 155, 0)",
          "size": 10
         },
         "mode": "lines+markers",
         "type": "scattermapbox"
        },
        {
         "lat": [
          49.837756,
          49.881362,
          49.937489,
          49.964094,
          49.964177,
          50.039395,
          50.027302,
          49.977919,
          50.082391,
          50.098513,
          50.098471,
          50.128665,
          50.144471,
          50.1445,
          50.14449,
          50.144494,
          50.144574,
          50.169176,
          50.222447,
          50.24049,
          50.273497,
          50.31038,
          50.343113,
          50.343119
         ],
         "line": {
          "color": "rgb(150, 105, 0)",
          "width": 2
         },
         "lon": [
          4.512576,
          4.515086,
          4.535134,
          4.53536,
          4.535389,
          4.508096,
          4.516064,
          4.5391,
          4.514058,
          4.505071,
          4.505143,
          4.494177,
          4.504324,
          4.504335,
          4.504337,
          4.50434,
          4.504315,
          4.522436,
          4.512206,
          4.51344,
          4.503391,
          4.47995,
          4.473438,
          4.473432
         ],
         "marker": {
          "color": "rgb(150, 105, 0)",
          "size": 10
         },
         "mode": "lines+markers",
         "type": "scattermapbox"
        },
        {
         "lat": [
          51.794482,
          51.794502,
          51.794507,
          51.794502,
          51.794508,
          51.794504,
          51.794497,
          51.794503,
          51.794526,
          51.794527,
          51.794527,
          51.794532,
          51.794509,
          51.794483,
          51.794494,
          51.794501,
          51.794501,
          51.794501,
          51.794502,
          51.794501,
          51.7945,
          51.7945,
          51.794497
         ],
         "line": {
          "color": "rgb(200, 55, 0)",
          "width": 2
         },
         "lon": [
          4.61748,
          4.61759,
          4.61752,
          4.617509,
          4.617485,
          4.617491,
          4.617498,
          4.617488,
          4.617484,
          4.617483,
          4.617483,
          4.617505,
          4.617488,
          4.61753,
          4.617482,
          4.617493,
          4.617493,
          4.617493,
          4.617503,
          4.617489,
          4.61749,
          4.617493,
          4.617497
         ],
         "marker": {
          "color": "rgb(200, 55, 0)",
          "size": 10
         },
         "mode": "lines+markers",
         "type": "scattermapbox"
        },
        {
         "lat": [
          51.7945,
          51.79449,
          51.794519,
          51.794496,
          51.794496,
          51.794496,
          51.794492,
          51.794492,
          51.794474,
          51.794492,
          51.7945,
          51.7945,
          51.794487,
          51.794489,
          51.794492,
          51.794488,
          51.794488,
          51.793708
         ],
         "line": {
          "color": "rgb(0, 255, 0)",
          "width": 2
         },
         "lon": [
          4.61748,
          4.617487,
          4.617495,
          4.617516,
          4.617516,
          4.617516,
          4.617491,
          4.617491,
          4.617512,
          4.617495,
          4.61751,
          4.61751,
          4.617508,
          4.617496,
          4.617509,
          4.617486,
          4.617486,
          4.617031
         ],
         "marker": {
          "color": "rgb(0, 255, 0)",
          "size": 10
         },
         "mode": "lines+markers",
         "type": "scattermapbox"
        },
        {
         "lat": [
          51.793658,
          51.792017,
          51.781696,
          51.772465,
          51.772509,
          51.772542,
          51.772462,
          51.772461,
          51.745633,
          51.691747,
          51.65952,
          51.653667,
          51.610754,
          51.557431,
          51.508395,
          51.507241,
          51.499844,
          51.442377,
          51.399174,
          51.376386,
          51.376297,
          51.299798,
          51.308715,
          51.308804,
          51.28584,
          51.284985
         ],
         "line": {
          "color": "rgb(50, 205, 0)",
          "width": 2
         },
         "lon": [
          4.616997,
          4.616952,
          4.605576,
          4.638305,
          4.638206,
          4.638358,
          4.645852,
          4.64599,
          4.63819,
          4.639589,
          4.579373,
          4.571199,
          4.502579,
          4.457187,
          4.402689,
          4.362714,
          4.313716,
          4.312832,
          4.287171,
          4.304203,
          4.304285,
          4.335946,
          4.326294,
          4.326168,
          4.35073,
          4.347904
         ],
         "marker": {
          "color": "rgb(50, 205, 0)",
          "size": 10
         },
         "mode": "lines+markers",
         "type": "scattermapbox"
        },
        {
         "lat": [
          51.284986,
          51.284986,
          51.284986,
          51.284986,
          51.284985,
          51.287159,
          51.287171,
          51.28735,
          51.287371,
          51.284954,
          51.285757,
          51.285836,
          51.285837,
          51.317019,
          51.317002,
          51.365194,
          51.365194,
          51.365194,
          51.365194,
          51.365123,
          51.365123,
          51.358078,
          51.35804,
          51.357855,
          51.357176,
          51.357183,
          51.357183,
          51.357189,
          51.357191,
          51.357192,
          51.357194,
          51.357189,
          51.357189,
          51.3572,
          51.3572,
          51.3572,
          51.3572,
          51.357191,
          51.356977,
          51.35694,
          51.356898,
          51.356835,
          51.356417,
          51.356525,
          51.356415,
          51.356386,
          51.35749,
          51.357475,
          51.357444,
          51.357444
         ],
         "line": {
          "color": "rgb(100, 155, 0)",
          "width": 2
         },
         "lon": [
          4.347919,
          4.347919,
          4.347919,
          4.347919,
          4.347918,
          4.346162,
          4.346081,
          4.345966,
          4.345957,
          4.349022,
          4.350594,
          4.350709,
          4.350711,
          4.346014,
          4.345924,
          4.252562,
          4.252562,
          4.252562,
          4.252577,
          4.252684,
          4.252684,
          4.257488,
          4.257456,
          4.257241,
          4.256104,
          4.256123,
          4.256133,
          4.256158,
          4.256161,
          4.256161,
          4.256158,
          4.25617,
          4.25617,
          4.25616,
          4.25616,
          4.25616,
          4.25616,
          4.256023,
          4.25564,
          4.255614,
          4.255574,
          4.255508,
          4.255324,
          4.255318,
          4.255325,
          4.255352,
          4.258909,
          4.258898,
          4.258865,
          4.258868
         ],
         "marker": {
          "color": "rgb(100, 155, 0)",
          "size": 10
         },
         "mode": "lines+markers",
         "type": "scattermapbox"
        },
        {
         "lat": [
          51.357445,
          51.357445,
          51.357444,
          51.357444,
          51.357444,
          51.357444,
          51.357918,
          51.357923,
          51.35788,
          51.35788,
          51.35788,
          51.35788,
          51.357663
         ],
         "line": {
          "color": "rgb(150, 105, 0)",
          "width": 2
         },
         "lon": [
          4.258864,
          4.258864,
          4.258877,
          4.258877,
          4.258877,
          4.258877,
          4.258948,
          4.258902,
          4.259069,
          4.259069,
          4.259069,
          4.259069,
          4.259554
         ],
         "marker": {
          "color": "rgb(150, 105, 0)",
          "size": 10
         },
         "mode": "lines+markers",
         "type": "scattermapbox"
        },
        {
         "lat": [
          52.214028,
          52.214028,
          52.214031,
          52.214031,
          52.214013,
          52.214013,
          52.214009,
          52.214042,
          52.214031,
          52.214038,
          52.213987,
          52.212607,
          52.212613,
          52.210342,
          52.21023,
          52.210839,
          52.216923,
          52.216856,
          52.218956,
          52.218861,
          52.231423,
          52.252214,
          52.265422,
          52.311688,
          52.357455,
          52.40115,
          52.416554,
          52.423365,
          52.428138,
          52.42688,
          52.412643,
          52.406471,
          52.392418,
          52.377982
         ],
         "line": {
          "color": "rgb(200, 55, 0)",
          "width": 2
         },
         "lon": [
          8.87805,
          8.87805,
          8.878055,
          8.878055,
          8.878098,
          8.878098,
          8.878108,
          8.878087,
          8.878055,
          8.877835,
          8.877804,
          8.876398,
          8.87628,
          8.875316,
          8.875286,
          8.881478,
          8.969863,
          8.976507,
          9.057101,
          9.153091,
          9.240244,
          9.297864,
          9.316701,
          9.379216,
          9.431407,
          9.49582,
          9.523862,
          9.58238,
          9.670577,
          9.768564,
          9.847153,
          9.860089,
          9.939763,
          10.035762
         ],
         "marker": {
          "color": "rgb(200, 55, 0)",
          "size": 10
         },
         "mode": "lines+markers",
         "type": "scattermapbox"
        },
        {
         "lat": [
          52.362943,
          52.351074,
          52.340581,
          52.337765,
          52.335143,
          52.325312,
          52.325289,
          52.323692,
          52.323716,
          52.323672,
          52.313761,
          52.313196,
          52.309746,
          52.308094,
          52.311173,
          52.290784
         ],
         "line": {
          "color": "rgb(0, 255, 0)",
          "width": 2
         },
         "lon": [
          10.131937,
          10.19866,
          10.222299,
          10.320692,
          10.419567,
          10.471516,
          10.471595,
          10.478282,
          10.478188,
          10.47838,
          10.521809,
          10.538735,
          10.619518,
          10.717834,
          10.814098,
          10.883354
         ],
         "marker": {
          "color": "rgb(0, 255, 0)",
          "size": 10
         },
         "mode": "lines+markers",
         "type": "scattermapbox"
        },
        {
         "lat": [
          53.719125,
          53.719117,
          53.719117,
          53.719107,
          53.71913,
          53.71913,
          53.718692,
          53.718748,
          53.717692,
          53.717602,
          53.717205,
          53.759925,
          53.812796,
          53.847394,
          53.851751,
          53.895109,
          53.933635,
          53.929554,
          53.911825,
          53.912101,
          53.918942,
          53.908062,
          53.909462,
          53.909542,
          53.907055,
          53.907042,
          53.907054,
          53.907524,
          53.907471,
          53.907611,
          53.907521,
          53.907612
         ],
         "line": {
          "color": "rgb(50, 205, 0)",
          "width": 2
         },
         "lon": [
          9.760522,
          9.760601,
          9.760602,
          9.760621,
          9.760527,
          9.760527,
          9.759228,
          9.759157,
          9.757171,
          9.757082,
          9.757651,
          9.708332,
          9.664795,
          9.591672,
          9.584286,
          9.516479,
          9.480586,
          9.40834,
          9.332669,
          9.330426,
          9.238171,
          9.186106,
          9.180319,
          9.180135,
          9.172561,
          9.17252,
          9.172563,
          9.173882,
          9.174022,
          9.174286,
          9.173885,
          9.174286
         ],
         "marker": {
          "color": "rgb(50, 205, 0)",
          "size": 10
         },
         "mode": "lines+markers",
         "type": "scattermapbox"
        },
        {
         "lat": [
          53.907612,
          53.907616,
          53.907624,
          53.907584,
          53.907584,
          53.9076,
          53.9076,
          53.907614,
          53.905581,
          53.905624,
          53.905578,
          53.905578,
          53.905602,
          53.905509,
          53.905509,
          53.905533,
          53.905533
         ],
         "line": {
          "color": "rgb(100, 155, 0)",
          "width": 2
         },
         "lon": [
          9.174286,
          9.174295,
          9.174269,
          9.17428,
          9.17428,
          9.17427,
          9.17427,
          9.174275,
          9.169657,
          9.169736,
          9.169652,
          9.169651,
          9.169658,
          9.169614,
          9.169614,
          9.169655,
          9.169655
         ],
         "marker": {
          "color": "rgb(100, 155, 0)",
          "size": 10
         },
         "mode": "lines+markers",
         "type": "scattermapbox"
        },
        {
         "lat": [
          51.488407,
          51.488407,
          51.488407,
          51.488407,
          51.488407,
          51.4884,
          51.488407,
          51.488389,
          51.488387,
          51.488391,
          51.488387,
          51.48838,
          51.48838,
          51.487432,
          51.487396,
          51.487289,
          51.487262,
          51.487088,
          51.451834,
          51.39365,
          51.396293,
          51.347489,
          51.30772,
          51.277859,
          51.257773,
          51.255868,
          51.226299,
          51.226281,
          51.226279,
          51.226216,
          51.22392
         ],
         "line": {
          "color": "rgb(150, 105, 0)",
          "width": 2
         },
         "lon": [
          4.740862,
          4.740862,
          4.740862,
          4.740862,
          4.740862,
          4.74086,
          4.740862,
          4.74087,
          4.740836,
          4.740879,
          4.740836,
          4.740821,
          4.740821,
          4.738005,
          4.737877,
          4.737532,
          4.737452,
          4.736555,
          4.720617,
          4.678793,
          4.682406,
          4.623038,
          4.554179,
          4.506157,
          4.428562,
          4.427367,
          4.446134,
          4.446156,
          4.446158,
          4.446237,
          4.448863
         ],
         "marker": {
          "color": "rgb(150, 105, 0)",
          "size": 10
         },
         "mode": "lines+markers",
         "type": "scattermapbox"
        },
        {
         "lat": [
          51.222669,
          51.222622,
          51.22261,
          51.222587,
          51.222582,
          51.222512,
          51.220291,
          51.220232,
          51.220021,
          51.219996,
          51.219978,
          51.219915,
          51.218704,
          51.218624,
          51.219191
         ],
         "line": {
          "color": "rgb(200, 55, 0)",
          "width": 2
         },
         "lon": [
          4.449844,
          4.449876,
          4.449887,
          4.449898,
          4.449901,
          4.449945,
          4.450795,
          4.450805,
          4.450832,
          4.450832,
          4.450833,
          4.45084,
          4.450814,
          4.450798,
          4.450852
         ],
         "marker": {
          "color": "rgb(200, 55, 0)",
          "size": 10
         },
         "mode": "lines+markers",
         "type": "scattermapbox"
        },
        {
         "lat": [
          51.217344
         ],
         "line": {
          "color": "rgb(0, 255, 0)",
          "width": 2
         },
         "lon": [
          4.450452
         ],
         "marker": {
          "color": "rgb(0, 255, 0)",
          "size": 10
         },
         "mode": "lines+markers",
         "type": "scattermapbox"
        },
        {
         "lat": [
          51.212635,
          51.209366
         ],
         "line": {
          "color": "rgb(50, 205, 0)",
          "width": 2
         },
         "lon": [
          4.446765,
          4.44379
         ],
         "marker": {
          "color": "rgb(50, 205, 0)",
          "size": 10
         },
         "mode": "lines+markers",
         "type": "scattermapbox"
        },
        {
         "lat": [
          49.413962,
          49.413995,
          49.413995,
          49.413997,
          49.414022,
          49.414,
          49.414
         ],
         "line": {
          "color": "rgb(100, 155, 0)",
          "width": 2
         },
         "lon": [
          2.693437,
          2.693458,
          2.693458,
          2.693457,
          2.693452,
          2.69346,
          2.69346
         ],
         "marker": {
          "color": "rgb(100, 155, 0)",
          "size": 10
         },
         "mode": "lines+markers",
         "type": "scattermapbox"
        },
        {
         "lat": [
          49.394442
         ],
         "line": {
          "color": "rgb(150, 105, 0)",
          "width": 2
         },
         "lon": [
          2.698123
         ],
         "marker": {
          "color": "rgb(150, 105, 0)",
          "size": 10
         },
         "mode": "lines+markers",
         "type": "scattermapbox"
        },
        {
         "lat": [
          49.35988,
          49.334537,
          49.278641,
          49.226665,
          49.188889,
          49.16913,
          49.136075,
          49.077745,
          49.018553,
          48.973655,
          48.970449,
          48.913177,
          48.875035,
          48.843519,
          48.816996,
          48.813432,
          48.7802,
          48.72904,
          48.705928,
          48.660079,
          48.667402,
          48.623583,
          48.59769,
          48.565371,
          48.554067,
          48.554032,
          48.547549,
          48.544078,
          48.483938,
          48.423423,
          48.363659,
          48.33708,
          48.303943,
          48.243331,
          48.182425,
          48.121668,
          48.12126,
          48.060305,
          47.99994,
          47.940308,
          47.908059,
          47.900498
         ],
         "line": {
          "color": "rgb(200, 55, 0)",
          "width": 2
         },
         "lon": [
          2.703005,
          2.693453,
          2.695809,
          2.649583,
          2.603719,
          2.599235,
          2.565061,
          2.551572,
          2.532718,
          2.487134,
          2.482313,
          2.476676,
          2.439493,
          2.413788,
          2.365196,
          2.354469,
          2.346224,
          2.305859,
          2.249873,
          2.185071,
          2.19176,
          2.135725,
          2.05426,
          1.976543,
          1.930166,
          1.92998,
          1.913441,
          1.907822,
          1.912788,
          1.900485,
          1.880227,
          1.866874,
          1.86165,
          1.851179,
          1.853988,
          1.851302,
          1.851243,
          1.844744,
          1.851214,
          1.848263,
          1.849474,
          1.813299
         ],
         "marker": {
          "color": "rgb(200, 55, 0)",
          "size": 10
         },
         "mode": "lines+markers",
         "type": "scattermapbox"
        },
        {
         "lat": [
          45.173921,
          45.173921,
          45.173921,
          45.173914,
          45.173921
         ],
         "line": {
          "color": "rgb(0, 255, 0)",
          "width": 2
         },
         "lon": [
          -0.335943,
          -0.335943,
          -0.335943,
          -0.335962,
          -0.335953
         ],
         "marker": {
          "color": "rgb(0, 255, 0)",
          "size": 10
         },
         "mode": "lines+markers",
         "type": "scattermapbox"
        },
        {
         "lat": [
          45.173926,
          45.173907,
          45.173902,
          45.173914,
          45.173917,
          45.173916,
          45.173909,
          45.173909,
          45.173913,
          45.173938,
          45.17393,
          45.173944,
          45.173944,
          45.173944,
          45.17393,
          45.173914,
          45.173893,
          45.173909,
          45.173909,
          45.1736,
          45.173916,
          45.17389,
          45.173935,
          45.173935,
          45.173936,
          45.173932,
          45.173909,
          45.173909,
          45.173904,
          45.152342,
          45.094087,
          44.982728,
          45.020909,
          45.038731,
          44.932731,
          44.885316,
          44.828923,
          44.830772,
          44.78766,
          44.778545,
          44.778566,
          44.778669,
          44.790214
         ],
         "line": {
          "color": "rgb(50, 205, 0)",
          "width": 2
         },
         "lon": [
          -0.335955,
          -0.335951,
          -0.335967,
          -0.335986,
          -0.335932,
          -0.335957,
          -0.335946,
          -0.335946,
          -0.335961,
          -0.335963,
          -0.335916,
          -0.335932,
          -0.335932,
          -0.335932,
          -0.33591,
          -0.335948,
          -0.335947,
          -0.335951,
          -0.335951,
          -0.335656,
          -0.335933,
          -0.335924,
          -0.335972,
          -0.335972,
          -0.335971,
          -0.33596,
          -0.335875,
          -0.335875,
          -0.335937,
          -0.360563,
          -0.380997,
          -0.428918,
          -0.425401,
          -0.41448,
          -0.468205,
          -0.512074,
          -0.503378,
          -0.501548,
          -0.541342,
          -0.566887,
          -0.567021,
          -0.567604,
          -0.608986
         ],
         "marker": {
          "color": "rgb(50, 205, 0)",
          "size": 10
         },
         "mode": "lines+markers",
         "type": "scattermapbox"
        },
        {
         "lat": [
          44.769169,
          44.728505,
          44.728214,
          44.683456,
          44.640743,
          44.583633,
          44.546888,
          44.523969,
          44.466653,
          44.407506,
          44.353343,
          44.345079,
          44.305785,
          44.246338,
          44.190501,
          44.145322,
          44.136664,
          44.078347,
          44.019005,
          43.968668,
          43.949013,
          43.921116,
          43.870022,
          43.825744,
          43.770166,
          43.76978
         ],
         "line": {
          "color": "rgb(100, 155, 0)",
          "width": 2
         },
         "lon": [
          -0.664973,
          -0.728805,
          -0.729212,
          -0.785578,
          -0.841536,
          -0.837986,
          -0.83332,
          -0.837895,
          -0.819439,
          -0.818658,
          -0.856403,
          -0.861844,
          -0.883514,
          -0.905776,
          -0.937619,
          -0.969297,
          -0.977208,
          -1.004122,
          -1.016866,
          -1.064321,
          -1.075416,
          -1.113559,
          -1.146409,
          -1.186864,
          -1.219245,
          -1.219433
         ],
         "marker": {
          "color": "rgb(100, 155, 0)",
          "size": 10
         },
         "mode": "lines+markers",
         "type": "scattermapbox"
        },
        {
         "lat": [
          41.2597,
          41.2597,
          41.259686,
          41.259683,
          41.259681,
          41.259681,
          41.259733,
          41.259713,
          41.258999,
          41.221286,
          41.172694,
          41.137404,
          41.080631,
          41.070302,
          41.022597,
          40.969839,
          40.924152,
          40.876647,
          40.870884,
          40.819386,
          40.767923
         ],
         "line": {
          "color": "rgb(150, 105, 0)",
          "width": 2
         },
         "lon": [
          -3.59598,
          -3.59598,
          -3.59598,
          -3.595988,
          -3.596,
          -3.596,
          -3.596222,
          -3.596207,
          -3.595774,
          -3.586248,
          -3.582601,
          -3.582246,
          -3.599489,
          -3.606199,
          -3.625425,
          -3.640557,
          -3.618784,
          -3.600132,
          -3.604606,
          -3.615622,
          -3.605816
         ],
         "marker": {
          "color": "rgb(150, 105, 0)",
          "size": 10
         },
         "mode": "lines+markers",
         "type": "scattermapbox"
        },
        {
         "lat": [
          40.721999,
          40.687114,
          40.670872,
          40.625633,
          40.582658,
          40.583687,
          40.583706,
          40.584611,
          40.558731,
          40.543091,
          40.53931,
          40.538254,
          40.5378,
          40.537779,
          40.537749,
          40.537727,
          40.537397,
          40.537366,
          40.537347,
          40.537351,
          40.537349,
          40.537349,
          40.537349,
          40.537184,
          40.5374,
          40.5374,
          40.5374,
          40.5374,
          40.5374
         ],
         "line": {
          "color": "rgb(200, 55, 0)",
          "width": 2
         },
         "lon": [
          -3.577641,
          -3.607146,
          -3.610603,
          -3.586919,
          -3.580744,
          -3.566294,
          -3.566215,
          -3.560252,
          -3.514991,
          -3.472765,
          -3.470311,
          -3.440658,
          -3.437963,
          -3.437925,
          -3.43792,
          -3.437932,
          -3.438082,
          -3.438088,
          -3.438101,
          -3.438093,
          -3.438092,
          -3.438092,
          -3.438092,
          -3.437919,
          -3.43809,
          -3.43809,
          -3.43809,
          -3.43809,
          -3.43809
         ],
         "marker": {
          "color": "rgb(200, 55, 0)",
          "size": 10
         },
         "mode": "lines+markers",
         "type": "scattermapbox"
        },
        {
         "lat": [
          42.24666,
          42.24666,
          42.246656,
          42.246656,
          42.246623,
          42.246623,
          42.256163,
          42.302106,
          42.329927,
          42.349333,
          42.36589,
          42.407612,
          42.446838,
          42.481418,
          42.483994,
          42.508538,
          42.545628,
          42.58956,
          42.620689,
          42.622697,
          42.638148
         ],
         "line": {
          "color": "rgb(0, 255, 0)",
          "width": 2
         },
         "lon": [
          -3.703113,
          -3.703113,
          -3.703116,
          -3.703116,
          -3.70309,
          -3.70309,
          -3.699629,
          -3.702884,
          -3.648743,
          -3.603209,
          -3.59016,
          -3.539111,
          -3.483877,
          -3.418668,
          -3.39899,
          -3.347318,
          -3.290589,
          -3.23455,
          -3.181314,
          -3.166114,
          -3.103943
         ],
         "marker": {
          "color": "rgb(0, 255, 0)",
          "size": 10
         },
         "mode": "lines+markers",
         "type": "scattermapbox"
        },
        {
         "lat": [
          42.658133,
          42.695522,
          42.704729,
          42.705907,
          42.741104,
          42.7834,
          42.824939,
          42.832216,
          42.872195,
          42.879477,
          42.879555,
          42.898279,
          42.922676,
          42.965784,
          42.9656,
          43.012769,
          43.049057,
          43.088529,
          43.103394,
          43.101465,
          43.0892,
          43.065742,
          43.050189,
          43.063796,
          43.059507,
          43.094332,
          43.130542,
          43.181831,
          43.223942
         ],
         "line": {
          "color": "rgb(50, 205, 0)",
          "width": 2
         },
         "lon": [
          -3.045311,
          -2.981813,
          -2.934872,
          -2.902517,
          -2.864741,
          -2.82344,
          -2.766758,
          -2.755343,
          -2.719378,
          -2.694239,
          -2.694331,
          -2.705546,
          -2.657015,
          -2.607585,
          -2.60772,
          -2.55378,
          -2.495134,
          -2.434754,
          -2.395977,
          -2.392361,
          -2.35496,
          -2.282606,
          -2.221797,
          -2.167879,
          -2.170998,
          -2.116862,
          -2.072506,
          -2.051897,
          -2.025627
         ],
         "marker": {
          "color": "rgb(50, 205, 0)",
          "size": 10
         },
         "mode": "lines+markers",
         "type": "scattermapbox"
        },
        {
         "lat": [
          46.769038,
          46.769038,
          46.769038,
          46.769038,
          46.768982,
          46.769048,
          46.769048,
          46.770342,
          46.81972,
          46.857834,
          46.910631,
          46.928502,
          46.965276,
          47.020268,
          47.073781,
          47.113823,
          47.114957,
          47.11505,
          47.115219
         ],
         "line": {
          "color": "blue",
          "width": 2
         },
         "lon": [
          -1.177974,
          -1.177974,
          -1.177974,
          -1.177974,
          -1.177981,
          -1.177936,
          -1.177936,
          -1.179616,
          -1.216866,
          -1.280692,
          -1.321293,
          -1.336559,
          -1.359566,
          -1.396739,
          -1.438754,
          -1.490637,
          -1.491514,
          -1.491563,
          -1.491726
         ],
         "marker": {
          "color": "blue",
          "size": 10
         },
         "mode": "lines+markers",
         "type": "scattermapbox"
        },
        {
         "lat": [
          47.166989,
          47.213263,
          47.252444,
          47.26164,
          47.262332,
          47.262377
         ],
         "line": {
          "color": "rgb(150, 105, 0)",
          "width": 2
         },
         "lon": [
          -1.512761,
          -1.482422,
          -1.51324,
          -1.564973,
          -1.566438,
          -1.566548
         ],
         "marker": {
          "color": "rgb(150, 105, 0)",
          "size": 10
         },
         "mode": "lines+markers",
         "type": "scattermapbox"
        },
        {
         "lat": [
          47.263813,
          47.279694,
          47.329353,
          47.38637,
          47.446697
         ],
         "line": {
          "color": "rgb(200, 55, 0)",
          "width": 2
         },
         "lon": [
          -1.578461,
          -1.601541,
          -1.649615,
          -1.643534,
          -1.641153
         ],
         "marker": {
          "color": "rgb(200, 55, 0)",
          "size": 10
         },
         "mode": "lines+markers",
         "type": "scattermapbox"
        },
        {
         "lat": [
          47.455853,
          47.507678,
          47.567441,
          47.625821,
          47.660637,
          47.676544,
          47.733448
         ],
         "line": {
          "color": "rgb(0, 255, 0)",
          "width": 2
         },
         "lon": [
          -1.640318,
          -1.639007,
          -1.633893,
          -1.643178,
          -1.678741,
          -1.691684,
          -1.712579
         ],
         "marker": {
          "color": "rgb(0, 255, 0)",
          "size": 10
         },
         "mode": "lines+markers",
         "type": "scattermapbox"
        },
        {
         "lat": [
          47.790206,
          47.847539,
          47.867517,
          47.904709,
          47.951595,
          48.001756,
          48.062301,
          48.078202
         ],
         "line": {
          "color": "rgb(50, 205, 0)",
          "width": 2
         },
         "lon": [
          -1.694339,
          -1.695813,
          -1.690801,
          -1.685065,
          -1.679252,
          -1.692824,
          -1.678528,
          -1.674666
         ],
         "marker": {
          "color": "rgb(50, 205, 0)",
          "size": 10
         },
         "mode": "lines+markers",
         "type": "scattermapbox"
        },
        {
         "lat": [
          48.093086
         ],
         "line": {
          "color": "rgb(100, 155, 0)",
          "width": 2
         },
         "lon": [
          -1.708406
         ],
         "marker": {
          "color": "rgb(100, 155, 0)",
          "size": 10
         },
         "mode": "lines+markers",
         "type": "scattermapbox"
        },
        {
         "lat": [
          48.129833,
          48.159486,
          48.172641
         ],
         "line": {
          "color": "rgb(150, 105, 0)",
          "width": 2
         },
         "lon": [
          -1.753207,
          -1.831351,
          -1.915434
         ],
         "marker": {
          "color": "rgb(150, 105, 0)",
          "size": 10
         },
         "mode": "lines+markers",
         "type": "scattermapbox"
        },
        {
         "lat": [
          48.178014
         ],
         "line": {
          "color": "rgb(200, 55, 0)",
          "width": 2
         },
         "lon": [
          -1.924901
         ],
         "marker": {
          "color": "rgb(200, 55, 0)",
          "size": 10
         },
         "mode": "lines+markers",
         "type": "scattermapbox"
        },
        {
         "lat": [
          46.572933,
          46.572933,
          46.572933,
          46.572933,
          46.572921,
          46.572888,
          46.572888,
          46.554199,
          46.544855,
          46.533424,
          46.533351,
          46.517805,
          46.478436,
          46.434885,
          46.384748,
          46.355096,
          46.330951,
          46.289229,
          46.243804,
          46.222726,
          46.186375
         ],
         "line": {
          "color": "rgb(0, 255, 0)",
          "width": 2
         },
         "lon": [
          -1.114762,
          -1.114762,
          -1.114762,
          -1.114762,
          -1.114773,
          -1.114738,
          -1.114738,
          -1.095521,
          -1.085777,
          -1.079339,
          -1.079259,
          -1.087381,
          -1.112024,
          -1.09909,
          -1.092617,
          -1.086265,
          -1.081524,
          -1.082764,
          -1.075374,
          -1.127021,
          -1.150871
         ],
         "marker": {
          "color": "rgb(0, 255, 0)",
          "size": 10
         },
         "mode": "lines+markers",
         "type": "scattermapbox"
        },
        {
         "lat": [
          46.183399,
          46.183226,
          46.179131,
          46.165358,
          46.16162,
          46.161559
         ],
         "line": {
          "color": "rgb(50, 205, 0)",
          "width": 2
         },
         "lon": [
          -1.152481,
          -1.152525,
          -1.156028,
          -1.193897,
          -1.205043,
          -1.204935
         ],
         "marker": {
          "color": "rgb(50, 205, 0)",
          "size": 10
         },
         "mode": "lines+markers",
         "type": "scattermapbox"
        },
        {
         "lat": [
          46.161434,
          46.161439,
          46.161564
         ],
         "line": {
          "color": "rgb(100, 155, 0)",
          "width": 2
         },
         "lon": [
          -1.203086,
          -1.203073,
          -1.204978
         ],
         "marker": {
          "color": "rgb(100, 155, 0)",
          "size": 10
         },
         "mode": "lines+markers",
         "type": "scattermapbox"
        },
        {
         "lat": [
          46.176444,
          46.173519,
          46.169943,
          46.169913,
          46.168634
         ],
         "line": {
          "color": "rgb(150, 105, 0)",
          "width": 2
         },
         "lon": [
          -1.166139,
          -1.198935,
          -1.206427,
          -1.206529,
          -1.212702
         ],
         "marker": {
          "color": "rgb(150, 105, 0)",
          "size": 10
         },
         "mode": "lines+markers",
         "type": "scattermapbox"
        },
        {
         "lat": [
          46.160526,
          46.160675,
          46.160602,
          46.160653,
          46.160666,
          46.160653,
          46.160653,
          46.160672,
          46.160651,
          46.160689,
          46.160689,
          46.160684,
          46.160684
         ],
         "line": {
          "color": "rgb(200, 55, 0)",
          "width": 2
         },
         "lon": [
          -1.203278,
          -1.204624,
          -1.204543,
          -1.204596,
          -1.204616,
          -1.204606,
          -1.204606,
          -1.204629,
          -1.204624,
          -1.204644,
          -1.204644,
          -1.204633,
          -1.204633
         ],
         "marker": {
          "color": "rgb(200, 55, 0)",
          "size": 10
         },
         "mode": "lines+markers",
         "type": "scattermapbox"
        },
        {
         "lat": [
          49.07353,
          49.07353,
          49.073529,
          49.0735,
          49.073526,
          49.073526,
          49.07351,
          49.073553,
          49.073553,
          49.073545,
          49.073546,
          49.073525,
          49.073549,
          49.073549,
          49.073544,
          49.073531,
          49.073533,
          49.073542,
          49.073547,
          49.073525,
          49.073521,
          49.073528
         ],
         "line": {
          "color": "rgb(0, 255, 0)",
          "width": 2
         },
         "lon": [
          2.553128,
          2.553128,
          2.553127,
          2.55312,
          2.553129,
          2.553129,
          2.553126,
          2.553136,
          2.553136,
          2.553113,
          2.553111,
          2.55314,
          2.553135,
          2.553135,
          2.553151,
          2.553157,
          2.553147,
          2.553142,
          2.55314,
          2.553138,
          2.553135,
          2.553113
         ],
         "marker": {
          "color": "rgb(0, 255, 0)",
          "size": 10
         },
         "mode": "lines+markers",
         "type": "scattermapbox"
        },
        {
         "lat": [
          49.073528,
          49.073528,
          49.073516,
          49.073516,
          49.073518,
          49.0736,
          49.07355
         ],
         "line": {
          "color": "rgb(50, 205, 0)",
          "width": 2
         },
         "lon": [
          2.553113,
          2.553113,
          2.553123,
          2.553123,
          2.553116,
          2.55309,
          2.553154
         ],
         "marker": {
          "color": "rgb(50, 205, 0)",
          "size": 10
         },
         "mode": "lines+markers",
         "type": "scattermapbox"
        },
        {
         "lat": [
          49.073544,
          49.073544,
          49.073543,
          49.073563,
          49.073563,
          49.073564,
          49.073552,
          49.073534,
          49.07353,
          49.073558,
          49.073513,
          49.073513,
          49.073533,
          49.073543,
          49.07355,
          49.07357,
          49.073532,
          49.073542,
          49.073545,
          49.073531,
          49.073541,
          49.073541,
          49.073541,
          49.073541,
          49.073539,
          49.0736,
          49.073546,
          49.073567,
          49.073567,
          49.073549,
          49.073549,
          49.073534,
          49.0735,
          49.0735,
          49.073549,
          49.073549,
          49.073549,
          49.073654,
          49.073654,
          49.073654,
          49.073654,
          49.073643,
          49.0735,
          49.073534,
          49.073529,
          49.07352,
          49.073552,
          49.073552,
          49.073977,
          49.074109
         ],
         "line": {
          "color": "rgb(100, 155, 0)",
          "width": 2
         },
         "lon": [
          2.553138,
          2.553138,
          2.553148,
          2.553089,
          2.553089,
          2.553099,
          2.553116,
          2.553122,
          2.553123,
          2.553146,
          2.553121,
          2.553135,
          2.553115,
          2.553136,
          2.553144,
          2.553139,
          2.553131,
          2.55314,
          2.55315,
          2.553157,
          2.553131,
          2.553131,
          2.553131,
          2.553131,
          2.553137,
          2.55316,
          2.553158,
          2.553131,
          2.553131,
          2.553143,
          2.553143,
          2.553153,
          2.55314,
          2.55314,
          2.553124,
          2.553124,
          2.553124,
          2.553232,
          2.553232,
          2.553232,
          2.553232,
          2.553215,
          2.5531,
          2.553138,
          2.553147,
          2.553128,
          2.553032,
          2.553032,
          2.552483,
          2.552402
         ],
         "marker": {
          "color": "rgb(100, 155, 0)",
          "size": 10
         },
         "mode": "lines+markers",
         "type": "scattermapbox"
        },
        {
         "lat": [
          49.082054,
          49.139674,
          49.191298,
          49.225884,
          49.229253,
          49.281984
         ],
         "line": {
          "color": "blue",
          "width": 2
         },
         "lon": [
          2.551547,
          2.570049,
          2.603448,
          2.648801,
          2.653289,
          2.695151
         ],
         "marker": {
          "color": "blue",
          "size": 10
         },
         "mode": "lines+markers",
         "type": "scattermapbox"
        },
        {
         "lat": [
          49.342096,
          49.582525,
          49.522679,
          49.462545,
          49.430003,
          49.402069,
          49.622973,
          49.622956,
          49.622956,
          49.622963,
          49.622963,
          49.622956,
          49.623
         ],
         "line": {
          "color": "rgb(200, 55, 0)",
          "width": 2
         },
         "lon": [
          2.697228,
          2.746142,
          2.721497,
          2.705461,
          2.69561,
          2.695663,
          2.756292,
          2.756267,
          2.756252,
          2.756255,
          2.756259,
          2.756252,
          2.75626
         ],
         "marker": {
          "color": "rgb(200, 55, 0)",
          "size": 10
         },
         "mode": "lines+markers",
         "type": "scattermapbox"
        },
        {
         "lat": [
          49.622963,
          49.622963,
          49.623079,
          49.623079,
          49.622984,
          49.622984,
          49.62296,
          49.642032,
          49.663117
         ],
         "line": {
          "color": "rgb(0, 255, 0)",
          "width": 2
         },
         "lon": [
          2.756261,
          2.756261,
          2.756355,
          2.756355,
          2.756268,
          2.756268,
          2.756266,
          2.759056,
          2.767319
         ],
         "marker": {
          "color": "rgb(0, 255, 0)",
          "size": 10
         },
         "mode": "lines+markers",
         "type": "scattermapbox"
        },
        {
         "lat": [
          49.723393,
          50.656,
          50.612793,
          50.603053,
          50.603011,
          50.601442,
          50.601739,
          50.598812,
          51.244834,
          51.244834,
          51.244834,
          51.244841,
          51.244859,
          51.244859,
          51.246958,
          51.247462,
          51.247462,
          51.247464,
          51.247464,
          51.247372,
          51.247372,
          51.247372,
          51.247372,
          51.247475,
          51.24582,
          51.245784,
          51.24569,
          51.24569,
          51.245605,
          51.247356,
          51.247366,
          51.247173,
          51.247511,
          51.247513,
          51.247514,
          51.247514,
          51.247515,
          51.247515,
          51.24751,
          51.24751,
          51.24751,
          51.24751,
          51.247523,
          51.247528,
          51.247528,
          51.247765,
          51.247767,
          51.249338,
          51.24934,
          51.249341
         ],
         "line": {
          "color": "rgb(50, 205, 0)",
          "width": 2
         },
         "lon": [
          2.778733,
          3.289875,
          3.319121,
          3.275825,
          3.275608,
          3.244142,
          3.204788,
          3.153705,
          4.333491,
          4.333491,
          4.333491,
          4.333518,
          4.333451,
          4.333451,
          4.310818,
          4.306681,
          4.30668,
          4.306681,
          4.306681,
          4.307046,
          4.307046,
          4.307046,
          4.307046,
          4.306687,
          4.306558,
          4.306481,
          4.306295,
          4.306296,
          4.306214,
          4.307079,
          4.306987,
          4.307632,
          4.306615,
          4.306605,
          4.306618,
          4.306618,
          4.306616,
          4.306616,
          4.306617,
          4.306617,
          4.306617,
          4.306618,
          4.306606,
          4.306535,
          4.306535,
          4.306485,
          4.306594,
          4.318701,
          4.318705,
          4.318889
         ],
         "marker": {
          "color": "rgb(50, 205, 0)",
          "size": 10
         },
         "mode": "lines+markers",
         "type": "scattermapbox"
        },
        {
         "lat": [
          51.249229,
          51.249146,
          51.249141,
          51.228879,
          51.218148,
          51.218031,
          51.217773,
          51.217714
         ],
         "line": {
          "color": "rgb(100, 155, 0)",
          "width": 2
         },
         "lon": [
          4.319753,
          4.320311,
          4.320526,
          4.32419,
          4.351339,
          4.351333,
          4.351344,
          4.351345
         ],
         "marker": {
          "color": "rgb(100, 155, 0)",
          "size": 10
         },
         "mode": "lines+markers",
         "type": "scattermapbox"
        },
        {
         "lat": [
          48.510793,
          48.510793,
          48.510799,
          48.510799,
          48.510799,
          48.510799,
          48.5109,
          48.510865,
          48.510865,
          48.510865,
          48.510865,
          48.510808,
          48.510809,
          48.510835,
          48.510835,
          48.510851,
          48.510849,
          48.510849,
          48.510842,
          48.510791,
          48.510784,
          48.510784,
          48.510784,
          48.510783,
          48.510832,
          48.5108,
          48.510812,
          48.510812,
          48.510792,
          48.510827,
          48.510827,
          48.510827,
          48.510829,
          48.510782,
          48.510782,
          48.504834,
          48.49586,
          48.453868,
          48.400802,
          48.344462,
          48.298758
         ],
         "line": {
          "color": "rgb(150, 105, 0)",
          "width": 2
         },
         "lon": [
          5.91254,
          5.91254,
          5.912534,
          5.912534,
          5.912534,
          5.912534,
          5.91257,
          5.912513,
          5.912513,
          5.912513,
          5.912513,
          5.912533,
          5.912531,
          5.912511,
          5.912511,
          5.912516,
          5.912542,
          5.912542,
          5.912535,
          5.912523,
          5.912494,
          5.912494,
          5.912494,
          5.912491,
          5.912449,
          5.912493,
          5.912476,
          5.912476,
          5.912496,
          5.912501,
          5.912501,
          5.912501,
          5.912521,
          5.9124,
          5.9124,
          5.911367,
          5.907178,
          5.86803,
          5.880502,
          5.853976,
          5.857546
         ],
         "marker": {
          "color": "rgb(150, 105, 0)",
          "size": 10
         },
         "mode": "lines+markers",
         "type": "scattermapbox"
        },
        {
         "lat": [
          48.283736,
          48.22641,
          48.193408,
          48.159816,
          48.144082,
          48.107584,
          48.066368,
          48.020478,
          47.974844,
          47.967724,
          47.957765,
          47.948424,
          47.919585,
          47.906266,
          47.874028,
          47.814489,
          47.76326,
          47.702712,
          47.704542,
          47.644478,
          47.589056,
          47.528636,
          47.49592,
          47.46892,
          47.412686,
          47.354867,
          47.295042,
          47.289977,
          47.248086,
          47.239575,
          47.183443,
          47.145844,
          47.127836,
          47.074984,
          47.025337,
          46.968454,
          46.957906,
          46.909364
         ],
         "line": {
          "color": "rgb(200, 55, 0)",
          "width": 2
         },
         "lon": [
          5.855206,
          5.853503,
          5.776083,
          5.700329,
          5.685846,
          5.653672,
          5.590489,
          5.53062,
          5.497118,
          5.488011,
          5.406273,
          5.317636,
          5.248383,
          5.222864,
          5.219394,
          5.223618,
          5.187853,
          5.186835,
          5.18706,
          5.179105,
          5.20909,
          5.198876,
          5.188759,
          5.185322,
          5.177168,
          5.16224,
          5.165412,
          5.159784,
          5.10819,
          5.024842,
          4.999255,
          4.988909,
          4.970008,
          4.924485,
          4.873,
          4.838756,
          4.834855,
          4.820195
         ],
         "marker": {
          "color": "rgb(200, 55, 0)",
          "size": 10
         },
         "mode": "lines+markers",
         "type": "scattermapbox"
        },
        {
         "lat": [
          45.681605,
          45.681605,
          45.68159,
          45.681582,
          45.681667,
          45.681667,
          45.688675,
          45.73738,
          45.744585,
          45.795375,
          45.831533,
          45.849552
         ],
         "line": {
          "color": "rgb(0, 255, 0)",
          "width": 2
         },
         "lon": [
          4.15587,
          4.15587,
          4.155864,
          4.155862,
          4.155854,
          4.155854,
          4.156207,
          4.182062,
          4.176728,
          4.133012,
          4.152828,
          4.221387
         ],
         "marker": {
          "color": "rgb(0, 255, 0)",
          "size": 10
         },
         "mode": "lines+markers",
         "type": "scattermapbox"
        },
        {
         "lat": [
          45.867151,
          45.869082,
          45.8613,
          45.888806,
          45.878702,
          45.876148,
          45.876148
         ],
         "line": {
          "color": "rgb(50, 205, 0)",
          "width": 2
         },
         "lon": [
          4.265229,
          4.280727,
          4.31959,
          4.408362,
          4.471747,
          4.529247,
          4.529247
         ],
         "marker": {
          "color": "rgb(50, 205, 0)",
          "size": 10
         },
         "mode": "lines+markers",
         "type": "scattermapbox"
        },
        {
         "lat": [
          45.875039,
          45.864482,
          45.830343,
          45.833922
         ],
         "line": {
          "color": "blue",
          "width": 2
         },
         "lon": [
          4.542856,
          4.625321,
          4.686136,
          4.746354
         ],
         "marker": {
          "color": "blue",
          "size": 10
         },
         "mode": "lines+markers",
         "type": "scattermapbox"
        },
        {
         "lat": [
          45.855746,
          45.873592,
          45.933074,
          45.972937,
          45.973013,
          45.975775,
          46.033449,
          46.062171,
          46.092233,
          46.149218,
          46.208669,
          46.270497,
          46.266757,
          46.323401
         ],
         "line": {
          "color": "rgb(150, 105, 0)",
          "width": 2
         },
         "lon": [
          4.742674,
          4.74038,
          4.728556,
          4.733295,
          4.73336,
          4.73447,
          4.725933,
          4.737855,
          4.744969,
          4.770365,
          4.783433,
          4.788454,
          4.789763,
          4.804091
         ],
         "marker": {
          "color": "rgb(150, 105, 0)",
          "size": 10
         },
         "mode": "lines+markers",
         "type": "scattermapbox"
        },
        {
         "lat": [
          46.374712,
          46.429775,
          46.471785,
          46.487405,
          46.543634,
          46.596746,
          46.648166,
          46.666824,
          46.707811,
          46.766779,
          46.82597,
          46.878872,
          46.885301
         ],
         "line": {
          "color": "rgb(200, 55, 0)",
          "width": 2
         },
         "lon": [
          4.842594,
          4.869105,
          4.883876,
          4.894249,
          4.917605,
          4.893167,
          4.859646,
          4.850992,
          4.841409,
          4.823506,
          4.831056,
          4.819009,
          4.82003
         ],
         "marker": {
          "color": "rgb(200, 55, 0)",
          "size": 10
         },
         "mode": "lines+markers",
         "type": "scattermapbox"
        },
        {
         "lat": [
          50.227748,
          50.227748,
          50.227748,
          50.227736,
          50.227753,
          50.227748,
          50.22776,
          50.227772,
          50.227772,
          50.227765,
          50.227732,
          50.227726,
          50.227726,
          50.250618,
          50.290098,
          50.325883,
          50.37096,
          50.371639,
          50.429835,
          50.487819,
          50.533545,
          50.56422,
          50.586189,
          50.599134,
          50.601682,
          50.603111,
          50.603133,
          50.614075,
          50.638655,
          50.662262,
          50.722763,
          50.774121,
          50.774432,
          50.774516,
          50.771317
         ],
         "line": {
          "color": "rgb(0, 255, 0)",
          "width": 2
         },
         "lon": [
          3.063589,
          3.063589,
          3.063589,
          3.063577,
          3.063625,
          3.0636,
          3.063591,
          3.063604,
          3.063604,
          3.063593,
          3.063585,
          3.063529,
          3.063529,
          3.018916,
          2.948,
          2.913287,
          2.970206,
          2.970746,
          2.981373,
          2.987622,
          3.048232,
          3.072031,
          3.093599,
          3.172158,
          3.261851,
          3.275617,
          3.275744,
          3.327732,
          3.304653,
          3.287604,
          3.295436,
          3.198495,
          3.261898,
          3.190539,
          3.198846
         ],
         "marker": {
          "color": "rgb(0, 255, 0)",
          "size": 10
         },
         "mode": "lines+markers",
         "type": "scattermapbox"
        },
        {
         "lat": [
          50.771586,
          50.771313,
          50.771313,
          50.771314,
          50.771318,
          50.771318,
          50.771291,
          50.771291,
          50.771318,
          50.772313,
          50.798519,
          50.800458,
          50.799667,
          50.799652,
          50.799582,
          50.7996,
          50.7996,
          50.799574,
          50.79958,
          50.799571,
          50.799571,
          50.799571,
          50.79958,
          50.799583,
          50.799559,
          50.799559,
          50.799559,
          50.799559,
          50.7996,
          50.7996,
          50.79961,
          50.79961,
          50.79961,
          50.79961,
          50.799588,
          50.799569,
          50.799572,
          50.799569,
          50.79957,
          50.799566,
          50.799575,
          50.799557,
          50.799557,
          50.799573,
          50.829091,
          50.791909,
          50.79953,
          50.79953,
          50.799559,
          50.799559
         ],
         "line": {
          "color": "rgb(50, 205, 0)",
          "width": 2
         },
         "lon": [
          3.199277,
          3.19884,
          3.19884,
          3.198833,
          3.19885,
          3.19885,
          3.198744,
          3.198744,
          3.19885,
          3.188174,
          3.249237,
          3.252012,
          3.250491,
          3.250492,
          3.250469,
          3.25045,
          3.25045,
          3.250442,
          3.250452,
          3.250435,
          3.250435,
          3.250435,
          3.250448,
          3.250454,
          3.250506,
          3.250506,
          3.250506,
          3.250506,
          3.25043,
          3.25043,
          3.250484,
          3.250484,
          3.250484,
          3.250484,
          3.250479,
          3.250455,
          3.250454,
          3.250441,
          3.250465,
          3.250482,
          3.250421,
          3.250394,
          3.250394,
          3.250403,
          3.197609,
          3.234711,
          3.25046,
          3.25046,
          3.250456,
          3.250456
         ],
         "marker": {
          "color": "rgb(50, 205, 0)",
          "size": 10
         },
         "mode": "lines+markers",
         "type": "scattermapbox"
        },
        {
         "lat": [
          50.7996,
          50.7996,
          50.829556,
          50.829608,
          50.829906,
          50.830047,
          50.835042,
          50.846619,
          50.846616,
          50.846616,
          50.846625,
          50.846624,
          50.846652,
          50.847486,
          50.844329,
          50.845064,
          50.844262,
          50.844263,
          50.844262,
          50.844263,
          50.844268,
          50.844268,
          50.844262,
          50.844288,
          50.844301,
          50.844299,
          50.844298,
          50.844289,
          50.844283,
          50.844283,
          50.844288,
          50.844283,
          50.844269,
          50.844271,
          50.84427,
          50.844261,
          50.844248,
          50.844292,
          50.844252,
          50.844253,
          50.844245,
          50.844231,
          50.844303,
          50.844221
         ],
         "line": {
          "color": "rgb(100, 155, 0)",
          "width": 2
         },
         "lon": [
          3.25046,
          3.25046,
          3.197148,
          3.197162,
          3.197232,
          3.197258,
          3.184089,
          3.176606,
          3.176599,
          3.176599,
          3.176631,
          3.17663,
          3.176699,
          3.17995,
          3.185954,
          3.186012,
          3.18365,
          3.183694,
          3.183699,
          3.183699,
          3.183704,
          3.183704,
          3.183703,
          3.185852,
          3.185814,
          3.185707,
          3.185671,
          3.185564,
          3.185643,
          3.185526,
          3.185561,
          3.185642,
          3.185409,
          3.185389,
          3.185384,
          3.185355,
          3.185031,
          3.185964,
          3.184989,
          3.185008,
          3.185047,
          3.183053,
          3.1859,
          3.183053
         ],
         "marker": {
          "color": "rgb(100, 155, 0)",
          "size": 10
         },
         "mode": "lines+markers",
         "type": "scattermapbox"
        },
        {
         "lat": [
          51.487919,
          51.487919,
          51.487919,
          51.487985,
          51.487974,
          51.487974,
          51.487928
         ],
         "line": {
          "color": "rgb(150, 105, 0)",
          "width": 2
         },
         "lon": [
          9.006851,
          9.006851,
          9.006851,
          9.006813,
          9.006834,
          9.006834,
          9.008218
         ],
         "marker": {
          "color": "rgb(150, 105, 0)",
          "size": 10
         },
         "mode": "lines+markers",
         "type": "scattermapbox"
        },
        {
         "lat": [
          51.487933,
          51.48788
         ],
         "line": {
          "color": "rgb(200, 55, 0)",
          "width": 2
         },
         "lon": [
          9.00834,
          9.007268
         ],
         "marker": {
          "color": "rgb(200, 55, 0)",
          "size": 10
         },
         "mode": "lines+markers",
         "type": "scattermapbox"
        },
        {
         "lat": [
          51.487837,
          51.487768,
          51.478232,
          51.450518,
          51.400259,
          51.402105,
          51.379255,
          51.325646,
          51.292329,
          51.271805,
          51.266385,
          51.260232,
          51.285554,
          51.283825,
          51.285552,
          51.28555,
          51.28549,
          51.285864,
          51.28005,
          51.280008,
          51.281011,
          51.28095,
          51.271883,
          51.274414,
          51.282062,
          51.282146,
          51.287823,
          51.287809,
          51.287757,
          51.287731,
          51.28773,
          51.28773,
          51.28773,
          51.287735,
          51.288126,
          51.288126,
          51.288126,
          51.288126,
          51.287739,
          51.289048,
          51.289045
         ],
         "line": {
          "color": "rgb(0, 255, 0)",
          "width": 2
         },
         "lon": [
          9.008543,
          9.008753,
          9.05366,
          9.131513,
          9.189187,
          9.181681,
          9.264579,
          9.281421,
          9.353319,
          9.416609,
          9.441964,
          9.51869,
          9.523025,
          9.520289,
          9.523035,
          9.52304,
          9.523131,
          9.537074,
          9.54746,
          9.547646,
          9.549287,
          9.549491,
          9.558133,
          9.59137,
          9.588327,
          9.588182,
          9.567385,
          9.567443,
          9.567612,
          9.567833,
          9.567831,
          9.567831,
          9.567831,
          9.567842,
          9.56834,
          9.56834,
          9.56834,
          9.56834,
          9.567846,
          9.56549,
          9.565516
         ],
         "marker": {
          "color": "rgb(0, 255, 0)",
          "size": 10
         },
         "mode": "lines+markers",
         "type": "scattermapbox"
        },
        {
         "lat": [
          52.2305,
          52.2305,
          52.2305,
          52.2305,
          52.2305,
          52.230482,
          52.230482,
          52.230468,
          52.230713,
          52.230734,
          52.230276,
          52.230318,
          52.230144,
          52.235238,
          52.210923,
          52.212824,
          52.185761,
          52.18108,
          52.198909,
          52.202402,
          52.219637,
          52.255431,
          52.284304,
          52.323034,
          52.358988,
          52.368258,
          52.397722,
          52.441232,
          52.481957
         ],
         "line": {
          "color": "blue",
          "width": 2
         },
         "lon": [
          6.21264,
          6.21264,
          6.21264,
          6.21264,
          6.21264,
          6.2126,
          6.2126,
          6.212686,
          6.212374,
          6.212407,
          6.212599,
          6.212524,
          6.212848,
          6.196239,
          6.100128,
          6.10483,
          6.015765,
          5.923481,
          5.830725,
          5.778164,
          5.779071,
          5.745301,
          5.691182,
          5.653867,
          5.623285,
          5.607021,
          5.579429,
          5.557358,
          5.502466
         ],
         "marker": {
          "color": "blue",
          "size": 10
         },
         "mode": "lines+markers",
         "type": "scattermapbox"
        },
        {
         "lat": [
          52.480504,
          52.48055,
          52.480425,
          52.480405,
          52.480397,
          52.480383,
          52.48047,
          52.480474,
          52.480524,
          52.479649,
          52.479642,
          52.479588,
          52.479565,
          52.479537,
          52.479562,
          52.479599,
          52.479606,
          52.479596,
          52.479596,
          52.479597
         ],
         "line": {
          "color": "rgb(100, 155, 0)",
          "width": 2
         },
         "lon": [
          5.496792,
          5.496868,
          5.496641,
          5.496598,
          5.496591,
          5.496527,
          5.496349,
          5.496343,
          5.496277,
          5.494646,
          5.494605,
          5.494475,
          5.494452,
          5.494353,
          5.494373,
          5.49436,
          5.494352,
          5.494354,
          5.494354,
          5.494351
         ],
         "marker": {
          "color": "rgb(100, 155, 0)",
          "size": 10
         },
         "mode": "lines+markers",
         "type": "scattermapbox"
        },
        {
         "lat": [
          51.698674,
          51.698674,
          51.698674,
          51.698662,
          51.698662,
          51.698662,
          51.698662,
          51.698655,
          51.6987,
          51.698655,
          51.698649,
          51.698649,
          51.698646,
          51.69864,
          51.698648,
          51.698648,
          51.698895,
          51.698934,
          51.697559,
          51.753303,
          51.812395,
          51.849062,
          51.862609,
          51.921628,
          51.981922,
          52.03466,
          52.053027,
          52.08861,
          52.132138,
          52.180312
         ],
         "line": {
          "color": "rgb(150, 105, 0)",
          "width": 2
         },
         "lon": [
          7.67343,
          7.67343,
          7.67343,
          7.673458,
          7.673458,
          7.673458,
          7.673458,
          7.673486,
          7.67347,
          7.673486,
          7.673471,
          7.673471,
          7.673451,
          7.673452,
          7.67353,
          7.67353,
          7.673422,
          7.673375,
          7.667723,
          7.645755,
          7.621363,
          7.581003,
          7.576135,
          7.557732,
          7.553405,
          7.604476,
          7.6161,
          7.6512,
          7.720485,
          7.781121
         ],
         "marker": {
          "color": "rgb(150, 105, 0)",
          "size": 10
         },
         "mode": "lines+markers",
         "type": "scattermapbox"
        },
        {
         "lat": [
          52.210666,
          52.214153,
          52.261079,
          52.316888,
          52.351215,
          52.378201,
          52.410916,
          52.470258
         ],
         "line": {
          "color": "rgb(200, 55, 0)",
          "width": 2
         },
         "lon": [
          7.847007,
          7.859676,
          7.922022,
          7.955953,
          8.031684,
          8.043913,
          8.03187,
          8.053865
         ],
         "marker": {
          "color": "rgb(200, 55, 0)",
          "size": 10
         },
         "mode": "lines+markers",
         "type": "scattermapbox"
        },
        {
         "lat": [
          52.52278,
          52.58283,
          52.583856,
          52.63997,
          52.699444,
          52.760164,
          52.789964
         ],
         "line": {
          "color": "rgb(0, 255, 0)",
          "width": 2
         },
         "lon": [
          8.106269,
          8.1097,
          8.10978,
          8.151009,
          8.173526,
          8.185914,
          8.202529
         ],
         "marker": {
          "color": "rgb(0, 255, 0)",
          "size": 10
         },
         "mode": "lines+markers",
         "type": "scattermapbox"
        },
        {
         "lat": [
          52.819529,
          52.874748,
          52.902325,
          52.914717,
          52.915096,
          52.908222,
          52.937318,
          52.965466,
          53.001781,
          53.006966,
          53.019563,
          53.03543,
          53.034046,
          53.053345,
          53.054702,
          53.079223,
          53.126717,
          53.179562,
          53.198491,
          53.226732,
          53.251819,
          53.290592,
          53.3211,
          53.323142,
          53.350146,
          53.370159,
          53.371651,
          53.3751,
          53.380303,
          53.416597
         ],
         "line": {
          "color": "rgb(50, 205, 0)",
          "width": 2
         },
         "lon": [
          8.212629,
          8.253478,
          8.343458,
          8.438121,
          8.445743,
          8.441721,
          8.508557,
          8.598745,
          8.680796,
          8.714435,
          8.778444,
          8.874222,
          8.967273,
          9.047637,
          9.06041,
          9.153208,
          9.214297,
          9.265337,
          9.292766,
          9.331252,
          9.423204,
          9.501624,
          9.583506,
          9.58824,
          9.680343,
          9.775941,
          9.877883,
          9.927947,
          9.97984,
          10.03067
         ],
         "marker": {
          "color": "rgb(50, 205, 0)",
          "size": 10
         },
         "mode": "lines+markers",
         "type": "scattermapbox"
        },
        {
         "lat": [
          53.47724,
          53.508424,
          53.507498,
          53.552392,
          53.593568
         ],
         "line": {
          "color": "rgb(100, 155, 0)",
          "width": 2
         },
         "lon": [
          10.022626,
          10.0923,
          10.087711,
          10.150691,
          10.219973
         ],
         "marker": {
          "color": "rgb(100, 155, 0)",
          "size": 10
         },
         "mode": "lines+markers",
         "type": "scattermapbox"
        },
        {
         "lat": [
          52.714394,
          52.695154,
          52.676995,
          52.688282,
          52.696328,
          52.707078,
          52.722054,
          52.720075,
          52.721876,
          52.721644,
          52.721362,
          52.734919,
          52.734819,
          52.734918
         ],
         "line": {
          "color": "rgb(150, 105, 0)",
          "width": 2
         },
         "lon": [
          7.645516,
          7.578957,
          7.503029,
          7.483069,
          7.429866,
          7.347015,
          7.269391,
          7.183756,
          7.15227,
          7.085679,
          6.907989,
          6.987189,
          6.989381,
          6.987362
         ],
         "marker": {
          "color": "rgb(150, 105, 0)",
          "size": 10
         },
         "mode": "lines+markers",
         "type": "scattermapbox"
        },
        {
         "lat": [
          52.724834,
          52.724882,
          52.723595,
          52.715943,
          52.714008,
          52.714009,
          52.714236,
          52.714009,
          52.714004,
          52.714004,
          52.714004,
          52.714008,
          52.714008,
          52.714014,
          52.714014,
          52.714015,
          52.714015,
          52.714015,
          52.714008,
          52.714008,
          52.714008,
          52.714008,
          52.714008,
          52.714008,
          52.713983,
          52.713983,
          52.713202,
          52.710408,
          52.70801,
          52.691328,
          52.67887,
          52.678019,
          52.627196,
          52.619464,
          52.561122,
          52.546119
         ],
         "line": {
          "color": "rgb(200, 55, 0)",
          "width": 2
         },
         "lon": [
          6.808518,
          6.804478,
          6.710722,
          6.639077,
          6.636939,
          6.636939,
          6.637813,
          6.636939,
          6.636952,
          6.636941,
          6.636941,
          6.636944,
          6.636944,
          6.636943,
          6.636943,
          6.636935,
          6.636935,
          6.636935,
          6.636935,
          6.636935,
          6.636935,
          6.636935,
          6.636935,
          6.636935,
          6.636847,
          6.636847,
          6.591798,
          6.493171,
          6.459031,
          6.401884,
          6.306473,
          6.20994,
          6.206104,
          6.207316,
          6.178544,
          6.168041
         ],
         "marker": {
          "color": "rgb(200, 55, 0)",
          "size": 10
         },
         "mode": "lines+markers",
         "type": "scattermapbox"
        },
        {
         "lat": [
          50.173443,
          50.173443,
          50.173443,
          50.173443,
          50.173443,
          50.173443,
          50.173434,
          50.173434,
          50.173452,
          50.1734,
          50.1734,
          50.1734
         ],
         "line": {
          "color": "blue",
          "width": 2
         },
         "lon": [
          2.873045,
          2.873057,
          2.873057,
          2.873057,
          2.873057,
          2.873057,
          2.873054,
          2.873058,
          2.873102,
          2.87311,
          2.87311,
          2.87311
         ],
         "marker": {
          "color": "blue",
          "size": 10
         },
         "mode": "lines+markers",
         "type": "scattermapbox"
        },
        {
         "lat": [
          50.173439,
          50.173435,
          50.173435,
          50.173435,
          50.173437,
          50.173428,
          50.173438,
          50.173438,
          50.173448,
          50.173448,
          50.173454,
          50.173461,
          50.173461,
          50.173555,
          50.173557,
          50.173583,
          50.152211,
          50.102719,
          50.104302,
          50.108731,
          50.076416,
          50.045953,
          50.01752,
          49.986583,
          49.986267,
          49.984182,
          49.962299,
          49.946822,
          49.921186,
          49.915123,
          49.927104,
          49.932483,
          49.881988,
          49.849672,
          49.84146,
          49.830217
         ],
         "line": {
          "color": "rgb(50, 205, 0)",
          "width": 2
         },
         "lon": [
          2.873063,
          2.873044,
          2.873044,
          2.873044,
          2.873025,
          2.873046,
          2.873064,
          2.873064,
          2.873062,
          2.873062,
          2.873067,
          2.873039,
          2.873039,
          2.872944,
          2.872951,
          2.872976,
          2.872874,
          2.871203,
          2.867981,
          2.829247,
          2.791111,
          2.738462,
          2.685006,
          2.649415,
          2.65206,
          2.588493,
          2.512805,
          2.429735,
          2.369566,
          2.34807,
          2.30509,
          2.243792,
          2.221363,
          2.153122,
          2.118326,
          2.067254
         ],
         "marker": {
          "color": "rgb(50, 205, 0)",
          "size": 10
         },
         "mode": "lines+markers",
         "type": "scattermapbox"
        },
        {
         "lat": [
          49.144486,
          49.144486,
          49.144474,
          49.144479,
          49.144483,
          49.143265,
          49.144482,
          49.137777,
          49.168278,
          49.168395,
          49.168398,
          49.168366,
          49.144498,
          49.144498
         ],
         "line": {
          "color": "rgb(100, 155, 0)",
          "width": 2
         },
         "lon": [
          -0.405689,
          -0.405689,
          -0.405699,
          -0.405678,
          -0.405686,
          -0.403521,
          -0.405685,
          -0.369184,
          -0.302617,
          -0.275495,
          -0.275391,
          -0.275411,
          -0.405731,
          -0.405731
         ],
         "marker": {
          "color": "rgb(100, 155, 0)",
          "size": 10
         },
         "mode": "lines+markers",
         "type": "scattermapbox"
        },
        {
         "lat": [
          49.168349,
          49.168345,
          49.168331,
          49.168272,
          49.193957
         ],
         "line": {
          "color": "rgb(150, 105, 0)",
          "width": 2
         },
         "lon": [
          -0.275408,
          -0.275412,
          -0.275434,
          -0.260452,
          -0.186058
         ],
         "marker": {
          "color": "rgb(150, 105, 0)",
          "size": 10
         },
         "mode": "lines+markers",
         "type": "scattermapbox"
        },
        {
         "lat": [
          47.539123,
          47.539146,
          47.53915,
          47.539165,
          47.539125,
          47.539125,
          47.539106,
          47.539033,
          47.537425,
          47.490087,
          47.47781,
          47.480013,
          47.430445,
          47.376993,
          47.319217,
          47.314702,
          47.311696,
          47.306032,
          47.300781,
          47.288902,
          47.287039,
          47.28808,
          47.293839
         ],
         "line": {
          "color": "rgb(200, 55, 0)",
          "width": 2
         },
         "lon": [
          0.61484,
          0.614869,
          0.614845,
          0.614889,
          0.614875,
          0.614875,
          0.614871,
          0.614885,
          0.616983,
          0.666906,
          0.704376,
          0.749441,
          0.734911,
          0.714283,
          0.689357,
          0.688895,
          0.734914,
          0.815505,
          0.90549,
          0.980129,
          0.99377,
          1.082351,
          1.170663
         ],
         "marker": {
          "color": "rgb(200, 55, 0)",
          "size": 10
         },
         "mode": "lines+markers",
         "type": "scattermapbox"
        },
        {
         "lat": [
          47.294735,
          47.291879,
          47.30262,
          47.31677,
          47.332232,
          47.338594,
          47.339316,
          47.339376,
          47.31969,
          47.300707,
          47.295335,
          47.292555,
          47.289956,
          47.241573,
          47.199354,
          47.199899,
          47.15131,
          47.100696,
          47.095066,
          47.094964
         ],
         "line": {
          "color": "rgb(0, 255, 0)",
          "width": 2
         },
         "lon": [
          1.255518,
          1.290801,
          1.343679,
          1.430743,
          1.518395,
          1.599263,
          1.606411,
          1.696302,
          1.778037,
          1.863179,
          1.902647,
          1.951873,
          2.040546,
          2.076304,
          2.140684,
          2.139064,
          2.184397,
          2.225455,
          2.239607,
          2.239725
         ],
         "marker": {
          "color": "rgb(0, 255, 0)",
          "size": 10
         },
         "mode": "lines+markers",
         "type": "scattermapbox"
        },
        {
         "lat": [
          47.094205,
          47.094221,
          47.094323,
          47.094231,
          47.094332
         ],
         "line": {
          "color": "rgb(50, 205, 0)",
          "width": 2
         },
         "lon": [
          2.240633,
          2.240597,
          2.240408,
          2.240534,
          2.240418
         ],
         "marker": {
          "color": "rgb(50, 205, 0)",
          "size": 10
         },
         "mode": "lines+markers",
         "type": "scattermapbox"
        },
        {
         "lat": [
          47.81298,
          47.81298,
          47.81298,
          47.812965,
          47.812888,
          47.812888,
          47.842099,
          47.901724,
          47.948004,
          47.980348,
          47.9934,
          48.038844,
          48.075183,
          48.119953,
          48.161137,
          48.178943,
          48.230741,
          48.277705,
          48.316567,
          48.356166,
          48.360344,
          48.409315,
          48.455886,
          48.503864,
          48.537242,
          48.551581,
          48.600706,
          48.62076,
          48.640882,
          48.647358,
          48.653592,
          48.682335,
          48.705725,
          48.740196,
          48.74836,
          48.776033,
          48.82185,
          48.86649,
          48.912903,
          48.916781,
          48.95439
         ],
         "line": {
          "color": "rgb(100, 155, 0)",
          "width": 2
         },
         "lon": [
          5.225087,
          5.225087,
          5.225087,
          5.225074,
          5.225091,
          5.225091,
          5.232138,
          5.223678,
          5.178158,
          5.133276,
          5.123981,
          5.06537,
          5.078071,
          5.109843,
          5.122503,
          5.124617,
          5.118518,
          5.11224,
          5.115778,
          5.131751,
          5.137226,
          5.154609,
          5.142026,
          5.102502,
          5.088506,
          5.06263,
          5.033529,
          4.983917,
          4.911549,
          4.867349,
          4.824057,
          4.744202,
          4.660175,
          4.59373,
          4.59296,
          4.589242,
          4.53952,
          4.483767,
          4.4331,
          4.423076,
          4.389973
         ],
         "marker": {
          "color": "rgb(100, 155, 0)",
          "size": 10
         },
         "mode": "lines+markers",
         "type": "scattermapbox"
        },
        {
         "lat": [
          48.997843,
          49.04412,
          49.072973,
          49.085348,
          49.127104,
          49.172209,
          49.203983,
          49.242052,
          49.243459
         ],
         "line": {
          "color": "rgb(150, 105, 0)",
          "width": 2
         },
         "lon": [
          4.340294,
          4.324681,
          4.266968,
          4.261027,
          4.231821,
          4.171334,
          4.09262,
          4.079512,
          4.080357
         ],
         "marker": {
          "color": "rgb(150, 105, 0)",
          "size": 10
         },
         "mode": "lines+markers",
         "type": "scattermapbox"
        },
        {
         "lat": [
          51.27617,
          51.27617,
          51.276201,
          51.276201,
          51.276202,
          51.249093,
          51.476153,
          51.476181,
          51.476181,
          51.476181,
          51.475238,
          51.476173,
          51.472514,
          51.472512,
          51.478237,
          51.432164,
          51.381816,
          51.476138,
          51.476138,
          51.332817,
          51.331508,
          51.294874,
          51.267401,
          51.295709,
          51.313944,
          51.310752,
          51.272414,
          51.242527,
          51.47614,
          51.47614,
          51.476282,
          51.476376,
          51.473694,
          51.493365,
          51.490976,
          51.52618,
          51.554076,
          51.552374,
          51.539096,
          51.539727,
          51.547848
         ],
         "line": {
          "color": "rgb(200, 55, 0)",
          "width": 2
         },
         "lon": [
          4.206063,
          4.206063,
          4.206097,
          4.206097,
          4.206091,
          4.200874,
          4.727861,
          4.72785,
          4.72785,
          4.72785,
          4.726085,
          4.727851,
          4.727169,
          4.727235,
          4.730339,
          4.71196,
          4.66361,
          4.727848,
          4.727848,
          4.604674,
          4.602599,
          4.527797,
          4.450811,
          4.400959,
          4.354163,
          4.327075,
          4.278648,
          4.229923,
          4.727917,
          4.727917,
          4.7282,
          4.728249,
          4.725443,
          4.740224,
          4.738966,
          4.757899,
          4.84162,
          4.938305,
          5.020423,
          5.03048,
          5.119708
         ],
         "marker": {
          "color": "rgb(200, 55, 0)",
          "size": 10
         },
         "mode": "lines+markers",
         "type": "scattermapbox"
        },
        {
         "lat": [
          51.592638
         ],
         "line": {
          "color": "rgb(0, 255, 0)",
          "width": 2
         },
         "lon": [
          5.17103
         ],
         "marker": {
          "color": "rgb(0, 255, 0)",
          "size": 10
         },
         "mode": "lines+markers",
         "type": "scattermapbox"
        },
        {
         "lat": [
          51.592674,
          51.592638,
          51.626167,
          51.629795,
          51.629835,
          51.653977
         ],
         "line": {
          "color": "rgb(50, 205, 0)",
          "width": 2
         },
         "lon": [
          5.171099,
          5.171033,
          5.229935,
          5.237734,
          5.237858,
          5.28293
         ],
         "marker": {
          "color": "rgb(50, 205, 0)",
          "size": 10
         },
         "mode": "lines+markers",
         "type": "scattermapbox"
        },
        {
         "lat": [
          51.4887,
          51.4887,
          51.488697,
          51.4886,
          51.4886,
          51.4887,
          51.4887,
          51.488697
         ],
         "line": {
          "color": "rgb(100, 155, 0)",
          "width": 2
         },
         "lon": [
          4.739355,
          4.739355,
          4.739355,
          4.73926,
          4.73926,
          4.739355,
          4.739355,
          4.739355
         ],
         "marker": {
          "color": "rgb(100, 155, 0)",
          "size": 10
         },
         "mode": "lines+markers",
         "type": "scattermapbox"
        },
        {
         "lat": [
          51.4886,
          51.4886,
          51.4887,
          51.488726,
          51.488726
         ],
         "line": {
          "color": "rgb(150, 105, 0)",
          "width": 2
         },
         "lon": [
          4.73926,
          4.73926,
          4.739355,
          4.739345,
          4.739345
         ],
         "marker": {
          "color": "rgb(150, 105, 0)",
          "size": 10
         },
         "mode": "lines+markers",
         "type": "scattermapbox"
        },
        {
         "lat": [
          51.488785,
          51.488785,
          51.487394,
          51.487361,
          51.487243,
          51.48722,
          51.487048
         ],
         "line": {
          "color": "rgb(200, 55, 0)",
          "width": 2
         },
         "lon": [
          4.7394,
          4.7394,
          4.738056,
          4.737952,
          4.737586,
          4.737482,
          4.736566
         ],
         "marker": {
          "color": "rgb(200, 55, 0)",
          "size": 10
         },
         "mode": "lines+markers",
         "type": "scattermapbox"
        },
        {
         "lat": [
          51.486929,
          51.483386,
          51.483209,
          51.48344,
          51.445183,
          51.34164,
          51.376977,
          51.390914,
          51.302203,
          51.268358,
          51.236555,
          51.231191,
          51.191232,
          51.141193,
          51.080774,
          51.04419
         ],
         "line": {
          "color": "rgb(0, 255, 0)",
          "width": 2
         },
         "lon": [
          4.736376,
          4.734471,
          4.734377,
          4.7345,
          4.717587,
          4.616315,
          4.657325,
          4.675094,
          4.541512,
          4.468182,
          4.428313,
          4.438972,
          4.417474,
          4.428687,
          4.443559,
          4.452923
         ],
         "marker": {
          "color": "rgb(0, 255, 0)",
          "size": 10
         },
         "mode": "lines+markers",
         "type": "scattermapbox"
        },
        {
         "lat": [
          51.02055,
          50.966829,
          50.910511,
          50.872985,
          50.864369,
          50.864647,
          50.864785,
          50.865706,
          50.865706,
          50.858708,
          50.84796
         ],
         "line": {
          "color": "rgb(50, 205, 0)",
          "width": 2
         },
         "lon": [
          4.447507,
          4.490496,
          4.453232,
          4.465837,
          4.445328,
          4.44507,
          4.445042,
          4.451124,
          4.451288,
          4.448691,
          4.43987
         ],
         "marker": {
          "color": "rgb(50, 205, 0)",
          "size": 10
         },
         "mode": "lines+markers",
         "type": "scattermapbox"
        },
        {
         "lat": [
          50.847826,
          50.844991,
          50.844838,
          50.936009,
          50.936006,
          50.936005,
          50.936003,
          50.935999,
          50.935941,
          50.935941,
          50.904482,
          50.857753,
          50.830764,
          50.83065,
          50.830445,
          50.830376,
          50.8303,
          50.830198,
          50.830159,
          50.830065,
          50.830301,
          50.829995,
          50.829918,
          50.829832,
          50.829779,
          50.829771,
          50.829712,
          50.829571,
          50.829497,
          50.829386,
          50.829317,
          50.829198,
          50.829152,
          50.829193,
          50.82854,
          50.82846,
          50.828186,
          50.828145,
          50.828096,
          50.828043,
          50.827921,
          50.827848,
          50.827821,
          50.827745,
          50.826599,
          50.823718,
          50.823651,
          50.823015
         ],
         "line": {
          "color": "rgb(100, 155, 0)",
          "width": 2
         },
         "lon": [
          4.439768,
          4.438139,
          4.438096,
          4.47373,
          4.473733,
          4.473734,
          4.473739,
          4.473742,
          4.473749,
          4.473749,
          4.439433,
          4.475102,
          4.481783,
          4.481715,
          4.481574,
          4.481529,
          4.481477,
          4.481435,
          4.481401,
          4.48135,
          4.481472,
          4.481285,
          4.481219,
          4.481175,
          4.481128,
          4.481125,
          4.48108,
          4.480981,
          4.480938,
          4.48088,
          4.480819,
          4.480751,
          4.480702,
          4.480739,
          4.48033,
          4.480286,
          4.480112,
          4.48007,
          4.480032,
          4.48,
          4.479916,
          4.479887,
          4.479864,
          4.479819,
          4.479098,
          4.478621,
          4.478617,
          4.478499
         ],
         "marker": {
          "color": "rgb(100, 155, 0)",
          "size": 10
         },
         "mode": "lines+markers",
         "type": "scattermapbox"
        },
        {
         "lat": [
          50.822914,
          50.822852,
          50.822766,
          50.822008,
          50.822344
         ],
         "line": {
          "color": "rgb(150, 105, 0)",
          "width": 2
         },
         "lon": [
          4.478481,
          4.47848,
          4.478453,
          4.478149,
          4.478305
         ],
         "marker": {
          "color": "rgb(150, 105, 0)",
          "size": 10
         },
         "mode": "lines+markers",
         "type": "scattermapbox"
        },
        {
         "lat": [
          47.420511,
          47.420496,
          47.420496,
          47.4205,
          47.420496,
          47.420496,
          47.420496,
          47.420496,
          47.420491,
          47.420491,
          47.420491,
          47.420517,
          47.420468,
          47.420489,
          47.420489,
          47.420502,
          47.420492,
          47.420492,
          47.420492,
          47.420492,
          47.420492,
          47.4205,
          47.4205,
          47.420516,
          47.420508,
          47.420508,
          47.420508,
          47.420508,
          47.420508,
          47.42051,
          47.420521,
          47.420521,
          47.420521,
          47.420532,
          47.420552,
          47.420536,
          47.420554,
          47.420535,
          47.420542,
          47.420546,
          47.420537,
          47.420536
         ],
         "line": {
          "color": "blue",
          "width": 2
         },
         "lon": [
          5.17149,
          5.171468,
          5.171468,
          5.1715,
          5.171468,
          5.171468,
          5.171468,
          5.171468,
          5.171494,
          5.171494,
          5.171494,
          5.171482,
          5.1715,
          5.171497,
          5.171497,
          5.171502,
          5.17148,
          5.17148,
          5.17148,
          5.17148,
          5.17148,
          5.17147,
          5.17147,
          5.171463,
          5.171482,
          5.171482,
          5.171482,
          5.171482,
          5.171482,
          5.171475,
          5.171487,
          5.171487,
          5.171487,
          5.171482,
          5.171488,
          5.1715,
          5.171508,
          5.171515,
          5.171508,
          5.171556,
          5.171528,
          5.171508
         ],
         "marker": {
          "color": "blue",
          "size": 10
         },
         "mode": "lines+markers",
         "type": "scattermapbox"
        },
        {
         "lat": [
          47.420528,
          47.420529,
          47.420529,
          47.42053,
          47.420504,
          47.420501,
          47.420501,
          47.420501,
          47.4205,
          47.420501,
          47.42053,
          47.42053,
          47.420903,
          47.420944,
          47.421205
         ],
         "line": {
          "color": "blue",
          "width": 2
         },
         "lon": [
          5.171495,
          5.171504,
          5.171504,
          5.171515,
          5.171512,
          5.171499,
          5.171499,
          5.171499,
          5.171506,
          5.171499,
          5.17144,
          5.17144,
          5.170646,
          5.170587,
          5.172993
         ],
         "marker": {
          "color": "blue",
          "size": 10
         },
         "mode": "lines+markers",
         "type": "scattermapbox"
        },
        {
         "lat": [
          44.8639,
          44.8639,
          44.863889,
          44.863887,
          44.863889,
          44.863889,
          44.863891,
          44.863888,
          44.863893,
          44.863942,
          44.863769,
          44.863744,
          44.863808,
          44.863808,
          44.866723,
          44.916712,
          44.931462,
          44.974725,
          45.034943,
          45.093216,
          45.138123,
          45.15047,
          45.208735,
          45.254293,
          45.310015,
          45.33701,
          45.371174,
          45.425358,
          45.478706,
          45.529158,
          45.538125,
          45.573521,
          45.595306,
          45.639517,
          45.671223
         ],
         "line": {
          "color": "rgb(50, 205, 0)",
          "width": 2
         },
         "lon": [
          4.86577,
          4.86577,
          4.865798,
          4.865796,
          4.865793,
          4.865793,
          4.865792,
          4.865795,
          4.865796,
          4.865792,
          4.865841,
          4.865847,
          4.865804,
          4.865804,
          4.864501,
          4.877009,
          4.884211,
          4.885519,
          4.876175,
          4.878993,
          4.892536,
          4.888036,
          4.870156,
          4.835393,
          4.811665,
          4.809518,
          4.807724,
          4.825838,
          4.832613,
          4.861572,
          4.856269,
          4.808772,
          4.849199,
          4.895235,
          4.937102
         ],
         "marker": {
          "color": "rgb(50, 205, 0)",
          "size": 10
         },
         "mode": "lines+markers",
         "type": "scattermapbox"
        },
        {
         "lat": [
          45.676006,
          45.731363,
          45.77802,
          45.812031,
          45.838679,
          45.869726,
          45.909933,
          45.917889,
          45.952456,
          45.959323,
          45.9998,
          46.058869,
          46.116443,
          46.166418,
          46.177472
         ],
         "line": {
          "color": "rgb(100, 155, 0)",
          "width": 2
         },
         "lon": [
          4.956008,
          4.978641,
          4.965941,
          4.915889,
          4.916803,
          4.904631,
          4.852074,
          4.780736,
          4.716037,
          4.719634,
          4.735042,
          4.736015,
          4.762755,
          4.770403,
          4.769857
         ],
         "marker": {
          "color": "rgb(100, 155, 0)",
          "size": 10
         },
         "mode": "lines+markers",
         "type": "scattermapbox"
        },
        {
         "lat": [
          43.3549,
          43.3549,
          43.354947,
          43.354952,
          43.354976,
          43.354971,
          43.354972,
          43.354967,
          43.354969,
          43.354969,
          43.354956,
          43.354963,
          43.355093,
          43.353681,
          43.353665,
          43.355299,
          43.354378,
          43.3552,
          43.35529,
          43.355298,
          43.355289,
          43.355817,
          43.355801,
          43.355694,
          43.355694,
          43.355694,
          43.355694,
          43.355848,
          43.35572,
          43.355689,
          43.355545,
          43.355545
         ],
         "line": {
          "color": "blue",
          "width": 2
         },
         "lon": [
          5.31521,
          5.31521,
          5.315263,
          5.31526,
          5.315249,
          5.31524,
          5.315245,
          5.315265,
          5.315302,
          5.315302,
          5.315363,
          5.315417,
          5.319955,
          5.327821,
          5.327854,
          5.319656,
          5.321762,
          5.31989,
          5.319655,
          5.319628,
          5.319641,
          5.318398,
          5.318429,
          5.318691,
          5.318691,
          5.318691,
          5.318691,
          5.318331,
          5.317851,
          5.317824,
          5.317638,
          5.317638
         ],
         "marker": {
          "color": "blue",
          "size": 10
         },
         "mode": "lines+markers",
         "type": "scattermapbox"
        },
        {
         "lat": [
          43.355555,
          43.355669,
          43.355679,
          43.355691,
          43.355701,
          43.355701,
          43.355701,
          43.355698,
          43.355384,
          43.355384,
          43.355384,
          43.355384,
          43.355291,
          43.355172,
          43.354987,
          43.355006,
          43.355059,
          43.355077
         ],
         "line": {
          "color": "rgb(200, 55, 0)",
          "width": 2
         },
         "lon": [
          5.317676,
          5.317803,
          5.317811,
          5.317825,
          5.317822,
          5.317821,
          5.317821,
          5.317818,
          5.317462,
          5.317462,
          5.317462,
          5.317462,
          5.316739,
          5.316625,
          5.316469,
          5.316505,
          5.316558,
          5.31657
         ],
         "marker": {
          "color": "rgb(200, 55, 0)",
          "size": 10
         },
         "mode": "lines+markers",
         "type": "scattermapbox"
        },
        {
         "lat": [
          45.923419,
          45.923419,
          45.923419,
          45.923419,
          45.923493,
          45.923493,
          45.938765,
          45.990838,
          46.040226,
          46.091481,
          46.094471,
          46.145471,
          46.197014,
          46.248843,
          46.282778,
          46.293529,
          46.327967,
          46.333605,
          46.353521,
          46.355436,
          46.370805,
          46.422707,
          46.479325,
          46.510495,
          46.511572,
          46.552646,
          46.606955,
          46.662715,
          46.697085,
          46.719439,
          46.761965,
          46.822837
         ],
         "line": {
          "color": "blue",
          "width": 2
         },
         "lon": [
          3.146059,
          3.146059,
          3.146059,
          3.146059,
          3.146029,
          3.146029,
          3.126098,
          3.109813,
          3.11308,
          3.135637,
          3.137226,
          3.114071,
          3.105456,
          3.08658,
          3.048202,
          3.036138,
          2.974777,
          2.890847,
          2.811464,
          2.775284,
          2.74007,
          2.701756,
          2.670332,
          2.602933,
          2.599192,
          2.548866,
          2.508708,
          2.474483,
          2.462653,
          2.454339,
          2.408286,
          2.412906
         ],
         "marker": {
          "color": "blue",
          "size": 10
         },
         "mode": "lines+markers",
         "type": "scattermapbox"
        },
        {
         "lat": [
          46.881235,
          46.894151,
          46.940279
         ],
         "line": {
          "color": "rgb(50, 205, 0)",
          "width": 2
         },
         "lon": [
          2.421056,
          2.417802,
          2.418658
         ],
         "marker": {
          "color": "rgb(50, 205, 0)",
          "size": 10
         },
         "mode": "lines+markers",
         "type": "scattermapbox"
        },
        {
         "lat": [
          46.997053,
          47.04045,
          47.065037,
          47.075572,
          47.1115,
          47.16999,
          47.210329,
          47.224959,
          47.251134,
          47.290424,
          47.29464,
          47.30468,
          47.30927,
          47.321712,
          47.340473
         ],
         "line": {
          "color": "rgb(100, 155, 0)",
          "width": 2
         },
         "lon": [
          2.406339,
          2.34984,
          2.293465,
          2.275496,
          2.203032,
          2.180703,
          2.117029,
          2.10698,
          2.054896,
          2.015377,
          1.925908,
          1.85554,
          1.840531,
          1.752512,
          1.670968
         ],
         "marker": {
          "color": "rgb(100, 155, 0)",
          "size": 10
         },
         "mode": "lines+markers",
         "type": "scattermapbox"
        },
        {
         "lat": [
          47.660738,
          47.6608,
          47.6608,
          47.660777,
          47.660777,
          47.660247,
          47.689476,
          47.733131,
          47.737591,
          47.76741,
          47.787966,
          47.78705,
          47.771614,
          47.778064,
          47.820843,
          47.860163,
          47.87557,
          47.877559,
          47.88715,
          47.889468,
          47.915855,
          47.946226,
          47.95187,
          47.983876,
          48.021518,
          48.067743,
          48.097292,
          48.123244,
          48.179698,
          48.226795,
          48.274207,
          48.281131,
          48.302772,
          48.344824,
          48.378802,
          48.386803,
          48.386789,
          48.386924,
          48.386924,
          48.38693,
          48.38693,
          48.386921,
          48.386919,
          48.386919,
          48.386919,
          48.387124,
          48.386918,
          48.387538,
          48.387598
         ],
         "line": {
          "color": "rgb(150, 105, 0)",
          "width": 2
         },
         "lon": [
          -2.971431,
          -2.97141,
          -2.97141,
          -2.971371,
          -2.971371,
          -2.972944,
          -3.032709,
          -3.092191,
          -3.095817,
          -3.161776,
          -3.244837,
          -3.330853,
          -3.384574,
          -3.410667,
          -3.46702,
          -3.535753,
          -3.618046,
          -3.642092,
          -3.706178,
          -3.793085,
          -3.873849,
          -3.935412,
          -3.945085,
          -4.018952,
          -4.083167,
          -4.04832,
          -4.032166,
          -4.022294,
          -4.044471,
          -4.080597,
          -4.118176,
          -4.127288,
          -4.182603,
          -4.231289,
          -4.287655,
          -4.459312,
          -4.459333,
          -4.459145,
          -4.459145,
          -4.459144,
          -4.459144,
          -4.459128,
          -4.459122,
          -4.459122,
          -4.459122,
          -4.458898,
          -4.459122,
          -4.459029,
          -4.459093
         ],
         "marker": {
          "color": "rgb(150, 105, 0)",
          "size": 10
         },
         "mode": "lines+markers",
         "type": "scattermapbox"
        },
        {
         "lat": [
          52.258006,
          52.258006,
          52.258,
          52.258,
          52.258,
          52.257997,
          52.257996,
          52.258,
          52.257987,
          52.257987,
          52.25802,
          52.25802,
          52.277857,
          52.323703,
          52.330587
         ],
         "line": {
          "color": "rgb(100, 155, 0)",
          "width": 2
         },
         "lon": [
          5.522057,
          5.522057,
          5.52209,
          5.52209,
          5.52209,
          5.522059,
          5.522081,
          5.52208,
          5.522056,
          5.522039,
          5.522075,
          5.522075,
          5.543244,
          5.575062,
          5.5892
         ],
         "marker": {
          "color": "rgb(100, 155, 0)",
          "size": 10
         },
         "mode": "lines+markers",
         "type": "scattermapbox"
        },
        {
         "lat": [
          52.342119,
          52.361633,
          52.393119,
          52.407054,
          52.429844,
          52.474145,
          52.513215,
          52.534232,
          52.539681,
          52.596796,
          52.657158,
          52.684489,
          52.677977,
          52.681747,
          52.707611,
          52.714819,
          52.714987,
          52.716224,
          52.717423,
          52.717417,
          52.717468,
          52.722474,
          52.729641,
          52.722718,
          52.735219,
          52.734344,
          52.721427,
          52.720289,
          52.722574,
          52.722676,
          52.725836,
          52.706634,
          52.706717,
          52.703081,
          52.688522,
          52.677995,
          52.677628,
          52.677995,
          52.6778,
          52.677988,
          52.677994,
          52.677994,
          52.677985,
          52.678032,
          52.678032,
          52.691419
         ],
         "line": {
          "color": "rgb(150, 105, 0)",
          "width": 2
         },
         "lon": [
          5.68298,
          5.776231,
          5.856485,
          5.884413,
          5.936591,
          6.000368,
          6.077301,
          6.157317,
          6.164352,
          6.201131,
          6.199001,
          6.269751,
          6.310781,
          6.368004,
          6.455663,
          6.554226,
          6.644874,
          6.649009,
          6.651178,
          6.651164,
          6.651334,
          6.681724,
          6.780972,
          6.879937,
          6.976492,
          6.995392,
          7.073506,
          7.174406,
          7.220115,
          7.220329,
          7.254321,
          7.315537,
          7.337499,
          7.395634,
          7.475013,
          7.508053,
          7.507245,
          7.508053,
          7.50765,
          7.50808,
          7.508046,
          7.508046,
          7.50804,
          7.508171,
          7.508171,
          7.543866
         ],
         "marker": {
          "color": "rgb(150, 105, 0)",
          "size": 10
         },
         "mode": "lines+markers",
         "type": "scattermapbox"
        },
        {
         "lat": [
          52.704759,
          52.713888
         ],
         "line": {
          "color": "rgb(200, 55, 0)",
          "width": 2
         },
         "lon": [
          7.630013,
          7.644545
         ],
         "marker": {
          "color": "rgb(200, 55, 0)",
          "size": 10
         },
         "mode": "lines+markers",
         "type": "scattermapbox"
        },
        {
         "lat": [
          52.728268,
          52.754157,
          52.787165,
          52.809381,
          52.816421,
          52.820971,
          52.847373,
          52.850902,
          52.814312,
          52.822322,
          52.823328,
          52.877388,
          52.904187,
          52.914957,
          52.92796,
          52.943541,
          52.971038,
          53.004605,
          53.022279,
          53.02354,
          53.038241,
          53.038776,
          53.053814,
          53.073852
         ],
         "line": {
          "color": "rgb(0, 255, 0)",
          "width": 2
         },
         "lon": [
          7.70805,
          7.776453,
          7.838047,
          7.900735,
          7.940802,
          7.970924,
          8.025394,
          8.095159,
          8.158035,
          8.213394,
          8.213671,
          8.258554,
          8.348911,
          8.441276,
          8.493498,
          8.521634,
          8.612949,
          8.69665,
          8.793846,
          8.809308,
          8.886299,
          8.977165,
          9.052497,
          9.137955
         ],
         "marker": {
          "color": "rgb(0, 255, 0)",
          "size": 10
         },
         "mode": "lines+markers",
         "type": "scattermapbox"
        },
        {
         "lat": [
          56.176117,
          56.176117
         ],
         "line": {
          "color": "blue",
          "width": 2
         },
         "lon": [
          10.066009,
          10.066009
         ],
         "marker": {
          "color": "blue",
          "size": 10
         },
         "mode": "lines+markers",
         "type": "scattermapbox"
        },
        {
         "lat": [
          56.176121,
          56.176121,
          56.176179,
          56.176179,
          56.17611,
          56.177777,
          56.134198,
          56.126774,
          56.076253,
          56.045853,
          55.992594,
          55.966955,
          55.940521,
          55.884532,
          55.836133,
          55.786423,
          55.786236,
          55.747446
         ],
         "line": {
          "color": "rgb(100, 155, 0)",
          "width": 2
         },
         "lon": [
          10.066009,
          10.066009,
          10.065969,
          10.065969,
          10.066009,
          10.066663,
          10.035404,
          10.034607,
          10.001997,
          9.907499,
          9.867547,
          9.853186,
          9.819364,
          9.789699,
          9.722936,
          9.665864,
          9.665714,
          9.585349
         ],
         "marker": {
          "color": "rgb(100, 155, 0)",
          "size": 10
         },
         "mode": "lines+markers",
         "type": "scattermapbox"
        },
        {
         "lat": [
          54.363672,
          54.363672,
          54.363671,
          54.36367
         ],
         "line": {
          "color": "rgb(150, 105, 0)",
          "width": 2
         },
         "lon": [
          9.67172,
          9.67172,
          9.67172,
          9.67172
         ],
         "marker": {
          "color": "rgb(150, 105, 0)",
          "size": 10
         },
         "mode": "lines+markers",
         "type": "scattermapbox"
        },
        {
         "lat": [
          54.363662,
          54.363663,
          54.363672,
          54.363666,
          54.36366,
          54.380794,
          54.415628,
          54.425739,
          54.44294,
          54.447532,
          54.447604,
          54.447598,
          54.477569,
          54.528446,
          54.363672,
          54.58727,
          54.603827,
          54.646181,
          54.703204,
          54.759322,
          54.804851,
          54.804943,
          54.804953,
          54.805912,
          54.844642,
          54.900351
         ],
         "line": {
          "color": "rgb(200, 55, 0)",
          "width": 2
         },
         "lon": [
          9.671741,
          9.671746,
          9.671788,
          9.671888,
          9.671931,
          9.65761,
          9.611626,
          9.599738,
          9.589085,
          9.586286,
          9.586227,
          9.586242,
          9.541328,
          9.483099,
          9.67172,
          9.463612,
          9.450388,
          9.43665,
          9.402367,
          9.363271,
          9.327906,
          9.327803,
          9.327802,
          9.327355,
          9.346555,
          9.377141
         ],
         "marker": {
          "color": "rgb(200, 55, 0)",
          "size": 10
         },
         "mode": "lines+markers",
         "type": "scattermapbox"
        },
        {
         "lat": [
          52.209985,
          52.152125,
          52.121405,
          52.104836,
          52.104695,
          52.092594,
          52.036122,
          51.97883,
          51.956004,
          51.954053,
          51.900121,
          51.841894,
          51.78196,
          51.777065,
          51.726945,
          51.666592,
          51.610433,
          51.579586,
          51.555829,
          51.526473,
          51.479821,
          51.420162,
          51.420162
         ],
         "line": {
          "color": "rgb(0, 255, 0)",
          "width": 2
         },
         "lon": [
          5.442971,
          5.415951,
          5.335959,
          5.24993,
          5.247952,
          5.157675,
          5.13819,
          5.104855,
          5.067686,
          5.022742,
          4.979442,
          4.948494,
          4.927671,
          4.927313,
          4.894677,
          4.880071,
          4.854208,
          4.823569,
          4.819523,
          4.748511,
          4.731941,
          4.70417,
          4.70417
         ],
         "marker": {
          "color": "rgb(0, 255, 0)",
          "size": 10
         },
         "mode": "lines+markers",
         "type": "scattermapbox"
        },
        {
         "lat": [
          51.420162
         ],
         "line": {
          "color": "rgb(50, 205, 0)",
          "width": 2
         },
         "lon": [
          4.70417
         ],
         "marker": {
          "color": "rgb(50, 205, 0)",
          "size": 10
         },
         "mode": "lines+markers",
         "type": "scattermapbox"
        },
        {
         "lat": [
          51.420162,
          51.423099,
          51.420173,
          51.420176,
          51.420176,
          51.420176,
          51.420143,
          51.420143,
          51.40742,
          51.388333,
          51.339054,
          51.300291,
          51.268506,
          51.267686,
          51.228982,
          51.190975,
          51.208086,
          51.175706,
          51.172448,
          51.141636,
          51.127048,
          51.082774,
          50.771323,
          50.771323
         ],
         "line": {
          "color": "rgb(100, 155, 0)",
          "width": 2
         },
         "lon": [
          4.70417,
          4.706582,
          4.704173,
          4.704188,
          4.704188,
          4.704188,
          4.70417,
          4.70417,
          4.696693,
          4.671533,
          4.61303,
          4.53734,
          4.463166,
          4.450842,
          4.442275,
          4.409354,
          4.334714,
          4.266197,
          4.258704,
          4.174908,
          4.080163,
          4.013004,
          3.198794,
          3.198794
         ],
         "marker": {
          "color": "rgb(100, 155, 0)",
          "size": 10
         },
         "mode": "lines+markers",
         "type": "scattermapbox"
        },
        {
         "lat": [
          47.255462,
          47.228079,
          47.212478,
          47.173999,
          47.131465,
          47.104028,
          47.067589,
          47.066371,
          47.013643,
          46.955474,
          46.896651,
          46.885124,
          46.885134,
          46.88515,
          46.885151
         ],
         "line": {
          "color": "blue",
          "width": 2
         },
         "lon": [
          2.048846,
          2.03729,
          2.03953,
          2.007016,
          1.945398,
          1.878411,
          1.820686,
          1.820411,
          1.782907,
          1.757157,
          1.731231,
          1.725367,
          1.725401,
          1.725437,
          1.725455
         ],
         "marker": {
          "color": "blue",
          "size": 10
         },
         "mode": "lines+markers",
         "type": "scattermapbox"
        },
        {
         "lat": [
          46.885163,
          46.88516,
          46.88516,
          46.885163,
          46.885162,
          46.885164,
          46.885163,
          46.885163,
          46.885159,
          46.885186,
          46.885164
         ],
         "line": {
          "color": "rgb(200, 55, 0)",
          "width": 2
         },
         "lon": [
          1.725493,
          1.725479,
          1.725477,
          1.725489,
          1.725489,
          1.725494,
          1.725487,
          1.725487,
          1.725503,
          1.725505,
          1.725507
         ],
         "marker": {
          "color": "rgb(200, 55, 0)",
          "size": 10
         },
         "mode": "lines+markers",
         "type": "scattermapbox"
        },
        {
         "lat": [
          46.88508
         ],
         "line": {
          "color": "rgb(0, 255, 0)",
          "width": 2
         },
         "lon": [
          1.725379
         ],
         "marker": {
          "color": "rgb(0, 255, 0)",
          "size": 10
         },
         "mode": "lines+markers",
         "type": "scattermapbox"
        },
        {
         "lat": [
          46.885121,
          46.885134,
          46.885134,
          46.8851,
          46.884213,
          46.884146
         ],
         "line": {
          "color": "rgb(50, 205, 0)",
          "width": 2
         },
         "lon": [
          1.725446,
          1.725473,
          1.725473,
          1.72554,
          1.725009,
          1.725046
         ],
         "marker": {
          "color": "rgb(50, 205, 0)",
          "size": 10
         },
         "mode": "lines+markers",
         "type": "scattermapbox"
        },
        {
         "lat": [
          46.867543,
          46.853553
         ],
         "line": {
          "color": "rgb(100, 155, 0)",
          "width": 2
         },
         "lon": [
          1.713015,
          1.703111
         ],
         "marker": {
          "color": "rgb(100, 155, 0)",
          "size": 10
         },
         "mode": "lines+markers",
         "type": "scattermapbox"
        },
        {
         "lat": [
          46.821109,
          46.765195,
          46.712549,
          46.697242,
          46.65512,
          46.610637,
          46.56436,
          46.510849,
          46.508064
         ],
         "line": {
          "color": "rgb(150, 105, 0)",
          "width": 2
         },
         "lon": [
          1.627848,
          1.637101,
          1.593305,
          1.583436,
          1.566222,
          1.516618,
          1.505082,
          1.50757,
          1.505325
         ],
         "marker": {
          "color": "rgb(150, 105, 0)",
          "size": 10
         },
         "mode": "lines+markers",
         "type": "scattermapbox"
        },
        {
         "lat": [
          46.451289,
          46.396648,
          46.341393,
          46.310314,
          46.283146
         ],
         "line": {
          "color": "rgb(200, 55, 0)",
          "width": 2
         },
         "lon": [
          1.49138,
          1.45237,
          1.420059,
          1.418151,
          1.406305
         ],
         "marker": {
          "color": "rgb(200, 55, 0)",
          "size": 10
         },
         "mode": "lines+markers",
         "type": "scattermapbox"
        },
        {
         "lat": [
          44.230589,
          44.230589,
          44.230601,
          44.230601,
          44.230574,
          44.230574,
          44.230588,
          44.178661,
          44.182609,
          44.13214,
          44.090543,
          44.052859,
          44.052796,
          44.047728,
          44.006757,
          43.999094,
          43.952198,
          43.914942,
          43.853625,
          43.829628,
          43.804295,
          43.7449,
          43.685972,
          43.643421,
          43.62772,
          43.610891,
          43.606861,
          43.60701,
          43.608392,
          43.60852,
          43.609473,
          43.629683
         ],
         "line": {
          "color": "rgb(0, 255, 0)",
          "width": 2
         },
         "lon": [
          1.530204,
          1.530204,
          1.530221,
          1.530221,
          1.530345,
          1.530345,
          1.530233,
          1.532243,
          1.533787,
          1.486394,
          1.425513,
          1.409834,
          1.409674,
          1.398209,
          1.383383,
          1.363918,
          1.325545,
          1.31891,
          1.318667,
          1.341885,
          1.367607,
          1.388689,
          1.412358,
          1.421586,
          1.41985,
          1.385486,
          1.336065,
          1.335939,
          1.336136,
          1.336283,
          1.336405,
          1.347145
         ],
         "marker": {
          "color": "rgb(0, 255, 0)",
          "size": 10
         },
         "mode": "lines+markers",
         "type": "scattermapbox"
        },
        {
         "lat": [
          43.629127,
          43.629683,
          43.629677,
          43.629677,
          43.629685,
          43.629714,
          43.629714,
          43.6296,
          43.62969,
          43.62969,
          43.62969,
          43.62969,
          43.629135,
          43.629135,
          43.629135,
          43.629135,
          43.629137,
          43.629137
         ],
         "line": {
          "color": "rgb(50, 205, 0)",
          "width": 2
         },
         "lon": [
          1.346526,
          1.347142,
          1.347128,
          1.347128,
          1.347139,
          1.347364,
          1.347364,
          1.34712,
          1.347281,
          1.347281,
          1.347281,
          1.347281,
          1.349232,
          1.34958,
          1.349232,
          1.349232,
          1.349223,
          1.349223
         ],
         "marker": {
          "color": "rgb(50, 205, 0)",
          "size": 10
         },
         "mode": "lines+markers",
         "type": "scattermapbox"
        },
        {
         "lat": [
          43.588159,
          43.588146,
          43.588146,
          43.588146,
          43.588129,
          43.588204,
          43.588204,
          43.600488,
          43.623849,
          43.660531,
          43.693878,
          43.696737,
          43.722492,
          43.73308,
          43.743469,
          43.744886,
          43.744896,
          43.729336,
          43.725286,
          43.725255,
          43.731682,
          43.728226,
          43.748482,
          43.760176,
          43.753256,
          43.753214,
          43.751999,
          43.740647,
          43.726818
         ],
         "line": {
          "color": "rgb(100, 155, 0)",
          "width": 2
         },
         "lon": [
          7.034236,
          7.0343,
          7.0343,
          7.0343,
          7.034312,
          7.034376,
          7.034376,
          7.056141,
          7.116347,
          7.166573,
          7.189402,
          7.188867,
          7.224929,
          7.289765,
          7.352322,
          7.372702,
          7.372905,
          7.390945,
          7.400464,
          7.400565,
          7.411771,
          7.408228,
          7.424993,
          7.452186,
          7.44087,
          7.440805,
          7.438905,
          7.429911,
          7.40719
         ],
         "marker": {
          "color": "rgb(100, 155, 0)",
          "size": 10
         },
         "mode": "lines+markers",
         "type": "scattermapbox"
        },
        {
         "lat": [
          49.812119,
          49.841439,
          49.841456,
          49.865762,
          49.903409,
          49.931517,
          49.939292,
          49.938488,
          49.980884,
          50.000346,
          50.00045,
          50.005036,
          50.05303,
          50.101021,
          50.142677,
          49.639421,
          49.652151,
          49.655984,
          49.659636,
          49.645564,
          49.638744,
          49.6341,
          49.642554,
          49.646174,
          49.665164,
          49.706626,
          49.728763,
          49.75688,
          49.74872,
          49.741307,
          49.752922,
          49.782035,
          49.791803,
          49.808676,
          49.815017,
          49.451045,
          49.451068,
          49.451068,
          49.45104,
          49.45104,
          49.451038,
          49.451038,
          49.485096,
          49.534394,
          49.531519,
          49.570104,
          49.586617,
          49.613313,
          49.620969,
          49.628772
         ],
         "line": {
          "color": "rgb(50, 205, 0)",
          "width": 2
         },
         "lon": [
          2.018788,
          2.096621,
          2.100102,
          2.18215,
          2.234522,
          2.255882,
          2.308235,
          2.308086,
          2.316107,
          2.311445,
          2.311446,
          2.313088,
          2.323706,
          2.332047,
          2.338285,
          0.704797,
          0.793576,
          0.88347,
          0.910199,
          0.965679,
          1.057936,
          1.150271,
          1.226553,
          1.239907,
          1.31043,
          1.375423,
          1.457641,
          1.48747,
          1.514639,
          1.598424,
          1.688251,
          1.751548,
          1.785201,
          1.832239,
          1.925265,
          0.272093,
          0.272119,
          0.272119,
          0.272105,
          0.272105,
          0.272114,
          0.272114,
          0.263401,
          0.316247,
          0.313254,
          0.361851,
          0.44667,
          0.522795,
          0.591269,
          0.612451
         ],
         "marker": {
          "color": "rgb(50, 205, 0)",
          "size": 10
         },
         "mode": "lines+markers",
         "type": "scattermapbox"
        }
       ],
       "layout": {
        "autosize": true,
        "height": 600,
        "hovermode": "closest",
        "mapbox": {
         "center": {
          "lat": 52.1326,
          "lon": 5.2913
         },
         "style": "open-street-map",
         "zoom": 5
        },
        "template": {
         "data": {
          "bar": [
           {
            "error_x": {
             "color": "#2a3f5f"
            },
            "error_y": {
             "color": "#2a3f5f"
            },
            "marker": {
             "line": {
              "color": "#E5ECF6",
              "width": 0.5
             },
             "pattern": {
              "fillmode": "overlay",
              "size": 10,
              "solidity": 0.2
             }
            },
            "type": "bar"
           }
          ],
          "barpolar": [
           {
            "marker": {
             "line": {
              "color": "#E5ECF6",
              "width": 0.5
             },
             "pattern": {
              "fillmode": "overlay",
              "size": 10,
              "solidity": 0.2
             }
            },
            "type": "barpolar"
           }
          ],
          "carpet": [
           {
            "aaxis": {
             "endlinecolor": "#2a3f5f",
             "gridcolor": "white",
             "linecolor": "white",
             "minorgridcolor": "white",
             "startlinecolor": "#2a3f5f"
            },
            "baxis": {
             "endlinecolor": "#2a3f5f",
             "gridcolor": "white",
             "linecolor": "white",
             "minorgridcolor": "white",
             "startlinecolor": "#2a3f5f"
            },
            "type": "carpet"
           }
          ],
          "choropleth": [
           {
            "colorbar": {
             "outlinewidth": 0,
             "ticks": ""
            },
            "type": "choropleth"
           }
          ],
          "contour": [
           {
            "colorbar": {
             "outlinewidth": 0,
             "ticks": ""
            },
            "colorscale": [
             [
              0,
              "#0d0887"
             ],
             [
              0.1111111111111111,
              "#46039f"
             ],
             [
              0.2222222222222222,
              "#7201a8"
             ],
             [
              0.3333333333333333,
              "#9c179e"
             ],
             [
              0.4444444444444444,
              "#bd3786"
             ],
             [
              0.5555555555555556,
              "#d8576b"
             ],
             [
              0.6666666666666666,
              "#ed7953"
             ],
             [
              0.7777777777777778,
              "#fb9f3a"
             ],
             [
              0.8888888888888888,
              "#fdca26"
             ],
             [
              1,
              "#f0f921"
             ]
            ],
            "type": "contour"
           }
          ],
          "contourcarpet": [
           {
            "colorbar": {
             "outlinewidth": 0,
             "ticks": ""
            },
            "type": "contourcarpet"
           }
          ],
          "heatmap": [
           {
            "colorbar": {
             "outlinewidth": 0,
             "ticks": ""
            },
            "colorscale": [
             [
              0,
              "#0d0887"
             ],
             [
              0.1111111111111111,
              "#46039f"
             ],
             [
              0.2222222222222222,
              "#7201a8"
             ],
             [
              0.3333333333333333,
              "#9c179e"
             ],
             [
              0.4444444444444444,
              "#bd3786"
             ],
             [
              0.5555555555555556,
              "#d8576b"
             ],
             [
              0.6666666666666666,
              "#ed7953"
             ],
             [
              0.7777777777777778,
              "#fb9f3a"
             ],
             [
              0.8888888888888888,
              "#fdca26"
             ],
             [
              1,
              "#f0f921"
             ]
            ],
            "type": "heatmap"
           }
          ],
          "heatmapgl": [
           {
            "colorbar": {
             "outlinewidth": 0,
             "ticks": ""
            },
            "colorscale": [
             [
              0,
              "#0d0887"
             ],
             [
              0.1111111111111111,
              "#46039f"
             ],
             [
              0.2222222222222222,
              "#7201a8"
             ],
             [
              0.3333333333333333,
              "#9c179e"
             ],
             [
              0.4444444444444444,
              "#bd3786"
             ],
             [
              0.5555555555555556,
              "#d8576b"
             ],
             [
              0.6666666666666666,
              "#ed7953"
             ],
             [
              0.7777777777777778,
              "#fb9f3a"
             ],
             [
              0.8888888888888888,
              "#fdca26"
             ],
             [
              1,
              "#f0f921"
             ]
            ],
            "type": "heatmapgl"
           }
          ],
          "histogram": [
           {
            "marker": {
             "pattern": {
              "fillmode": "overlay",
              "size": 10,
              "solidity": 0.2
             }
            },
            "type": "histogram"
           }
          ],
          "histogram2d": [
           {
            "colorbar": {
             "outlinewidth": 0,
             "ticks": ""
            },
            "colorscale": [
             [
              0,
              "#0d0887"
             ],
             [
              0.1111111111111111,
              "#46039f"
             ],
             [
              0.2222222222222222,
              "#7201a8"
             ],
             [
              0.3333333333333333,
              "#9c179e"
             ],
             [
              0.4444444444444444,
              "#bd3786"
             ],
             [
              0.5555555555555556,
              "#d8576b"
             ],
             [
              0.6666666666666666,
              "#ed7953"
             ],
             [
              0.7777777777777778,
              "#fb9f3a"
             ],
             [
              0.8888888888888888,
              "#fdca26"
             ],
             [
              1,
              "#f0f921"
             ]
            ],
            "type": "histogram2d"
           }
          ],
          "histogram2dcontour": [
           {
            "colorbar": {
             "outlinewidth": 0,
             "ticks": ""
            },
            "colorscale": [
             [
              0,
              "#0d0887"
             ],
             [
              0.1111111111111111,
              "#46039f"
             ],
             [
              0.2222222222222222,
              "#7201a8"
             ],
             [
              0.3333333333333333,
              "#9c179e"
             ],
             [
              0.4444444444444444,
              "#bd3786"
             ],
             [
              0.5555555555555556,
              "#d8576b"
             ],
             [
              0.6666666666666666,
              "#ed7953"
             ],
             [
              0.7777777777777778,
              "#fb9f3a"
             ],
             [
              0.8888888888888888,
              "#fdca26"
             ],
             [
              1,
              "#f0f921"
             ]
            ],
            "type": "histogram2dcontour"
           }
          ],
          "mesh3d": [
           {
            "colorbar": {
             "outlinewidth": 0,
             "ticks": ""
            },
            "type": "mesh3d"
           }
          ],
          "parcoords": [
           {
            "line": {
             "colorbar": {
              "outlinewidth": 0,
              "ticks": ""
             }
            },
            "type": "parcoords"
           }
          ],
          "pie": [
           {
            "automargin": true,
            "type": "pie"
           }
          ],
          "scatter": [
           {
            "fillpattern": {
             "fillmode": "overlay",
             "size": 10,
             "solidity": 0.2
            },
            "type": "scatter"
           }
          ],
          "scatter3d": [
           {
            "line": {
             "colorbar": {
              "outlinewidth": 0,
              "ticks": ""
             }
            },
            "marker": {
             "colorbar": {
              "outlinewidth": 0,
              "ticks": ""
             }
            },
            "type": "scatter3d"
           }
          ],
          "scattercarpet": [
           {
            "marker": {
             "colorbar": {
              "outlinewidth": 0,
              "ticks": ""
             }
            },
            "type": "scattercarpet"
           }
          ],
          "scattergeo": [
           {
            "marker": {
             "colorbar": {
              "outlinewidth": 0,
              "ticks": ""
             }
            },
            "type": "scattergeo"
           }
          ],
          "scattergl": [
           {
            "marker": {
             "colorbar": {
              "outlinewidth": 0,
              "ticks": ""
             }
            },
            "type": "scattergl"
           }
          ],
          "scattermapbox": [
           {
            "marker": {
             "colorbar": {
              "outlinewidth": 0,
              "ticks": ""
             }
            },
            "type": "scattermapbox"
           }
          ],
          "scatterpolar": [
           {
            "marker": {
             "colorbar": {
              "outlinewidth": 0,
              "ticks": ""
             }
            },
            "type": "scatterpolar"
           }
          ],
          "scatterpolargl": [
           {
            "marker": {
             "colorbar": {
              "outlinewidth": 0,
              "ticks": ""
             }
            },
            "type": "scatterpolargl"
           }
          ],
          "scatterternary": [
           {
            "marker": {
             "colorbar": {
              "outlinewidth": 0,
              "ticks": ""
             }
            },
            "type": "scatterternary"
           }
          ],
          "surface": [
           {
            "colorbar": {
             "outlinewidth": 0,
             "ticks": ""
            },
            "colorscale": [
             [
              0,
              "#0d0887"
             ],
             [
              0.1111111111111111,
              "#46039f"
             ],
             [
              0.2222222222222222,
              "#7201a8"
             ],
             [
              0.3333333333333333,
              "#9c179e"
             ],
             [
              0.4444444444444444,
              "#bd3786"
             ],
             [
              0.5555555555555556,
              "#d8576b"
             ],
             [
              0.6666666666666666,
              "#ed7953"
             ],
             [
              0.7777777777777778,
              "#fb9f3a"
             ],
             [
              0.8888888888888888,
              "#fdca26"
             ],
             [
              1,
              "#f0f921"
             ]
            ],
            "type": "surface"
           }
          ],
          "table": [
           {
            "cells": {
             "fill": {
              "color": "#EBF0F8"
             },
             "line": {
              "color": "white"
             }
            },
            "header": {
             "fill": {
              "color": "#C8D4E3"
             },
             "line": {
              "color": "white"
             }
            },
            "type": "table"
           }
          ]
         },
         "layout": {
          "annotationdefaults": {
           "arrowcolor": "#2a3f5f",
           "arrowhead": 0,
           "arrowwidth": 1
          },
          "autotypenumbers": "strict",
          "coloraxis": {
           "colorbar": {
            "outlinewidth": 0,
            "ticks": ""
           }
          },
          "colorscale": {
           "diverging": [
            [
             0,
             "#8e0152"
            ],
            [
             0.1,
             "#c51b7d"
            ],
            [
             0.2,
             "#de77ae"
            ],
            [
             0.3,
             "#f1b6da"
            ],
            [
             0.4,
             "#fde0ef"
            ],
            [
             0.5,
             "#f7f7f7"
            ],
            [
             0.6,
             "#e6f5d0"
            ],
            [
             0.7,
             "#b8e186"
            ],
            [
             0.8,
             "#7fbc41"
            ],
            [
             0.9,
             "#4d9221"
            ],
            [
             1,
             "#276419"
            ]
           ],
           "sequential": [
            [
             0,
             "#0d0887"
            ],
            [
             0.1111111111111111,
             "#46039f"
            ],
            [
             0.2222222222222222,
             "#7201a8"
            ],
            [
             0.3333333333333333,
             "#9c179e"
            ],
            [
             0.4444444444444444,
             "#bd3786"
            ],
            [
             0.5555555555555556,
             "#d8576b"
            ],
            [
             0.6666666666666666,
             "#ed7953"
            ],
            [
             0.7777777777777778,
             "#fb9f3a"
            ],
            [
             0.8888888888888888,
             "#fdca26"
            ],
            [
             1,
             "#f0f921"
            ]
           ],
           "sequentialminus": [
            [
             0,
             "#0d0887"
            ],
            [
             0.1111111111111111,
             "#46039f"
            ],
            [
             0.2222222222222222,
             "#7201a8"
            ],
            [
             0.3333333333333333,
             "#9c179e"
            ],
            [
             0.4444444444444444,
             "#bd3786"
            ],
            [
             0.5555555555555556,
             "#d8576b"
            ],
            [
             0.6666666666666666,
             "#ed7953"
            ],
            [
             0.7777777777777778,
             "#fb9f3a"
            ],
            [
             0.8888888888888888,
             "#fdca26"
            ],
            [
             1,
             "#f0f921"
            ]
           ]
          },
          "colorway": [
           "#636efa",
           "#EF553B",
           "#00cc96",
           "#ab63fa",
           "#FFA15A",
           "#19d3f3",
           "#FF6692",
           "#B6E880",
           "#FF97FF",
           "#FECB52"
          ],
          "font": {
           "color": "#2a3f5f"
          },
          "geo": {
           "bgcolor": "white",
           "lakecolor": "white",
           "landcolor": "#E5ECF6",
           "showlakes": true,
           "showland": true,
           "subunitcolor": "white"
          },
          "hoverlabel": {
           "align": "left"
          },
          "hovermode": "closest",
          "mapbox": {
           "style": "light"
          },
          "paper_bgcolor": "white",
          "plot_bgcolor": "#E5ECF6",
          "polar": {
           "angularaxis": {
            "gridcolor": "white",
            "linecolor": "white",
            "ticks": ""
           },
           "bgcolor": "#E5ECF6",
           "radialaxis": {
            "gridcolor": "white",
            "linecolor": "white",
            "ticks": ""
           }
          },
          "scene": {
           "xaxis": {
            "backgroundcolor": "#E5ECF6",
            "gridcolor": "white",
            "gridwidth": 2,
            "linecolor": "white",
            "showbackground": true,
            "ticks": "",
            "zerolinecolor": "white"
           },
           "yaxis": {
            "backgroundcolor": "#E5ECF6",
            "gridcolor": "white",
            "gridwidth": 2,
            "linecolor": "white",
            "showbackground": true,
            "ticks": "",
            "zerolinecolor": "white"
           },
           "zaxis": {
            "backgroundcolor": "#E5ECF6",
            "gridcolor": "white",
            "gridwidth": 2,
            "linecolor": "white",
            "showbackground": true,
            "ticks": "",
            "zerolinecolor": "white"
           }
          },
          "shapedefaults": {
           "line": {
            "color": "#2a3f5f"
           }
          },
          "ternary": {
           "aaxis": {
            "gridcolor": "white",
            "linecolor": "white",
            "ticks": ""
           },
           "baxis": {
            "gridcolor": "white",
            "linecolor": "white",
            "ticks": ""
           },
           "bgcolor": "#E5ECF6",
           "caxis": {
            "gridcolor": "white",
            "linecolor": "white",
            "ticks": ""
           }
          },
          "title": {
           "x": 0.05
          },
          "xaxis": {
           "automargin": true,
           "gridcolor": "white",
           "linecolor": "white",
           "ticks": "",
           "title": {
            "standoff": 15
           },
           "zerolinecolor": "white",
           "zerolinewidth": 2
          },
          "yaxis": {
           "automargin": true,
           "gridcolor": "white",
           "linecolor": "white",
           "ticks": "",
           "title": {
            "standoff": 15
           },
           "zerolinecolor": "white",
           "zerolinewidth": 2
          }
         }
        },
        "width": 1000
       }
      }
     },
     "metadata": {},
     "output_type": "display_data"
    },
    {
     "data": {
      "application/vnd.plotly.v1+json": {
       "config": {
        "plotlyServerURL": "https://plot.ly"
       },
       "data": [
        {
         "lat": [
          51.264967,
          51.264968,
          51.264968,
          51.264968,
          51.264961,
          51.265012,
          51.265012,
          51.266747,
          51.266813,
          51.265816,
          51.265776,
          51.261713,
          51.261576,
          51.256392,
          51.260354,
          51.260369,
          51.26276,
          51.262761,
          51.262765,
          51.262782,
          51.262782,
          51.262764,
          51.263,
          51.262769,
          51.262791,
          51.262791,
          51.262885,
          51.262885,
          51.257226,
          51.257257,
          51.25728,
          51.25749,
          51.25749,
          51.25749,
          51.25749,
          51.257478,
          51.25749,
          51.257474,
          51.257477,
          51.2575,
          51.2575,
          51.257461,
          51.257461,
          51.257461,
          51.257461,
          51.257496,
          51.257488
         ],
         "line": {
          "color": "rgb(0, 255, 0)",
          "width": 2
         },
         "lon": [
          4.283523,
          4.283523,
          4.283523,
          4.283523,
          4.283535,
          4.28358,
          4.28358,
          4.288068,
          4.288056,
          4.279989,
          4.279972,
          4.278927,
          4.278451,
          4.245702,
          4.247168,
          4.247182,
          4.249267,
          4.249272,
          4.24928,
          4.249274,
          4.249274,
          4.249281,
          4.2492,
          4.249285,
          4.249246,
          4.249246,
          4.249312,
          4.249312,
          4.243721,
          4.2437,
          4.242657,
          4.242703,
          4.242704,
          4.242704,
          4.242704,
          4.242718,
          4.242675,
          4.242713,
          4.242649,
          4.2426,
          4.2426,
          4.242609,
          4.242609,
          4.242609,
          4.242609,
          4.242683,
          4.242669
         ],
         "marker": {
          "color": "rgb(0, 255, 0)",
          "size": 10
         },
         "mode": "lines+markers",
         "type": "scattermapbox"
        },
        {
         "lat": [
          51.257488,
          51.257488,
          51.257488
         ],
         "line": {
          "color": "rgb(50, 205, 0)",
          "width": 2
         },
         "lon": [
          4.242669,
          4.242669,
          4.242669
         ],
         "marker": {
          "color": "rgb(50, 205, 0)",
          "size": 10
         },
         "mode": "lines+markers",
         "type": "scattermapbox"
        },
        {
         "lat": [
          50.7544,
          50.7544,
          50.7544,
          50.754428,
          50.75447,
          50.75447,
          50.754973,
          50.754987,
          50.750666,
          50.730119,
          50.674444,
          50.627135,
          50.594118,
          50.587631,
          50.572363,
          50.525939,
          50.476507,
          50.454441,
          50.422349,
          50.386124,
          50.383099,
          50.363766,
          50.363761,
          50.363149,
          50.366838,
          50.338686,
          50.297537,
          50.250185,
          50.205236,
          50.20757,
          50.157638,
          50.100074,
          50.044566,
          50.012377,
          49.998271,
          49.972516,
          49.940804,
          49.93045,
          49.924935,
          49.905473,
          49.85039,
          49.816,
          49.775072
         ],
         "line": {
          "color": "rgb(100, 155, 0)",
          "width": 2
         },
         "lon": [
          6.85229,
          6.85229,
          6.85229,
          6.852311,
          6.85233,
          6.85233,
          6.853202,
          6.853233,
          6.852298,
          6.881921,
          6.919011,
          6.973123,
          7.026977,
          7.044484,
          7.135182,
          7.188895,
          7.223769,
          7.23234,
          7.230505,
          7.291877,
          7.380044,
          7.428561,
          7.428627,
          7.436786,
          7.459839,
          7.510819,
          7.502002,
          7.517331,
          7.573843,
          7.569996,
          7.594252,
          7.603278,
          7.637864,
          7.681376,
          7.684783,
          7.737805,
          7.798397,
          7.883349,
          7.943291,
          7.947601,
          7.979486,
          8.049952,
          8.110515
         ],
         "marker": {
          "color": "rgb(100, 155, 0)",
          "size": 10
         },
         "mode": "lines+markers",
         "type": "scattermapbox"
        },
        {
         "lat": [
          49.762954,
          49.719441,
          49.698773,
          49.6567,
          49.613664,
          49.604459
         ],
         "line": {
          "color": "rgb(150, 105, 0)",
          "width": 2
         },
         "lon": [
          8.114794,
          8.134703,
          8.21643,
          8.284182,
          8.291098,
          8.288345
         ],
         "marker": {
          "color": "rgb(150, 105, 0)",
          "size": 10
         },
         "mode": "lines+markers",
         "type": "scattermapbox"
        },
        {
         "lat": [
          50.994167,
          50.994164,
          50.994164,
          50.994115,
          50.994115,
          50.994108,
          50.994089,
          50.994079,
          50.994045,
          50.994045,
          50.994223,
          50.993371,
          50.993327,
          50.992951
         ],
         "line": {
          "color": "rgb(200, 55, 0)",
          "width": 2
         },
         "lon": [
          5.240767,
          5.240773,
          5.240773,
          5.240775,
          5.240775,
          5.240818,
          5.240795,
          5.240799,
          5.240863,
          5.240863,
          5.241447,
          5.240308,
          5.240285,
          5.240464
         ],
         "marker": {
          "color": "rgb(200, 55, 0)",
          "size": 10
         },
         "mode": "lines+markers",
         "type": "scattermapbox"
        },
        {
         "lat": [
          50.992898,
          50.983636,
          51.006359,
          51.030154,
          51.077728,
          51.101342,
          51.2548,
          51.2548,
          51.2548,
          51.2548,
          51.2548,
          51.254768,
          51.25477,
          51.25477,
          51.254767,
          51.254698,
          51.254765,
          51.242259,
          51.227942,
          51.226756,
          51.203,
          51.201208,
          51.201145,
          51.25488
         ],
         "line": {
          "color": "rgb(0, 255, 0)",
          "width": 2
         },
         "lon": [
          5.24045,
          5.242122,
          5.218446,
          5.200133,
          5.138059,
          5.050598,
          4.24988,
          4.24988,
          4.24988,
          4.24988,
          4.24988,
          4.249894,
          4.249887,
          4.249887,
          4.24989,
          4.250799,
          4.249895,
          4.258909,
          4.345116,
          4.351693,
          4.37449,
          4.376393,
          4.376462,
          4.249346
         ],
         "marker": {
          "color": "rgb(0, 255, 0)",
          "size": 10
         },
         "mode": "lines+markers",
         "type": "scattermapbox"
        },
        {
         "lat": [
          51.254371,
          51.254371,
          51.196297,
          51.254371,
          51.1988,
          51.21167,
          51.197697,
          51.194823,
          51.181658,
          51.167942,
          51.147972,
          51.12592
         ],
         "line": {
          "color": "rgb(50, 205, 0)",
          "width": 2
         },
         "lon": [
          4.248231,
          4.248231,
          4.391797,
          4.248231,
          4.43566,
          4.501624,
          4.594922,
          4.625332,
          4.688168,
          4.780491,
          4.871515,
          4.950018
         ],
         "marker": {
          "color": "rgb(50, 205, 0)",
          "size": 10
         },
         "mode": "lines+markers",
         "type": "scattermapbox"
        },
        {
         "lat": [
          49.5955,
          49.595458,
          49.5955,
          49.59544,
          49.595437,
          49.595432,
          49.595359,
          49.595359,
          49.562405,
          49.520091,
          49.496485,
          49.454068,
          49.449944,
          49.400527,
          49.349335,
          49.303927,
          49.282008,
          49.257402,
          49.211619,
          49.1862,
          49.14411,
          49.128906,
          49.093151,
          49.04605,
          49.01385,
          48.96807,
          48.95968,
          48.916917,
          48.876187,
          48.834041,
          48.792018,
          48.789865,
          48.75005,
          48.714618,
          48.690098,
          48.663813
         ],
         "line": {
          "color": "rgb(100, 155, 0)",
          "width": 2
         },
         "lon": [
          4.49876,
          4.498754,
          4.49876,
          4.498751,
          4.498762,
          4.498754,
          4.498755,
          4.498755,
          4.466097,
          4.403106,
          4.353757,
          4.3008,
          4.296647,
          4.245079,
          4.197944,
          4.137437,
          4.111464,
          4.085338,
          4.078167,
          4.145687,
          4.212593,
          4.228144,
          4.25687,
          4.310609,
          4.32894,
          4.382868,
          4.390322,
          4.422877,
          4.468134,
          4.531485,
          4.578023,
          4.578985,
          4.591731,
          4.63613,
          4.716715,
          4.79704
         ],
         "marker": {
          "color": "rgb(100, 155, 0)",
          "size": 10
         },
         "mode": "lines+markers",
         "type": "scattermapbox"
        },
        {
         "lat": [
          48.663149,
          48.65727,
          48.65723,
          48.653046,
          48.640671
         ],
         "line": {
          "color": "rgb(150, 105, 0)",
          "width": 2
         },
         "lon": [
          4.798949,
          4.815377,
          4.815468,
          4.826944,
          4.91247
         ],
         "marker": {
          "color": "rgb(150, 105, 0)",
          "size": 10
         },
         "mode": "lines+markers",
         "type": "scattermapbox"
        },
        {
         "lat": [
          48.620618,
          48.622528,
          48.622418,
          48.594215,
          48.56668,
          48.552593,
          48.552593,
          48.552593,
          48.552593
         ],
         "line": {
          "color": "rgb(200, 55, 0)",
          "width": 2
         },
         "lon": [
          4.987413,
          4.993582,
          4.99371,
          5.03082,
          5.03522,
          5.060996,
          5.060996,
          5.060996,
          5.060996
         ],
         "marker": {
          "color": "rgb(200, 55, 0)",
          "size": 10
         },
         "mode": "lines+markers",
         "type": "scattermapbox"
        },
        {
         "lat": [
          47.2182,
          47.218168,
          47.2182,
          47.218168,
          47.2182,
          47.218168,
          47.218156,
          47.218156,
          47.21815,
          47.218145,
          47.218145,
          47.218145,
          47.218143,
          47.21814,
          47.218147
         ],
         "line": {
          "color": "blue",
          "width": 2
         },
         "lon": [
          5.00065,
          5.000712,
          5.00071,
          5.000712,
          5.00079,
          5.000712,
          5.000722,
          5.000722,
          5.000715,
          5.000711,
          5.000711,
          5.000711,
          5.000725,
          5.000728,
          5.000722
         ],
         "marker": {
          "color": "blue",
          "size": 10
         },
         "mode": "lines+markers",
         "type": "scattermapbox"
        },
        {
         "lat": [
          47.218143,
          47.218147
         ],
         "line": {
          "color": "blue",
          "width": 2
         },
         "lon": [
          5.000715,
          5.000719
         ],
         "marker": {
          "color": "blue",
          "size": 10
         },
         "mode": "lines+markers",
         "type": "scattermapbox"
        },
        {
         "lat": [
          47.218166,
          47.218176,
          47.218163,
          47.218138,
          47.218109,
          47.21809,
          47.218098,
          47.218092,
          47.218113,
          47.218114,
          47.21812,
          47.218136,
          47.218136,
          47.218152,
          47.218125,
          47.2181,
          47.218146,
          47.218146,
          47.218166,
          47.218166,
          47.218166,
          47.218151,
          47.218151,
          47.218153,
          47.218135,
          47.218135,
          47.217498,
          47.217427,
          47.20408,
          47.144785,
          47.094865,
          47.092906,
          47.042991,
          46.987321,
          46.929672,
          46.899671,
          46.86871,
          46.808675,
          46.750206,
          46.756169,
          46.759629,
          46.756921,
          46.740258,
          46.741318,
          46.754021,
          46.761342,
          46.778247,
          46.788291,
          46.78834
         ],
         "line": {
          "color": "rgb(100, 155, 0)",
          "width": 2
         },
         "lon": [
          5.000684,
          5.000704,
          5.000706,
          5.000735,
          5.000756,
          5.000773,
          5.000766,
          5.000767,
          5.000736,
          5.000741,
          5.000752,
          5.000744,
          5.000744,
          5.000737,
          5.000721,
          5.00075,
          5.000714,
          5.000714,
          5.000712,
          5.000712,
          5.000712,
          5.000712,
          5.000712,
          5.000714,
          5.000789,
          5.000789,
          5.000586,
          5.000604,
          4.996983,
          4.987863,
          4.942549,
          4.940381,
          4.888569,
          4.85129,
          4.820461,
          4.82228,
          4.819466,
          4.826422,
          4.831884,
          4.800582,
          4.756285,
          4.712143,
          4.630901,
          4.551984,
          4.486202,
          4.461553,
          4.443478,
          4.445371,
          4.445499
         ],
         "marker": {
          "color": "rgb(100, 155, 0)",
          "size": 10
         },
         "mode": "lines+markers",
         "type": "scattermapbox"
        },
        {
         "lat": [
          46.789715,
          46.789713,
          46.789711,
          46.789716,
          46.789716,
          46.789703,
          46.789716,
          46.789711,
          46.789725,
          46.789725,
          46.789693,
          46.789693,
          46.789693,
          46.789693,
          46.789691,
          46.789691,
          46.789691,
          46.789691,
          46.7897
         ],
         "line": {
          "color": "rgb(150, 105, 0)",
          "width": 2
         },
         "lon": [
          4.449036,
          4.449081,
          4.449085,
          4.449088,
          4.449088,
          4.449096,
          4.449144,
          4.449104,
          4.449113,
          4.449113,
          4.449303,
          4.449303,
          4.449303,
          4.449303,
          4.449305,
          4.449305,
          4.449305,
          4.449305,
          4.44946
         ],
         "marker": {
          "color": "rgb(150, 105, 0)",
          "size": 10
         },
         "mode": "lines+markers",
         "type": "scattermapbox"
        },
        {
         "lat": [
          47.328989,
          47.328963,
          47.328961,
          47.328961,
          47.328961,
          47.328947,
          47.328947,
          47.328996,
          47.337872,
          47.346292,
          47.344121,
          47.373758,
          47.41073,
          47.402291,
          47.414206,
          47.417432,
          47.423782,
          47.456385,
          47.49764,
          47.506605,
          47.546004,
          47.605718,
          47.646428,
          47.672392,
          47.676522,
          47.712386,
          47.718602,
          47.740184,
          47.744403,
          47.761238
         ],
         "line": {
          "color": "rgb(200, 55, 0)",
          "width": 2
         },
         "lon": [
          6.130058,
          6.130061,
          6.130075,
          6.130075,
          6.130071,
          6.13011,
          6.13011,
          6.129002,
          6.214401,
          6.302934,
          6.299415,
          6.369937,
          6.526112,
          6.441337,
          6.576684,
          6.612755,
          6.686885,
          6.756743,
          6.817126,
          6.832817,
          6.863935,
          6.856987,
          6.911414,
          6.971411,
          6.983916,
          7.054769,
          7.144215,
          7.229576,
          7.263757,
          7.314077
         ],
         "marker": {
          "color": "rgb(200, 55, 0)",
          "size": 10
         },
         "mode": "lines+markers",
         "type": "scattermapbox"
        },
        {
         "lat": [
          47.777873,
          47.837531,
          47.89171,
          47.896633,
          47.956362,
          48.016833,
          48.076147,
          48.103424,
          48.130072,
          48.183437,
          48.239868,
          48.286307,
          48.29271,
          48.337428,
          48.394436,
          48.451827,
          48.482977,
          48.498966,
          48.539924
         ],
         "line": {
          "color": "rgb(0, 255, 0)",
          "width": 2
         },
         "lon": [
          7.398373,
          7.394485,
          7.376115,
          7.373025,
          7.367325,
          7.374619,
          7.385389,
          7.38262,
          7.366009,
          7.386688,
          7.408484,
          7.457627,
          7.465086,
          7.499835,
          7.475876,
          7.5074,
          7.549943,
          7.563913,
          7.581533
         ],
         "marker": {
          "color": "rgb(0, 255, 0)",
          "size": 10
         },
         "mode": "lines+markers",
         "type": "scattermapbox"
        },
        {
         "lat": [
          49.702988,
          49.702988,
          49.702988,
          49.703017,
          49.703017,
          49.703847,
          49.707561,
          49.735821,
          49.786202,
          49.842725,
          49.878744,
          49.879755,
          49.887244,
          49.910637,
          49.947265,
          49.989097,
          50.005681,
          50.063526,
          50.099659,
          50.15225,
          50.165587,
          50.203661,
          50.255883,
          50.311798,
          50.371487,
          50.368899,
          50.418426,
          50.474626,
          50.520914,
          50.552967,
          50.558746
         ],
         "line": {
          "color": "rgb(50, 205, 0)",
          "width": 2
         },
         "lon": [
          5.622984,
          5.622984,
          5.622984,
          5.623028,
          5.623028,
          5.623619,
          5.62141,
          5.57698,
          5.532996,
          5.51088,
          5.45706,
          5.450736,
          5.368939,
          5.29446,
          5.236924,
          5.233092,
          5.219851,
          5.19624,
          5.124816,
          5.074701,
          5.070756,
          5.06582,
          5.047331,
          5.020628,
          4.996075,
          4.998255,
          4.945573,
          4.91067,
          4.881197,
          4.848116,
          4.838869
         ],
         "marker": {
          "color": "rgb(50, 205, 0)",
          "size": 10
         },
         "mode": "lines+markers",
         "type": "scattermapbox"
        },
        {
         "lat": [
          50.576967,
          50.616174,
          50.652206,
          50.686291,
          50.706647,
          50.727441,
          50.771082,
          50.789695,
          50.792802,
          50.792819,
          50.794095,
          50.794116,
          50.794362,
          50.794391,
          50.794506,
          50.794532,
          50.794548,
          50.794578,
          50.794588
         ],
         "line": {
          "color": "rgb(100, 155, 0)",
          "width": 2
         },
         "lon": [
          4.815569,
          4.770597,
          4.695456,
          4.624286,
          4.609729,
          4.563476,
          4.502506,
          4.488492,
          4.482048,
          4.482004,
          4.479373,
          4.479333,
          4.478921,
          4.47885,
          4.478664,
          4.478623,
          4.478599,
          4.478569,
          4.478553
         ],
         "marker": {
          "color": "rgb(100, 155, 0)",
          "size": 10
         },
         "mode": "lines+markers",
         "type": "scattermapbox"
        },
        {
         "lat": [
          49.590092,
          49.590092,
          49.590092,
          49.590092,
          49.590129,
          49.590129,
          49.590092,
          49.580262,
          49.533862,
          49.5293,
          49.516244,
          49.467221,
          49.418063,
          49.384062,
          49.370983,
          49.326989,
          49.280549,
          49.230174,
          49.210533,
          49.200546,
          49.166825,
          49.120461,
          49.064234,
          49.054798,
          49.033792,
          48.985139,
          48.93947,
          48.905208,
          48.889051
         ],
         "line": {
          "color": "rgb(150, 105, 0)",
          "width": 2
         },
         "lon": [
          4.499575,
          4.499575,
          4.499557,
          4.499557,
          4.499585,
          4.499585,
          4.499557,
          4.483973,
          4.424192,
          4.42005,
          4.346781,
          4.316293,
          4.263573,
          4.228507,
          4.21586,
          4.165485,
          4.107296,
          4.068507,
          4.079477,
          4.106337,
          4.183792,
          4.243477,
          4.276053,
          4.287698,
          4.318314,
          4.350068,
          4.396908,
          4.44353,
          4.455943
         ],
         "marker": {
          "color": "rgb(150, 105, 0)",
          "size": 10
         },
         "mode": "lines+markers",
         "type": "scattermapbox"
        },
        {
         "lat": [
          48.854756,
          48.813769,
          48.771175,
          48.736917,
          48.72456,
          48.702079,
          48.677436,
          48.651873,
          48.63767,
          48.638599,
          48.620977,
          48.591576,
          48.546251,
          48.501391,
          48.500294,
          48.453224,
          48.404911,
          48.38569,
          48.385554,
          48.37528
         ],
         "line": {
          "color": "rgb(200, 55, 0)",
          "width": 2
         },
         "lon": [
          4.492277,
          4.550293,
          4.583135,
          4.60599,
          4.626485,
          4.672691,
          4.75779,
          4.840833,
          4.92039,
          4.919041,
          4.987961,
          5.031378,
          5.069605,
          5.105424,
          5.106711,
          5.150715,
          5.157128,
          5.15373,
          5.153829,
          5.156262
         ],
         "marker": {
          "color": "rgb(200, 55, 0)",
          "size": 10
         },
         "mode": "lines+markers",
         "type": "scattermapbox"
        },
        {
         "lat": [
          47.32715,
          47.32715,
          47.327135,
          47.327142,
          47.327135,
          47.327148,
          47.327183,
          47.327183,
          47.336815,
          47.343726,
          47.344321,
          47.344321,
          47.344321,
          47.344321,
          47.344341,
          47.344341,
          47.344331,
          47.344331,
          47.344331,
          47.34431,
          47.347031,
          47.374068,
          47.374146,
          47.404845,
          47.410249,
          47.4171,
          47.426076
         ],
         "line": {
          "color": "rgb(0, 255, 0)",
          "width": 2
         },
         "lon": [
          6.124531,
          6.124531,
          6.124539,
          6.124524,
          6.124539,
          6.124525,
          6.124529,
          6.124529,
          6.15788,
          6.246504,
          6.255238,
          6.255237,
          6.255235,
          6.255235,
          6.255339,
          6.255339,
          6.255378,
          6.255378,
          6.255378,
          6.255225,
          6.304209,
          6.361111,
          6.375667,
          6.445004,
          6.529433,
          6.615541,
          6.64794
         ],
         "marker": {
          "color": "rgb(0, 255, 0)",
          "size": 10
         },
         "mode": "lines+markers",
         "type": "scattermapbox"
        },
        {
         "lat": [
          47.425829,
          47.442619,
          47.443109,
          47.442703,
          47.443108,
          47.443108,
          47.443108,
          47.443127,
          47.443119,
          47.443115,
          47.443115,
          47.443105,
          47.443114,
          47.443114,
          47.443102,
          47.443101,
          47.443101
         ],
         "line": {
          "color": "rgb(50, 205, 0)",
          "width": 2
         },
         "lon": [
          6.689482,
          6.732402,
          6.732394,
          6.730988,
          6.732394,
          6.732394,
          6.732394,
          6.732388,
          6.732397,
          6.732394,
          6.732394,
          6.732396,
          6.732401,
          6.732401,
          6.732394,
          6.732503,
          6.732503
         ],
         "marker": {
          "color": "rgb(50, 205, 0)",
          "size": 10
         },
         "mode": "lines+markers",
         "type": "scattermapbox"
        },
        {
         "lat": [
          47.4431,
          47.4431,
          47.4431,
          47.444735
         ],
         "line": {
          "color": "rgb(100, 155, 0)",
          "width": 2
         },
         "lon": [
          6.7324,
          6.7324,
          6.7324,
          6.738362
         ],
         "marker": {
          "color": "rgb(100, 155, 0)",
          "size": 10
         },
         "mode": "lines+markers",
         "type": "scattermapbox"
        },
        {
         "lat": [
          47.482943,
          47.525593,
          47.577711,
          47.577711,
          47.577711,
          47.577684,
          47.577679,
          47.577682,
          47.577657,
          47.577667,
          47.577671,
          47.577671,
          47.577709,
          47.577681,
          47.577723,
          47.577718,
          47.577718,
          47.577688,
          47.577683,
          47.577682,
          47.577673,
          47.577691,
          47.577667,
          47.577704,
          47.577696,
          47.57769,
          47.577676,
          47.577685,
          47.577696,
          47.577708,
          47.577708,
          47.5753,
          47.5702,
          47.5702
         ],
         "line": {
          "color": "rgb(150, 105, 0)",
          "width": 2
         },
         "lon": [
          6.801864,
          6.856876,
          7.565145,
          7.565145,
          7.565145,
          7.565171,
          7.565192,
          7.565174,
          7.565184,
          7.565199,
          7.565202,
          7.565189,
          7.565197,
          7.565185,
          7.565137,
          7.565146,
          7.565146,
          7.565176,
          7.56517,
          7.565174,
          7.565146,
          7.565167,
          7.565168,
          7.56519,
          7.565194,
          7.565186,
          7.565175,
          7.565186,
          7.565174,
          7.565103,
          7.565103,
          7.56177,
          7.58273,
          7.58273
         ],
         "marker": {
          "color": "rgb(150, 105, 0)",
          "size": 10
         },
         "mode": "lines+markers",
         "type": "scattermapbox"
        },
        {
         "lat": [
          47.5702,
          47.5702,
          47.5702,
          47.5702,
          47.5702,
          47.5702,
          47.5702,
          47.5702,
          47.5702,
          47.572643,
          47.572738,
          47.573369,
          47.573456,
          47.57344,
          47.574151,
          47.57415,
          47.526211,
          47.52733,
          47.540828,
          47.558248,
          47.5704,
          47.5704,
          47.5704,
          47.570574,
          47.57063
         ],
         "line": {
          "color": "rgb(200, 55, 0)",
          "width": 2
         },
         "lon": [
          7.58273,
          7.58273,
          7.58273,
          7.58273,
          7.58273,
          7.58273,
          7.58273,
          7.58273,
          7.58273,
          7.598649,
          7.598621,
          7.598601,
          7.598636,
          7.598631,
          7.599963,
          7.600092,
          7.713198,
          7.677364,
          7.632601,
          7.61365,
          7.60397,
          7.60397,
          7.60397,
          7.603787,
          7.603755
         ],
         "marker": {
          "color": "rgb(200, 55, 0)",
          "size": 10
         },
         "mode": "lines+markers",
         "type": "scattermapbox"
        },
        {
         "lat": [
          47.570761,
          47.570787,
          47.573028,
          47.573069,
          47.496238,
          47.449463,
          47.394955,
          47.3784,
          47.34578,
          47.30979,
          47.311989,
          47.305917,
          47.305971,
          47.312728,
          47.7749,
          47.774888,
          47.774844,
          47.774839,
          47.774823
         ],
         "line": {
          "color": "blue",
          "width": 2
         },
         "lon": [
          7.603672,
          7.60365,
          7.602018,
          7.601987,
          7.767398,
          7.803097,
          7.81483,
          7.81608,
          7.83574,
          7.830932,
          7.895991,
          7.92894,
          7.929169,
          7.920223,
          7.37837,
          7.378388,
          7.378466,
          7.378458,
          7.378481
         ],
         "marker": {
          "color": "blue",
          "size": 10
         },
         "mode": "lines+markers",
         "type": "scattermapbox"
        },
        {
         "lat": [
          47.774837,
          47.774848,
          47.774845,
          47.774829,
          47.774818,
          47.774825,
          47.774818,
          47.774814,
          47.774886,
          47.774884,
          47.774871,
          47.774889,
          47.774882,
          47.774883,
          47.774891,
          47.774892,
          47.77488,
          47.774874,
          47.774889,
          47.774895,
          47.774888,
          47.7749,
          47.7749,
          47.7749,
          47.774877,
          47.774877,
          47.774866,
          47.775462,
          47.775426,
          47.770914,
          47.770815,
          47.770736,
          47.779104,
          47.778064,
          47.778073,
          47.778825,
          47.777247,
          47.777171,
          47.768119,
          47.759598,
          47.759466,
          47.759599,
          47.773172
         ],
         "line": {
          "color": "rgb(50, 205, 0)",
          "width": 2
         },
         "lon": [
          7.378452,
          7.378468,
          7.37846,
          7.378453,
          7.378458,
          7.378458,
          7.378466,
          7.378473,
          7.37842,
          7.378457,
          7.378402,
          7.378426,
          7.378408,
          7.378416,
          7.378428,
          7.378441,
          7.378415,
          7.378429,
          7.378424,
          7.378442,
          7.378456,
          7.37842,
          7.37842,
          7.37842,
          7.378477,
          7.378477,
          7.378498,
          7.379359,
          7.379431,
          7.386615,
          7.386752,
          7.387412,
          7.366657,
          7.353339,
          7.353157,
          7.335161,
          7.331351,
          7.331195,
          7.305333,
          7.279765,
          7.279686,
          7.27976,
          7.225186
         ],
         "marker": {
          "color": "rgb(50, 205, 0)",
          "size": 10
         },
         "mode": "lines+markers",
         "type": "scattermapbox"
        },
        {
         "lat": [
          49.369909,
          49.369914,
          49.369909,
          49.369914,
          49.369921,
          49.369907,
          49.369907
         ],
         "line": {
          "color": "blue",
          "width": 2
         },
         "lon": [
          3.467461,
          3.467459,
          3.467461,
          3.467459,
          3.467465,
          3.467521,
          3.467521
         ],
         "marker": {
          "color": "blue",
          "size": 10
         },
         "mode": "lines+markers",
         "type": "scattermapbox"
        },
        {
         "lat": [
          49.369731,
          49.362409,
          49.369983,
          49.369996,
          49.369982,
          49.370128,
          49.365391,
          49.383791,
          49.396192,
          49.39587,
          49.397452,
          49.398103,
          49.398123,
          49.39811,
          49.404238,
          49.403911,
          49.422475,
          49.399077,
          49.400471,
          49.39392,
          49.394088,
          49.392215,
          49.391501,
          49.356232,
          49.321868,
          49.324124,
          49.310365,
          49.304415,
          49.28715,
          49.281636,
          49.281594,
          49.281529,
          49.281508,
          49.281073,
          49.281017,
          49.280946,
          49.280906,
          49.280808,
          49.280812,
          49.280756,
          49.280378,
          49.280365,
          49.280364
         ],
         "line": {
          "color": "rgb(150, 105, 0)",
          "width": 2
         },
         "lon": [
          3.467769,
          3.407279,
          3.357571,
          3.357469,
          3.357571,
          3.356957,
          3.311547,
          3.261017,
          3.179895,
          3.105029,
          3.055748,
          3.045908,
          3.045753,
          3.045936,
          3.004855,
          2.957121,
          2.893263,
          2.867377,
          2.822991,
          2.792278,
          2.792224,
          2.789062,
          2.788454,
          2.757807,
          2.690736,
          2.607519,
          2.547121,
          2.525873,
          2.502946,
          2.501344,
          2.501286,
          2.501196,
          2.501155,
          2.500937,
          2.500995,
          2.501048,
          2.501075,
          2.501114,
          2.501107,
          2.501106,
          2.50046,
          2.50043,
          2.500429
         ],
         "marker": {
          "color": "rgb(150, 105, 0)",
          "size": 10
         },
         "mode": "lines+markers",
         "type": "scattermapbox"
        },
        {
         "lat": [
          50.4762,
          50.4762
         ],
         "line": {
          "color": "rgb(200, 55, 0)",
          "width": 2
         },
         "lon": [
          4.48337,
          4.48337
         ],
         "marker": {
          "color": "rgb(200, 55, 0)",
          "size": 10
         },
         "mode": "lines+markers",
         "type": "scattermapbox"
        },
        {
         "lat": [
          50.4762,
          50.4762,
          50.4762,
          50.476228,
          50.476228,
          50.476301,
          50.481703,
          50.473589,
          50.423992,
          50.407628,
          50.407631,
          50.407631,
          50.407636,
          50.407907,
          50.408353,
          50.408352,
          50.408339,
          50.408348,
          50.408354,
          50.408355,
          50.408315,
          50.408356,
          50.408417,
          50.408333,
          50.408417,
          50.408418,
          50.408433,
          50.408466,
          50.408466,
          50.408446,
          50.408423,
          50.408423,
          50.408423,
          50.408423,
          50.408485,
          50.408453,
          50.408485,
          50.408485,
          50.40846,
          50.40846,
          50.40846,
          50.40846,
          50.40846
         ],
         "line": {
          "color": "rgb(0, 255, 0)",
          "width": 2
         },
         "lon": [
          4.48337,
          4.48337,
          4.48337,
          4.48334,
          4.48334,
          4.482838,
          4.452,
          4.417355,
          4.451416,
          4.42376,
          4.423714,
          4.423708,
          4.423666,
          4.418232,
          4.408848,
          4.408948,
          4.409021,
          4.408924,
          4.40889,
          4.408879,
          4.408906,
          4.408769,
          4.408201,
          4.408876,
          4.408195,
          4.40819,
          4.408214,
          4.407982,
          4.407982,
          4.408177,
          4.408212,
          4.408212,
          4.408212,
          4.408212,
          4.407627,
          4.408113,
          4.407627,
          4.407627,
          4.407655,
          4.407658,
          4.407658,
          4.407658,
          4.407658
         ],
         "marker": {
          "color": "rgb(0, 255, 0)",
          "size": 10
         },
         "mode": "lines+markers",
         "type": "scattermapbox"
        },
        {
         "lat": [
          50.40848,
          50.40848,
          50.408499,
          50.408499,
          50.408499
         ],
         "line": {
          "color": "rgb(50, 205, 0)",
          "width": 2
         },
         "lon": [
          4.407535,
          4.407535,
          4.407384,
          4.407385,
          4.407385
         ],
         "marker": {
          "color": "rgb(50, 205, 0)",
          "size": 10
         },
         "mode": "lines+markers",
         "type": "scattermapbox"
        },
        {
         "lat": [
          46.789173,
          46.7891,
          46.7891,
          46.789176,
          46.789176,
          46.789298,
          46.789358,
          46.789737,
          46.789569,
          46.789738,
          46.7897,
          46.789765,
          46.789766,
          46.789766,
          46.789761,
          46.789766,
          46.789761,
          46.789766,
          46.789763,
          46.789761,
          46.789771,
          46.789771,
          46.7898,
          46.7898,
          46.7898,
          46.789761,
          46.789776,
          46.789907,
          46.789907,
          46.789907,
          46.789904,
          46.789908,
          46.789908,
          46.789908,
          46.789926,
          46.789926,
          46.789912,
          46.785724,
          46.785869,
          46.7858,
          46.785723,
          46.785715,
          46.785706
         ],
         "line": {
          "color": "rgb(100, 155, 0)",
          "width": 2
         },
         "lon": [
          4.444755,
          4.44479,
          4.44479,
          4.444737,
          4.444737,
          4.444377,
          4.444414,
          4.448792,
          4.446766,
          4.448791,
          4.44875,
          4.449251,
          4.449205,
          4.449205,
          4.44924,
          4.449205,
          4.449239,
          4.449205,
          4.448831,
          4.449239,
          4.449318,
          4.449318,
          4.44925,
          4.44925,
          4.44925,
          4.449248,
          4.449254,
          4.450188,
          4.450188,
          4.450188,
          4.450183,
          4.450186,
          4.450186,
          4.450186,
          4.450272,
          4.450272,
          4.45078,
          4.450704,
          4.451021,
          4.45072,
          4.450704,
          4.450696,
          4.450691
         ],
         "marker": {
          "color": "rgb(100, 155, 0)",
          "size": 10
         },
         "mode": "lines+markers",
         "type": "scattermapbox"
        },
        {
         "lat": [
          46.785712
         ],
         "line": {
          "color": "rgb(150, 105, 0)",
          "width": 2
         },
         "lon": [
          4.450684
         ],
         "marker": {
          "color": "rgb(150, 105, 0)",
          "size": 10
         },
         "mode": "lines+markers",
         "type": "scattermapbox"
        },
        {
         "lat": [
          46.785712,
          46.785712,
          46.785712,
          46.785719,
          46.785728,
          46.785731
         ],
         "line": {
          "color": "rgb(200, 55, 0)",
          "width": 2
         },
         "lon": [
          4.450684,
          4.450684,
          4.450684,
          4.450724,
          4.450685,
          4.450697
         ],
         "marker": {
          "color": "rgb(200, 55, 0)",
          "size": 10
         },
         "mode": "lines+markers",
         "type": "scattermapbox"
        },
        {
         "lat": [
          49.347036,
          49.347036,
          49.347039,
          49.347039,
          49.347036,
          49.347036,
          49.347116,
          49.347116
         ],
         "line": {
          "color": "blue",
          "width": 2
         },
         "lon": [
          4.190375,
          4.190375,
          4.190347,
          4.190347,
          4.19034,
          4.190339,
          4.190409,
          4.190409
         ],
         "marker": {
          "color": "blue",
          "size": 10
         },
         "mode": "lines+markers",
         "type": "scattermapbox"
        },
        {
         "lat": [
          49.347403,
          49.391077,
          49.412271,
          49.442051,
          49.48625,
          49.51933,
          49.553694,
          49.55346,
          49.599918
         ],
         "line": {
          "color": "rgb(50, 205, 0)",
          "width": 2
         },
         "lon": [
          4.190736,
          4.235595,
          4.257942,
          4.281165,
          4.343957,
          4.384416,
          4.453393,
          4.452874,
          4.511409
         ],
         "marker": {
          "color": "rgb(50, 205, 0)",
          "size": 10
         },
         "mode": "lines+markers",
         "type": "scattermapbox"
        },
        {
         "lat": [
          49.643054,
          49.666081,
          49.691495,
          49.71124,
          49.759654,
          49.787611,
          49.828322
         ],
         "line": {
          "color": "rgb(100, 155, 0)",
          "width": 2
         },
         "lon": [
          4.575476,
          4.642033,
          4.677846,
          4.700241,
          4.651974,
          4.571326,
          4.511768
         ],
         "marker": {
          "color": "rgb(100, 155, 0)",
          "size": 10
         },
         "mode": "lines+markers",
         "type": "scattermapbox"
        },
        {
         "lat": [
          49.837756,
          49.881362,
          49.937489,
          49.964094,
          49.964177,
          50.039395,
          50.027302,
          49.977919,
          50.082391,
          50.098513,
          50.098471,
          50.128665,
          50.144471,
          50.1445,
          50.14449,
          50.144494,
          50.144574,
          50.169176,
          50.222447,
          50.24049,
          50.273497,
          50.31038,
          50.343113,
          50.343119
         ],
         "line": {
          "color": "rgb(150, 105, 0)",
          "width": 2
         },
         "lon": [
          4.512576,
          4.515086,
          4.535134,
          4.53536,
          4.535389,
          4.508096,
          4.516064,
          4.5391,
          4.514058,
          4.505071,
          4.505143,
          4.494177,
          4.504324,
          4.504335,
          4.504337,
          4.50434,
          4.504315,
          4.522436,
          4.512206,
          4.51344,
          4.503391,
          4.47995,
          4.473438,
          4.473432
         ],
         "marker": {
          "color": "rgb(150, 105, 0)",
          "size": 10
         },
         "mode": "lines+markers",
         "type": "scattermapbox"
        },
        {
         "lat": [
          51.794482,
          51.794502,
          51.794507,
          51.794502,
          51.794508,
          51.794504,
          51.794497,
          51.794503,
          51.794526,
          51.794527,
          51.794527,
          51.794532,
          51.794509,
          51.794483,
          51.794494,
          51.794501,
          51.794501,
          51.794501,
          51.794502,
          51.794501,
          51.7945,
          51.7945,
          51.794497
         ],
         "line": {
          "color": "rgb(200, 55, 0)",
          "width": 2
         },
         "lon": [
          4.61748,
          4.61759,
          4.61752,
          4.617509,
          4.617485,
          4.617491,
          4.617498,
          4.617488,
          4.617484,
          4.617483,
          4.617483,
          4.617505,
          4.617488,
          4.61753,
          4.617482,
          4.617493,
          4.617493,
          4.617493,
          4.617503,
          4.617489,
          4.61749,
          4.617493,
          4.617497
         ],
         "marker": {
          "color": "rgb(200, 55, 0)",
          "size": 10
         },
         "mode": "lines+markers",
         "type": "scattermapbox"
        },
        {
         "lat": [
          51.7945,
          51.79449,
          51.794519,
          51.794496,
          51.794496,
          51.794496,
          51.794492,
          51.794492,
          51.794474,
          51.794492,
          51.7945,
          51.7945,
          51.794487,
          51.794489,
          51.794492,
          51.794488,
          51.794488,
          51.793708
         ],
         "line": {
          "color": "rgb(0, 255, 0)",
          "width": 2
         },
         "lon": [
          4.61748,
          4.617487,
          4.617495,
          4.617516,
          4.617516,
          4.617516,
          4.617491,
          4.617491,
          4.617512,
          4.617495,
          4.61751,
          4.61751,
          4.617508,
          4.617496,
          4.617509,
          4.617486,
          4.617486,
          4.617031
         ],
         "marker": {
          "color": "rgb(0, 255, 0)",
          "size": 10
         },
         "mode": "lines+markers",
         "type": "scattermapbox"
        },
        {
         "lat": [
          51.793658,
          51.792017,
          51.781696,
          51.772465,
          51.772509,
          51.772542,
          51.772462,
          51.772461,
          51.745633,
          51.691747,
          51.65952,
          51.653667,
          51.610754,
          51.557431,
          51.508395,
          51.507241,
          51.499844,
          51.442377,
          51.399174,
          51.376386,
          51.376297,
          51.299798,
          51.308715,
          51.308804,
          51.28584,
          51.284985
         ],
         "line": {
          "color": "rgb(50, 205, 0)",
          "width": 2
         },
         "lon": [
          4.616997,
          4.616952,
          4.605576,
          4.638305,
          4.638206,
          4.638358,
          4.645852,
          4.64599,
          4.63819,
          4.639589,
          4.579373,
          4.571199,
          4.502579,
          4.457187,
          4.402689,
          4.362714,
          4.313716,
          4.312832,
          4.287171,
          4.304203,
          4.304285,
          4.335946,
          4.326294,
          4.326168,
          4.35073,
          4.347904
         ],
         "marker": {
          "color": "rgb(50, 205, 0)",
          "size": 10
         },
         "mode": "lines+markers",
         "type": "scattermapbox"
        },
        {
         "lat": [
          51.284986,
          51.284986,
          51.284986,
          51.284986,
          51.284985,
          51.287159,
          51.287171,
          51.28735,
          51.287371,
          51.284954,
          51.285757,
          51.285836,
          51.285837,
          51.317019,
          51.317002,
          51.365194,
          51.365194,
          51.365194,
          51.365194,
          51.365123,
          51.365123,
          51.358078,
          51.35804,
          51.357855,
          51.357176,
          51.357183,
          51.357183,
          51.357189,
          51.357191,
          51.357192,
          51.357194,
          51.357189,
          51.357189,
          51.3572,
          51.3572,
          51.3572,
          51.3572,
          51.357191,
          51.356977,
          51.35694,
          51.356898,
          51.356835,
          51.356417,
          51.356525,
          51.356415,
          51.356386,
          51.35749,
          51.357475,
          51.357444,
          51.357444
         ],
         "line": {
          "color": "rgb(100, 155, 0)",
          "width": 2
         },
         "lon": [
          4.347919,
          4.347919,
          4.347919,
          4.347919,
          4.347918,
          4.346162,
          4.346081,
          4.345966,
          4.345957,
          4.349022,
          4.350594,
          4.350709,
          4.350711,
          4.346014,
          4.345924,
          4.252562,
          4.252562,
          4.252562,
          4.252577,
          4.252684,
          4.252684,
          4.257488,
          4.257456,
          4.257241,
          4.256104,
          4.256123,
          4.256133,
          4.256158,
          4.256161,
          4.256161,
          4.256158,
          4.25617,
          4.25617,
          4.25616,
          4.25616,
          4.25616,
          4.25616,
          4.256023,
          4.25564,
          4.255614,
          4.255574,
          4.255508,
          4.255324,
          4.255318,
          4.255325,
          4.255352,
          4.258909,
          4.258898,
          4.258865,
          4.258868
         ],
         "marker": {
          "color": "rgb(100, 155, 0)",
          "size": 10
         },
         "mode": "lines+markers",
         "type": "scattermapbox"
        },
        {
         "lat": [
          51.357445,
          51.357445,
          51.357444,
          51.357444,
          51.357444,
          51.357444,
          51.357918,
          51.357923,
          51.35788,
          51.35788,
          51.35788,
          51.35788,
          51.357663
         ],
         "line": {
          "color": "rgb(150, 105, 0)",
          "width": 2
         },
         "lon": [
          4.258864,
          4.258864,
          4.258877,
          4.258877,
          4.258877,
          4.258877,
          4.258948,
          4.258902,
          4.259069,
          4.259069,
          4.259069,
          4.259069,
          4.259554
         ],
         "marker": {
          "color": "rgb(150, 105, 0)",
          "size": 10
         },
         "mode": "lines+markers",
         "type": "scattermapbox"
        },
        {
         "lat": [
          52.214028,
          52.214028,
          52.214031,
          52.214031,
          52.214013,
          52.214013,
          52.214009,
          52.214042,
          52.214031,
          52.214038,
          52.213987,
          52.212607,
          52.212613,
          52.210342,
          52.21023,
          52.210839,
          52.216923,
          52.216856,
          52.218956,
          52.218861,
          52.231423,
          52.252214,
          52.265422,
          52.311688,
          52.357455,
          52.40115,
          52.416554,
          52.423365,
          52.428138,
          52.42688,
          52.412643,
          52.406471,
          52.392418,
          52.377982
         ],
         "line": {
          "color": "rgb(200, 55, 0)",
          "width": 2
         },
         "lon": [
          8.87805,
          8.87805,
          8.878055,
          8.878055,
          8.878098,
          8.878098,
          8.878108,
          8.878087,
          8.878055,
          8.877835,
          8.877804,
          8.876398,
          8.87628,
          8.875316,
          8.875286,
          8.881478,
          8.969863,
          8.976507,
          9.057101,
          9.153091,
          9.240244,
          9.297864,
          9.316701,
          9.379216,
          9.431407,
          9.49582,
          9.523862,
          9.58238,
          9.670577,
          9.768564,
          9.847153,
          9.860089,
          9.939763,
          10.035762
         ],
         "marker": {
          "color": "rgb(200, 55, 0)",
          "size": 10
         },
         "mode": "lines+markers",
         "type": "scattermapbox"
        },
        {
         "lat": [
          52.362943,
          52.351074,
          52.340581,
          52.337765,
          52.335143,
          52.325312,
          52.325289,
          52.323692,
          52.323716,
          52.323672,
          52.313761,
          52.313196,
          52.309746,
          52.308094,
          52.311173,
          52.290784
         ],
         "line": {
          "color": "rgb(0, 255, 0)",
          "width": 2
         },
         "lon": [
          10.131937,
          10.19866,
          10.222299,
          10.320692,
          10.419567,
          10.471516,
          10.471595,
          10.478282,
          10.478188,
          10.47838,
          10.521809,
          10.538735,
          10.619518,
          10.717834,
          10.814098,
          10.883354
         ],
         "marker": {
          "color": "rgb(0, 255, 0)",
          "size": 10
         },
         "mode": "lines+markers",
         "type": "scattermapbox"
        },
        {
         "lat": [
          53.719125,
          53.719117,
          53.719117,
          53.719107,
          53.71913,
          53.71913,
          53.718692,
          53.718748,
          53.717692,
          53.717602,
          53.717205,
          53.759925,
          53.812796,
          53.847394,
          53.851751,
          53.895109,
          53.933635,
          53.929554,
          53.911825,
          53.912101,
          53.918942,
          53.908062,
          53.909462,
          53.909542,
          53.907055,
          53.907042,
          53.907054,
          53.907524,
          53.907471,
          53.907611,
          53.907521,
          53.907612
         ],
         "line": {
          "color": "rgb(50, 205, 0)",
          "width": 2
         },
         "lon": [
          9.760522,
          9.760601,
          9.760602,
          9.760621,
          9.760527,
          9.760527,
          9.759228,
          9.759157,
          9.757171,
          9.757082,
          9.757651,
          9.708332,
          9.664795,
          9.591672,
          9.584286,
          9.516479,
          9.480586,
          9.40834,
          9.332669,
          9.330426,
          9.238171,
          9.186106,
          9.180319,
          9.180135,
          9.172561,
          9.17252,
          9.172563,
          9.173882,
          9.174022,
          9.174286,
          9.173885,
          9.174286
         ],
         "marker": {
          "color": "rgb(50, 205, 0)",
          "size": 10
         },
         "mode": "lines+markers",
         "type": "scattermapbox"
        },
        {
         "lat": [
          53.907612,
          53.907616,
          53.907624,
          53.907584,
          53.907584,
          53.9076,
          53.9076,
          53.907614,
          53.905581,
          53.905624,
          53.905578,
          53.905578,
          53.905602,
          53.905509,
          53.905509,
          53.905533,
          53.905533
         ],
         "line": {
          "color": "rgb(100, 155, 0)",
          "width": 2
         },
         "lon": [
          9.174286,
          9.174295,
          9.174269,
          9.17428,
          9.17428,
          9.17427,
          9.17427,
          9.174275,
          9.169657,
          9.169736,
          9.169652,
          9.169651,
          9.169658,
          9.169614,
          9.169614,
          9.169655,
          9.169655
         ],
         "marker": {
          "color": "rgb(100, 155, 0)",
          "size": 10
         },
         "mode": "lines+markers",
         "type": "scattermapbox"
        },
        {
         "lat": [
          51.488407,
          51.488407,
          51.488407,
          51.488407,
          51.488407,
          51.4884,
          51.488407,
          51.488389,
          51.488387,
          51.488391,
          51.488387,
          51.48838,
          51.48838,
          51.487432,
          51.487396,
          51.487289,
          51.487262,
          51.487088,
          51.451834,
          51.39365,
          51.396293,
          51.347489,
          51.30772,
          51.277859,
          51.257773,
          51.255868,
          51.226299,
          51.226281,
          51.226279,
          51.226216,
          51.22392
         ],
         "line": {
          "color": "rgb(150, 105, 0)",
          "width": 2
         },
         "lon": [
          4.740862,
          4.740862,
          4.740862,
          4.740862,
          4.740862,
          4.74086,
          4.740862,
          4.74087,
          4.740836,
          4.740879,
          4.740836,
          4.740821,
          4.740821,
          4.738005,
          4.737877,
          4.737532,
          4.737452,
          4.736555,
          4.720617,
          4.678793,
          4.682406,
          4.623038,
          4.554179,
          4.506157,
          4.428562,
          4.427367,
          4.446134,
          4.446156,
          4.446158,
          4.446237,
          4.448863
         ],
         "marker": {
          "color": "rgb(150, 105, 0)",
          "size": 10
         },
         "mode": "lines+markers",
         "type": "scattermapbox"
        },
        {
         "lat": [
          51.222669,
          51.222622,
          51.22261,
          51.222587,
          51.222582,
          51.222512,
          51.220291,
          51.220232,
          51.220021,
          51.219996,
          51.219978,
          51.219915,
          51.218704,
          51.218624,
          51.219191
         ],
         "line": {
          "color": "rgb(200, 55, 0)",
          "width": 2
         },
         "lon": [
          4.449844,
          4.449876,
          4.449887,
          4.449898,
          4.449901,
          4.449945,
          4.450795,
          4.450805,
          4.450832,
          4.450832,
          4.450833,
          4.45084,
          4.450814,
          4.450798,
          4.450852
         ],
         "marker": {
          "color": "rgb(200, 55, 0)",
          "size": 10
         },
         "mode": "lines+markers",
         "type": "scattermapbox"
        },
        {
         "lat": [
          51.217344
         ],
         "line": {
          "color": "rgb(0, 255, 0)",
          "width": 2
         },
         "lon": [
          4.450452
         ],
         "marker": {
          "color": "rgb(0, 255, 0)",
          "size": 10
         },
         "mode": "lines+markers",
         "type": "scattermapbox"
        },
        {
         "lat": [
          51.212635,
          51.209366
         ],
         "line": {
          "color": "rgb(50, 205, 0)",
          "width": 2
         },
         "lon": [
          4.446765,
          4.44379
         ],
         "marker": {
          "color": "rgb(50, 205, 0)",
          "size": 10
         },
         "mode": "lines+markers",
         "type": "scattermapbox"
        },
        {
         "lat": [
          49.413962,
          49.413995,
          49.413995,
          49.413997,
          49.414022,
          49.414,
          49.414
         ],
         "line": {
          "color": "rgb(100, 155, 0)",
          "width": 2
         },
         "lon": [
          2.693437,
          2.693458,
          2.693458,
          2.693457,
          2.693452,
          2.69346,
          2.69346
         ],
         "marker": {
          "color": "rgb(100, 155, 0)",
          "size": 10
         },
         "mode": "lines+markers",
         "type": "scattermapbox"
        },
        {
         "lat": [
          49.394442
         ],
         "line": {
          "color": "rgb(150, 105, 0)",
          "width": 2
         },
         "lon": [
          2.698123
         ],
         "marker": {
          "color": "rgb(150, 105, 0)",
          "size": 10
         },
         "mode": "lines+markers",
         "type": "scattermapbox"
        },
        {
         "lat": [
          49.35988,
          49.334537,
          49.278641,
          49.226665,
          49.188889,
          49.16913,
          49.136075,
          49.077745,
          49.018553,
          48.973655,
          48.970449,
          48.913177,
          48.875035,
          48.843519,
          48.816996,
          48.813432,
          48.7802,
          48.72904,
          48.705928,
          48.660079,
          48.667402,
          48.623583,
          48.59769,
          48.565371,
          48.554067,
          48.554032,
          48.547549,
          48.544078,
          48.483938,
          48.423423,
          48.363659,
          48.33708,
          48.303943,
          48.243331,
          48.182425,
          48.121668,
          48.12126,
          48.060305,
          47.99994,
          47.940308,
          47.908059,
          47.900498
         ],
         "line": {
          "color": "rgb(200, 55, 0)",
          "width": 2
         },
         "lon": [
          2.703005,
          2.693453,
          2.695809,
          2.649583,
          2.603719,
          2.599235,
          2.565061,
          2.551572,
          2.532718,
          2.487134,
          2.482313,
          2.476676,
          2.439493,
          2.413788,
          2.365196,
          2.354469,
          2.346224,
          2.305859,
          2.249873,
          2.185071,
          2.19176,
          2.135725,
          2.05426,
          1.976543,
          1.930166,
          1.92998,
          1.913441,
          1.907822,
          1.912788,
          1.900485,
          1.880227,
          1.866874,
          1.86165,
          1.851179,
          1.853988,
          1.851302,
          1.851243,
          1.844744,
          1.851214,
          1.848263,
          1.849474,
          1.813299
         ],
         "marker": {
          "color": "rgb(200, 55, 0)",
          "size": 10
         },
         "mode": "lines+markers",
         "type": "scattermapbox"
        },
        {
         "lat": [
          45.173921,
          45.173921,
          45.173921,
          45.173914,
          45.173921
         ],
         "line": {
          "color": "rgb(0, 255, 0)",
          "width": 2
         },
         "lon": [
          -0.335943,
          -0.335943,
          -0.335943,
          -0.335962,
          -0.335953
         ],
         "marker": {
          "color": "rgb(0, 255, 0)",
          "size": 10
         },
         "mode": "lines+markers",
         "type": "scattermapbox"
        },
        {
         "lat": [
          45.173926,
          45.173907,
          45.173902,
          45.173914,
          45.173917,
          45.173916,
          45.173909,
          45.173909,
          45.173913,
          45.173938,
          45.17393,
          45.173944,
          45.173944,
          45.173944,
          45.17393,
          45.173914,
          45.173893,
          45.173909,
          45.173909,
          45.1736,
          45.173916,
          45.17389,
          45.173935,
          45.173935,
          45.173936,
          45.173932,
          45.173909,
          45.173909,
          45.173904,
          45.152342,
          45.094087,
          44.982728,
          45.020909,
          45.038731,
          44.932731,
          44.885316,
          44.828923,
          44.830772,
          44.78766,
          44.778545,
          44.778566,
          44.778669,
          44.790214
         ],
         "line": {
          "color": "rgb(50, 205, 0)",
          "width": 2
         },
         "lon": [
          -0.335955,
          -0.335951,
          -0.335967,
          -0.335986,
          -0.335932,
          -0.335957,
          -0.335946,
          -0.335946,
          -0.335961,
          -0.335963,
          -0.335916,
          -0.335932,
          -0.335932,
          -0.335932,
          -0.33591,
          -0.335948,
          -0.335947,
          -0.335951,
          -0.335951,
          -0.335656,
          -0.335933,
          -0.335924,
          -0.335972,
          -0.335972,
          -0.335971,
          -0.33596,
          -0.335875,
          -0.335875,
          -0.335937,
          -0.360563,
          -0.380997,
          -0.428918,
          -0.425401,
          -0.41448,
          -0.468205,
          -0.512074,
          -0.503378,
          -0.501548,
          -0.541342,
          -0.566887,
          -0.567021,
          -0.567604,
          -0.608986
         ],
         "marker": {
          "color": "rgb(50, 205, 0)",
          "size": 10
         },
         "mode": "lines+markers",
         "type": "scattermapbox"
        },
        {
         "lat": [
          44.769169,
          44.728505,
          44.728214,
          44.683456,
          44.640743,
          44.583633,
          44.546888,
          44.523969,
          44.466653,
          44.407506,
          44.353343,
          44.345079,
          44.305785,
          44.246338,
          44.190501,
          44.145322,
          44.136664,
          44.078347,
          44.019005,
          43.968668,
          43.949013,
          43.921116,
          43.870022,
          43.825744,
          43.770166,
          43.76978
         ],
         "line": {
          "color": "rgb(100, 155, 0)",
          "width": 2
         },
         "lon": [
          -0.664973,
          -0.728805,
          -0.729212,
          -0.785578,
          -0.841536,
          -0.837986,
          -0.83332,
          -0.837895,
          -0.819439,
          -0.818658,
          -0.856403,
          -0.861844,
          -0.883514,
          -0.905776,
          -0.937619,
          -0.969297,
          -0.977208,
          -1.004122,
          -1.016866,
          -1.064321,
          -1.075416,
          -1.113559,
          -1.146409,
          -1.186864,
          -1.219245,
          -1.219433
         ],
         "marker": {
          "color": "rgb(100, 155, 0)",
          "size": 10
         },
         "mode": "lines+markers",
         "type": "scattermapbox"
        },
        {
         "lat": [
          41.2597,
          41.2597,
          41.259686,
          41.259683,
          41.259681,
          41.259681,
          41.259733,
          41.259713,
          41.258999,
          41.221286,
          41.172694,
          41.137404,
          41.080631,
          41.070302,
          41.022597,
          40.969839,
          40.924152,
          40.876647,
          40.870884,
          40.819386,
          40.767923
         ],
         "line": {
          "color": "rgb(150, 105, 0)",
          "width": 2
         },
         "lon": [
          -3.59598,
          -3.59598,
          -3.59598,
          -3.595988,
          -3.596,
          -3.596,
          -3.596222,
          -3.596207,
          -3.595774,
          -3.586248,
          -3.582601,
          -3.582246,
          -3.599489,
          -3.606199,
          -3.625425,
          -3.640557,
          -3.618784,
          -3.600132,
          -3.604606,
          -3.615622,
          -3.605816
         ],
         "marker": {
          "color": "rgb(150, 105, 0)",
          "size": 10
         },
         "mode": "lines+markers",
         "type": "scattermapbox"
        },
        {
         "lat": [
          40.721999,
          40.687114,
          40.670872,
          40.625633,
          40.582658,
          40.583687,
          40.583706,
          40.584611,
          40.558731,
          40.543091,
          40.53931,
          40.538254,
          40.5378,
          40.537779,
          40.537749,
          40.537727,
          40.537397,
          40.537366,
          40.537347,
          40.537351,
          40.537349,
          40.537349,
          40.537349,
          40.537184,
          40.5374,
          40.5374,
          40.5374,
          40.5374,
          40.5374
         ],
         "line": {
          "color": "rgb(200, 55, 0)",
          "width": 2
         },
         "lon": [
          -3.577641,
          -3.607146,
          -3.610603,
          -3.586919,
          -3.580744,
          -3.566294,
          -3.566215,
          -3.560252,
          -3.514991,
          -3.472765,
          -3.470311,
          -3.440658,
          -3.437963,
          -3.437925,
          -3.43792,
          -3.437932,
          -3.438082,
          -3.438088,
          -3.438101,
          -3.438093,
          -3.438092,
          -3.438092,
          -3.438092,
          -3.437919,
          -3.43809,
          -3.43809,
          -3.43809,
          -3.43809,
          -3.43809
         ],
         "marker": {
          "color": "rgb(200, 55, 0)",
          "size": 10
         },
         "mode": "lines+markers",
         "type": "scattermapbox"
        },
        {
         "lat": [
          42.24666,
          42.24666,
          42.246656,
          42.246656,
          42.246623,
          42.246623,
          42.256163,
          42.302106,
          42.329927,
          42.349333,
          42.36589,
          42.407612,
          42.446838,
          42.481418,
          42.483994,
          42.508538,
          42.545628,
          42.58956,
          42.620689,
          42.622697,
          42.638148
         ],
         "line": {
          "color": "rgb(0, 255, 0)",
          "width": 2
         },
         "lon": [
          -3.703113,
          -3.703113,
          -3.703116,
          -3.703116,
          -3.70309,
          -3.70309,
          -3.699629,
          -3.702884,
          -3.648743,
          -3.603209,
          -3.59016,
          -3.539111,
          -3.483877,
          -3.418668,
          -3.39899,
          -3.347318,
          -3.290589,
          -3.23455,
          -3.181314,
          -3.166114,
          -3.103943
         ],
         "marker": {
          "color": "rgb(0, 255, 0)",
          "size": 10
         },
         "mode": "lines+markers",
         "type": "scattermapbox"
        },
        {
         "lat": [
          42.658133,
          42.695522,
          42.704729,
          42.705907,
          42.741104,
          42.7834,
          42.824939,
          42.832216,
          42.872195,
          42.879477,
          42.879555,
          42.898279,
          42.922676,
          42.965784,
          42.9656,
          43.012769,
          43.049057,
          43.088529,
          43.103394,
          43.101465,
          43.0892,
          43.065742,
          43.050189,
          43.063796,
          43.059507,
          43.094332,
          43.130542,
          43.181831,
          43.223942
         ],
         "line": {
          "color": "rgb(50, 205, 0)",
          "width": 2
         },
         "lon": [
          -3.045311,
          -2.981813,
          -2.934872,
          -2.902517,
          -2.864741,
          -2.82344,
          -2.766758,
          -2.755343,
          -2.719378,
          -2.694239,
          -2.694331,
          -2.705546,
          -2.657015,
          -2.607585,
          -2.60772,
          -2.55378,
          -2.495134,
          -2.434754,
          -2.395977,
          -2.392361,
          -2.35496,
          -2.282606,
          -2.221797,
          -2.167879,
          -2.170998,
          -2.116862,
          -2.072506,
          -2.051897,
          -2.025627
         ],
         "marker": {
          "color": "rgb(50, 205, 0)",
          "size": 10
         },
         "mode": "lines+markers",
         "type": "scattermapbox"
        },
        {
         "lat": [
          46.769038,
          46.769038,
          46.769038,
          46.769038,
          46.768982,
          46.769048,
          46.769048,
          46.770342,
          46.81972,
          46.857834,
          46.910631,
          46.928502,
          46.965276,
          47.020268,
          47.073781,
          47.113823,
          47.114957,
          47.11505,
          47.115219
         ],
         "line": {
          "color": "blue",
          "width": 2
         },
         "lon": [
          -1.177974,
          -1.177974,
          -1.177974,
          -1.177974,
          -1.177981,
          -1.177936,
          -1.177936,
          -1.179616,
          -1.216866,
          -1.280692,
          -1.321293,
          -1.336559,
          -1.359566,
          -1.396739,
          -1.438754,
          -1.490637,
          -1.491514,
          -1.491563,
          -1.491726
         ],
         "marker": {
          "color": "blue",
          "size": 10
         },
         "mode": "lines+markers",
         "type": "scattermapbox"
        },
        {
         "lat": [
          47.166989,
          47.213263,
          47.252444,
          47.26164,
          47.262332,
          47.262377
         ],
         "line": {
          "color": "rgb(150, 105, 0)",
          "width": 2
         },
         "lon": [
          -1.512761,
          -1.482422,
          -1.51324,
          -1.564973,
          -1.566438,
          -1.566548
         ],
         "marker": {
          "color": "rgb(150, 105, 0)",
          "size": 10
         },
         "mode": "lines+markers",
         "type": "scattermapbox"
        },
        {
         "lat": [
          47.263813,
          47.279694,
          47.329353,
          47.38637,
          47.446697
         ],
         "line": {
          "color": "rgb(200, 55, 0)",
          "width": 2
         },
         "lon": [
          -1.578461,
          -1.601541,
          -1.649615,
          -1.643534,
          -1.641153
         ],
         "marker": {
          "color": "rgb(200, 55, 0)",
          "size": 10
         },
         "mode": "lines+markers",
         "type": "scattermapbox"
        },
        {
         "lat": [
          47.455853,
          47.507678,
          47.567441,
          47.625821,
          47.660637,
          47.676544,
          47.733448
         ],
         "line": {
          "color": "rgb(0, 255, 0)",
          "width": 2
         },
         "lon": [
          -1.640318,
          -1.639007,
          -1.633893,
          -1.643178,
          -1.678741,
          -1.691684,
          -1.712579
         ],
         "marker": {
          "color": "rgb(0, 255, 0)",
          "size": 10
         },
         "mode": "lines+markers",
         "type": "scattermapbox"
        },
        {
         "lat": [
          47.790206,
          47.847539,
          47.867517,
          47.904709,
          47.951595,
          48.001756,
          48.062301,
          48.078202
         ],
         "line": {
          "color": "rgb(50, 205, 0)",
          "width": 2
         },
         "lon": [
          -1.694339,
          -1.695813,
          -1.690801,
          -1.685065,
          -1.679252,
          -1.692824,
          -1.678528,
          -1.674666
         ],
         "marker": {
          "color": "rgb(50, 205, 0)",
          "size": 10
         },
         "mode": "lines+markers",
         "type": "scattermapbox"
        },
        {
         "lat": [
          48.093086
         ],
         "line": {
          "color": "rgb(100, 155, 0)",
          "width": 2
         },
         "lon": [
          -1.708406
         ],
         "marker": {
          "color": "rgb(100, 155, 0)",
          "size": 10
         },
         "mode": "lines+markers",
         "type": "scattermapbox"
        },
        {
         "lat": [
          48.129833,
          48.159486,
          48.172641
         ],
         "line": {
          "color": "rgb(150, 105, 0)",
          "width": 2
         },
         "lon": [
          -1.753207,
          -1.831351,
          -1.915434
         ],
         "marker": {
          "color": "rgb(150, 105, 0)",
          "size": 10
         },
         "mode": "lines+markers",
         "type": "scattermapbox"
        },
        {
         "lat": [
          48.178014
         ],
         "line": {
          "color": "rgb(200, 55, 0)",
          "width": 2
         },
         "lon": [
          -1.924901
         ],
         "marker": {
          "color": "rgb(200, 55, 0)",
          "size": 10
         },
         "mode": "lines+markers",
         "type": "scattermapbox"
        },
        {
         "lat": [
          46.572933,
          46.572933,
          46.572933,
          46.572933,
          46.572921,
          46.572888,
          46.572888,
          46.554199,
          46.544855,
          46.533424,
          46.533351,
          46.517805,
          46.478436,
          46.434885,
          46.384748,
          46.355096,
          46.330951,
          46.289229,
          46.243804,
          46.222726,
          46.186375
         ],
         "line": {
          "color": "rgb(0, 255, 0)",
          "width": 2
         },
         "lon": [
          -1.114762,
          -1.114762,
          -1.114762,
          -1.114762,
          -1.114773,
          -1.114738,
          -1.114738,
          -1.095521,
          -1.085777,
          -1.079339,
          -1.079259,
          -1.087381,
          -1.112024,
          -1.09909,
          -1.092617,
          -1.086265,
          -1.081524,
          -1.082764,
          -1.075374,
          -1.127021,
          -1.150871
         ],
         "marker": {
          "color": "rgb(0, 255, 0)",
          "size": 10
         },
         "mode": "lines+markers",
         "type": "scattermapbox"
        },
        {
         "lat": [
          46.183399,
          46.183226,
          46.179131,
          46.165358,
          46.16162,
          46.161559
         ],
         "line": {
          "color": "rgb(50, 205, 0)",
          "width": 2
         },
         "lon": [
          -1.152481,
          -1.152525,
          -1.156028,
          -1.193897,
          -1.205043,
          -1.204935
         ],
         "marker": {
          "color": "rgb(50, 205, 0)",
          "size": 10
         },
         "mode": "lines+markers",
         "type": "scattermapbox"
        },
        {
         "lat": [
          46.161434,
          46.161439,
          46.161564
         ],
         "line": {
          "color": "rgb(100, 155, 0)",
          "width": 2
         },
         "lon": [
          -1.203086,
          -1.203073,
          -1.204978
         ],
         "marker": {
          "color": "rgb(100, 155, 0)",
          "size": 10
         },
         "mode": "lines+markers",
         "type": "scattermapbox"
        },
        {
         "lat": [
          46.176444,
          46.173519,
          46.169943,
          46.169913,
          46.168634
         ],
         "line": {
          "color": "rgb(150, 105, 0)",
          "width": 2
         },
         "lon": [
          -1.166139,
          -1.198935,
          -1.206427,
          -1.206529,
          -1.212702
         ],
         "marker": {
          "color": "rgb(150, 105, 0)",
          "size": 10
         },
         "mode": "lines+markers",
         "type": "scattermapbox"
        },
        {
         "lat": [
          46.160526,
          46.160675,
          46.160602,
          46.160653,
          46.160666,
          46.160653,
          46.160653,
          46.160672,
          46.160651,
          46.160689,
          46.160689,
          46.160684,
          46.160684
         ],
         "line": {
          "color": "rgb(200, 55, 0)",
          "width": 2
         },
         "lon": [
          -1.203278,
          -1.204624,
          -1.204543,
          -1.204596,
          -1.204616,
          -1.204606,
          -1.204606,
          -1.204629,
          -1.204624,
          -1.204644,
          -1.204644,
          -1.204633,
          -1.204633
         ],
         "marker": {
          "color": "rgb(200, 55, 0)",
          "size": 10
         },
         "mode": "lines+markers",
         "type": "scattermapbox"
        },
        {
         "lat": [
          49.07353,
          49.07353,
          49.073529,
          49.0735,
          49.073526,
          49.073526,
          49.07351,
          49.073553,
          49.073553,
          49.073545,
          49.073546,
          49.073525,
          49.073549,
          49.073549,
          49.073544,
          49.073531,
          49.073533,
          49.073542,
          49.073547,
          49.073525,
          49.073521,
          49.073528
         ],
         "line": {
          "color": "rgb(0, 255, 0)",
          "width": 2
         },
         "lon": [
          2.553128,
          2.553128,
          2.553127,
          2.55312,
          2.553129,
          2.553129,
          2.553126,
          2.553136,
          2.553136,
          2.553113,
          2.553111,
          2.55314,
          2.553135,
          2.553135,
          2.553151,
          2.553157,
          2.553147,
          2.553142,
          2.55314,
          2.553138,
          2.553135,
          2.553113
         ],
         "marker": {
          "color": "rgb(0, 255, 0)",
          "size": 10
         },
         "mode": "lines+markers",
         "type": "scattermapbox"
        },
        {
         "lat": [
          49.073528,
          49.073528,
          49.073516,
          49.073516,
          49.073518,
          49.0736,
          49.07355
         ],
         "line": {
          "color": "rgb(50, 205, 0)",
          "width": 2
         },
         "lon": [
          2.553113,
          2.553113,
          2.553123,
          2.553123,
          2.553116,
          2.55309,
          2.553154
         ],
         "marker": {
          "color": "rgb(50, 205, 0)",
          "size": 10
         },
         "mode": "lines+markers",
         "type": "scattermapbox"
        },
        {
         "lat": [
          49.073544,
          49.073544,
          49.073543,
          49.073563,
          49.073563,
          49.073564,
          49.073552,
          49.073534,
          49.07353,
          49.073558,
          49.073513,
          49.073513,
          49.073533,
          49.073543,
          49.07355,
          49.07357,
          49.073532,
          49.073542,
          49.073545,
          49.073531,
          49.073541,
          49.073541,
          49.073541,
          49.073541,
          49.073539,
          49.0736,
          49.073546,
          49.073567,
          49.073567,
          49.073549,
          49.073549,
          49.073534,
          49.0735,
          49.0735,
          49.073549,
          49.073549,
          49.073549,
          49.073654,
          49.073654,
          49.073654,
          49.073654,
          49.073643,
          49.0735,
          49.073534,
          49.073529,
          49.07352,
          49.073552,
          49.073552,
          49.073977,
          49.074109
         ],
         "line": {
          "color": "rgb(100, 155, 0)",
          "width": 2
         },
         "lon": [
          2.553138,
          2.553138,
          2.553148,
          2.553089,
          2.553089,
          2.553099,
          2.553116,
          2.553122,
          2.553123,
          2.553146,
          2.553121,
          2.553135,
          2.553115,
          2.553136,
          2.553144,
          2.553139,
          2.553131,
          2.55314,
          2.55315,
          2.553157,
          2.553131,
          2.553131,
          2.553131,
          2.553131,
          2.553137,
          2.55316,
          2.553158,
          2.553131,
          2.553131,
          2.553143,
          2.553143,
          2.553153,
          2.55314,
          2.55314,
          2.553124,
          2.553124,
          2.553124,
          2.553232,
          2.553232,
          2.553232,
          2.553232,
          2.553215,
          2.5531,
          2.553138,
          2.553147,
          2.553128,
          2.553032,
          2.553032,
          2.552483,
          2.552402
         ],
         "marker": {
          "color": "rgb(100, 155, 0)",
          "size": 10
         },
         "mode": "lines+markers",
         "type": "scattermapbox"
        },
        {
         "lat": [
          49.082054,
          49.139674,
          49.191298,
          49.225884,
          49.229253,
          49.281984
         ],
         "line": {
          "color": "blue",
          "width": 2
         },
         "lon": [
          2.551547,
          2.570049,
          2.603448,
          2.648801,
          2.653289,
          2.695151
         ],
         "marker": {
          "color": "blue",
          "size": 10
         },
         "mode": "lines+markers",
         "type": "scattermapbox"
        },
        {
         "lat": [
          49.342096,
          49.582525,
          49.522679,
          49.462545,
          49.430003,
          49.402069,
          49.622973,
          49.622956,
          49.622956,
          49.622963,
          49.622963,
          49.622956,
          49.623
         ],
         "line": {
          "color": "rgb(200, 55, 0)",
          "width": 2
         },
         "lon": [
          2.697228,
          2.746142,
          2.721497,
          2.705461,
          2.69561,
          2.695663,
          2.756292,
          2.756267,
          2.756252,
          2.756255,
          2.756259,
          2.756252,
          2.75626
         ],
         "marker": {
          "color": "rgb(200, 55, 0)",
          "size": 10
         },
         "mode": "lines+markers",
         "type": "scattermapbox"
        },
        {
         "lat": [
          49.622963,
          49.622963,
          49.623079,
          49.623079,
          49.622984,
          49.622984,
          49.62296,
          49.642032,
          49.663117
         ],
         "line": {
          "color": "rgb(0, 255, 0)",
          "width": 2
         },
         "lon": [
          2.756261,
          2.756261,
          2.756355,
          2.756355,
          2.756268,
          2.756268,
          2.756266,
          2.759056,
          2.767319
         ],
         "marker": {
          "color": "rgb(0, 255, 0)",
          "size": 10
         },
         "mode": "lines+markers",
         "type": "scattermapbox"
        },
        {
         "lat": [
          49.723393,
          50.656,
          50.612793,
          50.603053,
          50.603011,
          50.601442,
          50.601739,
          50.598812,
          51.244834,
          51.244834,
          51.244834,
          51.244841,
          51.244859,
          51.244859,
          51.246958,
          51.247462,
          51.247462,
          51.247464,
          51.247464,
          51.247372,
          51.247372,
          51.247372,
          51.247372,
          51.247475,
          51.24582,
          51.245784,
          51.24569,
          51.24569,
          51.245605,
          51.247356,
          51.247366,
          51.247173,
          51.247511,
          51.247513,
          51.247514,
          51.247514,
          51.247515,
          51.247515,
          51.24751,
          51.24751,
          51.24751,
          51.24751,
          51.247523,
          51.247528,
          51.247528,
          51.247765,
          51.247767,
          51.249338,
          51.24934,
          51.249341
         ],
         "line": {
          "color": "rgb(50, 205, 0)",
          "width": 2
         },
         "lon": [
          2.778733,
          3.289875,
          3.319121,
          3.275825,
          3.275608,
          3.244142,
          3.204788,
          3.153705,
          4.333491,
          4.333491,
          4.333491,
          4.333518,
          4.333451,
          4.333451,
          4.310818,
          4.306681,
          4.30668,
          4.306681,
          4.306681,
          4.307046,
          4.307046,
          4.307046,
          4.307046,
          4.306687,
          4.306558,
          4.306481,
          4.306295,
          4.306296,
          4.306214,
          4.307079,
          4.306987,
          4.307632,
          4.306615,
          4.306605,
          4.306618,
          4.306618,
          4.306616,
          4.306616,
          4.306617,
          4.306617,
          4.306617,
          4.306618,
          4.306606,
          4.306535,
          4.306535,
          4.306485,
          4.306594,
          4.318701,
          4.318705,
          4.318889
         ],
         "marker": {
          "color": "rgb(50, 205, 0)",
          "size": 10
         },
         "mode": "lines+markers",
         "type": "scattermapbox"
        },
        {
         "lat": [
          51.249229,
          51.249146,
          51.249141,
          51.228879,
          51.218148,
          51.218031,
          51.217773,
          51.217714
         ],
         "line": {
          "color": "rgb(100, 155, 0)",
          "width": 2
         },
         "lon": [
          4.319753,
          4.320311,
          4.320526,
          4.32419,
          4.351339,
          4.351333,
          4.351344,
          4.351345
         ],
         "marker": {
          "color": "rgb(100, 155, 0)",
          "size": 10
         },
         "mode": "lines+markers",
         "type": "scattermapbox"
        },
        {
         "lat": [
          48.510793,
          48.510793,
          48.510799,
          48.510799,
          48.510799,
          48.510799,
          48.5109,
          48.510865,
          48.510865,
          48.510865,
          48.510865,
          48.510808,
          48.510809,
          48.510835,
          48.510835,
          48.510851,
          48.510849,
          48.510849,
          48.510842,
          48.510791,
          48.510784,
          48.510784,
          48.510784,
          48.510783,
          48.510832,
          48.5108,
          48.510812,
          48.510812,
          48.510792,
          48.510827,
          48.510827,
          48.510827,
          48.510829,
          48.510782,
          48.510782,
          48.504834,
          48.49586,
          48.453868,
          48.400802,
          48.344462,
          48.298758
         ],
         "line": {
          "color": "rgb(150, 105, 0)",
          "width": 2
         },
         "lon": [
          5.91254,
          5.91254,
          5.912534,
          5.912534,
          5.912534,
          5.912534,
          5.91257,
          5.912513,
          5.912513,
          5.912513,
          5.912513,
          5.912533,
          5.912531,
          5.912511,
          5.912511,
          5.912516,
          5.912542,
          5.912542,
          5.912535,
          5.912523,
          5.912494,
          5.912494,
          5.912494,
          5.912491,
          5.912449,
          5.912493,
          5.912476,
          5.912476,
          5.912496,
          5.912501,
          5.912501,
          5.912501,
          5.912521,
          5.9124,
          5.9124,
          5.911367,
          5.907178,
          5.86803,
          5.880502,
          5.853976,
          5.857546
         ],
         "marker": {
          "color": "rgb(150, 105, 0)",
          "size": 10
         },
         "mode": "lines+markers",
         "type": "scattermapbox"
        },
        {
         "lat": [
          48.283736,
          48.22641,
          48.193408,
          48.159816,
          48.144082,
          48.107584,
          48.066368,
          48.020478,
          47.974844,
          47.967724,
          47.957765,
          47.948424,
          47.919585,
          47.906266,
          47.874028,
          47.814489,
          47.76326,
          47.702712,
          47.704542,
          47.644478,
          47.589056,
          47.528636,
          47.49592,
          47.46892,
          47.412686,
          47.354867,
          47.295042,
          47.289977,
          47.248086,
          47.239575,
          47.183443,
          47.145844,
          47.127836,
          47.074984,
          47.025337,
          46.968454,
          46.957906,
          46.909364
         ],
         "line": {
          "color": "rgb(200, 55, 0)",
          "width": 2
         },
         "lon": [
          5.855206,
          5.853503,
          5.776083,
          5.700329,
          5.685846,
          5.653672,
          5.590489,
          5.53062,
          5.497118,
          5.488011,
          5.406273,
          5.317636,
          5.248383,
          5.222864,
          5.219394,
          5.223618,
          5.187853,
          5.186835,
          5.18706,
          5.179105,
          5.20909,
          5.198876,
          5.188759,
          5.185322,
          5.177168,
          5.16224,
          5.165412,
          5.159784,
          5.10819,
          5.024842,
          4.999255,
          4.988909,
          4.970008,
          4.924485,
          4.873,
          4.838756,
          4.834855,
          4.820195
         ],
         "marker": {
          "color": "rgb(200, 55, 0)",
          "size": 10
         },
         "mode": "lines+markers",
         "type": "scattermapbox"
        },
        {
         "lat": [
          45.681605,
          45.681605,
          45.68159,
          45.681582,
          45.681667,
          45.681667,
          45.688675,
          45.73738,
          45.744585,
          45.795375,
          45.831533,
          45.849552
         ],
         "line": {
          "color": "rgb(0, 255, 0)",
          "width": 2
         },
         "lon": [
          4.15587,
          4.15587,
          4.155864,
          4.155862,
          4.155854,
          4.155854,
          4.156207,
          4.182062,
          4.176728,
          4.133012,
          4.152828,
          4.221387
         ],
         "marker": {
          "color": "rgb(0, 255, 0)",
          "size": 10
         },
         "mode": "lines+markers",
         "type": "scattermapbox"
        },
        {
         "lat": [
          45.867151,
          45.869082,
          45.8613,
          45.888806,
          45.878702,
          45.876148,
          45.876148
         ],
         "line": {
          "color": "rgb(50, 205, 0)",
          "width": 2
         },
         "lon": [
          4.265229,
          4.280727,
          4.31959,
          4.408362,
          4.471747,
          4.529247,
          4.529247
         ],
         "marker": {
          "color": "rgb(50, 205, 0)",
          "size": 10
         },
         "mode": "lines+markers",
         "type": "scattermapbox"
        },
        {
         "lat": [
          45.875039,
          45.864482,
          45.830343,
          45.833922
         ],
         "line": {
          "color": "blue",
          "width": 2
         },
         "lon": [
          4.542856,
          4.625321,
          4.686136,
          4.746354
         ],
         "marker": {
          "color": "blue",
          "size": 10
         },
         "mode": "lines+markers",
         "type": "scattermapbox"
        },
        {
         "lat": [
          45.855746,
          45.873592,
          45.933074,
          45.972937,
          45.973013,
          45.975775,
          46.033449,
          46.062171,
          46.092233,
          46.149218,
          46.208669,
          46.270497,
          46.266757,
          46.323401
         ],
         "line": {
          "color": "rgb(150, 105, 0)",
          "width": 2
         },
         "lon": [
          4.742674,
          4.74038,
          4.728556,
          4.733295,
          4.73336,
          4.73447,
          4.725933,
          4.737855,
          4.744969,
          4.770365,
          4.783433,
          4.788454,
          4.789763,
          4.804091
         ],
         "marker": {
          "color": "rgb(150, 105, 0)",
          "size": 10
         },
         "mode": "lines+markers",
         "type": "scattermapbox"
        },
        {
         "lat": [
          46.374712,
          46.429775,
          46.471785,
          46.487405,
          46.543634,
          46.596746,
          46.648166,
          46.666824,
          46.707811,
          46.766779,
          46.82597,
          46.878872,
          46.885301
         ],
         "line": {
          "color": "rgb(200, 55, 0)",
          "width": 2
         },
         "lon": [
          4.842594,
          4.869105,
          4.883876,
          4.894249,
          4.917605,
          4.893167,
          4.859646,
          4.850992,
          4.841409,
          4.823506,
          4.831056,
          4.819009,
          4.82003
         ],
         "marker": {
          "color": "rgb(200, 55, 0)",
          "size": 10
         },
         "mode": "lines+markers",
         "type": "scattermapbox"
        },
        {
         "lat": [
          50.227748,
          50.227748,
          50.227748,
          50.227736,
          50.227753,
          50.227748,
          50.22776,
          50.227772,
          50.227772,
          50.227765,
          50.227732,
          50.227726,
          50.227726,
          50.250618,
          50.290098,
          50.325883,
          50.37096,
          50.371639,
          50.429835,
          50.487819,
          50.533545,
          50.56422,
          50.586189,
          50.599134,
          50.601682,
          50.603111,
          50.603133,
          50.614075,
          50.638655,
          50.662262,
          50.722763,
          50.774121,
          50.774432,
          50.774516,
          50.771317
         ],
         "line": {
          "color": "rgb(0, 255, 0)",
          "width": 2
         },
         "lon": [
          3.063589,
          3.063589,
          3.063589,
          3.063577,
          3.063625,
          3.0636,
          3.063591,
          3.063604,
          3.063604,
          3.063593,
          3.063585,
          3.063529,
          3.063529,
          3.018916,
          2.948,
          2.913287,
          2.970206,
          2.970746,
          2.981373,
          2.987622,
          3.048232,
          3.072031,
          3.093599,
          3.172158,
          3.261851,
          3.275617,
          3.275744,
          3.327732,
          3.304653,
          3.287604,
          3.295436,
          3.198495,
          3.261898,
          3.190539,
          3.198846
         ],
         "marker": {
          "color": "rgb(0, 255, 0)",
          "size": 10
         },
         "mode": "lines+markers",
         "type": "scattermapbox"
        },
        {
         "lat": [
          50.771586,
          50.771313,
          50.771313,
          50.771314,
          50.771318,
          50.771318,
          50.771291,
          50.771291,
          50.771318,
          50.772313,
          50.798519,
          50.800458,
          50.799667,
          50.799652,
          50.799582,
          50.7996,
          50.7996,
          50.799574,
          50.79958,
          50.799571,
          50.799571,
          50.799571,
          50.79958,
          50.799583,
          50.799559,
          50.799559,
          50.799559,
          50.799559,
          50.7996,
          50.7996,
          50.79961,
          50.79961,
          50.79961,
          50.79961,
          50.799588,
          50.799569,
          50.799572,
          50.799569,
          50.79957,
          50.799566,
          50.799575,
          50.799557,
          50.799557,
          50.799573,
          50.829091,
          50.791909,
          50.79953,
          50.79953,
          50.799559,
          50.799559
         ],
         "line": {
          "color": "rgb(50, 205, 0)",
          "width": 2
         },
         "lon": [
          3.199277,
          3.19884,
          3.19884,
          3.198833,
          3.19885,
          3.19885,
          3.198744,
          3.198744,
          3.19885,
          3.188174,
          3.249237,
          3.252012,
          3.250491,
          3.250492,
          3.250469,
          3.25045,
          3.25045,
          3.250442,
          3.250452,
          3.250435,
          3.250435,
          3.250435,
          3.250448,
          3.250454,
          3.250506,
          3.250506,
          3.250506,
          3.250506,
          3.25043,
          3.25043,
          3.250484,
          3.250484,
          3.250484,
          3.250484,
          3.250479,
          3.250455,
          3.250454,
          3.250441,
          3.250465,
          3.250482,
          3.250421,
          3.250394,
          3.250394,
          3.250403,
          3.197609,
          3.234711,
          3.25046,
          3.25046,
          3.250456,
          3.250456
         ],
         "marker": {
          "color": "rgb(50, 205, 0)",
          "size": 10
         },
         "mode": "lines+markers",
         "type": "scattermapbox"
        },
        {
         "lat": [
          50.7996,
          50.7996,
          50.829556,
          50.829608,
          50.829906,
          50.830047,
          50.835042,
          50.846619,
          50.846616,
          50.846616,
          50.846625,
          50.846624,
          50.846652,
          50.847486,
          50.844329,
          50.845064,
          50.844262,
          50.844263,
          50.844262,
          50.844263,
          50.844268,
          50.844268,
          50.844262,
          50.844288,
          50.844301,
          50.844299,
          50.844298,
          50.844289,
          50.844283,
          50.844283,
          50.844288,
          50.844283,
          50.844269,
          50.844271,
          50.84427,
          50.844261,
          50.844248,
          50.844292,
          50.844252,
          50.844253,
          50.844245,
          50.844231,
          50.844303,
          50.844221
         ],
         "line": {
          "color": "rgb(100, 155, 0)",
          "width": 2
         },
         "lon": [
          3.25046,
          3.25046,
          3.197148,
          3.197162,
          3.197232,
          3.197258,
          3.184089,
          3.176606,
          3.176599,
          3.176599,
          3.176631,
          3.17663,
          3.176699,
          3.17995,
          3.185954,
          3.186012,
          3.18365,
          3.183694,
          3.183699,
          3.183699,
          3.183704,
          3.183704,
          3.183703,
          3.185852,
          3.185814,
          3.185707,
          3.185671,
          3.185564,
          3.185643,
          3.185526,
          3.185561,
          3.185642,
          3.185409,
          3.185389,
          3.185384,
          3.185355,
          3.185031,
          3.185964,
          3.184989,
          3.185008,
          3.185047,
          3.183053,
          3.1859,
          3.183053
         ],
         "marker": {
          "color": "rgb(100, 155, 0)",
          "size": 10
         },
         "mode": "lines+markers",
         "type": "scattermapbox"
        },
        {
         "lat": [
          51.487919,
          51.487919,
          51.487919,
          51.487985,
          51.487974,
          51.487974,
          51.487928
         ],
         "line": {
          "color": "rgb(150, 105, 0)",
          "width": 2
         },
         "lon": [
          9.006851,
          9.006851,
          9.006851,
          9.006813,
          9.006834,
          9.006834,
          9.008218
         ],
         "marker": {
          "color": "rgb(150, 105, 0)",
          "size": 10
         },
         "mode": "lines+markers",
         "type": "scattermapbox"
        },
        {
         "lat": [
          51.487933,
          51.48788
         ],
         "line": {
          "color": "rgb(200, 55, 0)",
          "width": 2
         },
         "lon": [
          9.00834,
          9.007268
         ],
         "marker": {
          "color": "rgb(200, 55, 0)",
          "size": 10
         },
         "mode": "lines+markers",
         "type": "scattermapbox"
        },
        {
         "lat": [
          51.487837,
          51.487768,
          51.478232,
          51.450518,
          51.400259,
          51.402105,
          51.379255,
          51.325646,
          51.292329,
          51.271805,
          51.266385,
          51.260232,
          51.285554,
          51.283825,
          51.285552,
          51.28555,
          51.28549,
          51.285864,
          51.28005,
          51.280008,
          51.281011,
          51.28095,
          51.271883,
          51.274414,
          51.282062,
          51.282146,
          51.287823,
          51.287809,
          51.287757,
          51.287731,
          51.28773,
          51.28773,
          51.28773,
          51.287735,
          51.288126,
          51.288126,
          51.288126,
          51.288126,
          51.287739,
          51.289048,
          51.289045
         ],
         "line": {
          "color": "rgb(0, 255, 0)",
          "width": 2
         },
         "lon": [
          9.008543,
          9.008753,
          9.05366,
          9.131513,
          9.189187,
          9.181681,
          9.264579,
          9.281421,
          9.353319,
          9.416609,
          9.441964,
          9.51869,
          9.523025,
          9.520289,
          9.523035,
          9.52304,
          9.523131,
          9.537074,
          9.54746,
          9.547646,
          9.549287,
          9.549491,
          9.558133,
          9.59137,
          9.588327,
          9.588182,
          9.567385,
          9.567443,
          9.567612,
          9.567833,
          9.567831,
          9.567831,
          9.567831,
          9.567842,
          9.56834,
          9.56834,
          9.56834,
          9.56834,
          9.567846,
          9.56549,
          9.565516
         ],
         "marker": {
          "color": "rgb(0, 255, 0)",
          "size": 10
         },
         "mode": "lines+markers",
         "type": "scattermapbox"
        },
        {
         "lat": [
          52.2305,
          52.2305,
          52.2305,
          52.2305,
          52.2305,
          52.230482,
          52.230482,
          52.230468,
          52.230713,
          52.230734,
          52.230276,
          52.230318,
          52.230144,
          52.235238,
          52.210923,
          52.212824,
          52.185761,
          52.18108,
          52.198909,
          52.202402,
          52.219637,
          52.255431,
          52.284304,
          52.323034,
          52.358988,
          52.368258,
          52.397722,
          52.441232,
          52.481957
         ],
         "line": {
          "color": "blue",
          "width": 2
         },
         "lon": [
          6.21264,
          6.21264,
          6.21264,
          6.21264,
          6.21264,
          6.2126,
          6.2126,
          6.212686,
          6.212374,
          6.212407,
          6.212599,
          6.212524,
          6.212848,
          6.196239,
          6.100128,
          6.10483,
          6.015765,
          5.923481,
          5.830725,
          5.778164,
          5.779071,
          5.745301,
          5.691182,
          5.653867,
          5.623285,
          5.607021,
          5.579429,
          5.557358,
          5.502466
         ],
         "marker": {
          "color": "blue",
          "size": 10
         },
         "mode": "lines+markers",
         "type": "scattermapbox"
        },
        {
         "lat": [
          52.480504,
          52.48055,
          52.480425,
          52.480405,
          52.480397,
          52.480383,
          52.48047,
          52.480474,
          52.480524,
          52.479649,
          52.479642,
          52.479588,
          52.479565,
          52.479537,
          52.479562,
          52.479599,
          52.479606,
          52.479596,
          52.479596,
          52.479597
         ],
         "line": {
          "color": "rgb(100, 155, 0)",
          "width": 2
         },
         "lon": [
          5.496792,
          5.496868,
          5.496641,
          5.496598,
          5.496591,
          5.496527,
          5.496349,
          5.496343,
          5.496277,
          5.494646,
          5.494605,
          5.494475,
          5.494452,
          5.494353,
          5.494373,
          5.49436,
          5.494352,
          5.494354,
          5.494354,
          5.494351
         ],
         "marker": {
          "color": "rgb(100, 155, 0)",
          "size": 10
         },
         "mode": "lines+markers",
         "type": "scattermapbox"
        },
        {
         "lat": [
          51.698674,
          51.698674,
          51.698674,
          51.698662,
          51.698662,
          51.698662,
          51.698662,
          51.698655,
          51.6987,
          51.698655,
          51.698649,
          51.698649,
          51.698646,
          51.69864,
          51.698648,
          51.698648,
          51.698895,
          51.698934,
          51.697559,
          51.753303,
          51.812395,
          51.849062,
          51.862609,
          51.921628,
          51.981922,
          52.03466,
          52.053027,
          52.08861,
          52.132138,
          52.180312
         ],
         "line": {
          "color": "rgb(150, 105, 0)",
          "width": 2
         },
         "lon": [
          7.67343,
          7.67343,
          7.67343,
          7.673458,
          7.673458,
          7.673458,
          7.673458,
          7.673486,
          7.67347,
          7.673486,
          7.673471,
          7.673471,
          7.673451,
          7.673452,
          7.67353,
          7.67353,
          7.673422,
          7.673375,
          7.667723,
          7.645755,
          7.621363,
          7.581003,
          7.576135,
          7.557732,
          7.553405,
          7.604476,
          7.6161,
          7.6512,
          7.720485,
          7.781121
         ],
         "marker": {
          "color": "rgb(150, 105, 0)",
          "size": 10
         },
         "mode": "lines+markers",
         "type": "scattermapbox"
        },
        {
         "lat": [
          52.210666,
          52.214153,
          52.261079,
          52.316888,
          52.351215,
          52.378201,
          52.410916,
          52.470258
         ],
         "line": {
          "color": "rgb(200, 55, 0)",
          "width": 2
         },
         "lon": [
          7.847007,
          7.859676,
          7.922022,
          7.955953,
          8.031684,
          8.043913,
          8.03187,
          8.053865
         ],
         "marker": {
          "color": "rgb(200, 55, 0)",
          "size": 10
         },
         "mode": "lines+markers",
         "type": "scattermapbox"
        },
        {
         "lat": [
          52.52278,
          52.58283,
          52.583856,
          52.63997,
          52.699444,
          52.760164,
          52.789964
         ],
         "line": {
          "color": "rgb(0, 255, 0)",
          "width": 2
         },
         "lon": [
          8.106269,
          8.1097,
          8.10978,
          8.151009,
          8.173526,
          8.185914,
          8.202529
         ],
         "marker": {
          "color": "rgb(0, 255, 0)",
          "size": 10
         },
         "mode": "lines+markers",
         "type": "scattermapbox"
        },
        {
         "lat": [
          52.819529,
          52.874748,
          52.902325,
          52.914717,
          52.915096,
          52.908222,
          52.937318,
          52.965466,
          53.001781,
          53.006966,
          53.019563,
          53.03543,
          53.034046,
          53.053345,
          53.054702,
          53.079223,
          53.126717,
          53.179562,
          53.198491,
          53.226732,
          53.251819,
          53.290592,
          53.3211,
          53.323142,
          53.350146,
          53.370159,
          53.371651,
          53.3751,
          53.380303,
          53.416597
         ],
         "line": {
          "color": "rgb(50, 205, 0)",
          "width": 2
         },
         "lon": [
          8.212629,
          8.253478,
          8.343458,
          8.438121,
          8.445743,
          8.441721,
          8.508557,
          8.598745,
          8.680796,
          8.714435,
          8.778444,
          8.874222,
          8.967273,
          9.047637,
          9.06041,
          9.153208,
          9.214297,
          9.265337,
          9.292766,
          9.331252,
          9.423204,
          9.501624,
          9.583506,
          9.58824,
          9.680343,
          9.775941,
          9.877883,
          9.927947,
          9.97984,
          10.03067
         ],
         "marker": {
          "color": "rgb(50, 205, 0)",
          "size": 10
         },
         "mode": "lines+markers",
         "type": "scattermapbox"
        },
        {
         "lat": [
          53.47724,
          53.508424,
          53.507498,
          53.552392,
          53.593568
         ],
         "line": {
          "color": "rgb(100, 155, 0)",
          "width": 2
         },
         "lon": [
          10.022626,
          10.0923,
          10.087711,
          10.150691,
          10.219973
         ],
         "marker": {
          "color": "rgb(100, 155, 0)",
          "size": 10
         },
         "mode": "lines+markers",
         "type": "scattermapbox"
        },
        {
         "lat": [
          52.714394,
          52.695154,
          52.676995,
          52.688282,
          52.696328,
          52.707078,
          52.722054,
          52.720075,
          52.721876,
          52.721644,
          52.721362,
          52.734919,
          52.734819,
          52.734918
         ],
         "line": {
          "color": "rgb(150, 105, 0)",
          "width": 2
         },
         "lon": [
          7.645516,
          7.578957,
          7.503029,
          7.483069,
          7.429866,
          7.347015,
          7.269391,
          7.183756,
          7.15227,
          7.085679,
          6.907989,
          6.987189,
          6.989381,
          6.987362
         ],
         "marker": {
          "color": "rgb(150, 105, 0)",
          "size": 10
         },
         "mode": "lines+markers",
         "type": "scattermapbox"
        },
        {
         "lat": [
          52.724834,
          52.724882,
          52.723595,
          52.715943,
          52.714008,
          52.714009,
          52.714236,
          52.714009,
          52.714004,
          52.714004,
          52.714004,
          52.714008,
          52.714008,
          52.714014,
          52.714014,
          52.714015,
          52.714015,
          52.714015,
          52.714008,
          52.714008,
          52.714008,
          52.714008,
          52.714008,
          52.714008,
          52.713983,
          52.713983,
          52.713202,
          52.710408,
          52.70801,
          52.691328,
          52.67887,
          52.678019,
          52.627196,
          52.619464,
          52.561122,
          52.546119
         ],
         "line": {
          "color": "rgb(200, 55, 0)",
          "width": 2
         },
         "lon": [
          6.808518,
          6.804478,
          6.710722,
          6.639077,
          6.636939,
          6.636939,
          6.637813,
          6.636939,
          6.636952,
          6.636941,
          6.636941,
          6.636944,
          6.636944,
          6.636943,
          6.636943,
          6.636935,
          6.636935,
          6.636935,
          6.636935,
          6.636935,
          6.636935,
          6.636935,
          6.636935,
          6.636935,
          6.636847,
          6.636847,
          6.591798,
          6.493171,
          6.459031,
          6.401884,
          6.306473,
          6.20994,
          6.206104,
          6.207316,
          6.178544,
          6.168041
         ],
         "marker": {
          "color": "rgb(200, 55, 0)",
          "size": 10
         },
         "mode": "lines+markers",
         "type": "scattermapbox"
        },
        {
         "lat": [
          50.173443,
          50.173443,
          50.173443,
          50.173443,
          50.173443,
          50.173443,
          50.173434,
          50.173434,
          50.173452,
          50.1734,
          50.1734,
          50.1734
         ],
         "line": {
          "color": "blue",
          "width": 2
         },
         "lon": [
          2.873045,
          2.873057,
          2.873057,
          2.873057,
          2.873057,
          2.873057,
          2.873054,
          2.873058,
          2.873102,
          2.87311,
          2.87311,
          2.87311
         ],
         "marker": {
          "color": "blue",
          "size": 10
         },
         "mode": "lines+markers",
         "type": "scattermapbox"
        },
        {
         "lat": [
          49.144486,
          49.144486,
          49.144474,
          49.144479,
          49.144483,
          49.143265,
          49.144482,
          49.137777,
          49.168278,
          49.168395,
          49.168398,
          49.168366,
          49.144498,
          49.144498
         ],
         "line": {
          "color": "rgb(100, 155, 0)",
          "width": 2
         },
         "lon": [
          -0.405689,
          -0.405689,
          -0.405699,
          -0.405678,
          -0.405686,
          -0.403521,
          -0.405685,
          -0.369184,
          -0.302617,
          -0.275495,
          -0.275391,
          -0.275411,
          -0.405731,
          -0.405731
         ],
         "marker": {
          "color": "rgb(100, 155, 0)",
          "size": 10
         },
         "mode": "lines+markers",
         "type": "scattermapbox"
        },
        {
         "lat": [
          49.168349,
          49.168345,
          49.168331,
          49.168272,
          49.193957
         ],
         "line": {
          "color": "rgb(150, 105, 0)",
          "width": 2
         },
         "lon": [
          -0.275408,
          -0.275412,
          -0.275434,
          -0.260452,
          -0.186058
         ],
         "marker": {
          "color": "rgb(150, 105, 0)",
          "size": 10
         },
         "mode": "lines+markers",
         "type": "scattermapbox"
        },
        {
         "lat": [
          47.539123,
          47.539146,
          47.53915,
          47.539165,
          47.539125,
          47.539125,
          47.539106,
          47.539033,
          47.537425,
          47.490087,
          47.47781,
          47.480013,
          47.430445,
          47.376993,
          47.319217,
          47.314702,
          47.311696,
          47.306032,
          47.300781,
          47.288902,
          47.287039,
          47.28808,
          47.293839
         ],
         "line": {
          "color": "rgb(200, 55, 0)",
          "width": 2
         },
         "lon": [
          0.61484,
          0.614869,
          0.614845,
          0.614889,
          0.614875,
          0.614875,
          0.614871,
          0.614885,
          0.616983,
          0.666906,
          0.704376,
          0.749441,
          0.734911,
          0.714283,
          0.689357,
          0.688895,
          0.734914,
          0.815505,
          0.90549,
          0.980129,
          0.99377,
          1.082351,
          1.170663
         ],
         "marker": {
          "color": "rgb(200, 55, 0)",
          "size": 10
         },
         "mode": "lines+markers",
         "type": "scattermapbox"
        },
        {
         "lat": [
          47.294735,
          47.291879,
          47.30262,
          47.31677,
          47.332232,
          47.338594,
          47.339316,
          47.339376,
          47.31969,
          47.300707,
          47.295335,
          47.292555,
          47.289956,
          47.241573,
          47.199354,
          47.199899,
          47.15131,
          47.100696,
          47.095066,
          47.094964
         ],
         "line": {
          "color": "rgb(0, 255, 0)",
          "width": 2
         },
         "lon": [
          1.255518,
          1.290801,
          1.343679,
          1.430743,
          1.518395,
          1.599263,
          1.606411,
          1.696302,
          1.778037,
          1.863179,
          1.902647,
          1.951873,
          2.040546,
          2.076304,
          2.140684,
          2.139064,
          2.184397,
          2.225455,
          2.239607,
          2.239725
         ],
         "marker": {
          "color": "rgb(0, 255, 0)",
          "size": 10
         },
         "mode": "lines+markers",
         "type": "scattermapbox"
        },
        {
         "lat": [
          47.094205,
          47.094221,
          47.094323,
          47.094231,
          47.094332
         ],
         "line": {
          "color": "rgb(50, 205, 0)",
          "width": 2
         },
         "lon": [
          2.240633,
          2.240597,
          2.240408,
          2.240534,
          2.240418
         ],
         "marker": {
          "color": "rgb(50, 205, 0)",
          "size": 10
         },
         "mode": "lines+markers",
         "type": "scattermapbox"
        },
        {
         "lat": [
          47.81298,
          47.81298,
          47.81298,
          47.812965,
          47.812888,
          47.812888,
          47.842099,
          47.901724,
          47.948004,
          47.980348,
          47.9934,
          48.038844,
          48.075183,
          48.119953,
          48.161137,
          48.178943,
          48.230741,
          48.277705,
          48.316567,
          48.356166,
          48.360344,
          48.409315,
          48.455886,
          48.503864,
          48.537242,
          48.551581,
          48.600706,
          48.62076,
          48.640882,
          48.647358,
          48.653592,
          48.682335,
          48.705725,
          48.740196,
          48.74836,
          48.776033,
          48.82185,
          48.86649,
          48.912903,
          48.916781,
          48.95439
         ],
         "line": {
          "color": "rgb(100, 155, 0)",
          "width": 2
         },
         "lon": [
          5.225087,
          5.225087,
          5.225087,
          5.225074,
          5.225091,
          5.225091,
          5.232138,
          5.223678,
          5.178158,
          5.133276,
          5.123981,
          5.06537,
          5.078071,
          5.109843,
          5.122503,
          5.124617,
          5.118518,
          5.11224,
          5.115778,
          5.131751,
          5.137226,
          5.154609,
          5.142026,
          5.102502,
          5.088506,
          5.06263,
          5.033529,
          4.983917,
          4.911549,
          4.867349,
          4.824057,
          4.744202,
          4.660175,
          4.59373,
          4.59296,
          4.589242,
          4.53952,
          4.483767,
          4.4331,
          4.423076,
          4.389973
         ],
         "marker": {
          "color": "rgb(100, 155, 0)",
          "size": 10
         },
         "mode": "lines+markers",
         "type": "scattermapbox"
        },
        {
         "lat": [
          48.997843,
          49.04412,
          49.072973,
          49.085348,
          49.127104,
          49.172209,
          49.203983,
          49.242052,
          49.243459
         ],
         "line": {
          "color": "rgb(150, 105, 0)",
          "width": 2
         },
         "lon": [
          4.340294,
          4.324681,
          4.266968,
          4.261027,
          4.231821,
          4.171334,
          4.09262,
          4.079512,
          4.080357
         ],
         "marker": {
          "color": "rgb(150, 105, 0)",
          "size": 10
         },
         "mode": "lines+markers",
         "type": "scattermapbox"
        },
        {
         "lat": [
          51.27617,
          51.27617,
          51.276201,
          51.276201,
          51.276202,
          51.249093,
          51.476153,
          51.476181,
          51.476181,
          51.476181,
          51.475238,
          51.476173,
          51.472514,
          51.472512,
          51.478237,
          51.432164,
          51.381816,
          51.476138,
          51.476138,
          51.332817,
          51.331508,
          51.294874,
          51.267401,
          51.295709,
          51.313944,
          51.310752,
          51.272414,
          51.242527,
          51.47614,
          51.47614,
          51.476282,
          51.476376,
          51.473694,
          51.493365,
          51.490976,
          51.52618,
          51.554076,
          51.552374,
          51.539096,
          51.539727,
          51.547848
         ],
         "line": {
          "color": "rgb(200, 55, 0)",
          "width": 2
         },
         "lon": [
          4.206063,
          4.206063,
          4.206097,
          4.206097,
          4.206091,
          4.200874,
          4.727861,
          4.72785,
          4.72785,
          4.72785,
          4.726085,
          4.727851,
          4.727169,
          4.727235,
          4.730339,
          4.71196,
          4.66361,
          4.727848,
          4.727848,
          4.604674,
          4.602599,
          4.527797,
          4.450811,
          4.400959,
          4.354163,
          4.327075,
          4.278648,
          4.229923,
          4.727917,
          4.727917,
          4.7282,
          4.728249,
          4.725443,
          4.740224,
          4.738966,
          4.757899,
          4.84162,
          4.938305,
          5.020423,
          5.03048,
          5.119708
         ],
         "marker": {
          "color": "rgb(200, 55, 0)",
          "size": 10
         },
         "mode": "lines+markers",
         "type": "scattermapbox"
        },
        {
         "lat": [
          51.592638
         ],
         "line": {
          "color": "rgb(0, 255, 0)",
          "width": 2
         },
         "lon": [
          5.17103
         ],
         "marker": {
          "color": "rgb(0, 255, 0)",
          "size": 10
         },
         "mode": "lines+markers",
         "type": "scattermapbox"
        },
        {
         "lat": [
          51.592674,
          51.592638,
          51.626167,
          51.629795,
          51.629835,
          51.653977
         ],
         "line": {
          "color": "rgb(50, 205, 0)",
          "width": 2
         },
         "lon": [
          5.171099,
          5.171033,
          5.229935,
          5.237734,
          5.237858,
          5.28293
         ],
         "marker": {
          "color": "rgb(50, 205, 0)",
          "size": 10
         },
         "mode": "lines+markers",
         "type": "scattermapbox"
        },
        {
         "lat": [
          51.4887,
          51.4887,
          51.488697,
          51.4886,
          51.4886,
          51.4887,
          51.4887,
          51.488697
         ],
         "line": {
          "color": "rgb(100, 155, 0)",
          "width": 2
         },
         "lon": [
          4.739355,
          4.739355,
          4.739355,
          4.73926,
          4.73926,
          4.739355,
          4.739355,
          4.739355
         ],
         "marker": {
          "color": "rgb(100, 155, 0)",
          "size": 10
         },
         "mode": "lines+markers",
         "type": "scattermapbox"
        },
        {
         "lat": [
          51.4886,
          51.4886,
          51.4887,
          51.488726,
          51.488726
         ],
         "line": {
          "color": "rgb(150, 105, 0)",
          "width": 2
         },
         "lon": [
          4.73926,
          4.73926,
          4.739355,
          4.739345,
          4.739345
         ],
         "marker": {
          "color": "rgb(150, 105, 0)",
          "size": 10
         },
         "mode": "lines+markers",
         "type": "scattermapbox"
        },
        {
         "lat": [
          51.488785,
          51.488785,
          51.487394,
          51.487361,
          51.487243,
          51.48722,
          51.487048
         ],
         "line": {
          "color": "rgb(200, 55, 0)",
          "width": 2
         },
         "lon": [
          4.7394,
          4.7394,
          4.738056,
          4.737952,
          4.737586,
          4.737482,
          4.736566
         ],
         "marker": {
          "color": "rgb(200, 55, 0)",
          "size": 10
         },
         "mode": "lines+markers",
         "type": "scattermapbox"
        },
        {
         "lat": [
          51.486929,
          51.483386,
          51.483209,
          51.48344,
          51.445183,
          51.34164,
          51.376977,
          51.390914,
          51.302203,
          51.268358,
          51.236555,
          51.231191,
          51.191232,
          51.141193,
          51.080774,
          51.04419
         ],
         "line": {
          "color": "rgb(0, 255, 0)",
          "width": 2
         },
         "lon": [
          4.736376,
          4.734471,
          4.734377,
          4.7345,
          4.717587,
          4.616315,
          4.657325,
          4.675094,
          4.541512,
          4.468182,
          4.428313,
          4.438972,
          4.417474,
          4.428687,
          4.443559,
          4.452923
         ],
         "marker": {
          "color": "rgb(0, 255, 0)",
          "size": 10
         },
         "mode": "lines+markers",
         "type": "scattermapbox"
        },
        {
         "lat": [
          51.02055,
          50.966829,
          50.910511,
          50.872985,
          50.864369,
          50.864647,
          50.864785,
          50.865706,
          50.865706,
          50.858708,
          50.84796
         ],
         "line": {
          "color": "rgb(50, 205, 0)",
          "width": 2
         },
         "lon": [
          4.447507,
          4.490496,
          4.453232,
          4.465837,
          4.445328,
          4.44507,
          4.445042,
          4.451124,
          4.451288,
          4.448691,
          4.43987
         ],
         "marker": {
          "color": "rgb(50, 205, 0)",
          "size": 10
         },
         "mode": "lines+markers",
         "type": "scattermapbox"
        },
        {
         "lat": [
          50.847826,
          50.844991,
          50.844838,
          50.936009,
          50.936006,
          50.936005,
          50.936003,
          50.935999,
          50.935941,
          50.935941,
          50.904482,
          50.857753,
          50.830764,
          50.83065,
          50.830445,
          50.830376,
          50.8303,
          50.830198,
          50.830159,
          50.830065,
          50.830301,
          50.829995,
          50.829918,
          50.829832,
          50.829779,
          50.829771,
          50.829712,
          50.829571,
          50.829497,
          50.829386,
          50.829317,
          50.829198,
          50.829152,
          50.829193,
          50.82854,
          50.82846,
          50.828186,
          50.828145,
          50.828096,
          50.828043,
          50.827921,
          50.827848,
          50.827821,
          50.827745,
          50.826599,
          50.823718,
          50.823651,
          50.823015
         ],
         "line": {
          "color": "rgb(100, 155, 0)",
          "width": 2
         },
         "lon": [
          4.439768,
          4.438139,
          4.438096,
          4.47373,
          4.473733,
          4.473734,
          4.473739,
          4.473742,
          4.473749,
          4.473749,
          4.439433,
          4.475102,
          4.481783,
          4.481715,
          4.481574,
          4.481529,
          4.481477,
          4.481435,
          4.481401,
          4.48135,
          4.481472,
          4.481285,
          4.481219,
          4.481175,
          4.481128,
          4.481125,
          4.48108,
          4.480981,
          4.480938,
          4.48088,
          4.480819,
          4.480751,
          4.480702,
          4.480739,
          4.48033,
          4.480286,
          4.480112,
          4.48007,
          4.480032,
          4.48,
          4.479916,
          4.479887,
          4.479864,
          4.479819,
          4.479098,
          4.478621,
          4.478617,
          4.478499
         ],
         "marker": {
          "color": "rgb(100, 155, 0)",
          "size": 10
         },
         "mode": "lines+markers",
         "type": "scattermapbox"
        },
        {
         "lat": [
          50.822914,
          50.822852,
          50.822766,
          50.822008,
          50.822344
         ],
         "line": {
          "color": "rgb(150, 105, 0)",
          "width": 2
         },
         "lon": [
          4.478481,
          4.47848,
          4.478453,
          4.478149,
          4.478305
         ],
         "marker": {
          "color": "rgb(150, 105, 0)",
          "size": 10
         },
         "mode": "lines+markers",
         "type": "scattermapbox"
        },
        {
         "lat": [
          47.420511,
          47.420496,
          47.420496,
          47.4205,
          47.420496,
          47.420496,
          47.420496,
          47.420496,
          47.420491,
          47.420491,
          47.420491,
          47.420517,
          47.420468,
          47.420489,
          47.420489,
          47.420502,
          47.420492,
          47.420492,
          47.420492,
          47.420492,
          47.420492,
          47.4205,
          47.4205,
          47.420516,
          47.420508,
          47.420508,
          47.420508,
          47.420508,
          47.420508,
          47.42051,
          47.420521,
          47.420521,
          47.420521,
          47.420532,
          47.420552,
          47.420536,
          47.420554,
          47.420535,
          47.420542,
          47.420546,
          47.420537,
          47.420536
         ],
         "line": {
          "color": "blue",
          "width": 2
         },
         "lon": [
          5.17149,
          5.171468,
          5.171468,
          5.1715,
          5.171468,
          5.171468,
          5.171468,
          5.171468,
          5.171494,
          5.171494,
          5.171494,
          5.171482,
          5.1715,
          5.171497,
          5.171497,
          5.171502,
          5.17148,
          5.17148,
          5.17148,
          5.17148,
          5.17148,
          5.17147,
          5.17147,
          5.171463,
          5.171482,
          5.171482,
          5.171482,
          5.171482,
          5.171482,
          5.171475,
          5.171487,
          5.171487,
          5.171487,
          5.171482,
          5.171488,
          5.1715,
          5.171508,
          5.171515,
          5.171508,
          5.171556,
          5.171528,
          5.171508
         ],
         "marker": {
          "color": "blue",
          "size": 10
         },
         "mode": "lines+markers",
         "type": "scattermapbox"
        },
        {
         "lat": [
          47.420528,
          47.420529,
          47.420529,
          47.42053,
          47.420504,
          47.420501,
          47.420501,
          47.420501,
          47.4205,
          47.420501,
          47.42053,
          47.42053,
          47.420903,
          47.420944,
          47.421205
         ],
         "line": {
          "color": "blue",
          "width": 2
         },
         "lon": [
          5.171495,
          5.171504,
          5.171504,
          5.171515,
          5.171512,
          5.171499,
          5.171499,
          5.171499,
          5.171506,
          5.171499,
          5.17144,
          5.17144,
          5.170646,
          5.170587,
          5.172993
         ],
         "marker": {
          "color": "blue",
          "size": 10
         },
         "mode": "lines+markers",
         "type": "scattermapbox"
        },
        {
         "lat": [
          44.8639,
          44.8639,
          44.863889,
          44.863887,
          44.863889,
          44.863889,
          44.863891,
          44.863888,
          44.863893,
          44.863942,
          44.863769,
          44.863744,
          44.863808,
          44.863808,
          44.866723,
          44.916712,
          44.931462,
          44.974725,
          45.034943,
          45.093216,
          45.138123,
          45.15047,
          45.208735,
          45.254293,
          45.310015,
          45.33701,
          45.371174,
          45.425358,
          45.478706,
          45.529158,
          45.538125,
          45.573521,
          45.595306,
          45.639517,
          45.671223
         ],
         "line": {
          "color": "rgb(50, 205, 0)",
          "width": 2
         },
         "lon": [
          4.86577,
          4.86577,
          4.865798,
          4.865796,
          4.865793,
          4.865793,
          4.865792,
          4.865795,
          4.865796,
          4.865792,
          4.865841,
          4.865847,
          4.865804,
          4.865804,
          4.864501,
          4.877009,
          4.884211,
          4.885519,
          4.876175,
          4.878993,
          4.892536,
          4.888036,
          4.870156,
          4.835393,
          4.811665,
          4.809518,
          4.807724,
          4.825838,
          4.832613,
          4.861572,
          4.856269,
          4.808772,
          4.849199,
          4.895235,
          4.937102
         ],
         "marker": {
          "color": "rgb(50, 205, 0)",
          "size": 10
         },
         "mode": "lines+markers",
         "type": "scattermapbox"
        },
        {
         "lat": [
          45.676006,
          45.731363,
          45.77802,
          45.812031,
          45.838679,
          45.869726,
          45.909933,
          45.917889,
          45.952456,
          45.959323,
          45.9998,
          46.058869,
          46.116443,
          46.166418,
          46.177472
         ],
         "line": {
          "color": "rgb(100, 155, 0)",
          "width": 2
         },
         "lon": [
          4.956008,
          4.978641,
          4.965941,
          4.915889,
          4.916803,
          4.904631,
          4.852074,
          4.780736,
          4.716037,
          4.719634,
          4.735042,
          4.736015,
          4.762755,
          4.770403,
          4.769857
         ],
         "marker": {
          "color": "rgb(100, 155, 0)",
          "size": 10
         },
         "mode": "lines+markers",
         "type": "scattermapbox"
        },
        {
         "lat": [
          43.3549,
          43.3549,
          43.354947,
          43.354952,
          43.354976,
          43.354971,
          43.354972,
          43.354967,
          43.354969,
          43.354969,
          43.354956,
          43.354963,
          43.355093,
          43.353681,
          43.353665,
          43.355299,
          43.354378,
          43.3552,
          43.35529,
          43.355298,
          43.355289,
          43.355817,
          43.355801,
          43.355694,
          43.355694,
          43.355694,
          43.355694,
          43.355848,
          43.35572,
          43.355689,
          43.355545,
          43.355545
         ],
         "line": {
          "color": "blue",
          "width": 2
         },
         "lon": [
          5.31521,
          5.31521,
          5.315263,
          5.31526,
          5.315249,
          5.31524,
          5.315245,
          5.315265,
          5.315302,
          5.315302,
          5.315363,
          5.315417,
          5.319955,
          5.327821,
          5.327854,
          5.319656,
          5.321762,
          5.31989,
          5.319655,
          5.319628,
          5.319641,
          5.318398,
          5.318429,
          5.318691,
          5.318691,
          5.318691,
          5.318691,
          5.318331,
          5.317851,
          5.317824,
          5.317638,
          5.317638
         ],
         "marker": {
          "color": "blue",
          "size": 10
         },
         "mode": "lines+markers",
         "type": "scattermapbox"
        },
        {
         "lat": [
          43.355555,
          43.355669,
          43.355679,
          43.355691,
          43.355701,
          43.355701,
          43.355701,
          43.355698,
          43.355384,
          43.355384,
          43.355384,
          43.355384,
          43.355291,
          43.355172,
          43.354987,
          43.355006,
          43.355059,
          43.355077
         ],
         "line": {
          "color": "rgb(200, 55, 0)",
          "width": 2
         },
         "lon": [
          5.317676,
          5.317803,
          5.317811,
          5.317825,
          5.317822,
          5.317821,
          5.317821,
          5.317818,
          5.317462,
          5.317462,
          5.317462,
          5.317462,
          5.316739,
          5.316625,
          5.316469,
          5.316505,
          5.316558,
          5.31657
         ],
         "marker": {
          "color": "rgb(200, 55, 0)",
          "size": 10
         },
         "mode": "lines+markers",
         "type": "scattermapbox"
        },
        {
         "lat": [
          45.923419,
          45.923419,
          45.923419,
          45.923419,
          45.923493,
          45.923493,
          45.938765,
          45.990838,
          46.040226,
          46.091481,
          46.094471,
          46.145471,
          46.197014,
          46.248843,
          46.282778,
          46.293529,
          46.327967,
          46.333605,
          46.353521,
          46.355436,
          46.370805,
          46.422707,
          46.479325,
          46.510495,
          46.511572,
          46.552646,
          46.606955,
          46.662715,
          46.697085,
          46.719439,
          46.761965,
          46.822837
         ],
         "line": {
          "color": "blue",
          "width": 2
         },
         "lon": [
          3.146059,
          3.146059,
          3.146059,
          3.146059,
          3.146029,
          3.146029,
          3.126098,
          3.109813,
          3.11308,
          3.135637,
          3.137226,
          3.114071,
          3.105456,
          3.08658,
          3.048202,
          3.036138,
          2.974777,
          2.890847,
          2.811464,
          2.775284,
          2.74007,
          2.701756,
          2.670332,
          2.602933,
          2.599192,
          2.548866,
          2.508708,
          2.474483,
          2.462653,
          2.454339,
          2.408286,
          2.412906
         ],
         "marker": {
          "color": "blue",
          "size": 10
         },
         "mode": "lines+markers",
         "type": "scattermapbox"
        },
        {
         "lat": [
          46.881235,
          46.894151,
          46.940279
         ],
         "line": {
          "color": "rgb(50, 205, 0)",
          "width": 2
         },
         "lon": [
          2.421056,
          2.417802,
          2.418658
         ],
         "marker": {
          "color": "rgb(50, 205, 0)",
          "size": 10
         },
         "mode": "lines+markers",
         "type": "scattermapbox"
        },
        {
         "lat": [
          46.997053,
          47.04045,
          47.065037,
          47.075572,
          47.1115,
          47.16999,
          47.210329,
          47.224959,
          47.251134,
          47.290424,
          47.29464,
          47.30468,
          47.30927,
          47.321712,
          47.340473
         ],
         "line": {
          "color": "rgb(100, 155, 0)",
          "width": 2
         },
         "lon": [
          2.406339,
          2.34984,
          2.293465,
          2.275496,
          2.203032,
          2.180703,
          2.117029,
          2.10698,
          2.054896,
          2.015377,
          1.925908,
          1.85554,
          1.840531,
          1.752512,
          1.670968
         ],
         "marker": {
          "color": "rgb(100, 155, 0)",
          "size": 10
         },
         "mode": "lines+markers",
         "type": "scattermapbox"
        },
        {
         "lat": [
          47.660738,
          47.6608,
          47.6608,
          47.660777,
          47.660777,
          47.660247,
          47.689476,
          47.733131,
          47.737591,
          47.76741,
          47.787966,
          47.78705,
          47.771614,
          47.778064,
          47.820843,
          47.860163,
          47.87557,
          47.877559,
          47.88715,
          47.889468,
          47.915855,
          47.946226,
          47.95187,
          47.983876,
          48.021518,
          48.067743,
          48.097292,
          48.123244,
          48.179698,
          48.226795,
          48.274207,
          48.281131,
          48.302772,
          48.344824,
          48.378802,
          48.386803,
          48.386789,
          48.386924,
          48.386924,
          48.38693,
          48.38693,
          48.386921,
          48.386919,
          48.386919,
          48.386919,
          48.387124,
          48.386918,
          48.387538,
          48.387598
         ],
         "line": {
          "color": "rgb(150, 105, 0)",
          "width": 2
         },
         "lon": [
          -2.971431,
          -2.97141,
          -2.97141,
          -2.971371,
          -2.971371,
          -2.972944,
          -3.032709,
          -3.092191,
          -3.095817,
          -3.161776,
          -3.244837,
          -3.330853,
          -3.384574,
          -3.410667,
          -3.46702,
          -3.535753,
          -3.618046,
          -3.642092,
          -3.706178,
          -3.793085,
          -3.873849,
          -3.935412,
          -3.945085,
          -4.018952,
          -4.083167,
          -4.04832,
          -4.032166,
          -4.022294,
          -4.044471,
          -4.080597,
          -4.118176,
          -4.127288,
          -4.182603,
          -4.231289,
          -4.287655,
          -4.459312,
          -4.459333,
          -4.459145,
          -4.459145,
          -4.459144,
          -4.459144,
          -4.459128,
          -4.459122,
          -4.459122,
          -4.459122,
          -4.458898,
          -4.459122,
          -4.459029,
          -4.459093
         ],
         "marker": {
          "color": "rgb(150, 105, 0)",
          "size": 10
         },
         "mode": "lines+markers",
         "type": "scattermapbox"
        },
        {
         "lat": [
          52.258006,
          52.258006,
          52.258,
          52.258,
          52.258,
          52.257997,
          52.257996,
          52.258,
          52.257987,
          52.257987,
          52.25802,
          52.25802,
          52.277857,
          52.323703,
          52.330587
         ],
         "line": {
          "color": "rgb(100, 155, 0)",
          "width": 2
         },
         "lon": [
          5.522057,
          5.522057,
          5.52209,
          5.52209,
          5.52209,
          5.522059,
          5.522081,
          5.52208,
          5.522056,
          5.522039,
          5.522075,
          5.522075,
          5.543244,
          5.575062,
          5.5892
         ],
         "marker": {
          "color": "rgb(100, 155, 0)",
          "size": 10
         },
         "mode": "lines+markers",
         "type": "scattermapbox"
        },
        {
         "lat": [
          52.342119,
          52.361633,
          52.393119,
          52.407054,
          52.429844,
          52.474145,
          52.513215,
          52.534232,
          52.539681,
          52.596796,
          52.657158,
          52.684489,
          52.677977,
          52.681747,
          52.707611,
          52.714819,
          52.714987,
          52.716224,
          52.717423,
          52.717417,
          52.717468,
          52.722474,
          52.729641,
          52.722718,
          52.735219,
          52.734344,
          52.721427,
          52.720289,
          52.722574,
          52.722676,
          52.725836,
          52.706634,
          52.706717,
          52.703081,
          52.688522,
          52.677995,
          52.677628,
          52.677995,
          52.6778,
          52.677988,
          52.677994,
          52.677994,
          52.677985,
          52.678032,
          52.678032,
          52.691419
         ],
         "line": {
          "color": "rgb(150, 105, 0)",
          "width": 2
         },
         "lon": [
          5.68298,
          5.776231,
          5.856485,
          5.884413,
          5.936591,
          6.000368,
          6.077301,
          6.157317,
          6.164352,
          6.201131,
          6.199001,
          6.269751,
          6.310781,
          6.368004,
          6.455663,
          6.554226,
          6.644874,
          6.649009,
          6.651178,
          6.651164,
          6.651334,
          6.681724,
          6.780972,
          6.879937,
          6.976492,
          6.995392,
          7.073506,
          7.174406,
          7.220115,
          7.220329,
          7.254321,
          7.315537,
          7.337499,
          7.395634,
          7.475013,
          7.508053,
          7.507245,
          7.508053,
          7.50765,
          7.50808,
          7.508046,
          7.508046,
          7.50804,
          7.508171,
          7.508171,
          7.543866
         ],
         "marker": {
          "color": "rgb(150, 105, 0)",
          "size": 10
         },
         "mode": "lines+markers",
         "type": "scattermapbox"
        },
        {
         "lat": [
          52.704759,
          52.713888
         ],
         "line": {
          "color": "rgb(200, 55, 0)",
          "width": 2
         },
         "lon": [
          7.630013,
          7.644545
         ],
         "marker": {
          "color": "rgb(200, 55, 0)",
          "size": 10
         },
         "mode": "lines+markers",
         "type": "scattermapbox"
        },
        {
         "lat": [
          52.728268,
          52.754157,
          52.787165,
          52.809381,
          52.816421,
          52.820971,
          52.847373,
          52.850902,
          52.814312,
          52.822322,
          52.823328,
          52.877388,
          52.904187,
          52.914957,
          52.92796,
          52.943541,
          52.971038,
          53.004605,
          53.022279,
          53.02354,
          53.038241,
          53.038776,
          53.053814,
          53.073852
         ],
         "line": {
          "color": "rgb(0, 255, 0)",
          "width": 2
         },
         "lon": [
          7.70805,
          7.776453,
          7.838047,
          7.900735,
          7.940802,
          7.970924,
          8.025394,
          8.095159,
          8.158035,
          8.213394,
          8.213671,
          8.258554,
          8.348911,
          8.441276,
          8.493498,
          8.521634,
          8.612949,
          8.69665,
          8.793846,
          8.809308,
          8.886299,
          8.977165,
          9.052497,
          9.137955
         ],
         "marker": {
          "color": "rgb(0, 255, 0)",
          "size": 10
         },
         "mode": "lines+markers",
         "type": "scattermapbox"
        },
        {
         "lat": [
          56.176117,
          56.176117
         ],
         "line": {
          "color": "blue",
          "width": 2
         },
         "lon": [
          10.066009,
          10.066009
         ],
         "marker": {
          "color": "blue",
          "size": 10
         },
         "mode": "lines+markers",
         "type": "scattermapbox"
        },
        {
         "lat": [
          56.176121,
          56.176121,
          56.176179,
          56.176179,
          56.17611,
          56.177777,
          56.134198,
          56.126774,
          56.076253,
          56.045853,
          55.992594,
          55.966955,
          55.940521,
          55.884532,
          55.836133,
          55.786423,
          55.786236,
          55.747446
         ],
         "line": {
          "color": "rgb(100, 155, 0)",
          "width": 2
         },
         "lon": [
          10.066009,
          10.066009,
          10.065969,
          10.065969,
          10.066009,
          10.066663,
          10.035404,
          10.034607,
          10.001997,
          9.907499,
          9.867547,
          9.853186,
          9.819364,
          9.789699,
          9.722936,
          9.665864,
          9.665714,
          9.585349
         ],
         "marker": {
          "color": "rgb(100, 155, 0)",
          "size": 10
         },
         "mode": "lines+markers",
         "type": "scattermapbox"
        },
        {
         "lat": [
          54.363672,
          54.363672,
          54.363671,
          54.36367
         ],
         "line": {
          "color": "rgb(150, 105, 0)",
          "width": 2
         },
         "lon": [
          9.67172,
          9.67172,
          9.67172,
          9.67172
         ],
         "marker": {
          "color": "rgb(150, 105, 0)",
          "size": 10
         },
         "mode": "lines+markers",
         "type": "scattermapbox"
        },
        {
         "lat": [
          54.363662,
          54.363663,
          54.363672,
          54.363666,
          54.36366,
          54.380794,
          54.415628,
          54.425739,
          54.44294,
          54.447532,
          54.447604,
          54.447598,
          54.477569,
          54.528446,
          54.363672,
          54.58727,
          54.603827,
          54.646181,
          54.703204,
          54.759322,
          54.804851,
          54.804943,
          54.804953,
          54.805912,
          54.844642,
          54.900351
         ],
         "line": {
          "color": "rgb(200, 55, 0)",
          "width": 2
         },
         "lon": [
          9.671741,
          9.671746,
          9.671788,
          9.671888,
          9.671931,
          9.65761,
          9.611626,
          9.599738,
          9.589085,
          9.586286,
          9.586227,
          9.586242,
          9.541328,
          9.483099,
          9.67172,
          9.463612,
          9.450388,
          9.43665,
          9.402367,
          9.363271,
          9.327906,
          9.327803,
          9.327802,
          9.327355,
          9.346555,
          9.377141
         ],
         "marker": {
          "color": "rgb(200, 55, 0)",
          "size": 10
         },
         "mode": "lines+markers",
         "type": "scattermapbox"
        },
        {
         "lat": [
          52.209985,
          52.152125,
          52.121405,
          52.104836,
          52.104695,
          52.092594,
          52.036122,
          51.97883,
          51.956004,
          51.954053,
          51.900121,
          51.841894,
          51.78196,
          51.777065,
          51.726945,
          51.666592,
          51.610433,
          51.579586,
          51.555829,
          51.526473,
          51.479821,
          51.420162,
          51.420162
         ],
         "line": {
          "color": "rgb(0, 255, 0)",
          "width": 2
         },
         "lon": [
          5.442971,
          5.415951,
          5.335959,
          5.24993,
          5.247952,
          5.157675,
          5.13819,
          5.104855,
          5.067686,
          5.022742,
          4.979442,
          4.948494,
          4.927671,
          4.927313,
          4.894677,
          4.880071,
          4.854208,
          4.823569,
          4.819523,
          4.748511,
          4.731941,
          4.70417,
          4.70417
         ],
         "marker": {
          "color": "rgb(0, 255, 0)",
          "size": 10
         },
         "mode": "lines+markers",
         "type": "scattermapbox"
        },
        {
         "lat": [
          51.420162
         ],
         "line": {
          "color": "rgb(50, 205, 0)",
          "width": 2
         },
         "lon": [
          4.70417
         ],
         "marker": {
          "color": "rgb(50, 205, 0)",
          "size": 10
         },
         "mode": "lines+markers",
         "type": "scattermapbox"
        },
        {
         "lat": [
          51.420162,
          51.423099,
          51.420173,
          51.420176,
          51.420176,
          51.420176,
          51.420143,
          51.420143,
          51.40742,
          51.388333,
          51.339054,
          51.300291,
          51.268506,
          51.267686,
          51.228982,
          51.190975,
          51.208086,
          51.175706,
          51.172448,
          51.141636,
          51.127048,
          51.082774,
          50.771323,
          50.771323
         ],
         "line": {
          "color": "rgb(100, 155, 0)",
          "width": 2
         },
         "lon": [
          4.70417,
          4.706582,
          4.704173,
          4.704188,
          4.704188,
          4.704188,
          4.70417,
          4.70417,
          4.696693,
          4.671533,
          4.61303,
          4.53734,
          4.463166,
          4.450842,
          4.442275,
          4.409354,
          4.334714,
          4.266197,
          4.258704,
          4.174908,
          4.080163,
          4.013004,
          3.198794,
          3.198794
         ],
         "marker": {
          "color": "rgb(100, 155, 0)",
          "size": 10
         },
         "mode": "lines+markers",
         "type": "scattermapbox"
        },
        {
         "lat": [
          47.255462,
          47.228079,
          47.212478,
          47.173999,
          47.131465,
          47.104028,
          47.067589,
          47.066371,
          47.013643,
          46.955474,
          46.896651,
          46.885124,
          46.885134,
          46.88515,
          46.885151
         ],
         "line": {
          "color": "blue",
          "width": 2
         },
         "lon": [
          2.048846,
          2.03729,
          2.03953,
          2.007016,
          1.945398,
          1.878411,
          1.820686,
          1.820411,
          1.782907,
          1.757157,
          1.731231,
          1.725367,
          1.725401,
          1.725437,
          1.725455
         ],
         "marker": {
          "color": "blue",
          "size": 10
         },
         "mode": "lines+markers",
         "type": "scattermapbox"
        },
        {
         "lat": [
          46.885163,
          46.88516,
          46.88516,
          46.885163,
          46.885162,
          46.885164,
          46.885163,
          46.885163,
          46.885159,
          46.885186,
          46.885164
         ],
         "line": {
          "color": "rgb(200, 55, 0)",
          "width": 2
         },
         "lon": [
          1.725493,
          1.725479,
          1.725477,
          1.725489,
          1.725489,
          1.725494,
          1.725487,
          1.725487,
          1.725503,
          1.725505,
          1.725507
         ],
         "marker": {
          "color": "rgb(200, 55, 0)",
          "size": 10
         },
         "mode": "lines+markers",
         "type": "scattermapbox"
        },
        {
         "lat": [
          46.88508
         ],
         "line": {
          "color": "rgb(0, 255, 0)",
          "width": 2
         },
         "lon": [
          1.725379
         ],
         "marker": {
          "color": "rgb(0, 255, 0)",
          "size": 10
         },
         "mode": "lines+markers",
         "type": "scattermapbox"
        },
        {
         "lat": [
          46.885121,
          46.885134,
          46.885134,
          46.8851,
          46.884213,
          46.884146
         ],
         "line": {
          "color": "rgb(50, 205, 0)",
          "width": 2
         },
         "lon": [
          1.725446,
          1.725473,
          1.725473,
          1.72554,
          1.725009,
          1.725046
         ],
         "marker": {
          "color": "rgb(50, 205, 0)",
          "size": 10
         },
         "mode": "lines+markers",
         "type": "scattermapbox"
        },
        {
         "lat": [
          46.867543,
          46.853553
         ],
         "line": {
          "color": "rgb(100, 155, 0)",
          "width": 2
         },
         "lon": [
          1.713015,
          1.703111
         ],
         "marker": {
          "color": "rgb(100, 155, 0)",
          "size": 10
         },
         "mode": "lines+markers",
         "type": "scattermapbox"
        },
        {
         "lat": [
          46.821109,
          46.765195,
          46.712549,
          46.697242,
          46.65512,
          46.610637,
          46.56436,
          46.510849,
          46.508064
         ],
         "line": {
          "color": "rgb(150, 105, 0)",
          "width": 2
         },
         "lon": [
          1.627848,
          1.637101,
          1.593305,
          1.583436,
          1.566222,
          1.516618,
          1.505082,
          1.50757,
          1.505325
         ],
         "marker": {
          "color": "rgb(150, 105, 0)",
          "size": 10
         },
         "mode": "lines+markers",
         "type": "scattermapbox"
        },
        {
         "lat": [
          46.451289,
          46.396648,
          46.341393,
          46.310314,
          46.283146
         ],
         "line": {
          "color": "rgb(200, 55, 0)",
          "width": 2
         },
         "lon": [
          1.49138,
          1.45237,
          1.420059,
          1.418151,
          1.406305
         ],
         "marker": {
          "color": "rgb(200, 55, 0)",
          "size": 10
         },
         "mode": "lines+markers",
         "type": "scattermapbox"
        },
        {
         "lat": [
          44.230589,
          44.230589,
          44.230601,
          44.230601,
          44.230574,
          44.230574,
          44.230588,
          44.178661,
          44.182609,
          44.13214,
          44.090543,
          44.052859,
          44.052796,
          44.047728,
          44.006757,
          43.999094,
          43.952198,
          43.914942,
          43.853625,
          43.829628,
          43.804295,
          43.7449,
          43.685972,
          43.643421,
          43.62772,
          43.610891,
          43.606861,
          43.60701,
          43.608392,
          43.60852,
          43.609473,
          43.629683
         ],
         "line": {
          "color": "rgb(0, 255, 0)",
          "width": 2
         },
         "lon": [
          1.530204,
          1.530204,
          1.530221,
          1.530221,
          1.530345,
          1.530345,
          1.530233,
          1.532243,
          1.533787,
          1.486394,
          1.425513,
          1.409834,
          1.409674,
          1.398209,
          1.383383,
          1.363918,
          1.325545,
          1.31891,
          1.318667,
          1.341885,
          1.367607,
          1.388689,
          1.412358,
          1.421586,
          1.41985,
          1.385486,
          1.336065,
          1.335939,
          1.336136,
          1.336283,
          1.336405,
          1.347145
         ],
         "marker": {
          "color": "rgb(0, 255, 0)",
          "size": 10
         },
         "mode": "lines+markers",
         "type": "scattermapbox"
        },
        {
         "lat": [
          43.629127,
          43.629683,
          43.629677,
          43.629677,
          43.629685,
          43.629714,
          43.629714,
          43.6296,
          43.62969,
          43.62969,
          43.62969,
          43.62969,
          43.629135,
          43.629135,
          43.629135,
          43.629135,
          43.629137,
          43.629137
         ],
         "line": {
          "color": "rgb(50, 205, 0)",
          "width": 2
         },
         "lon": [
          1.346526,
          1.347142,
          1.347128,
          1.347128,
          1.347139,
          1.347364,
          1.347364,
          1.34712,
          1.347281,
          1.347281,
          1.347281,
          1.347281,
          1.349232,
          1.34958,
          1.349232,
          1.349232,
          1.349223,
          1.349223
         ],
         "marker": {
          "color": "rgb(50, 205, 0)",
          "size": 10
         },
         "mode": "lines+markers",
         "type": "scattermapbox"
        },
        {
         "lat": [
          43.588159,
          43.588146,
          43.588146,
          43.588146,
          43.588129,
          43.588204,
          43.588204,
          43.600488,
          43.623849,
          43.660531,
          43.693878,
          43.696737,
          43.722492,
          43.73308,
          43.743469,
          43.744886,
          43.744896,
          43.729336,
          43.725286,
          43.725255,
          43.731682,
          43.728226,
          43.748482,
          43.760176,
          43.753256,
          43.753214,
          43.751999,
          43.740647,
          43.726818
         ],
         "line": {
          "color": "rgb(100, 155, 0)",
          "width": 2
         },
         "lon": [
          7.034236,
          7.0343,
          7.0343,
          7.0343,
          7.034312,
          7.034376,
          7.034376,
          7.056141,
          7.116347,
          7.166573,
          7.189402,
          7.188867,
          7.224929,
          7.289765,
          7.352322,
          7.372702,
          7.372905,
          7.390945,
          7.400464,
          7.400565,
          7.411771,
          7.408228,
          7.424993,
          7.452186,
          7.44087,
          7.440805,
          7.438905,
          7.429911,
          7.40719
         ],
         "marker": {
          "color": "rgb(100, 155, 0)",
          "size": 10
         },
         "mode": "lines+markers",
         "type": "scattermapbox"
        },
        {
         "lat": [
          50.173439,
          50.173435,
          50.173435,
          50.173435,
          50.173437,
          50.173428,
          50.173438,
          50.173438,
          50.173448,
          50.173448,
          50.173454,
          50.173461,
          50.173461,
          50.173555,
          50.173557,
          50.173583,
          50.152211,
          50.102719,
          50.104302,
          50.108731,
          50.076416,
          50.045953,
          50.01752,
          49.986583,
          49.986267,
          49.984182,
          49.962299,
          49.946822,
          49.921186,
          49.915123,
          49.927104,
          49.932483,
          49.881988,
          49.849672,
          49.84146,
          49.830217,
          49.812119,
          49.841439,
          49.841456,
          49.865762,
          49.903409,
          49.931517,
          49.939292,
          49.938488,
          49.980884,
          50.000346,
          50.00045,
          50.005036,
          50.05303,
          50.101021,
          50.142677,
          49.639421,
          49.652151,
          49.655984,
          49.659636,
          49.645564,
          49.638744,
          49.6341,
          49.642554,
          49.646174,
          49.665164,
          49.706626,
          49.728763,
          49.75688,
          49.74872,
          49.741307,
          49.752922,
          49.782035,
          49.791803,
          49.808676,
          49.815017,
          49.451045,
          49.451068,
          49.451068,
          49.45104,
          49.45104,
          49.451038,
          49.451038,
          49.485096,
          49.534394,
          49.531519,
          49.570104,
          49.586617,
          49.613313,
          49.620969,
          49.628772
         ],
         "line": {
          "color": "rgb(50, 205, 0)",
          "width": 2
         },
         "lon": [
          2.873063,
          2.873044,
          2.873044,
          2.873044,
          2.873025,
          2.873046,
          2.873064,
          2.873064,
          2.873062,
          2.873062,
          2.873067,
          2.873039,
          2.873039,
          2.872944,
          2.872951,
          2.872976,
          2.872874,
          2.871203,
          2.867981,
          2.829247,
          2.791111,
          2.738462,
          2.685006,
          2.649415,
          2.65206,
          2.588493,
          2.512805,
          2.429735,
          2.369566,
          2.34807,
          2.30509,
          2.243792,
          2.221363,
          2.153122,
          2.118326,
          2.067254,
          2.018788,
          2.096621,
          2.100102,
          2.18215,
          2.234522,
          2.255882,
          2.308235,
          2.308086,
          2.316107,
          2.311445,
          2.311446,
          2.313088,
          2.323706,
          2.332047,
          2.338285,
          0.704797,
          0.793576,
          0.88347,
          0.910199,
          0.965679,
          1.057936,
          1.150271,
          1.226553,
          1.239907,
          1.31043,
          1.375423,
          1.457641,
          1.48747,
          1.514639,
          1.598424,
          1.688251,
          1.751548,
          1.785201,
          1.832239,
          1.925265,
          0.272093,
          0.272119,
          0.272119,
          0.272105,
          0.272105,
          0.272114,
          0.272114,
          0.263401,
          0.316247,
          0.313254,
          0.361851,
          0.44667,
          0.522795,
          0.591269,
          0.612451
         ],
         "marker": {
          "color": "rgb(50, 205, 0)",
          "size": 10
         },
         "mode": "lines+markers",
         "type": "scattermapbox"
        }
       ],
       "layout": {
        "autosize": true,
        "height": 600,
        "hovermode": "closest",
        "mapbox": {
         "center": {
          "lat": 52.1326,
          "lon": 5.2913
         },
         "style": "open-street-map",
         "zoom": 5
        },
        "template": {
         "data": {
          "bar": [
           {
            "error_x": {
             "color": "#2a3f5f"
            },
            "error_y": {
             "color": "#2a3f5f"
            },
            "marker": {
             "line": {
              "color": "#E5ECF6",
              "width": 0.5
             },
             "pattern": {
              "fillmode": "overlay",
              "size": 10,
              "solidity": 0.2
             }
            },
            "type": "bar"
           }
          ],
          "barpolar": [
           {
            "marker": {
             "line": {
              "color": "#E5ECF6",
              "width": 0.5
             },
             "pattern": {
              "fillmode": "overlay",
              "size": 10,
              "solidity": 0.2
             }
            },
            "type": "barpolar"
           }
          ],
          "carpet": [
           {
            "aaxis": {
             "endlinecolor": "#2a3f5f",
             "gridcolor": "white",
             "linecolor": "white",
             "minorgridcolor": "white",
             "startlinecolor": "#2a3f5f"
            },
            "baxis": {
             "endlinecolor": "#2a3f5f",
             "gridcolor": "white",
             "linecolor": "white",
             "minorgridcolor": "white",
             "startlinecolor": "#2a3f5f"
            },
            "type": "carpet"
           }
          ],
          "choropleth": [
           {
            "colorbar": {
             "outlinewidth": 0,
             "ticks": ""
            },
            "type": "choropleth"
           }
          ],
          "contour": [
           {
            "colorbar": {
             "outlinewidth": 0,
             "ticks": ""
            },
            "colorscale": [
             [
              0,
              "#0d0887"
             ],
             [
              0.1111111111111111,
              "#46039f"
             ],
             [
              0.2222222222222222,
              "#7201a8"
             ],
             [
              0.3333333333333333,
              "#9c179e"
             ],
             [
              0.4444444444444444,
              "#bd3786"
             ],
             [
              0.5555555555555556,
              "#d8576b"
             ],
             [
              0.6666666666666666,
              "#ed7953"
             ],
             [
              0.7777777777777778,
              "#fb9f3a"
             ],
             [
              0.8888888888888888,
              "#fdca26"
             ],
             [
              1,
              "#f0f921"
             ]
            ],
            "type": "contour"
           }
          ],
          "contourcarpet": [
           {
            "colorbar": {
             "outlinewidth": 0,
             "ticks": ""
            },
            "type": "contourcarpet"
           }
          ],
          "heatmap": [
           {
            "colorbar": {
             "outlinewidth": 0,
             "ticks": ""
            },
            "colorscale": [
             [
              0,
              "#0d0887"
             ],
             [
              0.1111111111111111,
              "#46039f"
             ],
             [
              0.2222222222222222,
              "#7201a8"
             ],
             [
              0.3333333333333333,
              "#9c179e"
             ],
             [
              0.4444444444444444,
              "#bd3786"
             ],
             [
              0.5555555555555556,
              "#d8576b"
             ],
             [
              0.6666666666666666,
              "#ed7953"
             ],
             [
              0.7777777777777778,
              "#fb9f3a"
             ],
             [
              0.8888888888888888,
              "#fdca26"
             ],
             [
              1,
              "#f0f921"
             ]
            ],
            "type": "heatmap"
           }
          ],
          "heatmapgl": [
           {
            "colorbar": {
             "outlinewidth": 0,
             "ticks": ""
            },
            "colorscale": [
             [
              0,
              "#0d0887"
             ],
             [
              0.1111111111111111,
              "#46039f"
             ],
             [
              0.2222222222222222,
              "#7201a8"
             ],
             [
              0.3333333333333333,
              "#9c179e"
             ],
             [
              0.4444444444444444,
              "#bd3786"
             ],
             [
              0.5555555555555556,
              "#d8576b"
             ],
             [
              0.6666666666666666,
              "#ed7953"
             ],
             [
              0.7777777777777778,
              "#fb9f3a"
             ],
             [
              0.8888888888888888,
              "#fdca26"
             ],
             [
              1,
              "#f0f921"
             ]
            ],
            "type": "heatmapgl"
           }
          ],
          "histogram": [
           {
            "marker": {
             "pattern": {
              "fillmode": "overlay",
              "size": 10,
              "solidity": 0.2
             }
            },
            "type": "histogram"
           }
          ],
          "histogram2d": [
           {
            "colorbar": {
             "outlinewidth": 0,
             "ticks": ""
            },
            "colorscale": [
             [
              0,
              "#0d0887"
             ],
             [
              0.1111111111111111,
              "#46039f"
             ],
             [
              0.2222222222222222,
              "#7201a8"
             ],
             [
              0.3333333333333333,
              "#9c179e"
             ],
             [
              0.4444444444444444,
              "#bd3786"
             ],
             [
              0.5555555555555556,
              "#d8576b"
             ],
             [
              0.6666666666666666,
              "#ed7953"
             ],
             [
              0.7777777777777778,
              "#fb9f3a"
             ],
             [
              0.8888888888888888,
              "#fdca26"
             ],
             [
              1,
              "#f0f921"
             ]
            ],
            "type": "histogram2d"
           }
          ],
          "histogram2dcontour": [
           {
            "colorbar": {
             "outlinewidth": 0,
             "ticks": ""
            },
            "colorscale": [
             [
              0,
              "#0d0887"
             ],
             [
              0.1111111111111111,
              "#46039f"
             ],
             [
              0.2222222222222222,
              "#7201a8"
             ],
             [
              0.3333333333333333,
              "#9c179e"
             ],
             [
              0.4444444444444444,
              "#bd3786"
             ],
             [
              0.5555555555555556,
              "#d8576b"
             ],
             [
              0.6666666666666666,
              "#ed7953"
             ],
             [
              0.7777777777777778,
              "#fb9f3a"
             ],
             [
              0.8888888888888888,
              "#fdca26"
             ],
             [
              1,
              "#f0f921"
             ]
            ],
            "type": "histogram2dcontour"
           }
          ],
          "mesh3d": [
           {
            "colorbar": {
             "outlinewidth": 0,
             "ticks": ""
            },
            "type": "mesh3d"
           }
          ],
          "parcoords": [
           {
            "line": {
             "colorbar": {
              "outlinewidth": 0,
              "ticks": ""
             }
            },
            "type": "parcoords"
           }
          ],
          "pie": [
           {
            "automargin": true,
            "type": "pie"
           }
          ],
          "scatter": [
           {
            "fillpattern": {
             "fillmode": "overlay",
             "size": 10,
             "solidity": 0.2
            },
            "type": "scatter"
           }
          ],
          "scatter3d": [
           {
            "line": {
             "colorbar": {
              "outlinewidth": 0,
              "ticks": ""
             }
            },
            "marker": {
             "colorbar": {
              "outlinewidth": 0,
              "ticks": ""
             }
            },
            "type": "scatter3d"
           }
          ],
          "scattercarpet": [
           {
            "marker": {
             "colorbar": {
              "outlinewidth": 0,
              "ticks": ""
             }
            },
            "type": "scattercarpet"
           }
          ],
          "scattergeo": [
           {
            "marker": {
             "colorbar": {
              "outlinewidth": 0,
              "ticks": ""
             }
            },
            "type": "scattergeo"
           }
          ],
          "scattergl": [
           {
            "marker": {
             "colorbar": {
              "outlinewidth": 0,
              "ticks": ""
             }
            },
            "type": "scattergl"
           }
          ],
          "scattermapbox": [
           {
            "marker": {
             "colorbar": {
              "outlinewidth": 0,
              "ticks": ""
             }
            },
            "type": "scattermapbox"
           }
          ],
          "scatterpolar": [
           {
            "marker": {
             "colorbar": {
              "outlinewidth": 0,
              "ticks": ""
             }
            },
            "type": "scatterpolar"
           }
          ],
          "scatterpolargl": [
           {
            "marker": {
             "colorbar": {
              "outlinewidth": 0,
              "ticks": ""
             }
            },
            "type": "scatterpolargl"
           }
          ],
          "scatterternary": [
           {
            "marker": {
             "colorbar": {
              "outlinewidth": 0,
              "ticks": ""
             }
            },
            "type": "scatterternary"
           }
          ],
          "surface": [
           {
            "colorbar": {
             "outlinewidth": 0,
             "ticks": ""
            },
            "colorscale": [
             [
              0,
              "#0d0887"
             ],
             [
              0.1111111111111111,
              "#46039f"
             ],
             [
              0.2222222222222222,
              "#7201a8"
             ],
             [
              0.3333333333333333,
              "#9c179e"
             ],
             [
              0.4444444444444444,
              "#bd3786"
             ],
             [
              0.5555555555555556,
              "#d8576b"
             ],
             [
              0.6666666666666666,
              "#ed7953"
             ],
             [
              0.7777777777777778,
              "#fb9f3a"
             ],
             [
              0.8888888888888888,
              "#fdca26"
             ],
             [
              1,
              "#f0f921"
             ]
            ],
            "type": "surface"
           }
          ],
          "table": [
           {
            "cells": {
             "fill": {
              "color": "#EBF0F8"
             },
             "line": {
              "color": "white"
             }
            },
            "header": {
             "fill": {
              "color": "#C8D4E3"
             },
             "line": {
              "color": "white"
             }
            },
            "type": "table"
           }
          ]
         },
         "layout": {
          "annotationdefaults": {
           "arrowcolor": "#2a3f5f",
           "arrowhead": 0,
           "arrowwidth": 1
          },
          "autotypenumbers": "strict",
          "coloraxis": {
           "colorbar": {
            "outlinewidth": 0,
            "ticks": ""
           }
          },
          "colorscale": {
           "diverging": [
            [
             0,
             "#8e0152"
            ],
            [
             0.1,
             "#c51b7d"
            ],
            [
             0.2,
             "#de77ae"
            ],
            [
             0.3,
             "#f1b6da"
            ],
            [
             0.4,
             "#fde0ef"
            ],
            [
             0.5,
             "#f7f7f7"
            ],
            [
             0.6,
             "#e6f5d0"
            ],
            [
             0.7,
             "#b8e186"
            ],
            [
             0.8,
             "#7fbc41"
            ],
            [
             0.9,
             "#4d9221"
            ],
            [
             1,
             "#276419"
            ]
           ],
           "sequential": [
            [
             0,
             "#0d0887"
            ],
            [
             0.1111111111111111,
             "#46039f"
            ],
            [
             0.2222222222222222,
             "#7201a8"
            ],
            [
             0.3333333333333333,
             "#9c179e"
            ],
            [
             0.4444444444444444,
             "#bd3786"
            ],
            [
             0.5555555555555556,
             "#d8576b"
            ],
            [
             0.6666666666666666,
             "#ed7953"
            ],
            [
             0.7777777777777778,
             "#fb9f3a"
            ],
            [
             0.8888888888888888,
             "#fdca26"
            ],
            [
             1,
             "#f0f921"
            ]
           ],
           "sequentialminus": [
            [
             0,
             "#0d0887"
            ],
            [
             0.1111111111111111,
             "#46039f"
            ],
            [
             0.2222222222222222,
             "#7201a8"
            ],
            [
             0.3333333333333333,
             "#9c179e"
            ],
            [
             0.4444444444444444,
             "#bd3786"
            ],
            [
             0.5555555555555556,
             "#d8576b"
            ],
            [
             0.6666666666666666,
             "#ed7953"
            ],
            [
             0.7777777777777778,
             "#fb9f3a"
            ],
            [
             0.8888888888888888,
             "#fdca26"
            ],
            [
             1,
             "#f0f921"
            ]
           ]
          },
          "colorway": [
           "#636efa",
           "#EF553B",
           "#00cc96",
           "#ab63fa",
           "#FFA15A",
           "#19d3f3",
           "#FF6692",
           "#B6E880",
           "#FF97FF",
           "#FECB52"
          ],
          "font": {
           "color": "#2a3f5f"
          },
          "geo": {
           "bgcolor": "white",
           "lakecolor": "white",
           "landcolor": "#E5ECF6",
           "showlakes": true,
           "showland": true,
           "subunitcolor": "white"
          },
          "hoverlabel": {
           "align": "left"
          },
          "hovermode": "closest",
          "mapbox": {
           "style": "light"
          },
          "paper_bgcolor": "white",
          "plot_bgcolor": "#E5ECF6",
          "polar": {
           "angularaxis": {
            "gridcolor": "white",
            "linecolor": "white",
            "ticks": ""
           },
           "bgcolor": "#E5ECF6",
           "radialaxis": {
            "gridcolor": "white",
            "linecolor": "white",
            "ticks": ""
           }
          },
          "scene": {
           "xaxis": {
            "backgroundcolor": "#E5ECF6",
            "gridcolor": "white",
            "gridwidth": 2,
            "linecolor": "white",
            "showbackground": true,
            "ticks": "",
            "zerolinecolor": "white"
           },
           "yaxis": {
            "backgroundcolor": "#E5ECF6",
            "gridcolor": "white",
            "gridwidth": 2,
            "linecolor": "white",
            "showbackground": true,
            "ticks": "",
            "zerolinecolor": "white"
           },
           "zaxis": {
            "backgroundcolor": "#E5ECF6",
            "gridcolor": "white",
            "gridwidth": 2,
            "linecolor": "white",
            "showbackground": true,
            "ticks": "",
            "zerolinecolor": "white"
           }
          },
          "shapedefaults": {
           "line": {
            "color": "#2a3f5f"
           }
          },
          "ternary": {
           "aaxis": {
            "gridcolor": "white",
            "linecolor": "white",
            "ticks": ""
           },
           "baxis": {
            "gridcolor": "white",
            "linecolor": "white",
            "ticks": ""
           },
           "bgcolor": "#E5ECF6",
           "caxis": {
            "gridcolor": "white",
            "linecolor": "white",
            "ticks": ""
           }
          },
          "title": {
           "x": 0.05
          },
          "xaxis": {
           "automargin": true,
           "gridcolor": "white",
           "linecolor": "white",
           "ticks": "",
           "title": {
            "standoff": 15
           },
           "zerolinecolor": "white",
           "zerolinewidth": 2
          },
          "yaxis": {
           "automargin": true,
           "gridcolor": "white",
           "linecolor": "white",
           "ticks": "",
           "title": {
            "standoff": 15
           },
           "zerolinecolor": "white",
           "zerolinewidth": 2
          }
         }
        },
        "width": 1000
       }
      }
     },
     "metadata": {},
     "output_type": "display_data"
    },
    {
     "ename": "KeyboardInterrupt",
     "evalue": "Interrupted by user",
     "output_type": "error",
     "traceback": [
      "\u001b[0;31m---------------------------------------------------------------------------\u001b[0m",
      "\u001b[0;31mKeyboardInterrupt\u001b[0m                         Traceback (most recent call last)",
      "Cell \u001b[0;32mIn[27], line 124\u001b[0m\n\u001b[1;32m    122\u001b[0m \u001b[38;5;66;03m# Input prompt for joining traces\u001b[39;00m\n\u001b[1;32m    123\u001b[0m \u001b[38;5;28;01mwhile\u001b[39;00m \u001b[38;5;28;01mTrue\u001b[39;00m:\n\u001b[0;32m--> 124\u001b[0m     join_indices \u001b[38;5;241m=\u001b[39m \u001b[38;5;28;43minput\u001b[39;49m\u001b[43m(\u001b[49m\u001b[38;5;124;43m\"\u001b[39;49m\u001b[38;5;124;43mEnter the indices of the two traces you want to join (comma-separated, e.g., \u001b[39;49m\u001b[38;5;124;43m'\u001b[39;49m\u001b[38;5;124;43m0,1\u001b[39;49m\u001b[38;5;124;43m'\u001b[39;49m\u001b[38;5;124;43m), or enter \u001b[39;49m\u001b[38;5;124;43m'\u001b[39;49m\u001b[38;5;124;43mq\u001b[39;49m\u001b[38;5;124;43m'\u001b[39;49m\u001b[38;5;124;43m to quit: \u001b[39;49m\u001b[38;5;124;43m\"\u001b[39;49m\u001b[43m)\u001b[49m\n\u001b[1;32m    125\u001b[0m     \u001b[38;5;28;01mif\u001b[39;00m join_indices\u001b[38;5;241m.\u001b[39mlower() \u001b[38;5;241m==\u001b[39m \u001b[38;5;124m\"\u001b[39m\u001b[38;5;124mq\u001b[39m\u001b[38;5;124m\"\u001b[39m:\n\u001b[1;32m    126\u001b[0m         \u001b[38;5;28;01mbreak\u001b[39;00m\n",
      "File \u001b[0;32m~/Desktop/TU_e/projects/DAF/daf_hackathon/.venv/lib/python3.10/site-packages/ipykernel/kernelbase.py:1282\u001b[0m, in \u001b[0;36mKernel.raw_input\u001b[0;34m(self, prompt)\u001b[0m\n\u001b[1;32m   1280\u001b[0m     msg \u001b[38;5;241m=\u001b[39m \u001b[38;5;124m\"\u001b[39m\u001b[38;5;124mraw_input was called, but this frontend does not support input requests.\u001b[39m\u001b[38;5;124m\"\u001b[39m\n\u001b[1;32m   1281\u001b[0m     \u001b[38;5;28;01mraise\u001b[39;00m StdinNotImplementedError(msg)\n\u001b[0;32m-> 1282\u001b[0m \u001b[38;5;28;01mreturn\u001b[39;00m \u001b[38;5;28;43mself\u001b[39;49m\u001b[38;5;241;43m.\u001b[39;49m\u001b[43m_input_request\u001b[49m\u001b[43m(\u001b[49m\n\u001b[1;32m   1283\u001b[0m \u001b[43m    \u001b[49m\u001b[38;5;28;43mstr\u001b[39;49m\u001b[43m(\u001b[49m\u001b[43mprompt\u001b[49m\u001b[43m)\u001b[49m\u001b[43m,\u001b[49m\n\u001b[1;32m   1284\u001b[0m \u001b[43m    \u001b[49m\u001b[38;5;28;43mself\u001b[39;49m\u001b[38;5;241;43m.\u001b[39;49m\u001b[43m_parent_ident\u001b[49m\u001b[43m[\u001b[49m\u001b[38;5;124;43m\"\u001b[39;49m\u001b[38;5;124;43mshell\u001b[39;49m\u001b[38;5;124;43m\"\u001b[39;49m\u001b[43m]\u001b[49m\u001b[43m,\u001b[49m\n\u001b[1;32m   1285\u001b[0m \u001b[43m    \u001b[49m\u001b[38;5;28;43mself\u001b[39;49m\u001b[38;5;241;43m.\u001b[39;49m\u001b[43mget_parent\u001b[49m\u001b[43m(\u001b[49m\u001b[38;5;124;43m\"\u001b[39;49m\u001b[38;5;124;43mshell\u001b[39;49m\u001b[38;5;124;43m\"\u001b[39;49m\u001b[43m)\u001b[49m\u001b[43m,\u001b[49m\n\u001b[1;32m   1286\u001b[0m \u001b[43m    \u001b[49m\u001b[43mpassword\u001b[49m\u001b[38;5;241;43m=\u001b[39;49m\u001b[38;5;28;43;01mFalse\u001b[39;49;00m\u001b[43m,\u001b[49m\n\u001b[1;32m   1287\u001b[0m \u001b[43m\u001b[49m\u001b[43m)\u001b[49m\n",
      "File \u001b[0;32m~/Desktop/TU_e/projects/DAF/daf_hackathon/.venv/lib/python3.10/site-packages/ipykernel/kernelbase.py:1325\u001b[0m, in \u001b[0;36mKernel._input_request\u001b[0;34m(self, prompt, ident, parent, password)\u001b[0m\n\u001b[1;32m   1322\u001b[0m \u001b[38;5;28;01mexcept\u001b[39;00m \u001b[38;5;167;01mKeyboardInterrupt\u001b[39;00m:\n\u001b[1;32m   1323\u001b[0m     \u001b[38;5;66;03m# re-raise KeyboardInterrupt, to truncate traceback\u001b[39;00m\n\u001b[1;32m   1324\u001b[0m     msg \u001b[38;5;241m=\u001b[39m \u001b[38;5;124m\"\u001b[39m\u001b[38;5;124mInterrupted by user\u001b[39m\u001b[38;5;124m\"\u001b[39m\n\u001b[0;32m-> 1325\u001b[0m     \u001b[38;5;28;01mraise\u001b[39;00m \u001b[38;5;167;01mKeyboardInterrupt\u001b[39;00m(msg) \u001b[38;5;28;01mfrom\u001b[39;00m \u001b[38;5;28;01mNone\u001b[39;00m\n\u001b[1;32m   1326\u001b[0m \u001b[38;5;28;01mexcept\u001b[39;00m \u001b[38;5;167;01mException\u001b[39;00m:\n\u001b[1;32m   1327\u001b[0m     \u001b[38;5;28mself\u001b[39m\u001b[38;5;241m.\u001b[39mlog\u001b[38;5;241m.\u001b[39mwarning(\u001b[38;5;124m\"\u001b[39m\u001b[38;5;124mInvalid Message:\u001b[39m\u001b[38;5;124m\"\u001b[39m, exc_info\u001b[38;5;241m=\u001b[39m\u001b[38;5;28;01mTrue\u001b[39;00m)\n",
      "\u001b[0;31mKeyboardInterrupt\u001b[0m: Interrupted by user"
     ]
    }
   ],
   "source": [
    "import plotly.graph_objs as go\n",
    "import pandas as pd\n",
    "from datetime import datetime\n",
    "from geopy.distance import geodesic\n",
    "\n",
    "# Function to join two traces\n",
    "def join_traces(trace_indices, traces):\n",
    "    joined_trace = {\n",
    "        \"lon\": [],\n",
    "        \"lat\": [],\n",
    "        \"marker_color\": traces[trace_indices[0]][\"marker\"][\"color\"],\n",
    "        \"line_color\": traces[trace_indices[0]][\"line\"][\"color\"],\n",
    "    }\n",
    "    for index in trace_indices:\n",
    "        trace = traces[index]\n",
    "        joined_trace[\"lon\"].extend(trace[\"lon\"])\n",
    "        joined_trace[\"lat\"].extend(trace[\"lat\"])\n",
    "    return joined_trace\n",
    "\n",
    "# Load data from CSV\n",
    "df = pd.read_csv('truck.csv')\n",
    "\n",
    "# Extract latitude and longitude data and filter out invalid coordinates\n",
    "latitudes = df[\"snapshotData_gnssPosition_latitude\"]\n",
    "longitudes = df[\"snapshotData_gnssPosition_longitude\"]\n",
    "valid_coords = [(lat, lon) for lat, lon in zip(latitudes, longitudes) if lat != -9999.0 and lon != -9999.0]\n",
    "\n",
    "# Calculate distance between consecutive valid points\n",
    "distances = [0]  # Start with 0 distance for the first point\n",
    "for i in range(1, len(valid_coords)):\n",
    "    coord1 = valid_coords[i - 1]\n",
    "    coord2 = valid_coords[i]\n",
    "    distances.append(geodesic(coord1, coord2).kilometers)\n",
    "\n",
    "# Extract time data and filter out invalid timestamps\n",
    "timestamps = df[\"snapshotData_gnssPosition_positionDateTime\"]\n",
    "valid_timestamps = []\n",
    "for ts in timestamps:\n",
    "    try:\n",
    "        valid_timestamps.append(datetime.strptime(str(ts), \"%Y-%m-%dT%H:%M:%S.%fZ\"))\n",
    "    except ValueError:\n",
    "        pass  # Skip invalid timestamps\n",
    "\n",
    "# Define thresholds for distance and time differences to decide whether to start a new trace\n",
    "distance_threshold = 110  # Adjust this threshold as needed\n",
    "time_threshold = 60 * 60  # 1 hour (in seconds), adjust as needed\n",
    "\n",
    "# Create a list to store the traces for different journeys\n",
    "traces = []\n",
    "\n",
    "# Initialize color index\n",
    "color_index = 0\n",
    "\n",
    "# Iterate through the timestamps and create traces for each journey\n",
    "journey_trace = []\n",
    "prev_timestamp = valid_timestamps[0]\n",
    "for i, (timestamp, coord, distance) in enumerate(zip(valid_timestamps, valid_coords, distances)):\n",
    "    time_diff = (timestamp - prev_timestamp).total_seconds()\n",
    "    if time_diff > time_threshold or distance > distance_threshold:\n",
    "        # Add the current journey trace to the list of traces\n",
    "        if \"REST\" in str(df.iloc[i-1][\"snapshotData_driver1WorkingState\"]):\n",
    "            point_color = \"blue\"\n",
    "        else:\n",
    "            point_color = f\"rgb({color_index * 50}, {255 - color_index * 50}, 0)\"\n",
    "        traces.append(go.Scattermapbox(\n",
    "            mode=\"lines+markers\",\n",
    "            lon=[point[1] for point in journey_trace],\n",
    "            lat=[point[0] for point in journey_trace],\n",
    "            marker=dict(\n",
    "                size=10,\n",
    "                color=point_color,\n",
    "            ),\n",
    "            line=dict(\n",
    "                color=point_color,\n",
    "                width=2,\n",
    "            ),\n",
    "        ))\n",
    "        # Start a new journey trace\n",
    "        journey_trace = []\n",
    "        color_index = (color_index + 1) % 5  # Cycle through 5 colors\n",
    "    journey_trace.append(coord)\n",
    "    prev_timestamp = timestamp\n",
    "\n",
    "# Add the last journey trace to the list of traces\n",
    "if \"REST\" in str(df.iloc[-1][\"snapshotData_driver1WorkingState\"]):\n",
    "    point_color = \"blue\"\n",
    "else:\n",
    "    point_color = f\"rgb({color_index * 50}, {255 - color_index * 50}, 0)\"\n",
    "traces.append(go.Scattermapbox(\n",
    "    mode=\"lines+markers\",\n",
    "    lon=[point[1] for point in journey_trace],\n",
    "    lat=[point[0] for point in journey_trace],\n",
    "    marker=dict(\n",
    "        size=10,\n",
    "        color=point_color,\n",
    "    ),\n",
    "    line=dict(\n",
    "        color=point_color,\n",
    "        width=2,\n",
    "    ),\n",
    "))\n",
    "\n",
    "# Create layout for the map\n",
    "layout = go.Layout(\n",
    "    height=600, width=1000,\n",
    "    autosize=True,\n",
    "    hovermode=\"closest\",\n",
    "    mapbox=dict(\n",
    "        center=dict(\n",
    "            lat=52.1326,\n",
    "            lon=5.2913,\n",
    "        ),\n",
    "        style=\"open-street-map\",\n",
    "        zoom=5,\n",
    "    ),\n",
    ")\n",
    "\n",
    "# Plot the initial map\n",
    "fig = go.Figure(data=traces, layout=layout)\n",
    "fig.show()\n",
    "\n",
    "# Input prompt for joining traces\n",
    "while True:\n",
    "    join_indices = input(\"Enter the indices of the two traces you want to join (comma-separated, e.g., '0,1'), or enter 'q' to quit: \")\n",
    "    if join_indices.lower() == \"q\":\n",
    "        break\n",
    "    try:\n",
    "        index1, index2 = map(int, join_indices.split(\",\"))\n",
    "        if index1 < 0 or index1 >= len(traces) or index2 < 0 or index2 >= len(traces):\n",
    "            print(\"Invalid indices. Please enter valid indices.\")\n",
    "        else:\n",
    "            # Join the selected traces\n",
    "            joined_trace = join_traces([index1, index2], traces)\n",
    "            # Remove the original traces\n",
    "            traces = [trace for i, trace in enumerate(traces) if i not in [index1, index2]]\n",
    "            # Append the joined trace\n",
    "            traces.append(go.Scattermapbox(\n",
    "                mode=\"lines+markers\",\n",
    "                lon=joined_trace[\"lon\"],\n",
    "                lat=joined_trace[\"lat\"],\n",
    "                marker=dict(\n",
    "                    size=10,\n",
    "                    color=joined_trace[\"marker_color\"],\n",
    "                ),\n",
    "                line=dict(\n",
    "                    color=joined_trace[\"line_color\"],\n",
    "                    width=2,\n",
    "                ),\n",
    "            ))\n",
    "            # Update the plot\n",
    "            fig = go.Figure(data=traces, layout=layout)\n",
    "            fig.show()\n",
    "    except ValueError:\n",
    "        print(\"Invalid input format. Please enter comma-separated indices (e.g., '0,1').\")\n"
   ]
  },
  {
   "cell_type": "code",
   "execution_count": null,
   "metadata": {},
   "outputs": [],
   "source": []
  }
 ],
 "metadata": {
  "kernelspec": {
   "display_name": ".venv",
   "language": "python",
   "name": "python3"
  },
  "language_info": {
   "codemirror_mode": {
    "name": "ipython",
    "version": 3
   },
   "file_extension": ".py",
   "mimetype": "text/x-python",
   "name": "python",
   "nbconvert_exporter": "python",
   "pygments_lexer": "ipython3",
   "version": "3.10.13"
  }
 },
 "nbformat": 4,
 "nbformat_minor": 2
}
