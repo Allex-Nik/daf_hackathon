{
 "cells": [
  {
   "cell_type": "code",
   "execution_count": 2,
   "metadata": {},
   "outputs": [],
   "source": [
    "import pandas as pd"
   ]
  },
  {
   "cell_type": "code",
   "execution_count": 3,
   "metadata": {},
   "outputs": [],
   "source": [
    "df = pd.read_pickle('../data/Truck_ride.pkl')"
   ]
  },
  {
   "cell_type": "code",
   "execution_count": 4,
   "metadata": {},
   "outputs": [
    {
     "data": {
      "text/html": [
       "<div>\n",
       "<style scoped>\n",
       "    .dataframe tbody tr th:only-of-type {\n",
       "        vertical-align: middle;\n",
       "    }\n",
       "\n",
       "    .dataframe tbody tr th {\n",
       "        vertical-align: top;\n",
       "    }\n",
       "\n",
       "    .dataframe thead th {\n",
       "        text-align: right;\n",
       "    }\n",
       "</style>\n",
       "<table border=\"1\" class=\"dataframe\">\n",
       "  <thead>\n",
       "    <tr style=\"text-align: right;\">\n",
       "      <th></th>\n",
       "      <th>vin</th>\n",
       "      <th>triggerType_triggerType</th>\n",
       "      <th>triggerType_context</th>\n",
       "      <th>createdDateTime</th>\n",
       "      <th>receivedDateTime</th>\n",
       "      <th>hrTotalVehicleDistance</th>\n",
       "      <th>totalEngineHours</th>\n",
       "      <th>grossCombinationVehicleWeight</th>\n",
       "      <th>snapshotData_gnssPosition_latitude</th>\n",
       "      <th>snapshotData_gnssPosition_longitude</th>\n",
       "      <th>...</th>\n",
       "      <th>snapshotData_wheelBasedSpeed</th>\n",
       "      <th>snapshotData_fuelType</th>\n",
       "      <th>snapshotData_fuelLevel1</th>\n",
       "      <th>snapshotData_catalystFuelLevel</th>\n",
       "      <th>snapshotData_driver1WorkingState</th>\n",
       "      <th>snapshotData_driver2WorkingState</th>\n",
       "      <th>snapshotData_ambientAirTemperature</th>\n",
       "      <th>uptimeData_engineCoolantTemperature</th>\n",
       "      <th>uptimeData_serviceBrakeAirPressureCircuit1</th>\n",
       "      <th>uptimeData_serviceBrakeAirPressureCircuit2</th>\n",
       "    </tr>\n",
       "  </thead>\n",
       "  <tbody>\n",
       "    <tr>\n",
       "      <th>0</th>\n",
       "      <td>XLRTEF5300G450805</td>\n",
       "      <td>IGNITION_ON</td>\n",
       "      <td>RFMS</td>\n",
       "      <td>2024-03-27T05:30:02.334Z</td>\n",
       "      <td>2024-03-27T05:31:20.694Z</td>\n",
       "      <td>83648285</td>\n",
       "      <td>0</td>\n",
       "      <td>0</td>\n",
       "      <td>51.264967</td>\n",
       "      <td>4.283523</td>\n",
       "      <td>...</td>\n",
       "      <td>0.0</td>\n",
       "      <td>Diesel</td>\n",
       "      <td>0.0</td>\n",
       "      <td>99</td>\n",
       "      <td>REST</td>\n",
       "      <td>REST</td>\n",
       "      <td>20</td>\n",
       "      <td>21</td>\n",
       "      <td>2040</td>\n",
       "      <td>2040</td>\n",
       "    </tr>\n",
       "    <tr>\n",
       "      <th>1</th>\n",
       "      <td>XLRTEF5300G450805</td>\n",
       "      <td>DRIVER_1_WORKING_STATE_CHANGED</td>\n",
       "      <td>RFMS</td>\n",
       "      <td>2024-03-27T05:30:19.634Z</td>\n",
       "      <td>2024-03-27T05:31:35.615Z</td>\n",
       "      <td>83648285</td>\n",
       "      <td>0</td>\n",
       "      <td>0</td>\n",
       "      <td>51.264968</td>\n",
       "      <td>4.283523</td>\n",
       "      <td>...</td>\n",
       "      <td>0.0</td>\n",
       "      <td>Diesel</td>\n",
       "      <td>99.2</td>\n",
       "      <td>0</td>\n",
       "      <td>REST</td>\n",
       "      <td>REST</td>\n",
       "      <td>0</td>\n",
       "      <td>0</td>\n",
       "      <td>0</td>\n",
       "      <td>0</td>\n",
       "    </tr>\n",
       "    <tr>\n",
       "      <th>2</th>\n",
       "      <td>XLRTEF5300G450805</td>\n",
       "      <td>TIMER</td>\n",
       "      <td>RFMS</td>\n",
       "      <td>2024-03-27T05:31:00.010Z</td>\n",
       "      <td>2024-03-27T05:32:09.086Z</td>\n",
       "      <td>83648285</td>\n",
       "      <td>1703</td>\n",
       "      <td>655350</td>\n",
       "      <td>51.264968</td>\n",
       "      <td>4.283523</td>\n",
       "      <td>...</td>\n",
       "      <td>0.0</td>\n",
       "      <td>Diesel</td>\n",
       "      <td>99.2</td>\n",
       "      <td>99</td>\n",
       "      <td>WORK</td>\n",
       "      <td>REST</td>\n",
       "      <td>7</td>\n",
       "      <td>21</td>\n",
       "      <td>528</td>\n",
       "      <td>528</td>\n",
       "    </tr>\n",
       "    <tr>\n",
       "      <th>3</th>\n",
       "      <td>XLRTEF5300G450805</td>\n",
       "      <td>ENGINE_ON</td>\n",
       "      <td>RFMS</td>\n",
       "      <td>2024-03-27T05:31:00.981Z</td>\n",
       "      <td>2024-03-27T05:32:10.642Z</td>\n",
       "      <td>83648285</td>\n",
       "      <td>0</td>\n",
       "      <td>655350</td>\n",
       "      <td>51.264968</td>\n",
       "      <td>4.283523</td>\n",
       "      <td>...</td>\n",
       "      <td>0.0</td>\n",
       "      <td>Diesel</td>\n",
       "      <td>99.2</td>\n",
       "      <td>99</td>\n",
       "      <td>WORK</td>\n",
       "      <td>REST</td>\n",
       "      <td>7</td>\n",
       "      <td>21</td>\n",
       "      <td>528</td>\n",
       "      <td>528</td>\n",
       "    </tr>\n",
       "    <tr>\n",
       "      <th>4</th>\n",
       "      <td>XLRTEF5300G450805</td>\n",
       "      <td>TIMER</td>\n",
       "      <td>RFMS</td>\n",
       "      <td>2024-03-27T05:33:44.881Z</td>\n",
       "      <td>2024-03-27T05:34:54.411Z</td>\n",
       "      <td>83648290</td>\n",
       "      <td>1703</td>\n",
       "      <td>655350</td>\n",
       "      <td>51.264961</td>\n",
       "      <td>4.283535</td>\n",
       "      <td>...</td>\n",
       "      <td>4.0</td>\n",
       "      <td>Diesel</td>\n",
       "      <td>99.2</td>\n",
       "      <td>99</td>\n",
       "      <td>WORK</td>\n",
       "      <td>REST</td>\n",
       "      <td>7</td>\n",
       "      <td>29</td>\n",
       "      <td>944</td>\n",
       "      <td>944</td>\n",
       "    </tr>\n",
       "    <tr>\n",
       "      <th>...</th>\n",
       "      <td>...</td>\n",
       "      <td>...</td>\n",
       "      <td>...</td>\n",
       "      <td>...</td>\n",
       "      <td>...</td>\n",
       "      <td>...</td>\n",
       "      <td>...</td>\n",
       "      <td>...</td>\n",
       "      <td>...</td>\n",
       "      <td>...</td>\n",
       "      <td>...</td>\n",
       "      <td>...</td>\n",
       "      <td>...</td>\n",
       "      <td>...</td>\n",
       "      <td>...</td>\n",
       "      <td>...</td>\n",
       "      <td>...</td>\n",
       "      <td>...</td>\n",
       "      <td>...</td>\n",
       "      <td>...</td>\n",
       "      <td>...</td>\n",
       "    </tr>\n",
       "    <tr>\n",
       "      <th>3495</th>\n",
       "      <td>XLRTEF5300G450805</td>\n",
       "      <td>DRIVER_1_WORKING_STATE_CHANGED</td>\n",
       "      <td>RFMS</td>\n",
       "      <td>2024-06-04T07:29:51.710Z</td>\n",
       "      <td>2024-06-04T07:30:26.081Z</td>\n",
       "      <td>112132250</td>\n",
       "      <td>0</td>\n",
       "      <td>0</td>\n",
       "      <td>47.837051</td>\n",
       "      <td>7.395467</td>\n",
       "      <td>...</td>\n",
       "      <td>0.0</td>\n",
       "      <td>Diesel</td>\n",
       "      <td>25.2</td>\n",
       "      <td>0</td>\n",
       "      <td>WORK</td>\n",
       "      <td>DRIVER_AVAILABLE</td>\n",
       "      <td>0</td>\n",
       "      <td>0</td>\n",
       "      <td>0</td>\n",
       "      <td>0</td>\n",
       "    </tr>\n",
       "    <tr>\n",
       "      <th>3496</th>\n",
       "      <td>XLRTEF5300G450805</td>\n",
       "      <td>TIMER</td>\n",
       "      <td>RFMS</td>\n",
       "      <td>2024-06-04T07:29:55.060Z</td>\n",
       "      <td>2024-06-04T07:30:30.192Z</td>\n",
       "      <td>112132245</td>\n",
       "      <td>2161</td>\n",
       "      <td>38800</td>\n",
       "      <td>47.837001</td>\n",
       "      <td>7.395462</td>\n",
       "      <td>...</td>\n",
       "      <td>2.0</td>\n",
       "      <td>Diesel</td>\n",
       "      <td>25.2</td>\n",
       "      <td>80</td>\n",
       "      <td>DRIVE</td>\n",
       "      <td>DRIVER_AVAILABLE</td>\n",
       "      <td>13</td>\n",
       "      <td>84</td>\n",
       "      <td>1000</td>\n",
       "      <td>1000</td>\n",
       "    </tr>\n",
       "    <tr>\n",
       "      <th>3497</th>\n",
       "      <td>XLRTEF5300G450805</td>\n",
       "      <td>IGNITION_OFF</td>\n",
       "      <td>RFMS</td>\n",
       "      <td>2024-06-04T07:29:55.844Z</td>\n",
       "      <td>2024-06-04T07:30:31.691Z</td>\n",
       "      <td>0</td>\n",
       "      <td>0</td>\n",
       "      <td>0</td>\n",
       "      <td>47.837100</td>\n",
       "      <td>7.395470</td>\n",
       "      <td>...</td>\n",
       "      <td>0.0</td>\n",
       "      <td>Diesel</td>\n",
       "      <td>25.2</td>\n",
       "      <td>102</td>\n",
       "      <td>None</td>\n",
       "      <td>None</td>\n",
       "      <td>13</td>\n",
       "      <td>83</td>\n",
       "      <td>0</td>\n",
       "      <td>0</td>\n",
       "    </tr>\n",
       "    <tr>\n",
       "      <th>3498</th>\n",
       "      <td>XLRTEF5300G450805</td>\n",
       "      <td>ENGINE_OFF</td>\n",
       "      <td>RFMS</td>\n",
       "      <td>2024-06-04T07:29:58.481Z</td>\n",
       "      <td>2024-06-04T07:30:32.300Z</td>\n",
       "      <td>0</td>\n",
       "      <td>0</td>\n",
       "      <td>0</td>\n",
       "      <td>47.837050</td>\n",
       "      <td>7.395468</td>\n",
       "      <td>...</td>\n",
       "      <td>0.0</td>\n",
       "      <td>Diesel</td>\n",
       "      <td>25.2</td>\n",
       "      <td>102</td>\n",
       "      <td>None</td>\n",
       "      <td>None</td>\n",
       "      <td>13</td>\n",
       "      <td>83</td>\n",
       "      <td>0</td>\n",
       "      <td>0</td>\n",
       "    </tr>\n",
       "    <tr>\n",
       "      <th>3499</th>\n",
       "      <td>XLRTEF5300G450805</td>\n",
       "      <td>TIMER</td>\n",
       "      <td>RFMS</td>\n",
       "      <td>2024-06-04T07:31:12.013Z</td>\n",
       "      <td>2024-06-04T07:31:46.876Z</td>\n",
       "      <td>0</td>\n",
       "      <td>0</td>\n",
       "      <td>0</td>\n",
       "      <td>47.837050</td>\n",
       "      <td>7.395469</td>\n",
       "      <td>...</td>\n",
       "      <td>0.0</td>\n",
       "      <td>Diesel</td>\n",
       "      <td>0.0</td>\n",
       "      <td>0</td>\n",
       "      <td>None</td>\n",
       "      <td>None</td>\n",
       "      <td>0</td>\n",
       "      <td>0</td>\n",
       "      <td>0</td>\n",
       "      <td>0</td>\n",
       "    </tr>\n",
       "  </tbody>\n",
       "</table>\n",
       "<p>3164 rows × 23 columns</p>\n",
       "</div>"
      ],
      "text/plain": [
       "                    vin         triggerType_triggerType triggerType_context  \\\n",
       "0     XLRTEF5300G450805                     IGNITION_ON                RFMS   \n",
       "1     XLRTEF5300G450805  DRIVER_1_WORKING_STATE_CHANGED                RFMS   \n",
       "2     XLRTEF5300G450805                           TIMER                RFMS   \n",
       "3     XLRTEF5300G450805                       ENGINE_ON                RFMS   \n",
       "4     XLRTEF5300G450805                           TIMER                RFMS   \n",
       "...                 ...                             ...                 ...   \n",
       "3495  XLRTEF5300G450805  DRIVER_1_WORKING_STATE_CHANGED                RFMS   \n",
       "3496  XLRTEF5300G450805                           TIMER                RFMS   \n",
       "3497  XLRTEF5300G450805                    IGNITION_OFF                RFMS   \n",
       "3498  XLRTEF5300G450805                      ENGINE_OFF                RFMS   \n",
       "3499  XLRTEF5300G450805                           TIMER                RFMS   \n",
       "\n",
       "               createdDateTime          receivedDateTime  \\\n",
       "0     2024-03-27T05:30:02.334Z  2024-03-27T05:31:20.694Z   \n",
       "1     2024-03-27T05:30:19.634Z  2024-03-27T05:31:35.615Z   \n",
       "2     2024-03-27T05:31:00.010Z  2024-03-27T05:32:09.086Z   \n",
       "3     2024-03-27T05:31:00.981Z  2024-03-27T05:32:10.642Z   \n",
       "4     2024-03-27T05:33:44.881Z  2024-03-27T05:34:54.411Z   \n",
       "...                        ...                       ...   \n",
       "3495  2024-06-04T07:29:51.710Z  2024-06-04T07:30:26.081Z   \n",
       "3496  2024-06-04T07:29:55.060Z  2024-06-04T07:30:30.192Z   \n",
       "3497  2024-06-04T07:29:55.844Z  2024-06-04T07:30:31.691Z   \n",
       "3498  2024-06-04T07:29:58.481Z  2024-06-04T07:30:32.300Z   \n",
       "3499  2024-06-04T07:31:12.013Z  2024-06-04T07:31:46.876Z   \n",
       "\n",
       "      hrTotalVehicleDistance  totalEngineHours  grossCombinationVehicleWeight  \\\n",
       "0                   83648285                 0                              0   \n",
       "1                   83648285                 0                              0   \n",
       "2                   83648285              1703                         655350   \n",
       "3                   83648285                 0                         655350   \n",
       "4                   83648290              1703                         655350   \n",
       "...                      ...               ...                            ...   \n",
       "3495               112132250                 0                              0   \n",
       "3496               112132245              2161                          38800   \n",
       "3497                       0                 0                              0   \n",
       "3498                       0                 0                              0   \n",
       "3499                       0                 0                              0   \n",
       "\n",
       "      snapshotData_gnssPosition_latitude  snapshotData_gnssPosition_longitude  \\\n",
       "0                              51.264967                             4.283523   \n",
       "1                              51.264968                             4.283523   \n",
       "2                              51.264968                             4.283523   \n",
       "3                              51.264968                             4.283523   \n",
       "4                              51.264961                             4.283535   \n",
       "...                                  ...                                  ...   \n",
       "3495                           47.837051                             7.395467   \n",
       "3496                           47.837001                             7.395462   \n",
       "3497                           47.837100                             7.395470   \n",
       "3498                           47.837050                             7.395468   \n",
       "3499                           47.837050                             7.395469   \n",
       "\n",
       "      ...  snapshotData_wheelBasedSpeed  snapshotData_fuelType  \\\n",
       "0     ...                           0.0                 Diesel   \n",
       "1     ...                           0.0                 Diesel   \n",
       "2     ...                           0.0                 Diesel   \n",
       "3     ...                           0.0                 Diesel   \n",
       "4     ...                           4.0                 Diesel   \n",
       "...   ...                           ...                    ...   \n",
       "3495  ...                           0.0                 Diesel   \n",
       "3496  ...                           2.0                 Diesel   \n",
       "3497  ...                           0.0                 Diesel   \n",
       "3498  ...                           0.0                 Diesel   \n",
       "3499  ...                           0.0                 Diesel   \n",
       "\n",
       "     snapshotData_fuelLevel1  snapshotData_catalystFuelLevel  \\\n",
       "0                        0.0                              99   \n",
       "1                       99.2                               0   \n",
       "2                       99.2                              99   \n",
       "3                       99.2                              99   \n",
       "4                       99.2                              99   \n",
       "...                      ...                             ...   \n",
       "3495                    25.2                               0   \n",
       "3496                    25.2                              80   \n",
       "3497                    25.2                             102   \n",
       "3498                    25.2                             102   \n",
       "3499                     0.0                               0   \n",
       "\n",
       "     snapshotData_driver1WorkingState  snapshotData_driver2WorkingState  \\\n",
       "0                                REST                              REST   \n",
       "1                                REST                              REST   \n",
       "2                                WORK                              REST   \n",
       "3                                WORK                              REST   \n",
       "4                                WORK                              REST   \n",
       "...                               ...                               ...   \n",
       "3495                             WORK                  DRIVER_AVAILABLE   \n",
       "3496                            DRIVE                  DRIVER_AVAILABLE   \n",
       "3497                             None                              None   \n",
       "3498                             None                              None   \n",
       "3499                             None                              None   \n",
       "\n",
       "      snapshotData_ambientAirTemperature uptimeData_engineCoolantTemperature  \\\n",
       "0                                     20                                  21   \n",
       "1                                      0                                   0   \n",
       "2                                      7                                  21   \n",
       "3                                      7                                  21   \n",
       "4                                      7                                  29   \n",
       "...                                  ...                                 ...   \n",
       "3495                                   0                                   0   \n",
       "3496                                  13                                  84   \n",
       "3497                                  13                                  83   \n",
       "3498                                  13                                  83   \n",
       "3499                                   0                                   0   \n",
       "\n",
       "     uptimeData_serviceBrakeAirPressureCircuit1  \\\n",
       "0                                          2040   \n",
       "1                                             0   \n",
       "2                                           528   \n",
       "3                                           528   \n",
       "4                                           944   \n",
       "...                                         ...   \n",
       "3495                                          0   \n",
       "3496                                       1000   \n",
       "3497                                          0   \n",
       "3498                                          0   \n",
       "3499                                          0   \n",
       "\n",
       "      uptimeData_serviceBrakeAirPressureCircuit2  \n",
       "0                                           2040  \n",
       "1                                              0  \n",
       "2                                            528  \n",
       "3                                            528  \n",
       "4                                            944  \n",
       "...                                          ...  \n",
       "3495                                           0  \n",
       "3496                                        1000  \n",
       "3497                                           0  \n",
       "3498                                           0  \n",
       "3499                                           0  \n",
       "\n",
       "[3164 rows x 23 columns]"
      ]
     },
     "execution_count": 4,
     "metadata": {},
     "output_type": "execute_result"
    }
   ],
   "source": [
    "df"
   ]
  },
  {
   "cell_type": "code",
   "execution_count": null,
   "metadata": {},
   "outputs": [],
   "source": [
    "import base64\n",
    "import requests \n",
    "import warnings\n",
    "\n",
    "import numpy as np\n",
    "import pandas as pd\n",
    "import seaborn as sns\n",
    "import scipy.stats as stats\n",
    "import plotly.express as px\n",
    "import matplotlib.pyplot as plt\n",
    "import plotly.graph_objects as go\n",
    "\n",
    "from sklearn.cluster import KMeans\n",
    "from sklearn.covariance import EllipticEnvelope\n",
    "from sklearn.decomposition import PCA\n",
    "from datetime import datetime, timedelta\n",
    "\n",
    "warnings.filterwarnings('ignore')\n",
    "\n",
    "\n",
    "def get_truck_info(vin=\"XLRTEF5300G450805\", start_date=\"2024-03-25\", end_date=\"2024-06-03\"):\n",
    "\n",
    "    auth_URL = 'https://api.connect.daf.com/rfms/token'\n",
    "    base_URL = 'https://api.connect.daf.com'\n",
    "\n",
    "    username= \"Hackathon_4@daftrucks.com\"\n",
    "    password = \"Team4Hackathon!\"\n",
    "    creds = username +':' + password\n",
    "    creds_bytes = creds.encode('ascii')\n",
    "    base64_bytes = base64.b64encode(creds_bytes)\n",
    "    base64_message = base64_bytes.decode('ascii')\n",
    "    headers = {\n",
    "    'Authorization': 'Basic ' + base64_message }\n",
    "\n",
    "    r = requests.post(auth_URL, headers=headers, verify=False)\n",
    "    jsondata = r.json()\n",
    "    token = jsondata.get('access_token')\n",
    "\n",
    "    datetype ='&datetype=received'\n",
    "    triggerfilter = '&Triggerfilter=DRIVER_1_WORKING_STATE_CHANGED'\n",
    "\n",
    "    header = {\n",
    "    'Authorization': 'Bearer ' + token,\n",
    "    'Accept': 'application/vnd.fmsstandard.com.vehiclestatuses.v3.0+json; UTF-8'}\n",
    "\n",
    "    data = []\n",
    "    current_date = datetime.strptime(start_date, \"%Y-%m-%d\")\n",
    "    end_date = datetime.strptime(end_date, \"%Y-%m-%d\")\n",
    "    \n",
    "    while current_date <= end_date:\n",
    "        starttime = current_date.strftime(\"%Y-%m-%d\") + \"T23:59:59.999Z\"\n",
    "        stoptime = (current_date + timedelta(days=1)).strftime(\"%Y-%m-%d\") + \"T23:59:59.999Z\"\n",
    "\n",
    "        myurl = base_URL+'/rfms/vehiclestatuses?vin=' + vin +'&starttime=' + starttime\n",
    "\n",
    "        req = requests.get(myurl, headers=header, verify=False)\n",
    "        # print(jsondata)\n",
    "        jsondata=req.json()\n",
    "        print(jsondata)\n",
    "\n",
    "\n",
    "\n",
    "        for i in jsondata['vehicleStatusResponse']['vehicleStatuses']:\n",
    "            dat=[]\n",
    "            dat.append(i['vin'])\n",
    "            dat.append(i['triggerType']['triggerType'])\n",
    "            dat.append(i['triggerType']['context'])\n",
    "            dat.append(i['createdDateTime'])\n",
    "            dat.append(i['receivedDateTime'])\n",
    "            try:\n",
    "                dat.append(i['hrTotalVehicleDistance'])\n",
    "            except Exception:\n",
    "                dat.append(0)\n",
    "\n",
    "            try:\n",
    "                dat.append(i['totalEngineHours'])\n",
    "            except Exception:\n",
    "                dat.append(0)\n",
    "\n",
    "            try:\n",
    "                dat.append(i['grossCombinationVehicleWeight'])\n",
    "            except Exception:\n",
    "                dat.append(0)\n",
    "\n",
    "            try:\n",
    "                dat.append(i['snapshotData']['gnssPosition']['latitude'])\n",
    "            except Exception:\n",
    "                dat.append(-9999)\n",
    "\n",
    "            try:\n",
    "                dat.append(i['snapshotData']['gnssPosition']['longitude'])\n",
    "            except Exception:\n",
    "                dat.append(-9999)\n",
    "\n",
    "            try:\n",
    "                dat.append(i['snapshotData']['gnssPosition']['heading'])\n",
    "            except Exception:\n",
    "                dat.append(-9999)\n",
    "\n",
    "            try:\n",
    "                dat.append(i['snapshotData']['gnssPosition']['speed'])\n",
    "            except Exception:\n",
    "                dat.append(-9999)\n",
    "\n",
    "            try:\n",
    "                dat.append(i['snapshotData']['gnssPosition']['positionDateTime'])\n",
    "            except Exception:\n",
    "                dat.append(None)\n",
    "\n",
    "            try:\n",
    "                dat.append(i['snapshotData']['wheelBasedSpeed'])\n",
    "            except Exception:\n",
    "                dat.append(0)\n",
    "\n",
    "            dat.append(i['snapshotData']['fuelType'])\n",
    "\n",
    "            try:\n",
    "                dat.append(i['snapshotData']['fuelLevel1'])\n",
    "            except Exception:\n",
    "                dat.append(0)\n",
    "\n",
    "            try:\n",
    "                dat.append(i['snapshotData']['catalystFuelLevel'])\n",
    "            except Exception:\n",
    "                dat.append(0)\n",
    "\n",
    "            try:\n",
    "                dat.append(i['snapshotData']['driver1WorkingState'])\n",
    "            except Exception:\n",
    "                dat.append(None)\n",
    "\n",
    "            try:\n",
    "                dat.append(i['snapshotData']['driver2WorkingState'])\n",
    "            except Exception:\n",
    "                dat.append(None)\n",
    "\n",
    "            try:\n",
    "                dat.append(i['snapshotData']['ambientAirTemperature'])\n",
    "            except Exception:\n",
    "                dat.append(0)\n",
    "\n",
    "            try:\n",
    "                dat.append(i['uptimeData']['engineCoolantTemperature'])\n",
    "            except Exception:\n",
    "                dat.append(0)\n",
    "            try:\n",
    "                dat.append(i['uptimeData']['serviceBrakeAirPressureCircuit1'])\n",
    "            except Exception:\n",
    "                dat.append(0)\n",
    "\n",
    "            try:\n",
    "                dat.append(i['uptimeData']['serviceBrakeAirPressureCircuit2'])\n",
    "            except Exception:\n",
    "                dat.append(0)\n",
    "\n",
    "            data.append(dat)\n",
    "\n",
    "        current_date += timedelta(days=1)\n",
    "\n",
    "    df = pd.DataFrame(data, columns=['vin', 'triggerType_triggerType',\n",
    "                                        'triggerType_context','createdDateTime',\"receivedDateTime\",\n",
    "                                        \"hrTotalVehicleDistance\",\"totalEngineHours\",\"grossCombinationVehicleWeight\",\n",
    "                                        'snapshotData_gnssPosition_latitude','snapshotData_gnssPosition_longitude',\n",
    "                                        \"snapshotData_gnssPosition_heading\",\"snapshotData_gnssPosition_speed\",\n",
    "                                        \"snapshotData_gnssPosition_positionDateTime\",\n",
    "                                        'snapshotData_wheelBasedSpeed','snapshotData_fuelType',\n",
    "                                        'snapshotData_fuelLevel1','snapshotData_catalystFuelLevel',\n",
    "                                        'snapshotData_driver1WorkingState','snapshotData_driver2WorkingState',\n",
    "                                        'snapshotData_ambientAirTemperature','uptimeData_engineCoolantTemperature',\n",
    "                                        'uptimeData_serviceBrakeAirPressureCircuit1','uptimeData_serviceBrakeAirPressureCircuit2'])\n",
    "\n",
    "    df.drop_duplicates(inplace=True)\n",
    "    \n",
    "    return df\n",
    "\n",
    "\n",
    "def get_dates_online():\n",
    "    \n",
    "    # Get today's date\n",
    "    today = datetime.today().date()\n",
    "\n",
    "    # Calculate the date 70 days before today\n",
    "    days_before = today - timedelta(days=70)\n",
    "\n",
    "    # Format the dates as YYYY-MM-DD\n",
    "    today_str = today.strftime('%Y-%m-%d')\n",
    "    days_before_str = days_before.strftime('%Y-%m-%d')\n",
    "\n",
    "    # Create the tuple\n",
    "    return today_str, days_before_str\n",
    "\n",
    "# get the dates\n",
    "end_date, start_date = get_dates_online()\n",
    "\n",
    "df_truck = get_truck_info(start_date=start_date, end_date=end_date)"
   ]
  },
  {
   "cell_type": "code",
   "execution_count": 5,
   "metadata": {},
   "outputs": [],
   "source": [
    "df.to_csv('truck.csv')"
   ]
  },
  {
   "cell_type": "code",
   "execution_count": 2,
   "metadata": {},
   "outputs": [
    {
     "data": {
      "application/vnd.plotly.v1+json": {
       "config": {
        "plotlyServerURL": "https://plot.ly"
       },
       "data": [
        {
         "lat": [
          47.660738,
          47.6608,
          47.6608,
          47.660777,
          47.660777,
          47.660247,
          47.689476,
          47.733131,
          47.737591,
          47.76741,
          47.787966,
          47.78705,
          47.771614,
          47.778064,
          47.820843,
          47.860163,
          47.87557,
          47.877559,
          47.88715,
          47.889468,
          47.915855,
          47.946226,
          47.95187,
          47.983876,
          48.021518,
          48.067743,
          48.097292,
          48.123244,
          48.179698,
          48.226795,
          48.274207,
          48.281131,
          48.302772,
          48.344824,
          48.378802,
          48.386803,
          48.386789,
          48.386924,
          48.386924,
          48.38693,
          48.38693,
          48.386921,
          48.386919,
          48.386919,
          48.386919,
          48.387124,
          48.386918
         ],
         "line": {
          "color": "rgb(0, 255, 0)",
          "width": 2
         },
         "lon": [
          -2.971431,
          -2.97141,
          -2.97141,
          -2.971371,
          -2.971371,
          -2.972944,
          -3.032709,
          -3.092191,
          -3.095817,
          -3.161776,
          -3.244837,
          -3.330853,
          -3.384574,
          -3.410667,
          -3.46702,
          -3.535753,
          -3.618046,
          -3.642092,
          -3.706178,
          -3.793085,
          -3.873849,
          -3.935412,
          -3.945085,
          -4.018952,
          -4.083167,
          -4.04832,
          -4.032166,
          -4.022294,
          -4.044471,
          -4.080597,
          -4.118176,
          -4.127288,
          -4.182603,
          -4.231289,
          -4.287655,
          -4.459312,
          -4.459333,
          -4.459145,
          -4.459145,
          -4.459144,
          -4.459144,
          -4.459128,
          -4.459122,
          -4.459122,
          -4.459122,
          -4.458898,
          -4.459122
         ],
         "marker": {
          "color": "rgb(0, 255, 0)",
          "size": 10
         },
         "mode": "lines+markers",
         "type": "scattermapbox"
        }
       ],
       "layout": {
        "autosize": true,
        "height": 600,
        "hovermode": "closest",
        "mapbox": {
         "center": {
          "lat": 52.1326,
          "lon": 5.2913
         },
         "style": "open-street-map",
         "zoom": 5
        },
        "template": {
         "data": {
          "bar": [
           {
            "error_x": {
             "color": "#2a3f5f"
            },
            "error_y": {
             "color": "#2a3f5f"
            },
            "marker": {
             "line": {
              "color": "#E5ECF6",
              "width": 0.5
             },
             "pattern": {
              "fillmode": "overlay",
              "size": 10,
              "solidity": 0.2
             }
            },
            "type": "bar"
           }
          ],
          "barpolar": [
           {
            "marker": {
             "line": {
              "color": "#E5ECF6",
              "width": 0.5
             },
             "pattern": {
              "fillmode": "overlay",
              "size": 10,
              "solidity": 0.2
             }
            },
            "type": "barpolar"
           }
          ],
          "carpet": [
           {
            "aaxis": {
             "endlinecolor": "#2a3f5f",
             "gridcolor": "white",
             "linecolor": "white",
             "minorgridcolor": "white",
             "startlinecolor": "#2a3f5f"
            },
            "baxis": {
             "endlinecolor": "#2a3f5f",
             "gridcolor": "white",
             "linecolor": "white",
             "minorgridcolor": "white",
             "startlinecolor": "#2a3f5f"
            },
            "type": "carpet"
           }
          ],
          "choropleth": [
           {
            "colorbar": {
             "outlinewidth": 0,
             "ticks": ""
            },
            "type": "choropleth"
           }
          ],
          "contour": [
           {
            "colorbar": {
             "outlinewidth": 0,
             "ticks": ""
            },
            "colorscale": [
             [
              0,
              "#0d0887"
             ],
             [
              0.1111111111111111,
              "#46039f"
             ],
             [
              0.2222222222222222,
              "#7201a8"
             ],
             [
              0.3333333333333333,
              "#9c179e"
             ],
             [
              0.4444444444444444,
              "#bd3786"
             ],
             [
              0.5555555555555556,
              "#d8576b"
             ],
             [
              0.6666666666666666,
              "#ed7953"
             ],
             [
              0.7777777777777778,
              "#fb9f3a"
             ],
             [
              0.8888888888888888,
              "#fdca26"
             ],
             [
              1,
              "#f0f921"
             ]
            ],
            "type": "contour"
           }
          ],
          "contourcarpet": [
           {
            "colorbar": {
             "outlinewidth": 0,
             "ticks": ""
            },
            "type": "contourcarpet"
           }
          ],
          "heatmap": [
           {
            "colorbar": {
             "outlinewidth": 0,
             "ticks": ""
            },
            "colorscale": [
             [
              0,
              "#0d0887"
             ],
             [
              0.1111111111111111,
              "#46039f"
             ],
             [
              0.2222222222222222,
              "#7201a8"
             ],
             [
              0.3333333333333333,
              "#9c179e"
             ],
             [
              0.4444444444444444,
              "#bd3786"
             ],
             [
              0.5555555555555556,
              "#d8576b"
             ],
             [
              0.6666666666666666,
              "#ed7953"
             ],
             [
              0.7777777777777778,
              "#fb9f3a"
             ],
             [
              0.8888888888888888,
              "#fdca26"
             ],
             [
              1,
              "#f0f921"
             ]
            ],
            "type": "heatmap"
           }
          ],
          "heatmapgl": [
           {
            "colorbar": {
             "outlinewidth": 0,
             "ticks": ""
            },
            "colorscale": [
             [
              0,
              "#0d0887"
             ],
             [
              0.1111111111111111,
              "#46039f"
             ],
             [
              0.2222222222222222,
              "#7201a8"
             ],
             [
              0.3333333333333333,
              "#9c179e"
             ],
             [
              0.4444444444444444,
              "#bd3786"
             ],
             [
              0.5555555555555556,
              "#d8576b"
             ],
             [
              0.6666666666666666,
              "#ed7953"
             ],
             [
              0.7777777777777778,
              "#fb9f3a"
             ],
             [
              0.8888888888888888,
              "#fdca26"
             ],
             [
              1,
              "#f0f921"
             ]
            ],
            "type": "heatmapgl"
           }
          ],
          "histogram": [
           {
            "marker": {
             "pattern": {
              "fillmode": "overlay",
              "size": 10,
              "solidity": 0.2
             }
            },
            "type": "histogram"
           }
          ],
          "histogram2d": [
           {
            "colorbar": {
             "outlinewidth": 0,
             "ticks": ""
            },
            "colorscale": [
             [
              0,
              "#0d0887"
             ],
             [
              0.1111111111111111,
              "#46039f"
             ],
             [
              0.2222222222222222,
              "#7201a8"
             ],
             [
              0.3333333333333333,
              "#9c179e"
             ],
             [
              0.4444444444444444,
              "#bd3786"
             ],
             [
              0.5555555555555556,
              "#d8576b"
             ],
             [
              0.6666666666666666,
              "#ed7953"
             ],
             [
              0.7777777777777778,
              "#fb9f3a"
             ],
             [
              0.8888888888888888,
              "#fdca26"
             ],
             [
              1,
              "#f0f921"
             ]
            ],
            "type": "histogram2d"
           }
          ],
          "histogram2dcontour": [
           {
            "colorbar": {
             "outlinewidth": 0,
             "ticks": ""
            },
            "colorscale": [
             [
              0,
              "#0d0887"
             ],
             [
              0.1111111111111111,
              "#46039f"
             ],
             [
              0.2222222222222222,
              "#7201a8"
             ],
             [
              0.3333333333333333,
              "#9c179e"
             ],
             [
              0.4444444444444444,
              "#bd3786"
             ],
             [
              0.5555555555555556,
              "#d8576b"
             ],
             [
              0.6666666666666666,
              "#ed7953"
             ],
             [
              0.7777777777777778,
              "#fb9f3a"
             ],
             [
              0.8888888888888888,
              "#fdca26"
             ],
             [
              1,
              "#f0f921"
             ]
            ],
            "type": "histogram2dcontour"
           }
          ],
          "mesh3d": [
           {
            "colorbar": {
             "outlinewidth": 0,
             "ticks": ""
            },
            "type": "mesh3d"
           }
          ],
          "parcoords": [
           {
            "line": {
             "colorbar": {
              "outlinewidth": 0,
              "ticks": ""
             }
            },
            "type": "parcoords"
           }
          ],
          "pie": [
           {
            "automargin": true,
            "type": "pie"
           }
          ],
          "scatter": [
           {
            "fillpattern": {
             "fillmode": "overlay",
             "size": 10,
             "solidity": 0.2
            },
            "type": "scatter"
           }
          ],
          "scatter3d": [
           {
            "line": {
             "colorbar": {
              "outlinewidth": 0,
              "ticks": ""
             }
            },
            "marker": {
             "colorbar": {
              "outlinewidth": 0,
              "ticks": ""
             }
            },
            "type": "scatter3d"
           }
          ],
          "scattercarpet": [
           {
            "marker": {
             "colorbar": {
              "outlinewidth": 0,
              "ticks": ""
             }
            },
            "type": "scattercarpet"
           }
          ],
          "scattergeo": [
           {
            "marker": {
             "colorbar": {
              "outlinewidth": 0,
              "ticks": ""
             }
            },
            "type": "scattergeo"
           }
          ],
          "scattergl": [
           {
            "marker": {
             "colorbar": {
              "outlinewidth": 0,
              "ticks": ""
             }
            },
            "type": "scattergl"
           }
          ],
          "scattermapbox": [
           {
            "marker": {
             "colorbar": {
              "outlinewidth": 0,
              "ticks": ""
             }
            },
            "type": "scattermapbox"
           }
          ],
          "scatterpolar": [
           {
            "marker": {
             "colorbar": {
              "outlinewidth": 0,
              "ticks": ""
             }
            },
            "type": "scatterpolar"
           }
          ],
          "scatterpolargl": [
           {
            "marker": {
             "colorbar": {
              "outlinewidth": 0,
              "ticks": ""
             }
            },
            "type": "scatterpolargl"
           }
          ],
          "scatterternary": [
           {
            "marker": {
             "colorbar": {
              "outlinewidth": 0,
              "ticks": ""
             }
            },
            "type": "scatterternary"
           }
          ],
          "surface": [
           {
            "colorbar": {
             "outlinewidth": 0,
             "ticks": ""
            },
            "colorscale": [
             [
              0,
              "#0d0887"
             ],
             [
              0.1111111111111111,
              "#46039f"
             ],
             [
              0.2222222222222222,
              "#7201a8"
             ],
             [
              0.3333333333333333,
              "#9c179e"
             ],
             [
              0.4444444444444444,
              "#bd3786"
             ],
             [
              0.5555555555555556,
              "#d8576b"
             ],
             [
              0.6666666666666666,
              "#ed7953"
             ],
             [
              0.7777777777777778,
              "#fb9f3a"
             ],
             [
              0.8888888888888888,
              "#fdca26"
             ],
             [
              1,
              "#f0f921"
             ]
            ],
            "type": "surface"
           }
          ],
          "table": [
           {
            "cells": {
             "fill": {
              "color": "#EBF0F8"
             },
             "line": {
              "color": "white"
             }
            },
            "header": {
             "fill": {
              "color": "#C8D4E3"
             },
             "line": {
              "color": "white"
             }
            },
            "type": "table"
           }
          ]
         },
         "layout": {
          "annotationdefaults": {
           "arrowcolor": "#2a3f5f",
           "arrowhead": 0,
           "arrowwidth": 1
          },
          "autotypenumbers": "strict",
          "coloraxis": {
           "colorbar": {
            "outlinewidth": 0,
            "ticks": ""
           }
          },
          "colorscale": {
           "diverging": [
            [
             0,
             "#8e0152"
            ],
            [
             0.1,
             "#c51b7d"
            ],
            [
             0.2,
             "#de77ae"
            ],
            [
             0.3,
             "#f1b6da"
            ],
            [
             0.4,
             "#fde0ef"
            ],
            [
             0.5,
             "#f7f7f7"
            ],
            [
             0.6,
             "#e6f5d0"
            ],
            [
             0.7,
             "#b8e186"
            ],
            [
             0.8,
             "#7fbc41"
            ],
            [
             0.9,
             "#4d9221"
            ],
            [
             1,
             "#276419"
            ]
           ],
           "sequential": [
            [
             0,
             "#0d0887"
            ],
            [
             0.1111111111111111,
             "#46039f"
            ],
            [
             0.2222222222222222,
             "#7201a8"
            ],
            [
             0.3333333333333333,
             "#9c179e"
            ],
            [
             0.4444444444444444,
             "#bd3786"
            ],
            [
             0.5555555555555556,
             "#d8576b"
            ],
            [
             0.6666666666666666,
             "#ed7953"
            ],
            [
             0.7777777777777778,
             "#fb9f3a"
            ],
            [
             0.8888888888888888,
             "#fdca26"
            ],
            [
             1,
             "#f0f921"
            ]
           ],
           "sequentialminus": [
            [
             0,
             "#0d0887"
            ],
            [
             0.1111111111111111,
             "#46039f"
            ],
            [
             0.2222222222222222,
             "#7201a8"
            ],
            [
             0.3333333333333333,
             "#9c179e"
            ],
            [
             0.4444444444444444,
             "#bd3786"
            ],
            [
             0.5555555555555556,
             "#d8576b"
            ],
            [
             0.6666666666666666,
             "#ed7953"
            ],
            [
             0.7777777777777778,
             "#fb9f3a"
            ],
            [
             0.8888888888888888,
             "#fdca26"
            ],
            [
             1,
             "#f0f921"
            ]
           ]
          },
          "colorway": [
           "#636efa",
           "#EF553B",
           "#00cc96",
           "#ab63fa",
           "#FFA15A",
           "#19d3f3",
           "#FF6692",
           "#B6E880",
           "#FF97FF",
           "#FECB52"
          ],
          "font": {
           "color": "#2a3f5f"
          },
          "geo": {
           "bgcolor": "white",
           "lakecolor": "white",
           "landcolor": "#E5ECF6",
           "showlakes": true,
           "showland": true,
           "subunitcolor": "white"
          },
          "hoverlabel": {
           "align": "left"
          },
          "hovermode": "closest",
          "mapbox": {
           "style": "light"
          },
          "paper_bgcolor": "white",
          "plot_bgcolor": "#E5ECF6",
          "polar": {
           "angularaxis": {
            "gridcolor": "white",
            "linecolor": "white",
            "ticks": ""
           },
           "bgcolor": "#E5ECF6",
           "radialaxis": {
            "gridcolor": "white",
            "linecolor": "white",
            "ticks": ""
           }
          },
          "scene": {
           "xaxis": {
            "backgroundcolor": "#E5ECF6",
            "gridcolor": "white",
            "gridwidth": 2,
            "linecolor": "white",
            "showbackground": true,
            "ticks": "",
            "zerolinecolor": "white"
           },
           "yaxis": {
            "backgroundcolor": "#E5ECF6",
            "gridcolor": "white",
            "gridwidth": 2,
            "linecolor": "white",
            "showbackground": true,
            "ticks": "",
            "zerolinecolor": "white"
           },
           "zaxis": {
            "backgroundcolor": "#E5ECF6",
            "gridcolor": "white",
            "gridwidth": 2,
            "linecolor": "white",
            "showbackground": true,
            "ticks": "",
            "zerolinecolor": "white"
           }
          },
          "shapedefaults": {
           "line": {
            "color": "#2a3f5f"
           }
          },
          "ternary": {
           "aaxis": {
            "gridcolor": "white",
            "linecolor": "white",
            "ticks": ""
           },
           "baxis": {
            "gridcolor": "white",
            "linecolor": "white",
            "ticks": ""
           },
           "bgcolor": "#E5ECF6",
           "caxis": {
            "gridcolor": "white",
            "linecolor": "white",
            "ticks": ""
           }
          },
          "title": {
           "x": 0.05
          },
          "xaxis": {
           "automargin": true,
           "gridcolor": "white",
           "linecolor": "white",
           "ticks": "",
           "title": {
            "standoff": 15
           },
           "zerolinecolor": "white",
           "zerolinewidth": 2
          },
          "yaxis": {
           "automargin": true,
           "gridcolor": "white",
           "linecolor": "white",
           "ticks": "",
           "title": {
            "standoff": 15
           },
           "zerolinecolor": "white",
           "zerolinewidth": 2
          }
         }
        },
        "width": 1000
       }
      }
     },
     "metadata": {},
     "output_type": "display_data"
    }
   ],
   "source": [
    "import plotly.graph_objs as go\n",
    "import pandas as pd\n",
    "from datetime import datetime\n",
    "from geopy.distance import geodesic\n",
    "\n",
    "# Function to join two traces\n",
    "def join_traces(trace_indices, traces):\n",
    "    joined_trace = {\n",
    "        \"lon\": [],\n",
    "        \"lat\": [],\n",
    "        \"marker_color\": traces[trace_indices[0]][\"marker\"][\"color\"],\n",
    "        \"line_color\": traces[trace_indices[0]][\"line\"][\"color\"],\n",
    "    }\n",
    "    for index in trace_indices:\n",
    "        trace = traces[index]\n",
    "        joined_trace[\"lon\"].extend(trace[\"lon\"])\n",
    "        joined_trace[\"lat\"].extend(trace[\"lat\"])\n",
    "    return joined_trace\n",
    "\n",
    "# Load data from CSV\n",
    "df = pd.read_pickle('../data/trace_demo.pkl')\n",
    "\n",
    "# Extract latitude and longitude data and filter out invalid coordinates\n",
    "latitudes = df[\"snapshotData_gnssPosition_latitude\"]\n",
    "longitudes = df[\"snapshotData_gnssPosition_longitude\"]\n",
    "valid_coords = [(lat, lon) for lat, lon in zip(latitudes, longitudes) if lat != -9999.0 and lon != -9999.0]\n",
    "\n",
    "# Calculate distance between consecutive valid points\n",
    "distances = [0]  # Start with 0 distance for the first point\n",
    "for i in range(1, len(valid_coords)):\n",
    "    coord1 = valid_coords[i - 1]\n",
    "    coord2 = valid_coords[i]\n",
    "    distances.append(geodesic(coord1, coord2).kilometers)\n",
    "\n",
    "# Extract time data and filter out invalid timestamps\n",
    "timestamps = df[\"snapshotData_gnssPosition_positionDateTime\"]\n",
    "valid_timestamps = []\n",
    "for ts in timestamps:\n",
    "    try:\n",
    "        valid_timestamps.append(datetime.strptime(str(ts), \"%Y-%m-%dT%H:%M:%S.%fZ\"))\n",
    "    except ValueError:\n",
    "        pass  # Skip invalid timestamps\n",
    "\n",
    "# Define thresholds for distance and time differences to decide whether to start a new trace\n",
    "distance_threshold = 110  # Adjust this threshold as needed\n",
    "time_threshold = 60 * 60  # 1 hour (in seconds), adjust as needed\n",
    "\n",
    "# Create a list to store the traces for different journeys\n",
    "traces = []\n",
    "\n",
    "# Initialize color index\n",
    "color_index = 0\n",
    "\n",
    "# Iterate through the timestamps and create traces for each journey\n",
    "journey_trace = []\n",
    "prev_timestamp = valid_timestamps[0]\n",
    "for i, (timestamp, coord, distance) in enumerate(zip(valid_timestamps, valid_coords, distances)):\n",
    "    time_diff = (timestamp - prev_timestamp).total_seconds()\n",
    "    if time_diff > time_threshold or distance > distance_threshold:\n",
    "        # Add the current journey trace to the list of traces\n",
    "        if \"REST\" in str(df.iloc[i-1][\"snapshotData_driver1WorkingState\"]):\n",
    "            point_color = \"blue\"\n",
    "        else:\n",
    "            point_color = f\"rgb({color_index * 50}, {255 - color_index * 50}, 0)\"\n",
    "        traces.append(go.Scattermapbox(\n",
    "            mode=\"lines+markers\",\n",
    "            lon=[point[1] for point in journey_trace],\n",
    "            lat=[point[0] for point in journey_trace],\n",
    "            marker=dict(\n",
    "                size=10,\n",
    "                color=point_color,\n",
    "            ),\n",
    "            line=dict(\n",
    "                color=point_color,\n",
    "                width=2,\n",
    "            ),\n",
    "        ))\n",
    "        # Start a new journey trace\n",
    "        journey_trace = []\n",
    "        color_index = (color_index + 1) % 5  # Cycle through 5 colors\n",
    "    journey_trace.append(coord)\n",
    "    prev_timestamp = timestamp\n",
    "\n",
    "# Add the last journey trace to the list of traces\n",
    "if \"REST\" in str(df.iloc[-1][\"snapshotData_driver1WorkingState\"]):\n",
    "    point_color = \"blue\"\n",
    "else:\n",
    "    point_color = f\"rgb({color_index * 50}, {255 - color_index * 50}, 0)\"\n",
    "traces.append(go.Scattermapbox(\n",
    "    mode=\"lines+markers\",\n",
    "    lon=[point[1] for point in journey_trace],\n",
    "    lat=[point[0] for point in journey_trace],\n",
    "    marker=dict(\n",
    "        size=10,\n",
    "        color=point_color,\n",
    "    ),\n",
    "    line=dict(\n",
    "        color=point_color,\n",
    "        width=2,\n",
    "    ),\n",
    "))\n",
    "\n",
    "# Create layout for the map\n",
    "layout = go.Layout(\n",
    "    height=600, width=1000,\n",
    "    autosize=True,\n",
    "    hovermode=\"closest\",\n",
    "    mapbox=dict(\n",
    "        center=dict(\n",
    "            lat=52.1326,\n",
    "            lon=5.2913,\n",
    "        ),\n",
    "        style=\"open-street-map\",\n",
    "        zoom=5,\n",
    "    ),\n",
    ")\n",
    "\n",
    "# Plot the initial map\n",
    "fig = go.Figure(data=traces, layout=layout)\n",
    "fig.show()\n",
    "\n",
    "# Input prompt for joining traces\n",
    "while True:\n",
    "    join_indices = input(\"Enter the indices of the two traces you want to join (comma-separated, e.g., '0,1'), or enter 'q' to quit: \")\n",
    "    if join_indices.lower() == \"q\":\n",
    "        break\n",
    "    try:\n",
    "        index1, index2 = map(int, join_indices.split(\",\"))\n",
    "        if index1 < 0 or index1 >= len(traces) or index2 < 0 or index2 >= len(traces):\n",
    "            print(\"Invalid indices. Please enter valid indices.\")\n",
    "        else:\n",
    "            # Join the selected traces\n",
    "            joined_trace = join_traces([index1, index2], traces)\n",
    "            # Remove the original traces\n",
    "            traces = [trace for i, trace in enumerate(traces) if i not in [index1, index2]]\n",
    "            # Append the joined trace\n",
    "            traces.append(go.Scattermapbox(\n",
    "                mode=\"lines+markers\",\n",
    "                lon=joined_trace[\"lon\"],\n",
    "                lat=joined_trace[\"lat\"],\n",
    "                marker=dict(\n",
    "                    size=10,\n",
    "                    color=joined_trace[\"marker_color\"],\n",
    "                ),\n",
    "                line=dict(\n",
    "                    color=joined_trace[\"line_color\"],\n",
    "                    width=2,\n",
    "                ),\n",
    "            ))\n",
    "            # Update the plot\n",
    "            fig = go.Figure(data=traces, layout=layout)\n",
    "            fig.show()\n",
    "    except ValueError:\n",
    "        print(\"Invalid input format. Please enter comma-separated indices (e.g., '0,1').\")\n"
   ]
  },
  {
   "cell_type": "code",
   "execution_count": 4,
   "metadata": {},
   "outputs": [
    {
     "ename": "NameError",
     "evalue": "name 'df_truck' is not defined",
     "output_type": "error",
     "traceback": [
      "\u001b[0;31m---------------------------------------------------------------------------\u001b[0m",
      "\u001b[0;31mNameError\u001b[0m                                 Traceback (most recent call last)",
      "Cell \u001b[0;32mIn[4], line 1\u001b[0m\n\u001b[0;32m----> 1\u001b[0m \u001b[43mdf_truck\u001b[49m\n",
      "\u001b[0;31mNameError\u001b[0m: name 'df_truck' is not defined"
     ]
    }
   ],
   "source": []
  },
  {
   "cell_type": "code",
   "execution_count": null,
   "metadata": {},
   "outputs": [],
   "source": []
  }
 ],
 "metadata": {
  "kernelspec": {
   "display_name": ".venv",
   "language": "python",
   "name": "python3"
  },
  "language_info": {
   "codemirror_mode": {
    "name": "ipython",
    "version": 3
   },
   "file_extension": ".py",
   "mimetype": "text/x-python",
   "name": "python",
   "nbconvert_exporter": "python",
   "pygments_lexer": "ipython3",
   "version": "3.10.13"
  }
 },
 "nbformat": 4,
 "nbformat_minor": 2
}
